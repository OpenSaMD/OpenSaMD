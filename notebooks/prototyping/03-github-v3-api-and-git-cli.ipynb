{
 "cells": [
  {
   "cell_type": "code",
   "execution_count": 40,
   "id": "3cc0be47-26d2-40b2-898b-003aff966127",
   "metadata": {},
   "outputs": [],
   "source": [
    "import keyring\n",
    "import getpass\n",
    "import github\n",
    "import subprocess\n",
    "import datetime\n",
    "import pathlib"
   ]
  },
  {
   "cell_type": "code",
   "execution_count": 4,
   "id": "d837ff6b-0228-4665-bd84-a826b61b8df3",
   "metadata": {},
   "outputs": [],
   "source": [
    "# access_token = getpass.getpass()\n",
    "# keyring.set_password(\"github-access-token\", \"radiotherapyai-bot\", access_token)"
   ]
  },
  {
   "cell_type": "code",
   "execution_count": 5,
   "id": "95aae2f1-d081-4d18-a60a-2fc9bef4f966",
   "metadata": {},
   "outputs": [],
   "source": [
    "access_token = keyring.get_password(\"github-access-token\", \"radiotherapyai-bot\")"
   ]
  },
  {
   "cell_type": "code",
   "execution_count": 6,
   "id": "27dc2d8c-b27a-4e06-8dde-9bf9cb574c6a",
   "metadata": {},
   "outputs": [],
   "source": [
    "github_instance = github.Github(access_token)"
   ]
  },
  {
   "cell_type": "code",
   "execution_count": 7,
   "id": "1bb5e801-5de2-4812-9a2f-0cb6183d3a77",
   "metadata": {},
   "outputs": [
    {
     "data": {
      "text/plain": [
       "<github.MainClass.Github at 0x7f33d0401280>"
      ]
     },
     "execution_count": 7,
     "metadata": {},
     "output_type": "execute_result"
    }
   ],
   "source": [
    "github_instance"
   ]
  },
  {
   "cell_type": "code",
   "execution_count": 8,
   "id": "b984ec99-b580-4acd-b198-9c58b51b5c0b",
   "metadata": {},
   "outputs": [
    {
     "name": "stdout",
     "output_type": "stream",
     "text": [
      "regulatory\n"
     ]
    }
   ],
   "source": [
    "for repo in github_instance.get_user().get_repos():\n",
    "    print(repo.name)"
   ]
  },
  {
   "cell_type": "code",
   "execution_count": 9,
   "id": "38615b8b-1106-4dc0-804b-87f3ef626e3e",
   "metadata": {},
   "outputs": [],
   "source": [
    "repo = github_instance.get_repo(\"RadiotherapyAI/regulatory\")"
   ]
  },
  {
   "cell_type": "code",
   "execution_count": 10,
   "id": "4c801ebd-e5bc-4b8d-bbe8-e927fdf51a71",
   "metadata": {},
   "outputs": [
    {
     "data": {
      "text/plain": [
       "'regulatory'"
      ]
     },
     "execution_count": 10,
     "metadata": {},
     "output_type": "execute_result"
    }
   ],
   "source": [
    "repo.name"
   ]
  },
  {
   "cell_type": "code",
   "execution_count": 11,
   "id": "5a63e0b4-f6d7-4e8d-a9f3-b021c1ca6fde",
   "metadata": {},
   "outputs": [],
   "source": [
    "pull_requests = list(repo.get_pulls(direction='asc'))"
   ]
  },
  {
   "cell_type": "code",
   "execution_count": 12,
   "id": "b627469e-1862-4cc9-b8fc-18fd5010cf31",
   "metadata": {},
   "outputs": [],
   "source": [
    "pr_with_an_approval = repo.get_pull(20)"
   ]
  },
  {
   "cell_type": "code",
   "execution_count": 13,
   "id": "0536974e-e2c6-4011-8b39-7ced54bdda36",
   "metadata": {},
   "outputs": [],
   "source": [
    "reviews = list(pr_with_an_approval.get_reviews())"
   ]
  },
  {
   "cell_type": "code",
   "execution_count": 14,
   "id": "ce0d5703-1058-4872-9ab7-c3a1d37c2cc7",
   "metadata": {},
   "outputs": [
    {
     "name": "stdout",
     "output_type": "stream",
     "text": [
      "Oliver Eidel approved ff93226e7b8be303161ce184ef0bbc2ae3bdcbe5 on the 2022-Mar-01\n"
     ]
    }
   ],
   "source": [
    "for review in reviews:\n",
    "    if review.state == \"APPROVED\":\n",
    "        print(f\"{review.user.name} approved {review.commit_id} on the {review.submitted_at.strftime('%Y-%b-%d')}\")"
   ]
  },
  {
   "cell_type": "code",
   "execution_count": 15,
   "id": "60a392ca-362f-41b7-9e60-6c330571938e",
   "metadata": {},
   "outputs": [],
   "source": [
    "review = reviews[0]"
   ]
  },
  {
   "cell_type": "code",
   "execution_count": 16,
   "id": "701ae226-5458-45e0-901e-625e39df7656",
   "metadata": {},
   "outputs": [
    {
     "data": {
      "text/plain": [
       "'ff93226e7b8be303161ce184ef0bbc2ae3bdcbe5'"
      ]
     },
     "execution_count": 16,
     "metadata": {},
     "output_type": "execute_result"
    }
   ],
   "source": [
    "review.commit_id"
   ]
  },
  {
   "cell_type": "code",
   "execution_count": 17,
   "id": "43140d72-ebad-4ed7-bde4-0383ccd478c5",
   "metadata": {},
   "outputs": [
    {
     "data": {
      "text/plain": [
       "NamedUser(login=\"olieidel\")"
      ]
     },
     "execution_count": 17,
     "metadata": {},
     "output_type": "execute_result"
    }
   ],
   "source": [
    "review.user"
   ]
  },
  {
   "cell_type": "code",
   "execution_count": 18,
   "id": "c111912d-4b88-4cf6-b50d-d3fee3c058ae",
   "metadata": {},
   "outputs": [
    {
     "data": {
      "text/plain": [
       "'2022-Mar-01'"
      ]
     },
     "execution_count": 18,
     "metadata": {},
     "output_type": "execute_result"
    }
   ],
   "source": [
    "review.submitted_at.strftime('%Y-%b-%d')"
   ]
  },
  {
   "cell_type": "code",
   "execution_count": 19,
   "id": "4c549fbd-1312-40f6-9806-f1757d923f7c",
   "metadata": {},
   "outputs": [
    {
     "data": {
      "text/plain": [
       "[]"
      ]
     },
     "execution_count": 19,
     "metadata": {},
     "output_type": "execute_result"
    }
   ],
   "source": [
    "list()"
   ]
  },
  {
   "cell_type": "code",
   "execution_count": 20,
   "id": "d9230315-adf9-43e4-912d-871a29b0b9f8",
   "metadata": {},
   "outputs": [
    {
     "name": "stdout",
     "output_type": "stream",
     "text": [
      "https://github.com/RadiotherapyAI/regulatory/blob/ff93226e7b8be303161ce184ef0bbc2ae3bdcbe5/src/documents/drafts/62304-mapping.md\n",
      "https://github.com/RadiotherapyAI/regulatory/blob/ff93226e7b8be303161ce184ef0bbc2ae3bdcbe5/src/documents/drafts/quality-manual-policy-objectives.md\n",
      "https://github.com/RadiotherapyAI/regulatory/blob/ff93226e7b8be303161ce184ef0bbc2ae3bdcbe5/src/documents/drafts/sop-integrated-software-development.md\n"
     ]
    }
   ],
   "source": [
    "for a_file in pr_with_an_approval.get_files():    \n",
    "    print(f\"https://github.com/RadiotherapyAI/regulatory/blob/{review.commit_id}/{a_file.filename}\")"
   ]
  },
  {
   "cell_type": "code",
   "execution_count": 21,
   "id": "5a2d9ac2-ab41-42c3-8a4e-d90c7c3e3bd8",
   "metadata": {},
   "outputs": [
    {
     "data": {
      "text/plain": [
       "'Simon Biggs'"
      ]
     },
     "execution_count": 21,
     "metadata": {},
     "output_type": "execute_result"
    }
   ],
   "source": [
    "pr_with_an_approval.merged_by.name"
   ]
  },
  {
   "cell_type": "code",
   "execution_count": 22,
   "id": "ed06afd2-aac0-4f38-b9b0-161e0ceac584",
   "metadata": {},
   "outputs": [
    {
     "data": {
      "text/plain": [
       "datetime.datetime(2022, 3, 23, 5, 57, 58)"
      ]
     },
     "execution_count": 22,
     "metadata": {},
     "output_type": "execute_result"
    }
   ],
   "source": [
    "pr_with_an_approval.merged_at"
   ]
  },
  {
   "cell_type": "code",
   "execution_count": 42,
   "id": "48ef317b-094f-46aa-b3a7-3280118cf0ba",
   "metadata": {},
   "outputs": [],
   "source": [
    "repo_root = pathlib.Path('../../').resolve()"
   ]
  },
  {
   "cell_type": "code",
   "execution_count": null,
   "id": "fa8ff5cd-45e5-4222-9d9a-e01a4f55a0cd",
   "metadata": {},
   "outputs": [],
   "source": []
  },
  {
   "cell_type": "code",
   "execution_count": null,
   "id": "32d97bc8-250e-466d-ab03-8e316a2db8f2",
   "metadata": {},
   "outputs": [],
   "source": []
  },
  {
   "cell_type": "code",
   "execution_count": 37,
   "id": "e055cdd2-3871-4f2c-9919-51313c02fa34",
   "metadata": {},
   "outputs": [],
   "source": [
    "path = './src/documents/released/sop-document-record-control/index.md'"
   ]
  },
  {
   "cell_type": "code",
   "execution_count": 51,
   "id": "11f2e0af-db7b-4671-bb21-217bc11c8220",
   "metadata": {},
   "outputs": [],
   "source": [
    "result = subprocess.run([\n",
    "    'git', \n",
    "    'log', \n",
    "    '--follow', \n",
    "    '--pretty=format:%H',\n",
    "    '--all',\n",
    "    '--',\n",
    "    path\n",
    "], stdout=subprocess.PIPE, cwd=repo_root)"
   ]
  },
  {
   "cell_type": "code",
   "execution_count": null,
   "id": "1140751b-2aeb-467d-a1a5-047250c58fae",
   "metadata": {},
   "outputs": [],
   "source": [
    "# Could collect all of the commits sha that cover all of the draft, production, and archive files\n",
    "# Save the file path to commit history mapping\n",
    "# Then get all the corresponding PRs for the unique commits via the GraphQL API in one request"
   ]
  },
  {
   "cell_type": "code",
   "execution_count": 55,
   "id": "9130f04c-5932-4c14-a017-274518dcc522",
   "metadata": {},
   "outputs": [
    {
     "data": {
      "text/plain": [
       "['5e57060965e4089b30812d3f79b63b3cffa8426f',\n",
       " '401bf64ed021d337f3824569ccb175444b69310b',\n",
       " '59949b3d91b57d3fb72ce8560e3df573d6612d80',\n",
       " 'd13989a75082db70c8142b25f44627d0268e19a5',\n",
       " '5b7b941fdb4483b10875a86f3d07886686ff3fa2',\n",
       " '33ec2114f025576ce00cbbc5ad3b3ac544d31d03',\n",
       " '42794c3551203a45f0432b4a45de2df614f353d4',\n",
       " '7872e86cc3c0cf0d5a8ca8bbfc92a63af1be7d57',\n",
       " 'fdc8f817470bba0560685f8478dbd81967c4290f',\n",
       " 'cac08e953bcb92ae89d4a96e449e3d011ad73a10',\n",
       " '18ee0f83a3c944f7b113e9c30f37cf50717ca730',\n",
       " 'a5ba0930d495b2c7a08b29f1d880c34dc8be05ad',\n",
       " 'bcb4f64bf81b7a98a2e15508b8ebdbe3a17058c0',\n",
       " 'e58b33f9cda722dea78243cd73293c66d01bfcca',\n",
       " 'a46d571a1feb3d117fc29092583fd1eb80254428',\n",
       " '4f6253619d982af3902ed496919089c13141b33b',\n",
       " '885e2948632754423fbb705d05c398fc7b36e496',\n",
       " '83e9f0107eb29c1a70bb7f77c19f9af663193666',\n",
       " '0c4832f280522c85dc57c4b917ea9e3a9986b321',\n",
       " '965503ae655735aa32cd59879a880af94be1b32b',\n",
       " '3b3592ef5a5d59234e557075707fb036b59a993c',\n",
       " '9c8245c9df7e6872e1bf44d751dd47c2f381c4f8',\n",
       " '8d3a15dcf5963b9ca6f59edbcf7b5e089637cfce',\n",
       " 'be9163ae62bb166d812ffbf3af2a8af3dded30da',\n",
       " '9fb18c55cbb26ea2357fda9bc4808e530d21497e',\n",
       " 'dc00e6b2262d04011dd3b99e81cfe80f4a0a56f0',\n",
       " 'ae36da0eafa2b855bbede739dadbdc0a47969bf9',\n",
       " '5ee22b9cea21bf372ae1df388cc4e100e6385fdf',\n",
       " 'c394ab2744110c22e5741fc0c7076911f4ede659',\n",
       " 'a67d72a1f3c39446efe94f927c9cf27a059b1b50',\n",
       " '7374661a005617f42521a59c9e6feec6f015f793',\n",
       " '70f4f240fbf54c8946d1d9787eb4b861c2a0e15c',\n",
       " '8f24b495f6f918eb79141475d3c9dd5bb8c8edde']"
      ]
     },
     "execution_count": 55,
     "metadata": {},
     "output_type": "execute_result"
    }
   ],
   "source": [
    "followed_commits_for_file = result.stdout.decode().split(\"\\n\")\n",
    "followed_commits_for_file"
   ]
  },
  {
   "cell_type": "code",
   "execution_count": 56,
   "id": "79c92858-f1ea-47fe-b9ab-8ad72dd66005",
   "metadata": {},
   "outputs": [
    {
     "data": {
      "text/plain": [
       "Commit(sha=\"5e57060965e4089b30812d3f79b63b3cffa8426f\")"
      ]
     },
     "execution_count": 56,
     "metadata": {},
     "output_type": "execute_result"
    }
   ],
   "source": [
    "repo.get_commit(followed_commits_for_file[0])"
   ]
  },
  {
   "cell_type": "code",
   "execution_count": 26,
   "id": "38d129d1-0347-4e19-8610-3f4fe3b70f62",
   "metadata": {},
   "outputs": [],
   "source": [
    "# repo.get_commits?"
   ]
  },
  {
   "cell_type": "code",
   "execution_count": 27,
   "id": "f9d52df2-144d-41db-a42c-b78d60e4fb36",
   "metadata": {},
   "outputs": [],
   "source": [
    "commits = list(repo.get_commits(path=path))"
   ]
  },
  {
   "cell_type": "code",
   "execution_count": 28,
   "id": "a7dce7b4-ef75-4697-961d-8b2e0aee6522",
   "metadata": {},
   "outputs": [],
   "source": [
    "commit = commits[0]"
   ]
  },
  {
   "cell_type": "code",
   "execution_count": 29,
   "id": "0c628ae1-b9ab-4004-b4ec-4f820562f269",
   "metadata": {},
   "outputs": [
    {
     "data": {
      "text/plain": [
       "'GitHub Web Flow'"
      ]
     },
     "execution_count": 29,
     "metadata": {},
     "output_type": "execute_result"
    }
   ],
   "source": [
    "commit.committer.name"
   ]
  },
  {
   "cell_type": "code",
   "execution_count": 60,
   "id": "0e4ed6a8-ba7f-4cfd-9b03-55ffb7d0f43b",
   "metadata": {},
   "outputs": [
    {
     "data": {
      "text/plain": [
       "[]"
      ]
     },
     "execution_count": 60,
     "metadata": {},
     "output_type": "execute_result"
    }
   ],
   "source": [
    "list(commit.get_statuses())"
   ]
  },
  {
   "cell_type": "code",
   "execution_count": 61,
   "id": "77dd8bb8-7ac7-4fdb-85c2-2928c7dde817",
   "metadata": {},
   "outputs": [
    {
     "data": {
      "text/plain": [
       "'Fri, 04 Mar 2022 23:39:36 GMT'"
      ]
     },
     "execution_count": 61,
     "metadata": {},
     "output_type": "execute_result"
    }
   ],
   "source": [
    "commit.last_modified"
   ]
  },
  {
   "cell_type": "code",
   "execution_count": 58,
   "id": "f90609b9-40ae-4fcb-8468-94c53c4418d5",
   "metadata": {},
   "outputs": [],
   "source": [
    "def commit_date(commit):\n",
    "    return datetime.datetime.strptime(commit.last_modified, \"%a, %d %b %Y %H:%M:%S %Z\")\n",
    "    "
   ]
  },
  {
   "cell_type": "code",
   "execution_count": 59,
   "id": "6f2747f9-768e-48b4-ba81-e0e09ed59d5d",
   "metadata": {},
   "outputs": [
    {
     "data": {
      "text/plain": [
       "'2022-Mar-04'"
      ]
     },
     "execution_count": 59,
     "metadata": {},
     "output_type": "execute_result"
    }
   ],
   "source": [
    "commit_date(commit).strftime('%Y-%b-%d')"
   ]
  },
  {
   "cell_type": "code",
   "execution_count": 60,
   "id": "6c4afd3f-457a-4929-a278-84cf9edc6e4c",
   "metadata": {},
   "outputs": [
    {
     "data": {
      "text/plain": [
       "{PullRequest(title=\"Allow for PR only edits\", number=18),\n",
       " PullRequest(title=\"Document record control\", number=5),\n",
       " PullRequest(title=\"Record control refinements\", number=9),\n",
       " PullRequest(title=\"Release sop drc, remove rdm templates for now\", number=14),\n",
       " PullRequest(title=\"Request Oliver's review\", number=13),\n",
       " PullRequest(title=\"Update document record control | Utilise PR review process\", number=12),\n",
       " PullRequest(title=\"add in a codeowners file\", number=8),\n",
       " PullRequest(title=\"delete sop-doc-record control for now\", number=10),\n",
       " PullRequest(title=\"revert to original template\", number=11),\n",
       " PullRequest(title=\"sign document creation with a gpg signed commit\", number=7)}"
      ]
     },
     "execution_count": 60,
     "metadata": {},
     "output_type": "execute_result"
    }
   ],
   "source": [
    "author_and_timestamp = []\n",
    "prs_for_this_file = set()\n",
    "\n",
    "for commit_sha in followed_commits_for_file:\n",
    "    commit = repo.get_commit(commit_sha)\n",
    "    author_and_timestamp.append((commit.committer.name, commit_date(commit)))\n",
    "    prs_for_this_file.update(commit.get_pulls())\n",
    "    \n",
    "    \n",
    "prs_for_this_file"
   ]
  },
  {
   "cell_type": "code",
   "execution_count": null,
   "id": "23108634-ac67-4620-9f7a-23857e0f54a4",
   "metadata": {},
   "outputs": [],
   "source": [
    "# Doesn't have the full history of the file.\n",
    "# Potentially need to use the GraphQL API?"
   ]
  },
  {
   "cell_type": "code",
   "execution_count": 61,
   "id": "2379e8f7-515a-48ff-ab20-ca481aac4cee",
   "metadata": {},
   "outputs": [
    {
     "data": {
      "text/plain": [
       "[('Simon Biggs', datetime.datetime(2022, 2, 23, 21, 31, 17)),\n",
       " ('Simon Biggs', datetime.datetime(2022, 2, 23, 22, 5, 23)),\n",
       " ('Simon Biggs', datetime.datetime(2022, 2, 24, 2, 38, 31)),\n",
       " ('Simon Biggs', datetime.datetime(2022, 2, 24, 2, 39, 24)),\n",
       " ('Simon Biggs', datetime.datetime(2022, 2, 24, 2, 40, 21)),\n",
       " ('Simon Biggs', datetime.datetime(2022, 2, 24, 3, 58, 30)),\n",
       " ('Simon Biggs', datetime.datetime(2022, 2, 24, 4, 27, 59)),\n",
       " ('Simon Biggs', datetime.datetime(2022, 2, 24, 4, 32, 21)),\n",
       " ('Simon Biggs', datetime.datetime(2022, 2, 24, 4, 34, 6)),\n",
       " ('Simon Biggs', datetime.datetime(2022, 2, 24, 4, 38, 34)),\n",
       " ('Simon Biggs', datetime.datetime(2022, 2, 24, 4, 43, 55)),\n",
       " ('GitHub Web Flow', datetime.datetime(2022, 2, 24, 4, 58, 43)),\n",
       " ('Simon Biggs', datetime.datetime(2022, 2, 24, 4, 59, 14)),\n",
       " ('Simon Biggs', datetime.datetime(2022, 2, 24, 4, 59, 41)),\n",
       " ('Simon Biggs', datetime.datetime(2022, 2, 24, 5, 1, 29)),\n",
       " ('Simon Biggs', datetime.datetime(2022, 2, 24, 5, 2, 34)),\n",
       " ('Simon Biggs', datetime.datetime(2022, 2, 24, 5, 19, 39)),\n",
       " ('Simon Biggs', datetime.datetime(2022, 2, 24, 5, 39, 3)),\n",
       " ('GitHub Web Flow', datetime.datetime(2022, 2, 24, 16, 51, 23)),\n",
       " ('Simon Biggs', datetime.datetime(2022, 2, 28, 1, 26, 47)),\n",
       " ('Simon Biggs', datetime.datetime(2022, 2, 28, 1, 38, 34)),\n",
       " ('Simon Biggs', datetime.datetime(2022, 2, 28, 1, 39, 58)),\n",
       " ('Simon Biggs', datetime.datetime(2022, 2, 28, 1, 40, 37)),\n",
       " ('Simon Biggs', datetime.datetime(2022, 2, 28, 4, 35, 39)),\n",
       " ('Simon Biggs', datetime.datetime(2022, 2, 28, 4, 45, 33)),\n",
       " ('Simon Biggs', datetime.datetime(2022, 2, 28, 4, 47, 13)),\n",
       " ('Simon Biggs', datetime.datetime(2022, 2, 28, 4, 48, 25)),\n",
       " ('Simon Biggs', datetime.datetime(2022, 2, 28, 4, 48, 53)),\n",
       " ('Simon Biggs', datetime.datetime(2022, 2, 28, 4, 50, 27)),\n",
       " ('Simon Biggs', datetime.datetime(2022, 3, 1, 1, 28, 2)),\n",
       " ('GitHub Web Flow', datetime.datetime(2022, 3, 3, 21, 58, 18)),\n",
       " ('GitHub Web Flow', datetime.datetime(2022, 3, 3, 21, 58, 25)),\n",
       " ('GitHub Web Flow', datetime.datetime(2022, 3, 4, 23, 39, 36))]"
      ]
     },
     "execution_count": 61,
     "metadata": {},
     "output_type": "execute_result"
    }
   ],
   "source": [
    "author_and_timestamp = sorted(author_and_timestamp, key=lambda x: x[1])\n",
    "author_and_timestamp"
   ]
  },
  {
   "cell_type": "code",
   "execution_count": null,
   "id": "e3de48e7-7bab-4e4e-acbc-da25f586471a",
   "metadata": {},
   "outputs": [],
   "source": []
  },
  {
   "cell_type": "code",
   "execution_count": null,
   "id": "c46cc3aa-a4a6-47b8-b51a-e0677ffedfb4",
   "metadata": {},
   "outputs": [],
   "source": []
  },
  {
   "cell_type": "code",
   "execution_count": null,
   "id": "44906604-4c3f-4bd8-8aa4-afa8775643d5",
   "metadata": {},
   "outputs": [],
   "source": []
  },
  {
   "cell_type": "code",
   "execution_count": 66,
   "id": "e3ce435d-7a4f-49a0-bca9-5a50656a3979",
   "metadata": {},
   "outputs": [
    {
     "data": {
      "text/plain": [
       "'GitHub Web Flow'"
      ]
     },
     "execution_count": 66,
     "metadata": {},
     "output_type": "execute_result"
    }
   ],
   "source": [
    "file_creator = author_and_timestamp[0][0]\n",
    "file_creator"
   ]
  },
  {
   "cell_type": "code",
   "execution_count": null,
   "id": "e836ebb9-e7f0-4c9e-9c8d-7b13b359ea20",
   "metadata": {},
   "outputs": [],
   "source": []
  },
  {
   "cell_type": "code",
   "execution_count": 67,
   "id": "4aa3e076-cfd6-4c72-84e5-e1483c1a3ebf",
   "metadata": {},
   "outputs": [
    {
     "data": {
      "text/plain": [
       "[PullRequest(title=\"Release sop drc, remove rdm templates for now\", number=14)]"
      ]
     },
     "execution_count": 67,
     "metadata": {},
     "output_type": "execute_result"
    }
   ],
   "source": [
    "prs_for_this_file = list(commit.get_pulls())\n",
    "prs_for_this_file"
   ]
  },
  {
   "cell_type": "code",
   "execution_count": null,
   "id": "15ab20ac-8008-406b-be7b-d754d00a1c45",
   "metadata": {},
   "outputs": [],
   "source": []
  }
 ],
 "metadata": {
  "kernelspec": {
   "display_name": "rtai",
   "language": "python",
   "name": "rtai"
  },
  "language_info": {
   "codemirror_mode": {
    "name": "ipython",
    "version": 3
   },
   "file_extension": ".py",
   "mimetype": "text/x-python",
   "name": "python",
   "nbconvert_exporter": "python",
   "pygments_lexer": "ipython3",
   "version": "3.9.7"
  }
 },
 "nbformat": 4,
 "nbformat_minor": 5
}
