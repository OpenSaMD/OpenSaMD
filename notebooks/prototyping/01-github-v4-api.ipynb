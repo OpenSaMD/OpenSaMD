{
 "cells": [
  {
   "cell_type": "code",
   "execution_count": 4,
   "id": "3cc0be47-26d2-40b2-898b-003aff966127",
   "metadata": {},
   "outputs": [],
   "source": [
    "import keyring\n",
    "import getpass\n",
    "import github\n",
    "import datetime"
   ]
  },
  {
   "cell_type": "code",
   "execution_count": 2,
   "id": "d837ff6b-0228-4665-bd84-a826b61b8df3",
   "metadata": {},
   "outputs": [],
   "source": [
    "# access_token = getpass.getpass()\n",
    "# keyring.set_password(\"github-access-token\", \"radiotherapyai-bot\", access_token)"
   ]
  },
  {
   "cell_type": "code",
   "execution_count": 3,
   "id": "e6d7b305-7fdf-49df-b34f-ed25612e26b7",
   "metadata": {},
   "outputs": [],
   "source": [
    "access_token = keyring.get_password(\"github-access-token\", \"radiotherapyai-bot\")"
   ]
  },
  {
   "cell_type": "code",
   "execution_count": null,
   "id": "5bf3117a-de17-47b6-a684-3db068af1803",
   "metadata": {},
   "outputs": [],
   "source": [
    "url = 'http://api.github.com/graphql'"
   ]
  },
  {
   "cell_type": "code",
   "execution_count": null,
   "id": "5d480649-500e-4243-912c-84b8b1398b27",
   "metadata": {},
   "outputs": [],
   "source": [
    "json_schema_path = 'github_schema.json'"
   ]
  },
  {
   "cell_type": "code",
   "execution_count": 10,
   "id": "68e8e267-cfcc-4b40-b239-9e40193c9a3d",
   "metadata": {},
   "outputs": [
    {
     "name": "stdout",
     "output_type": "stream",
     "text": [
      "\n"
     ]
    }
   ],
   "source": [
    "!poetry run python -m sgqlc.introspection \\\n",
    "     --exclude-deprecated \\\n",
    "     --exclude-description \\\n",
    "     -H \"Authorization: bearer {access_token}\" \\\n",
    "     {url} \\\n",
    "     {json_schema_path}"
   ]
  },
  {
   "cell_type": "code",
   "execution_count": 11,
   "id": "4ff055e3-2d57-4ae6-baab-815ee5c9a8db",
   "metadata": {},
   "outputs": [],
   "source": [
    "!poetry run sgqlc-codegen schema {json_schema_path} github_schema.py"
   ]
  },
  {
   "cell_type": "code",
   "execution_count": 13,
   "id": "db98c1bd-9c74-4839-8340-953418f3636e",
   "metadata": {},
   "outputs": [],
   "source": [
    "from sgqlc.operation import Operation\n",
    "from github_schema import github_schema as schema"
   ]
  },
  {
   "cell_type": "code",
   "execution_count": 14,
   "id": "e93dc9c1-b576-45b3-98bd-346c7989136d",
   "metadata": {},
   "outputs": [],
   "source": []
  },
  {
   "cell_type": "code",
   "execution_count": 47,
   "id": "32bbd353-3185-4c22-9f9a-61c1d5f9bb56",
   "metadata": {},
   "outputs": [],
   "source": [
    "from sgqlc.endpoint.http import HTTPEndpoint\n",
    "\n",
    "\n",
    "headers = {'Authorization': f'bearer {access_token}'}\n",
    "\n",
    "endpoint = HTTPEndpoint(url, headers)"
   ]
  },
  {
   "cell_type": "code",
   "execution_count": null,
   "id": "bd19d3d3-ae77-4052-8fb0-4f3554a29318",
   "metadata": {},
   "outputs": [],
   "source": []
  },
  {
   "cell_type": "code",
   "execution_count": 67,
   "id": "f8092ce7-ae15-403a-9d95-b142e27890e4",
   "metadata": {},
   "outputs": [
    {
     "data": {
      "text/plain": [
       "title"
      ]
     },
     "execution_count": 67,
     "metadata": {},
     "output_type": "execute_result"
    }
   ],
   "source": [
    "op = Operation(schema.Query)\n",
    "\n",
    "issues = op.repository(owner='RadiotherapyAI', name='regulatory').issues(first=2)\n",
    "issues.nodes.title()"
   ]
  },
  {
   "cell_type": "code",
   "execution_count": 76,
   "id": "e88ccd4a-d0e7-4e3d-a1f8-8ea5fca867fd",
   "metadata": {},
   "outputs": [],
   "source": [
    "query = \"\"\"query { \n",
    "  viewer { \n",
    "    login\n",
    "  }\n",
    "}\"\"\""
   ]
  },
  {
   "cell_type": "code",
   "execution_count": 77,
   "id": "10178c58-515a-4c9f-9d1d-4544f1d4c906",
   "metadata": {},
   "outputs": [],
   "source": [
    "data = endpoint(query)"
   ]
  },
  {
   "cell_type": "code",
   "execution_count": 79,
   "id": "5b187a7d-1785-422f-9d69-0c01c3ea3d08",
   "metadata": {},
   "outputs": [],
   "source": [
    "# data"
   ]
  },
  {
   "cell_type": "code",
   "execution_count": 68,
   "id": "a485d3cd-6a6d-43c5-8219-5d5bd88f79a0",
   "metadata": {},
   "outputs": [
    {
     "data": {
      "text/plain": [
       "query {\n",
       "  repository(owner: \"RadiotherapyAI\", name: \"regulatory\") {\n",
       "    issues(first: 2) {\n",
       "      nodes {\n",
       "        title\n",
       "      }\n",
       "    }\n",
       "  }\n",
       "}"
      ]
     },
     "execution_count": 68,
     "metadata": {},
     "output_type": "execute_result"
    }
   ],
   "source": [
    "op"
   ]
  },
  {
   "cell_type": "code",
   "execution_count": 69,
   "id": "e24da967-1d06-4123-b1d6-729671b68e36",
   "metadata": {},
   "outputs": [],
   "source": [
    "data = endpoint(op)"
   ]
  },
  {
   "cell_type": "code",
   "execution_count": 80,
   "id": "169517ec-69e8-4c84-878c-bf27ef350c32",
   "metadata": {},
   "outputs": [],
   "source": [
    "# data"
   ]
  },
  {
   "cell_type": "code",
   "execution_count": 52,
   "id": "73794fb7-ab96-4193-ae0a-13376352657a",
   "metadata": {},
   "outputs": [],
   "source": [
    "# data"
   ]
  },
  {
   "cell_type": "code",
   "execution_count": 53,
   "id": "04f07fdf-d33c-4e90-9039-c1427e8bb49b",
   "metadata": {},
   "outputs": [
    {
     "ename": "AttributeError",
     "evalue": "'Query' object has no attribute 'repository'",
     "output_type": "error",
     "traceback": [
      "\u001b[0;31m---------------------------------------------------------------------------\u001b[0m",
      "\u001b[0;31mAttributeError\u001b[0m                            Traceback (most recent call last)",
      "\u001b[0;32m/tmp/ipykernel_204763/1718537726.py\u001b[0m in \u001b[0;36m<module>\u001b[0;34m\u001b[0m\n\u001b[0;32m----> 1\u001b[0;31m \u001b[0mrepo\u001b[0m \u001b[0;34m=\u001b[0m \u001b[0;34m(\u001b[0m\u001b[0mop\u001b[0m \u001b[0;34m+\u001b[0m \u001b[0mdata\u001b[0m\u001b[0;34m)\u001b[0m\u001b[0;34m.\u001b[0m\u001b[0mrepository\u001b[0m\u001b[0;34m\u001b[0m\u001b[0;34m\u001b[0m\u001b[0m\n\u001b[0m\u001b[1;32m      2\u001b[0m \u001b[0;32mfor\u001b[0m \u001b[0missue\u001b[0m \u001b[0;32min\u001b[0m \u001b[0mrepo\u001b[0m\u001b[0;34m.\u001b[0m\u001b[0missues\u001b[0m\u001b[0;34m.\u001b[0m\u001b[0mnodes\u001b[0m\u001b[0;34m:\u001b[0m\u001b[0;34m\u001b[0m\u001b[0;34m\u001b[0m\u001b[0m\n\u001b[1;32m      3\u001b[0m     \u001b[0mprint\u001b[0m\u001b[0;34m(\u001b[0m\u001b[0missue\u001b[0m\u001b[0;34m)\u001b[0m\u001b[0;34m\u001b[0m\u001b[0;34m\u001b[0m\u001b[0m\n",
      "\u001b[0;31mAttributeError\u001b[0m: 'Query' object has no attribute 'repository'"
     ]
    }
   ],
   "source": [
    "repo = (op + data).repository\n",
    "for issue in repo.issues.nodes:\n",
    "    print(issue)"
   ]
  },
  {
   "cell_type": "code",
   "execution_count": 43,
   "id": "412146b6-e333-4df3-bec0-8691c1166af2",
   "metadata": {},
   "outputs": [],
   "source": [
    "merged = op + data"
   ]
  },
  {
   "cell_type": "code",
   "execution_count": 56,
   "id": "3383aa65-3474-4223-a417-00f2a6445fb8",
   "metadata": {},
   "outputs": [
    {
     "data": {
      "text/plain": [
       "Query()"
      ]
     },
     "execution_count": 56,
     "metadata": {},
     "output_type": "execute_result"
    }
   ],
   "source": []
  },
  {
   "cell_type": "code",
   "execution_count": 44,
   "id": "003dc7ed-d9e8-4e76-a09f-1002dff53eaa",
   "metadata": {},
   "outputs": [
    {
     "data": {
      "text/plain": [
       "Query()"
      ]
     },
     "execution_count": 44,
     "metadata": {},
     "output_type": "execute_result"
    }
   ],
   "source": [
    "merged"
   ]
  },
  {
   "cell_type": "code",
   "execution_count": null,
   "id": "40299b9b-15af-469c-884e-df3f95ebb49b",
   "metadata": {},
   "outputs": [],
   "source": []
  },
  {
   "cell_type": "code",
   "execution_count": 26,
   "id": "2c08ab08-1c99-4b4e-9222-654cd3a3e58c",
   "metadata": {},
   "outputs": [
    {
     "data": {
      "text/plain": [
       "{'current_user_url': 'https://api.github.com/user',\n",
       " 'current_user_authorizations_html_url': 'https://github.com/settings/connections/applications{/client_id}',\n",
       " 'authorizations_url': 'https://api.github.com/authorizations',\n",
       " 'code_search_url': 'https://api.github.com/search/code?q={query}{&page,per_page,sort,order}',\n",
       " 'commit_search_url': 'https://api.github.com/search/commits?q={query}{&page,per_page,sort,order}',\n",
       " 'emails_url': 'https://api.github.com/user/emails',\n",
       " 'emojis_url': 'https://api.github.com/emojis',\n",
       " 'events_url': 'https://api.github.com/events',\n",
       " 'feeds_url': 'https://api.github.com/feeds',\n",
       " 'followers_url': 'https://api.github.com/user/followers',\n",
       " 'following_url': 'https://api.github.com/user/following{/target}',\n",
       " 'gists_url': 'https://api.github.com/gists{/gist_id}',\n",
       " 'hub_url': 'https://api.github.com/hub',\n",
       " 'issue_search_url': 'https://api.github.com/search/issues?q={query}{&page,per_page,sort,order}',\n",
       " 'issues_url': 'https://api.github.com/issues',\n",
       " 'keys_url': 'https://api.github.com/user/keys',\n",
       " 'label_search_url': 'https://api.github.com/search/labels?q={query}&repository_id={repository_id}{&page,per_page}',\n",
       " 'notifications_url': 'https://api.github.com/notifications',\n",
       " 'organization_url': 'https://api.github.com/orgs/{org}',\n",
       " 'organization_repositories_url': 'https://api.github.com/orgs/{org}/repos{?type,page,per_page,sort}',\n",
       " 'organization_teams_url': 'https://api.github.com/orgs/{org}/teams',\n",
       " 'public_gists_url': 'https://api.github.com/gists/public',\n",
       " 'rate_limit_url': 'https://api.github.com/rate_limit',\n",
       " 'repository_url': 'https://api.github.com/repos/{owner}/{repo}',\n",
       " 'repository_search_url': 'https://api.github.com/search/repositories?q={query}{&page,per_page,sort,order}',\n",
       " 'current_user_repositories_url': 'https://api.github.com/user/repos{?type,page,per_page,sort}',\n",
       " 'starred_url': 'https://api.github.com/user/starred{/owner}{/repo}',\n",
       " 'starred_gists_url': 'https://api.github.com/gists/starred',\n",
       " 'topic_search_url': 'https://api.github.com/search/topics?q={query}{&page,per_page}',\n",
       " 'user_url': 'https://api.github.com/users/{user}',\n",
       " 'user_organizations_url': 'https://api.github.com/user/orgs',\n",
       " 'user_repositories_url': 'https://api.github.com/users/{user}/repos{?type,page,per_page,sort}',\n",
       " 'user_search_url': 'https://api.github.com/search/users?q={query}{&page,per_page,sort,order}'}"
      ]
     },
     "execution_count": 26,
     "metadata": {},
     "output_type": "execute_result"
    }
   ],
   "source": [
    "data"
   ]
  },
  {
   "cell_type": "code",
   "execution_count": null,
   "id": "8a76fd6d-0f2b-4e91-8291-5361bff23423",
   "metadata": {},
   "outputs": [],
   "source": []
  },
  {
   "cell_type": "code",
   "execution_count": null,
   "id": "996869ce-5a75-482d-bde7-f12d6abdcb9e",
   "metadata": {},
   "outputs": [],
   "source": []
  },
  {
   "cell_type": "code",
   "execution_count": 4,
   "id": "27dc2d8c-b27a-4e06-8dde-9bf9cb574c6a",
   "metadata": {},
   "outputs": [],
   "source": [
    "github_instance = github.Github(access_token)"
   ]
  },
  {
   "cell_type": "code",
   "execution_count": null,
   "id": "57502da3-3c0f-4b98-b56e-3e1d9968241d",
   "metadata": {},
   "outputs": [],
   "source": []
  },
  {
   "cell_type": "code",
   "execution_count": null,
   "id": "008c3459-cbe5-496e-849c-b5c18bb13489",
   "metadata": {},
   "outputs": [],
   "source": []
  },
  {
   "cell_type": "code",
   "execution_count": null,
   "id": "be1d9229-70b8-4aa7-ac14-6c667fb430de",
   "metadata": {},
   "outputs": [],
   "source": []
  },
  {
   "cell_type": "code",
   "execution_count": 5,
   "id": "1bb5e801-5de2-4812-9a2f-0cb6183d3a77",
   "metadata": {},
   "outputs": [
    {
     "data": {
      "text/plain": [
       "<github.MainClass.Github at 0x7fdd1f250eb0>"
      ]
     },
     "execution_count": 5,
     "metadata": {},
     "output_type": "execute_result"
    }
   ],
   "source": [
    "github_instance"
   ]
  },
  {
   "cell_type": "code",
   "execution_count": 6,
   "id": "b984ec99-b580-4acd-b198-9c58b51b5c0b",
   "metadata": {},
   "outputs": [
    {
     "name": "stdout",
     "output_type": "stream",
     "text": [
      "regulatory\n"
     ]
    }
   ],
   "source": [
    "for repo in github_instance.get_user().get_repos():\n",
    "    print(repo.name)"
   ]
  },
  {
   "cell_type": "code",
   "execution_count": 7,
   "id": "38615b8b-1106-4dc0-804b-87f3ef626e3e",
   "metadata": {},
   "outputs": [],
   "source": [
    "repo = github_instance.get_repo(\"RadiotherapyAI/regulatory\")"
   ]
  },
  {
   "cell_type": "code",
   "execution_count": 8,
   "id": "4c801ebd-e5bc-4b8d-bbe8-e927fdf51a71",
   "metadata": {},
   "outputs": [
    {
     "data": {
      "text/plain": [
       "'regulatory'"
      ]
     },
     "execution_count": 8,
     "metadata": {},
     "output_type": "execute_result"
    }
   ],
   "source": [
    "repo.name"
   ]
  },
  {
   "cell_type": "code",
   "execution_count": 9,
   "id": "5a63e0b4-f6d7-4e8d-a9f3-b021c1ca6fde",
   "metadata": {},
   "outputs": [],
   "source": [
    "pull_requests = list(repo.get_pulls(direction='asc'))"
   ]
  },
  {
   "cell_type": "code",
   "execution_count": 10,
   "id": "b627469e-1862-4cc9-b8fc-18fd5010cf31",
   "metadata": {},
   "outputs": [],
   "source": [
    "pr_with_an_approval = repo.get_pull(20)"
   ]
  },
  {
   "cell_type": "code",
   "execution_count": 11,
   "id": "0536974e-e2c6-4011-8b39-7ced54bdda36",
   "metadata": {},
   "outputs": [],
   "source": [
    "reviews = list(pr_with_an_approval.get_reviews())"
   ]
  },
  {
   "cell_type": "code",
   "execution_count": 12,
   "id": "ce0d5703-1058-4872-9ab7-c3a1d37c2cc7",
   "metadata": {},
   "outputs": [
    {
     "name": "stdout",
     "output_type": "stream",
     "text": [
      "Oliver Eidel approved ff93226e7b8be303161ce184ef0bbc2ae3bdcbe5 on the 2022-Mar-01\n"
     ]
    }
   ],
   "source": [
    "for review in reviews:\n",
    "    if review.state == \"APPROVED\":\n",
    "        print(f\"{review.user.name} approved {review.commit_id} on the {review.submitted_at.strftime('%Y-%b-%d')}\")"
   ]
  },
  {
   "cell_type": "code",
   "execution_count": 13,
   "id": "60a392ca-362f-41b7-9e60-6c330571938e",
   "metadata": {},
   "outputs": [],
   "source": [
    "review = reviews[0]"
   ]
  },
  {
   "cell_type": "code",
   "execution_count": 14,
   "id": "701ae226-5458-45e0-901e-625e39df7656",
   "metadata": {},
   "outputs": [
    {
     "data": {
      "text/plain": [
       "'ff93226e7b8be303161ce184ef0bbc2ae3bdcbe5'"
      ]
     },
     "execution_count": 14,
     "metadata": {},
     "output_type": "execute_result"
    }
   ],
   "source": [
    "review.commit_id"
   ]
  },
  {
   "cell_type": "code",
   "execution_count": 15,
   "id": "43140d72-ebad-4ed7-bde4-0383ccd478c5",
   "metadata": {},
   "outputs": [
    {
     "data": {
      "text/plain": [
       "NamedUser(login=\"olieidel\")"
      ]
     },
     "execution_count": 15,
     "metadata": {},
     "output_type": "execute_result"
    }
   ],
   "source": [
    "review.user"
   ]
  },
  {
   "cell_type": "code",
   "execution_count": 16,
   "id": "c111912d-4b88-4cf6-b50d-d3fee3c058ae",
   "metadata": {},
   "outputs": [
    {
     "data": {
      "text/plain": [
       "'2022-Mar-01'"
      ]
     },
     "execution_count": 16,
     "metadata": {},
     "output_type": "execute_result"
    }
   ],
   "source": [
    "review.submitted_at.strftime('%Y-%b-%d')"
   ]
  },
  {
   "cell_type": "code",
   "execution_count": 17,
   "id": "4c549fbd-1312-40f6-9806-f1757d923f7c",
   "metadata": {},
   "outputs": [
    {
     "data": {
      "text/plain": [
       "[]"
      ]
     },
     "execution_count": 17,
     "metadata": {},
     "output_type": "execute_result"
    }
   ],
   "source": [
    "list()"
   ]
  },
  {
   "cell_type": "code",
   "execution_count": 18,
   "id": "d9230315-adf9-43e4-912d-871a29b0b9f8",
   "metadata": {},
   "outputs": [
    {
     "name": "stdout",
     "output_type": "stream",
     "text": [
      "https://github.com/RadiotherapyAI/regulatory/blob/ff93226e7b8be303161ce184ef0bbc2ae3bdcbe5/src/documents/drafts/62304-mapping.md\n",
      "https://github.com/RadiotherapyAI/regulatory/blob/ff93226e7b8be303161ce184ef0bbc2ae3bdcbe5/src/documents/drafts/quality-manual-policy-objectives.md\n",
      "https://github.com/RadiotherapyAI/regulatory/blob/ff93226e7b8be303161ce184ef0bbc2ae3bdcbe5/src/documents/drafts/sop-integrated-software-development.md\n"
     ]
    }
   ],
   "source": [
    "for a_file in pr_with_an_approval.get_files():    \n",
    "    print(f\"https://github.com/RadiotherapyAI/regulatory/blob/{review.commit_id}/{a_file.filename}\")"
   ]
  },
  {
   "cell_type": "code",
   "execution_count": 21,
   "id": "5a2d9ac2-ab41-42c3-8a4e-d90c7c3e3bd8",
   "metadata": {},
   "outputs": [
    {
     "data": {
      "text/plain": [
       "'Simon Biggs'"
      ]
     },
     "execution_count": 21,
     "metadata": {},
     "output_type": "execute_result"
    }
   ],
   "source": [
    "pr_with_an_approval.merged_by.name"
   ]
  },
  {
   "cell_type": "code",
   "execution_count": 20,
   "id": "ed06afd2-aac0-4f38-b9b0-161e0ceac584",
   "metadata": {},
   "outputs": [
    {
     "data": {
      "text/plain": [
       "datetime.datetime(2022, 3, 23, 5, 57, 58)"
      ]
     },
     "execution_count": 20,
     "metadata": {},
     "output_type": "execute_result"
    }
   ],
   "source": [
    "pr_with_an_approval.merged_at"
   ]
  },
  {
   "cell_type": "code",
   "execution_count": 57,
   "id": "f9d52df2-144d-41db-a42c-b78d60e4fb36",
   "metadata": {},
   "outputs": [],
   "source": [
    "commits = list(repo.get_commits(path='src/documents/released/sop-document-record-control/index.md'))"
   ]
  },
  {
   "cell_type": "code",
   "execution_count": 58,
   "id": "a7dce7b4-ef75-4697-961d-8b2e0aee6522",
   "metadata": {},
   "outputs": [],
   "source": [
    "commit = commits[0]"
   ]
  },
  {
   "cell_type": "code",
   "execution_count": 59,
   "id": "0c628ae1-b9ab-4004-b4ec-4f820562f269",
   "metadata": {},
   "outputs": [
    {
     "data": {
      "text/plain": [
       "'GitHub Web Flow'"
      ]
     },
     "execution_count": 59,
     "metadata": {},
     "output_type": "execute_result"
    }
   ],
   "source": [
    "commit.committer.name"
   ]
  },
  {
   "cell_type": "code",
   "execution_count": 60,
   "id": "0e4ed6a8-ba7f-4cfd-9b03-55ffb7d0f43b",
   "metadata": {},
   "outputs": [
    {
     "data": {
      "text/plain": [
       "[]"
      ]
     },
     "execution_count": 60,
     "metadata": {},
     "output_type": "execute_result"
    }
   ],
   "source": [
    "list(commit.get_statuses())"
   ]
  },
  {
   "cell_type": "code",
   "execution_count": 61,
   "id": "77dd8bb8-7ac7-4fdb-85c2-2928c7dde817",
   "metadata": {},
   "outputs": [
    {
     "data": {
      "text/plain": [
       "'Fri, 04 Mar 2022 23:39:36 GMT'"
      ]
     },
     "execution_count": 61,
     "metadata": {},
     "output_type": "execute_result"
    }
   ],
   "source": [
    "commit.last_modified"
   ]
  },
  {
   "cell_type": "code",
   "execution_count": 62,
   "id": "f90609b9-40ae-4fcb-8468-94c53c4418d5",
   "metadata": {},
   "outputs": [],
   "source": [
    "def commit_date(commit):\n",
    "    return datetime.datetime.strptime(commit.last_modified, \"%a, %d %b %Y %H:%M:%S %Z\")\n",
    "    "
   ]
  },
  {
   "cell_type": "code",
   "execution_count": 63,
   "id": "6f2747f9-768e-48b4-ba81-e0e09ed59d5d",
   "metadata": {},
   "outputs": [
    {
     "data": {
      "text/plain": [
       "'2022-Mar-04'"
      ]
     },
     "execution_count": 63,
     "metadata": {},
     "output_type": "execute_result"
    }
   ],
   "source": [
    "commit_date(commit).strftime('%Y-%b-%d')"
   ]
  },
  {
   "cell_type": "code",
   "execution_count": 64,
   "id": "6c4afd3f-457a-4929-a278-84cf9edc6e4c",
   "metadata": {},
   "outputs": [
    {
     "data": {
      "text/plain": [
       "{PullRequest(title=\"Allow for PR only edits\", number=18),\n",
       " PullRequest(title=\"Release sop drc, remove rdm templates for now\", number=14)}"
      ]
     },
     "execution_count": 64,
     "metadata": {},
     "output_type": "execute_result"
    }
   ],
   "source": [
    "author_and_timestamp = []\n",
    "prs_for_this_file = set()\n",
    "\n",
    "for commit in commits:\n",
    "    author_and_timestamp.append((commit.committer.name, commit_date(commit)))\n",
    "    prs_for_this_file.update(commit.get_pulls())\n",
    "    \n",
    "prs_for_this_file"
   ]
  },
  {
   "cell_type": "code",
   "execution_count": null,
   "id": "23108634-ac67-4620-9f7a-23857e0f54a4",
   "metadata": {},
   "outputs": [],
   "source": [
    "# Doesn't have the full history of the file.\n",
    "# Potentially need to use the GraphQL API?"
   ]
  },
  {
   "cell_type": "code",
   "execution_count": 65,
   "id": "2379e8f7-515a-48ff-ab20-ca481aac4cee",
   "metadata": {},
   "outputs": [
    {
     "data": {
      "text/plain": [
       "[('GitHub Web Flow', datetime.datetime(2022, 3, 4, 23, 39, 36)),\n",
       " ('GitHub Web Flow', datetime.datetime(2022, 3, 4, 23, 39, 36)),\n",
       " ('GitHub Web Flow', datetime.datetime(2022, 3, 4, 23, 39, 36)),\n",
       " ('Simon Biggs', datetime.datetime(2022, 3, 4, 23, 39, 36)),\n",
       " ('Simon Biggs', datetime.datetime(2022, 3, 4, 23, 39, 36)),\n",
       " ('Simon Biggs', datetime.datetime(2022, 3, 4, 23, 39, 36)),\n",
       " ('Simon Biggs', datetime.datetime(2022, 3, 4, 23, 39, 36)),\n",
       " ('Simon Biggs', datetime.datetime(2022, 3, 4, 23, 39, 36)),\n",
       " ('Simon Biggs', datetime.datetime(2022, 3, 4, 23, 39, 36)),\n",
       " ('Simon Biggs', datetime.datetime(2022, 3, 4, 23, 39, 36)),\n",
       " ('Simon Biggs', datetime.datetime(2022, 3, 4, 23, 39, 36)),\n",
       " ('Simon Biggs', datetime.datetime(2022, 3, 4, 23, 39, 36)),\n",
       " ('Simon Biggs', datetime.datetime(2022, 3, 4, 23, 39, 36)),\n",
       " ('Simon Biggs', datetime.datetime(2022, 3, 4, 23, 39, 36))]"
      ]
     },
     "execution_count": 65,
     "metadata": {},
     "output_type": "execute_result"
    }
   ],
   "source": [
    "author_and_timestamp = sorted(author_and_timestamp, key=lambda x: x[1])\n",
    "author_and_timestamp"
   ]
  },
  {
   "cell_type": "code",
   "execution_count": 66,
   "id": "e3ce435d-7a4f-49a0-bca9-5a50656a3979",
   "metadata": {},
   "outputs": [
    {
     "data": {
      "text/plain": [
       "'GitHub Web Flow'"
      ]
     },
     "execution_count": 66,
     "metadata": {},
     "output_type": "execute_result"
    }
   ],
   "source": [
    "file_creator = author_and_timestamp[0][0]\n",
    "file_creator"
   ]
  },
  {
   "cell_type": "code",
   "execution_count": null,
   "id": "e836ebb9-e7f0-4c9e-9c8d-7b13b359ea20",
   "metadata": {},
   "outputs": [],
   "source": []
  },
  {
   "cell_type": "code",
   "execution_count": 67,
   "id": "4aa3e076-cfd6-4c72-84e5-e1483c1a3ebf",
   "metadata": {},
   "outputs": [
    {
     "data": {
      "text/plain": [
       "[PullRequest(title=\"Release sop drc, remove rdm templates for now\", number=14)]"
      ]
     },
     "execution_count": 67,
     "metadata": {},
     "output_type": "execute_result"
    }
   ],
   "source": [
    "prs_for_this_file = list(commit.get_pulls())\n",
    "prs_for_this_file"
   ]
  },
  {
   "cell_type": "code",
   "execution_count": null,
   "id": "15ab20ac-8008-406b-be7b-d754d00a1c45",
   "metadata": {},
   "outputs": [],
   "source": []
  }
 ],
 "metadata": {
  "kernelspec": {
   "display_name": "rtairegulatory",
   "language": "python",
   "name": "rtairegulatory"
  },
  "language_info": {
   "codemirror_mode": {
    "name": "ipython",
    "version": 3
   },
   "file_extension": ".py",
   "mimetype": "text/x-python",
   "name": "python",
   "nbconvert_exporter": "python",
   "pygments_lexer": "ipython3",
   "version": "3.9.7"
  }
 },
 "nbformat": 4,
 "nbformat_minor": 5
}
