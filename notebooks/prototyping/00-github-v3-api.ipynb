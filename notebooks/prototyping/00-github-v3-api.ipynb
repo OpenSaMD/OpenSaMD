{
 "cells": [
  {
   "cell_type": "code",
   "execution_count": 39,
   "id": "3cc0be47-26d2-40b2-898b-003aff966127",
   "metadata": {},
   "outputs": [],
   "source": [
    "import keyring\n",
    "import getpass\n",
    "import github\n",
    "import datetime"
   ]
  },
  {
   "cell_type": "code",
   "execution_count": 2,
   "id": "d837ff6b-0228-4665-bd84-a826b61b8df3",
   "metadata": {},
   "outputs": [],
   "source": [
    "# access_token = getpass.getpass()\n",
    "# keyring.set_password(\"github-access-token\", \"radiotherapyai-bot\", access_token)"
   ]
  },
  {
   "cell_type": "code",
   "execution_count": 3,
   "id": "95aae2f1-d081-4d18-a60a-2fc9bef4f966",
   "metadata": {},
   "outputs": [],
   "source": [
    "access_token = keyring.get_password(\"github-access-token\", \"radiotherapyai-bot\")"
   ]
  },
  {
   "cell_type": "code",
   "execution_count": 4,
   "id": "27dc2d8c-b27a-4e06-8dde-9bf9cb574c6a",
   "metadata": {},
   "outputs": [],
   "source": [
    "github_instance = github.Github(access_token)"
   ]
  },
  {
   "cell_type": "code",
   "execution_count": 5,
   "id": "1bb5e801-5de2-4812-9a2f-0cb6183d3a77",
   "metadata": {},
   "outputs": [
    {
     "data": {
      "text/plain": [
       "<github.MainClass.Github at 0x7fdd1f250eb0>"
      ]
     },
     "execution_count": 5,
     "metadata": {},
     "output_type": "execute_result"
    }
   ],
   "source": [
    "github_instance"
   ]
  },
  {
   "cell_type": "code",
   "execution_count": 6,
   "id": "b984ec99-b580-4acd-b198-9c58b51b5c0b",
   "metadata": {},
   "outputs": [
    {
     "name": "stdout",
     "output_type": "stream",
     "text": [
      "regulatory\n"
     ]
    }
   ],
   "source": [
    "for repo in github_instance.get_user().get_repos():\n",
    "    print(repo.name)"
   ]
  },
  {
   "cell_type": "code",
   "execution_count": 7,
   "id": "38615b8b-1106-4dc0-804b-87f3ef626e3e",
   "metadata": {},
   "outputs": [],
   "source": [
    "repo = github_instance.get_repo(\"RadiotherapyAI/regulatory\")"
   ]
  },
  {
   "cell_type": "code",
   "execution_count": 8,
   "id": "4c801ebd-e5bc-4b8d-bbe8-e927fdf51a71",
   "metadata": {},
   "outputs": [
    {
     "data": {
      "text/plain": [
       "'regulatory'"
      ]
     },
     "execution_count": 8,
     "metadata": {},
     "output_type": "execute_result"
    }
   ],
   "source": [
    "repo.name"
   ]
  },
  {
   "cell_type": "code",
   "execution_count": 9,
   "id": "5a63e0b4-f6d7-4e8d-a9f3-b021c1ca6fde",
   "metadata": {},
   "outputs": [],
   "source": [
    "pull_requests = list(repo.get_pulls(direction='asc'))"
   ]
  },
  {
   "cell_type": "code",
   "execution_count": 10,
   "id": "b627469e-1862-4cc9-b8fc-18fd5010cf31",
   "metadata": {},
   "outputs": [],
   "source": [
    "pr_with_an_approval = repo.get_pull(20)"
   ]
  },
  {
   "cell_type": "code",
   "execution_count": 11,
   "id": "0536974e-e2c6-4011-8b39-7ced54bdda36",
   "metadata": {},
   "outputs": [],
   "source": [
    "reviews = list(pr_with_an_approval.get_reviews())"
   ]
  },
  {
   "cell_type": "code",
   "execution_count": 12,
   "id": "ce0d5703-1058-4872-9ab7-c3a1d37c2cc7",
   "metadata": {},
   "outputs": [
    {
     "name": "stdout",
     "output_type": "stream",
     "text": [
      "Oliver Eidel approved ff93226e7b8be303161ce184ef0bbc2ae3bdcbe5 on the 2022-Mar-01\n"
     ]
    }
   ],
   "source": [
    "for review in reviews:\n",
    "    if review.state == \"APPROVED\":\n",
    "        print(f\"{review.user.name} approved {review.commit_id} on the {review.submitted_at.strftime('%Y-%b-%d')}\")"
   ]
  },
  {
   "cell_type": "code",
   "execution_count": 13,
   "id": "60a392ca-362f-41b7-9e60-6c330571938e",
   "metadata": {},
   "outputs": [],
   "source": [
    "review = reviews[0]"
   ]
  },
  {
   "cell_type": "code",
   "execution_count": 14,
   "id": "701ae226-5458-45e0-901e-625e39df7656",
   "metadata": {},
   "outputs": [
    {
     "data": {
      "text/plain": [
       "'ff93226e7b8be303161ce184ef0bbc2ae3bdcbe5'"
      ]
     },
     "execution_count": 14,
     "metadata": {},
     "output_type": "execute_result"
    }
   ],
   "source": [
    "review.commit_id"
   ]
  },
  {
   "cell_type": "code",
   "execution_count": 15,
   "id": "43140d72-ebad-4ed7-bde4-0383ccd478c5",
   "metadata": {},
   "outputs": [
    {
     "data": {
      "text/plain": [
       "NamedUser(login=\"olieidel\")"
      ]
     },
     "execution_count": 15,
     "metadata": {},
     "output_type": "execute_result"
    }
   ],
   "source": [
    "review.user"
   ]
  },
  {
   "cell_type": "code",
   "execution_count": 16,
   "id": "c111912d-4b88-4cf6-b50d-d3fee3c058ae",
   "metadata": {},
   "outputs": [
    {
     "data": {
      "text/plain": [
       "'2022-Mar-01'"
      ]
     },
     "execution_count": 16,
     "metadata": {},
     "output_type": "execute_result"
    }
   ],
   "source": [
    "review.submitted_at.strftime('%Y-%b-%d')"
   ]
  },
  {
   "cell_type": "code",
   "execution_count": 17,
   "id": "4c549fbd-1312-40f6-9806-f1757d923f7c",
   "metadata": {},
   "outputs": [
    {
     "data": {
      "text/plain": [
       "[]"
      ]
     },
     "execution_count": 17,
     "metadata": {},
     "output_type": "execute_result"
    }
   ],
   "source": [
    "list()"
   ]
  },
  {
   "cell_type": "code",
   "execution_count": 18,
   "id": "d9230315-adf9-43e4-912d-871a29b0b9f8",
   "metadata": {},
   "outputs": [
    {
     "name": "stdout",
     "output_type": "stream",
     "text": [
      "https://github.com/RadiotherapyAI/regulatory/blob/ff93226e7b8be303161ce184ef0bbc2ae3bdcbe5/src/documents/drafts/62304-mapping.md\n",
      "https://github.com/RadiotherapyAI/regulatory/blob/ff93226e7b8be303161ce184ef0bbc2ae3bdcbe5/src/documents/drafts/quality-manual-policy-objectives.md\n",
      "https://github.com/RadiotherapyAI/regulatory/blob/ff93226e7b8be303161ce184ef0bbc2ae3bdcbe5/src/documents/drafts/sop-integrated-software-development.md\n"
     ]
    }
   ],
   "source": [
    "for a_file in pr_with_an_approval.get_files():    \n",
    "    print(f\"https://github.com/RadiotherapyAI/regulatory/blob/{review.commit_id}/{a_file.filename}\")"
   ]
  },
  {
   "cell_type": "code",
   "execution_count": 21,
   "id": "5a2d9ac2-ab41-42c3-8a4e-d90c7c3e3bd8",
   "metadata": {},
   "outputs": [
    {
     "data": {
      "text/plain": [
       "'Simon Biggs'"
      ]
     },
     "execution_count": 21,
     "metadata": {},
     "output_type": "execute_result"
    }
   ],
   "source": [
    "pr_with_an_approval.merged_by.name"
   ]
  },
  {
   "cell_type": "code",
   "execution_count": 20,
   "id": "ed06afd2-aac0-4f38-b9b0-161e0ceac584",
   "metadata": {},
   "outputs": [
    {
     "data": {
      "text/plain": [
       "datetime.datetime(2022, 3, 23, 5, 57, 58)"
      ]
     },
     "execution_count": 20,
     "metadata": {},
     "output_type": "execute_result"
    }
   ],
   "source": [
    "pr_with_an_approval.merged_at"
   ]
  },
  {
   "cell_type": "code",
   "execution_count": 57,
   "id": "f9d52df2-144d-41db-a42c-b78d60e4fb36",
   "metadata": {},
   "outputs": [],
   "source": [
    "commits = list(repo.get_commits(path='src/documents/released/sop-document-record-control/index.md'))"
   ]
  },
  {
   "cell_type": "code",
   "execution_count": 58,
   "id": "a7dce7b4-ef75-4697-961d-8b2e0aee6522",
   "metadata": {},
   "outputs": [],
   "source": [
    "commit = commits[0]"
   ]
  },
  {
   "cell_type": "code",
   "execution_count": 59,
   "id": "0c628ae1-b9ab-4004-b4ec-4f820562f269",
   "metadata": {},
   "outputs": [
    {
     "data": {
      "text/plain": [
       "'GitHub Web Flow'"
      ]
     },
     "execution_count": 59,
     "metadata": {},
     "output_type": "execute_result"
    }
   ],
   "source": [
    "commit.committer.name"
   ]
  },
  {
   "cell_type": "code",
   "execution_count": 60,
   "id": "0e4ed6a8-ba7f-4cfd-9b03-55ffb7d0f43b",
   "metadata": {},
   "outputs": [
    {
     "data": {
      "text/plain": [
       "[]"
      ]
     },
     "execution_count": 60,
     "metadata": {},
     "output_type": "execute_result"
    }
   ],
   "source": [
    "list(commit.get_statuses())"
   ]
  },
  {
   "cell_type": "code",
   "execution_count": 61,
   "id": "77dd8bb8-7ac7-4fdb-85c2-2928c7dde817",
   "metadata": {},
   "outputs": [
    {
     "data": {
      "text/plain": [
       "'Fri, 04 Mar 2022 23:39:36 GMT'"
      ]
     },
     "execution_count": 61,
     "metadata": {},
     "output_type": "execute_result"
    }
   ],
   "source": [
    "commit.last_modified"
   ]
  },
  {
   "cell_type": "code",
   "execution_count": 62,
   "id": "f90609b9-40ae-4fcb-8468-94c53c4418d5",
   "metadata": {},
   "outputs": [],
   "source": [
    "def commit_date(commit):\n",
    "    return datetime.datetime.strptime(commit.last_modified, \"%a, %d %b %Y %H:%M:%S %Z\")\n",
    "    "
   ]
  },
  {
   "cell_type": "code",
   "execution_count": 63,
   "id": "6f2747f9-768e-48b4-ba81-e0e09ed59d5d",
   "metadata": {},
   "outputs": [
    {
     "data": {
      "text/plain": [
       "'2022-Mar-04'"
      ]
     },
     "execution_count": 63,
     "metadata": {},
     "output_type": "execute_result"
    }
   ],
   "source": [
    "commit_date(commit).strftime('%Y-%b-%d')"
   ]
  },
  {
   "cell_type": "code",
   "execution_count": 64,
   "id": "6c4afd3f-457a-4929-a278-84cf9edc6e4c",
   "metadata": {},
   "outputs": [
    {
     "data": {
      "text/plain": [
       "{PullRequest(title=\"Allow for PR only edits\", number=18),\n",
       " PullRequest(title=\"Release sop drc, remove rdm templates for now\", number=14)}"
      ]
     },
     "execution_count": 64,
     "metadata": {},
     "output_type": "execute_result"
    }
   ],
   "source": [
    "author_and_timestamp = []\n",
    "prs_for_this_file = set()\n",
    "\n",
    "for commit in commits:\n",
    "    author_and_timestamp.append((commit.committer.name, commit_date(commit)))\n",
    "    prs_for_this_file.update(commit.get_pulls())\n",
    "    \n",
    "prs_for_this_file"
   ]
  },
  {
   "cell_type": "code",
   "execution_count": null,
   "id": "23108634-ac67-4620-9f7a-23857e0f54a4",
   "metadata": {},
   "outputs": [],
   "source": [
    "# Doesn't have the full history of the file.\n",
    "# Potentially need to use the GraphQL API?"
   ]
  },
  {
   "cell_type": "code",
   "execution_count": 65,
   "id": "2379e8f7-515a-48ff-ab20-ca481aac4cee",
   "metadata": {},
   "outputs": [
    {
     "data": {
      "text/plain": [
       "[('GitHub Web Flow', datetime.datetime(2022, 3, 4, 23, 39, 36)),\n",
       " ('GitHub Web Flow', datetime.datetime(2022, 3, 4, 23, 39, 36)),\n",
       " ('GitHub Web Flow', datetime.datetime(2022, 3, 4, 23, 39, 36)),\n",
       " ('Simon Biggs', datetime.datetime(2022, 3, 4, 23, 39, 36)),\n",
       " ('Simon Biggs', datetime.datetime(2022, 3, 4, 23, 39, 36)),\n",
       " ('Simon Biggs', datetime.datetime(2022, 3, 4, 23, 39, 36)),\n",
       " ('Simon Biggs', datetime.datetime(2022, 3, 4, 23, 39, 36)),\n",
       " ('Simon Biggs', datetime.datetime(2022, 3, 4, 23, 39, 36)),\n",
       " ('Simon Biggs', datetime.datetime(2022, 3, 4, 23, 39, 36)),\n",
       " ('Simon Biggs', datetime.datetime(2022, 3, 4, 23, 39, 36)),\n",
       " ('Simon Biggs', datetime.datetime(2022, 3, 4, 23, 39, 36)),\n",
       " ('Simon Biggs', datetime.datetime(2022, 3, 4, 23, 39, 36)),\n",
       " ('Simon Biggs', datetime.datetime(2022, 3, 4, 23, 39, 36)),\n",
       " ('Simon Biggs', datetime.datetime(2022, 3, 4, 23, 39, 36))]"
      ]
     },
     "execution_count": 65,
     "metadata": {},
     "output_type": "execute_result"
    }
   ],
   "source": [
    "author_and_timestamp = sorted(author_and_timestamp, key=lambda x: x[1])\n",
    "author_and_timestamp"
   ]
  },
  {
   "cell_type": "code",
   "execution_count": 66,
   "id": "e3ce435d-7a4f-49a0-bca9-5a50656a3979",
   "metadata": {},
   "outputs": [
    {
     "data": {
      "text/plain": [
       "'GitHub Web Flow'"
      ]
     },
     "execution_count": 66,
     "metadata": {},
     "output_type": "execute_result"
    }
   ],
   "source": [
    "file_creator = author_and_timestamp[0][0]\n",
    "file_creator"
   ]
  },
  {
   "cell_type": "code",
   "execution_count": null,
   "id": "e836ebb9-e7f0-4c9e-9c8d-7b13b359ea20",
   "metadata": {},
   "outputs": [],
   "source": []
  },
  {
   "cell_type": "code",
   "execution_count": 67,
   "id": "4aa3e076-cfd6-4c72-84e5-e1483c1a3ebf",
   "metadata": {},
   "outputs": [
    {
     "data": {
      "text/plain": [
       "[PullRequest(title=\"Release sop drc, remove rdm templates for now\", number=14)]"
      ]
     },
     "execution_count": 67,
     "metadata": {},
     "output_type": "execute_result"
    }
   ],
   "source": [
    "prs_for_this_file = list(commit.get_pulls())\n",
    "prs_for_this_file"
   ]
  },
  {
   "cell_type": "code",
   "execution_count": null,
   "id": "15ab20ac-8008-406b-be7b-d754d00a1c45",
   "metadata": {},
   "outputs": [],
   "source": []
  }
 ],
 "metadata": {
  "kernelspec": {
   "display_name": "rtai",
   "language": "python",
   "name": "rtai"
  },
  "language_info": {
   "codemirror_mode": {
    "name": "ipython",
    "version": 3
   },
   "file_extension": ".py",
   "mimetype": "text/x-python",
   "name": "python",
   "nbconvert_exporter": "python",
   "pygments_lexer": "ipython3",
   "version": "3.9.7"
  }
 },
 "nbformat": 4,
 "nbformat_minor": 5
}
