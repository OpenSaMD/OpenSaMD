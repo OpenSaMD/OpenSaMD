{
 "cells": [
  {
   "cell_type": "code",
   "execution_count": 15,
   "id": "3cc0be47-26d2-40b2-898b-003aff966127",
   "metadata": {},
   "outputs": [],
   "source": [
    "import keyring\n",
    "import getpass\n",
    "import github"
   ]
  },
  {
   "cell_type": "code",
   "execution_count": 13,
   "id": "d837ff6b-0228-4665-bd84-a826b61b8df3",
   "metadata": {},
   "outputs": [],
   "source": [
    "# access_token = getpass.getpass()\n",
    "# keyring.set_password(\"github-access-token\", \"radiotherapyai-bot\", access_token)"
   ]
  },
  {
   "cell_type": "code",
   "execution_count": 12,
   "id": "95aae2f1-d081-4d18-a60a-2fc9bef4f966",
   "metadata": {},
   "outputs": [],
   "source": [
    "access_token = keyring.get_password(\"github-access-token\", \"radiotherapyai-bot\")"
   ]
  },
  {
   "cell_type": "code",
   "execution_count": 16,
   "id": "27dc2d8c-b27a-4e06-8dde-9bf9cb574c6a",
   "metadata": {},
   "outputs": [],
   "source": [
    "github_instance = github.Github(access_token)"
   ]
  },
  {
   "cell_type": "code",
   "execution_count": 17,
   "id": "1bb5e801-5de2-4812-9a2f-0cb6183d3a77",
   "metadata": {},
   "outputs": [
    {
     "data": {
      "text/plain": [
       "<github.MainClass.Github at 0x7f501d5c4a90>"
      ]
     },
     "execution_count": 17,
     "metadata": {},
     "output_type": "execute_result"
    }
   ],
   "source": [
    "github_instance"
   ]
  },
  {
   "cell_type": "code",
   "execution_count": 18,
   "id": "b984ec99-b580-4acd-b198-9c58b51b5c0b",
   "metadata": {},
   "outputs": [
    {
     "name": "stdout",
     "output_type": "stream",
     "text": [
      "regulatory\n"
     ]
    }
   ],
   "source": [
    "for repo in github_instance.get_user().get_repos():\n",
    "    print(repo.name)"
   ]
  },
  {
   "cell_type": "code",
   "execution_count": 21,
   "id": "38615b8b-1106-4dc0-804b-87f3ef626e3e",
   "metadata": {},
   "outputs": [],
   "source": [
    "repo = github_instance.get_repo(\"RadiotherapyAI/regulatory\")"
   ]
  },
  {
   "cell_type": "code",
   "execution_count": 23,
   "id": "4c801ebd-e5bc-4b8d-bbe8-e927fdf51a71",
   "metadata": {},
   "outputs": [
    {
     "data": {
      "text/plain": [
       "'regulatory'"
      ]
     },
     "execution_count": 23,
     "metadata": {},
     "output_type": "execute_result"
    }
   ],
   "source": [
    "repo.name"
   ]
  },
  {
   "cell_type": "code",
   "execution_count": 26,
   "id": "5a63e0b4-f6d7-4e8d-a9f3-b021c1ca6fde",
   "metadata": {},
   "outputs": [],
   "source": [
    "pull_requests = list(repo.get_pulls(direction='asc'))"
   ]
  },
  {
   "cell_type": "code",
   "execution_count": 30,
   "id": "b627469e-1862-4cc9-b8fc-18fd5010cf31",
   "metadata": {},
   "outputs": [],
   "source": [
    "pr_with_an_approval = repo.get_pull(20)"
   ]
  },
  {
   "cell_type": "code",
   "execution_count": 35,
   "id": "0536974e-e2c6-4011-8b39-7ced54bdda36",
   "metadata": {},
   "outputs": [],
   "source": [
    "reviews = list(pr_with_an_approval.get_reviews())"
   ]
  },
  {
   "cell_type": "code",
   "execution_count": 52,
   "id": "ce0d5703-1058-4872-9ab7-c3a1d37c2cc7",
   "metadata": {},
   "outputs": [
    {
     "name": "stdout",
     "output_type": "stream",
     "text": [
      "Oliver Eidel approved ff93226e7b8be303161ce184ef0bbc2ae3bdcbe5 on the 2022-Mar-01\n",
      "Oliver Eidel approved ff93226e7b8be303161ce184ef0bbc2ae3bdcbe5 on the 2022-Mar-03\n"
     ]
    }
   ],
   "source": [
    "for review in reviews:\n",
    "    if review.state == \"APPROVED\":\n",
    "        print(f\"{review.user.name} approved {review.commit_id} on the {review.submitted_at.strftime('%Y-%b-%d')}\")"
   ]
  },
  {
   "cell_type": "code",
   "execution_count": 37,
   "id": "60a392ca-362f-41b7-9e60-6c330571938e",
   "metadata": {},
   "outputs": [],
   "source": [
    "review = reviews[0]"
   ]
  },
  {
   "cell_type": "code",
   "execution_count": 40,
   "id": "701ae226-5458-45e0-901e-625e39df7656",
   "metadata": {},
   "outputs": [
    {
     "data": {
      "text/plain": [
       "'ff93226e7b8be303161ce184ef0bbc2ae3bdcbe5'"
      ]
     },
     "execution_count": 40,
     "metadata": {},
     "output_type": "execute_result"
    }
   ],
   "source": [
    "review.commit_id"
   ]
  },
  {
   "cell_type": "code",
   "execution_count": 41,
   "id": "43140d72-ebad-4ed7-bde4-0383ccd478c5",
   "metadata": {},
   "outputs": [
    {
     "data": {
      "text/plain": [
       "NamedUser(login=\"SimonBiggs\")"
      ]
     },
     "execution_count": 41,
     "metadata": {},
     "output_type": "execute_result"
    }
   ],
   "source": [
    "review.user"
   ]
  },
  {
   "cell_type": "code",
   "execution_count": 50,
   "id": "c111912d-4b88-4cf6-b50d-d3fee3c058ae",
   "metadata": {},
   "outputs": [
    {
     "data": {
      "text/plain": [
       "'2022-Mar-03'"
      ]
     },
     "execution_count": 50,
     "metadata": {},
     "output_type": "execute_result"
    }
   ],
   "source": [
    "review.submitted_at.strftime('%Y-%b-%d')"
   ]
  },
  {
   "cell_type": "code",
   "execution_count": 58,
   "id": "4c549fbd-1312-40f6-9806-f1757d923f7c",
   "metadata": {},
   "outputs": [
    {
     "data": {
      "text/plain": [
       "[File(sha=\"808c00382deba782663bc3010d90342d5e4df77a\", filename=\"src/documents/drafts/62304-mapping.md\"),\n",
       " File(sha=\"45563604e147dc71fdfa3975eeee390c7bbad36f\", filename=\"src/documents/drafts/quality-manual-policy-objectives.md\"),\n",
       " File(sha=\"46909fd97bb5bac62f02990c6d3a926cfb147403\", filename=\"src/documents/drafts/sop-integrated-software-development.md\")]"
      ]
     },
     "execution_count": 58,
     "metadata": {},
     "output_type": "execute_result"
    }
   ],
   "source": [
    "list()"
   ]
  },
  {
   "cell_type": "code",
   "execution_count": 59,
   "id": "d9230315-adf9-43e4-912d-871a29b0b9f8",
   "metadata": {},
   "outputs": [
    {
     "name": "stdout",
     "output_type": "stream",
     "text": [
      "https://github.com/RadiotherapyAI/regulatory/blob/ff93226e7b8be303161ce184ef0bbc2ae3bdcbe5/src/documents/drafts/62304-mapping.md\n",
      "https://github.com/RadiotherapyAI/regulatory/blob/ff93226e7b8be303161ce184ef0bbc2ae3bdcbe5/src/documents/drafts/quality-manual-policy-objectives.md\n",
      "https://github.com/RadiotherapyAI/regulatory/blob/ff93226e7b8be303161ce184ef0bbc2ae3bdcbe5/src/documents/drafts/sop-integrated-software-development.md\n"
     ]
    }
   ],
   "source": [
    "for a_file in pr_with_an_approval.get_files():    \n",
    "    print(f\"https://github.com/RadiotherapyAI/regulatory/blob/{review.commit_id}/{a_file.filename}\")"
   ]
  }
 ],
 "metadata": {
  "kernelspec": {
   "display_name": "rtai",
   "language": "python",
   "name": "rtai"
  },
  "language_info": {
   "codemirror_mode": {
    "name": "ipython",
    "version": 3
   },
   "file_extension": ".py",
   "mimetype": "text/x-python",
   "name": "python",
   "nbconvert_exporter": "python",
   "pygments_lexer": "ipython3",
   "version": "3.9.7"
  }
 },
 "nbformat": 4,
 "nbformat_minor": 5
}
