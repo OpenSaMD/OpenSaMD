{
 "cells": [
  {
   "cell_type": "code",
   "execution_count": 29,
   "id": "3cc0be47-26d2-40b2-898b-003aff966127",
   "metadata": {},
   "outputs": [],
   "source": [
    "import asyncio\n",
    "\n",
    "import keyring\n",
    "import getpass\n",
    "import github\n",
    "import datetime\n",
    "import requests"
   ]
  },
  {
   "cell_type": "code",
   "execution_count": 2,
   "id": "d837ff6b-0228-4665-bd84-a826b61b8df3",
   "metadata": {},
   "outputs": [],
   "source": [
    "# access_token = getpass.getpass()\n",
    "# keyring.set_password(\"github-access-token\", \"radiotherapyai-bot\", access_token)"
   ]
  },
  {
   "cell_type": "code",
   "execution_count": 31,
   "id": "e6d7b305-7fdf-49df-b34f-ed25612e26b7",
   "metadata": {},
   "outputs": [],
   "source": [
    "access_token = keyring.get_password(\"github-access-token\", \"radiotherapyai-bot\")\n",
    "\n",
    "headers = {\"Authorization\": f\"Bearer {access_token}\"}"
   ]
  },
  {
   "cell_type": "code",
   "execution_count": 32,
   "id": "5bf3117a-de17-47b6-a684-3db068af1803",
   "metadata": {},
   "outputs": [],
   "source": [
    "url = 'http://api.github.com/graphql'"
   ]
  },
  {
   "cell_type": "code",
   "execution_count": 41,
   "id": "8150a914-9753-43ea-8e9d-b5eba0f2d1e3",
   "metadata": {},
   "outputs": [],
   "source": [
    "query = \"\"\"\n",
    "query($owner: String!, $name: String!, $path: String!) {\n",
    "  repository(owner: $owner, name: $name) {\n",
    "      object(expression: \"main\") {\n",
    "        ... on Commit {\n",
    "          blame(path: $path) {\n",
    "            ranges {\n",
    "              startingLine\n",
    "              endingLine\n",
    "              age\n",
    "              commit {\n",
    "                oid\n",
    "                author {\n",
    "                  name\n",
    "                }\n",
    "              }\n",
    "            }\n",
    "          }\n",
    "        }\n",
    "      }\n",
    "  }\n",
    "  viewer {\n",
    "    login\n",
    "  }\n",
    "  rateLimit {\n",
    "    limit\n",
    "    cost\n",
    "    remaining\n",
    "    resetAt\n",
    "  }\n",
    "}\n",
    "\"\"\"\n",
    "\n",
    "variables = {\n",
    "    \"path\": \"src/documents/released/sop-document-record-control/index.md\",\n",
    "    \"owner\": \"RadiotherapyAI\",\n",
    "    \"name\": \"regulatory\"\n",
    "}"
   ]
  },
  {
   "cell_type": "code",
   "execution_count": 42,
   "id": "72ea3bf1-c74f-407c-a8d7-a333682fbb03",
   "metadata": {},
   "outputs": [],
   "source": [
    "request = requests.post('https://api.github.com/graphql', json={'query': query, 'variables': variables}, headers=headers)"
   ]
  },
  {
   "cell_type": "code",
   "execution_count": 43,
   "id": "734261f5-c6f6-4848-b3ca-0096284d10bd",
   "metadata": {},
   "outputs": [
    {
     "data": {
      "text/plain": [
       "{'data': {'repository': {'object': {'blame': {'ranges': [{'startingLine': 1,\n",
       "       'endingLine': 3,\n",
       "       'age': 3,\n",
       "       'commit': {'oid': '9fb18c55cbb26ea2357fda9bc4808e530d21497e',\n",
       "        'author': {'name': 'Simon Biggs'}}},\n",
       "      {'startingLine': 4,\n",
       "       'endingLine': 4,\n",
       "       'age': 3,\n",
       "       'commit': {'oid': 'be9163ae62bb166d812ffbf3af2a8af3dded30da',\n",
       "        'author': {'name': 'Simon Biggs'}}},\n",
       "      {'startingLine': 5,\n",
       "       'endingLine': 9,\n",
       "       'age': 3,\n",
       "       'commit': {'oid': '9fb18c55cbb26ea2357fda9bc4808e530d21497e',\n",
       "        'author': {'name': 'Simon Biggs'}}},\n",
       "      {'startingLine': 10,\n",
       "       'endingLine': 14,\n",
       "       'age': 3,\n",
       "       'commit': {'oid': 'be9163ae62bb166d812ffbf3af2a8af3dded30da',\n",
       "        'author': {'name': 'Simon Biggs'}}},\n",
       "      {'startingLine': 15,\n",
       "       'endingLine': 17,\n",
       "       'age': 3,\n",
       "       'commit': {'oid': '9fb18c55cbb26ea2357fda9bc4808e530d21497e',\n",
       "        'author': {'name': 'Simon Biggs'}}},\n",
       "      {'startingLine': 18,\n",
       "       'endingLine': 19,\n",
       "       'age': 3,\n",
       "       'commit': {'oid': 'be9163ae62bb166d812ffbf3af2a8af3dded30da',\n",
       "        'author': {'name': 'Simon Biggs'}}},\n",
       "      {'startingLine': 20,\n",
       "       'endingLine': 26,\n",
       "       'age': 3,\n",
       "       'commit': {'oid': '9fb18c55cbb26ea2357fda9bc4808e530d21497e',\n",
       "        'author': {'name': 'Simon Biggs'}}},\n",
       "      {'startingLine': 27,\n",
       "       'endingLine': 27,\n",
       "       'age': 3,\n",
       "       'commit': {'oid': 'a5ba0930d495b2c7a08b29f1d880c34dc8be05ad',\n",
       "        'author': {'name': 'Simon Biggs'}}},\n",
       "      {'startingLine': 28,\n",
       "       'endingLine': 28,\n",
       "       'age': 3,\n",
       "       'commit': {'oid': '9fb18c55cbb26ea2357fda9bc4808e530d21497e',\n",
       "        'author': {'name': 'Simon Biggs'}}},\n",
       "      {'startingLine': 29,\n",
       "       'endingLine': 30,\n",
       "       'age': 3,\n",
       "       'commit': {'oid': 'a5ba0930d495b2c7a08b29f1d880c34dc8be05ad',\n",
       "        'author': {'name': 'Simon Biggs'}}},\n",
       "      {'startingLine': 31,\n",
       "       'endingLine': 31,\n",
       "       'age': 3,\n",
       "       'commit': {'oid': 'be9163ae62bb166d812ffbf3af2a8af3dded30da',\n",
       "        'author': {'name': 'Simon Biggs'}}},\n",
       "      {'startingLine': 32,\n",
       "       'endingLine': 32,\n",
       "       'age': 3,\n",
       "       'commit': {'oid': '9fb18c55cbb26ea2357fda9bc4808e530d21497e',\n",
       "        'author': {'name': 'Simon Biggs'}}},\n",
       "      {'startingLine': 33,\n",
       "       'endingLine': 33,\n",
       "       'age': 3,\n",
       "       'commit': {'oid': 'be9163ae62bb166d812ffbf3af2a8af3dded30da',\n",
       "        'author': {'name': 'Simon Biggs'}}},\n",
       "      {'startingLine': 34,\n",
       "       'endingLine': 34,\n",
       "       'age': 3,\n",
       "       'commit': {'oid': '9fb18c55cbb26ea2357fda9bc4808e530d21497e',\n",
       "        'author': {'name': 'Simon Biggs'}}},\n",
       "      {'startingLine': 35,\n",
       "       'endingLine': 39,\n",
       "       'age': 3,\n",
       "       'commit': {'oid': '3b3592ef5a5d59234e557075707fb036b59a993c',\n",
       "        'author': {'name': 'Simon Biggs'}}},\n",
       "      {'startingLine': 40,\n",
       "       'endingLine': 42,\n",
       "       'age': 3,\n",
       "       'commit': {'oid': 'be9163ae62bb166d812ffbf3af2a8af3dded30da',\n",
       "        'author': {'name': 'Simon Biggs'}}},\n",
       "      {'startingLine': 43,\n",
       "       'endingLine': 43,\n",
       "       'age': 3,\n",
       "       'commit': {'oid': '9fb18c55cbb26ea2357fda9bc4808e530d21497e',\n",
       "        'author': {'name': 'Simon Biggs'}}},\n",
       "      {'startingLine': 44,\n",
       "       'endingLine': 44,\n",
       "       'age': 3,\n",
       "       'commit': {'oid': 'be9163ae62bb166d812ffbf3af2a8af3dded30da',\n",
       "        'author': {'name': 'Simon Biggs'}}},\n",
       "      {'startingLine': 45,\n",
       "       'endingLine': 45,\n",
       "       'age': 3,\n",
       "       'commit': {'oid': '9fb18c55cbb26ea2357fda9bc4808e530d21497e',\n",
       "        'author': {'name': 'Simon Biggs'}}},\n",
       "      {'startingLine': 46,\n",
       "       'endingLine': 46,\n",
       "       'age': 3,\n",
       "       'commit': {'oid': 'be9163ae62bb166d812ffbf3af2a8af3dded30da',\n",
       "        'author': {'name': 'Simon Biggs'}}},\n",
       "      {'startingLine': 47,\n",
       "       'endingLine': 49,\n",
       "       'age': 3,\n",
       "       'commit': {'oid': '3b3592ef5a5d59234e557075707fb036b59a993c',\n",
       "        'author': {'name': 'Simon Biggs'}}},\n",
       "      {'startingLine': 50,\n",
       "       'endingLine': 50,\n",
       "       'age': 3,\n",
       "       'commit': {'oid': '5b7b941fdb4483b10875a86f3d07886686ff3fa2',\n",
       "        'author': {'name': 'Simon Biggs'}}},\n",
       "      {'startingLine': 51,\n",
       "       'endingLine': 51,\n",
       "       'age': 3,\n",
       "       'commit': {'oid': '9fb18c55cbb26ea2357fda9bc4808e530d21497e',\n",
       "        'author': {'name': 'Simon Biggs'}}},\n",
       "      {'startingLine': 52,\n",
       "       'endingLine': 52,\n",
       "       'age': 3,\n",
       "       'commit': {'oid': 'bcb4f64bf81b7a98a2e15508b8ebdbe3a17058c0',\n",
       "        'author': {'name': 'Simon Biggs'}}},\n",
       "      {'startingLine': 53,\n",
       "       'endingLine': 53,\n",
       "       'age': 3,\n",
       "       'commit': {'oid': '9fb18c55cbb26ea2357fda9bc4808e530d21497e',\n",
       "        'author': {'name': 'Simon Biggs'}}},\n",
       "      {'startingLine': 54,\n",
       "       'endingLine': 55,\n",
       "       'age': 3,\n",
       "       'commit': {'oid': 'be9163ae62bb166d812ffbf3af2a8af3dded30da',\n",
       "        'author': {'name': 'Simon Biggs'}}},\n",
       "      {'startingLine': 56,\n",
       "       'endingLine': 56,\n",
       "       'age': 3,\n",
       "       'commit': {'oid': '9fb18c55cbb26ea2357fda9bc4808e530d21497e',\n",
       "        'author': {'name': 'Simon Biggs'}}},\n",
       "      {'startingLine': 57,\n",
       "       'endingLine': 57,\n",
       "       'age': 3,\n",
       "       'commit': {'oid': 'be9163ae62bb166d812ffbf3af2a8af3dded30da',\n",
       "        'author': {'name': 'Simon Biggs'}}},\n",
       "      {'startingLine': 58,\n",
       "       'endingLine': 61,\n",
       "       'age': 3,\n",
       "       'commit': {'oid': '9fb18c55cbb26ea2357fda9bc4808e530d21497e',\n",
       "        'author': {'name': 'Simon Biggs'}}},\n",
       "      {'startingLine': 62,\n",
       "       'endingLine': 62,\n",
       "       'age': 3,\n",
       "       'commit': {'oid': 'be9163ae62bb166d812ffbf3af2a8af3dded30da',\n",
       "        'author': {'name': 'Simon Biggs'}}},\n",
       "      {'startingLine': 63,\n",
       "       'endingLine': 70,\n",
       "       'age': 3,\n",
       "       'commit': {'oid': '9fb18c55cbb26ea2357fda9bc4808e530d21497e',\n",
       "        'author': {'name': 'Simon Biggs'}}},\n",
       "      {'startingLine': 71,\n",
       "       'endingLine': 72,\n",
       "       'age': 3,\n",
       "       'commit': {'oid': 'be9163ae62bb166d812ffbf3af2a8af3dded30da',\n",
       "        'author': {'name': 'Simon Biggs'}}},\n",
       "      {'startingLine': 73,\n",
       "       'endingLine': 73,\n",
       "       'age': 3,\n",
       "       'commit': {'oid': '9fb18c55cbb26ea2357fda9bc4808e530d21497e',\n",
       "        'author': {'name': 'Simon Biggs'}}},\n",
       "      {'startingLine': 74,\n",
       "       'endingLine': 75,\n",
       "       'age': 3,\n",
       "       'commit': {'oid': 'be9163ae62bb166d812ffbf3af2a8af3dded30da',\n",
       "        'author': {'name': 'Simon Biggs'}}},\n",
       "      {'startingLine': 76,\n",
       "       'endingLine': 78,\n",
       "       'age': 3,\n",
       "       'commit': {'oid': '9fb18c55cbb26ea2357fda9bc4808e530d21497e',\n",
       "        'author': {'name': 'Simon Biggs'}}},\n",
       "      {'startingLine': 79,\n",
       "       'endingLine': 80,\n",
       "       'age': 3,\n",
       "       'commit': {'oid': 'be9163ae62bb166d812ffbf3af2a8af3dded30da',\n",
       "        'author': {'name': 'Simon Biggs'}}},\n",
       "      {'startingLine': 81,\n",
       "       'endingLine': 81,\n",
       "       'age': 3,\n",
       "       'commit': {'oid': '9fb18c55cbb26ea2357fda9bc4808e530d21497e',\n",
       "        'author': {'name': 'Simon Biggs'}}},\n",
       "      {'startingLine': 82,\n",
       "       'endingLine': 83,\n",
       "       'age': 3,\n",
       "       'commit': {'oid': 'be9163ae62bb166d812ffbf3af2a8af3dded30da',\n",
       "        'author': {'name': 'Simon Biggs'}}},\n",
       "      {'startingLine': 84,\n",
       "       'endingLine': 84,\n",
       "       'age': 3,\n",
       "       'commit': {'oid': '9fb18c55cbb26ea2357fda9bc4808e530d21497e',\n",
       "        'author': {'name': 'Simon Biggs'}}},\n",
       "      {'startingLine': 85,\n",
       "       'endingLine': 86,\n",
       "       'age': 3,\n",
       "       'commit': {'oid': 'be9163ae62bb166d812ffbf3af2a8af3dded30da',\n",
       "        'author': {'name': 'Simon Biggs'}}},\n",
       "      {'startingLine': 87,\n",
       "       'endingLine': 87,\n",
       "       'age': 3,\n",
       "       'commit': {'oid': '9fb18c55cbb26ea2357fda9bc4808e530d21497e',\n",
       "        'author': {'name': 'Simon Biggs'}}},\n",
       "      {'startingLine': 88,\n",
       "       'endingLine': 89,\n",
       "       'age': 3,\n",
       "       'commit': {'oid': 'be9163ae62bb166d812ffbf3af2a8af3dded30da',\n",
       "        'author': {'name': 'Simon Biggs'}}},\n",
       "      {'startingLine': 90,\n",
       "       'endingLine': 92,\n",
       "       'age': 3,\n",
       "       'commit': {'oid': '9fb18c55cbb26ea2357fda9bc4808e530d21497e',\n",
       "        'author': {'name': 'Simon Biggs'}}},\n",
       "      {'startingLine': 93,\n",
       "       'endingLine': 94,\n",
       "       'age': 3,\n",
       "       'commit': {'oid': 'be9163ae62bb166d812ffbf3af2a8af3dded30da',\n",
       "        'author': {'name': 'Simon Biggs'}}},\n",
       "      {'startingLine': 95,\n",
       "       'endingLine': 101,\n",
       "       'age': 3,\n",
       "       'commit': {'oid': '9fb18c55cbb26ea2357fda9bc4808e530d21497e',\n",
       "        'author': {'name': 'Simon Biggs'}}},\n",
       "      {'startingLine': 102,\n",
       "       'endingLine': 110,\n",
       "       'age': 3,\n",
       "       'commit': {'oid': 'be9163ae62bb166d812ffbf3af2a8af3dded30da',\n",
       "        'author': {'name': 'Simon Biggs'}}},\n",
       "      {'startingLine': 111,\n",
       "       'endingLine': 111,\n",
       "       'age': 3,\n",
       "       'commit': {'oid': '9fb18c55cbb26ea2357fda9bc4808e530d21497e',\n",
       "        'author': {'name': 'Simon Biggs'}}},\n",
       "      {'startingLine': 112,\n",
       "       'endingLine': 113,\n",
       "       'age': 3,\n",
       "       'commit': {'oid': 'be9163ae62bb166d812ffbf3af2a8af3dded30da',\n",
       "        'author': {'name': 'Simon Biggs'}}},\n",
       "      {'startingLine': 114,\n",
       "       'endingLine': 114,\n",
       "       'age': 3,\n",
       "       'commit': {'oid': '9fb18c55cbb26ea2357fda9bc4808e530d21497e',\n",
       "        'author': {'name': 'Simon Biggs'}}},\n",
       "      {'startingLine': 115,\n",
       "       'endingLine': 116,\n",
       "       'age': 3,\n",
       "       'commit': {'oid': '4f6253619d982af3902ed496919089c13141b33b',\n",
       "        'author': {'name': 'Simon Biggs'}}},\n",
       "      {'startingLine': 117,\n",
       "       'endingLine': 117,\n",
       "       'age': 3,\n",
       "       'commit': {'oid': '5b7b941fdb4483b10875a86f3d07886686ff3fa2',\n",
       "        'author': {'name': 'Simon Biggs'}}},\n",
       "      {'startingLine': 118,\n",
       "       'endingLine': 118,\n",
       "       'age': 3,\n",
       "       'commit': {'oid': '9fb18c55cbb26ea2357fda9bc4808e530d21497e',\n",
       "        'author': {'name': 'Simon Biggs'}}},\n",
       "      {'startingLine': 119,\n",
       "       'endingLine': 126,\n",
       "       'age': 3,\n",
       "       'commit': {'oid': 'be9163ae62bb166d812ffbf3af2a8af3dded30da',\n",
       "        'author': {'name': 'Simon Biggs'}}},\n",
       "      {'startingLine': 127,\n",
       "       'endingLine': 128,\n",
       "       'age': 3,\n",
       "       'commit': {'oid': '9fb18c55cbb26ea2357fda9bc4808e530d21497e',\n",
       "        'author': {'name': 'Simon Biggs'}}},\n",
       "      {'startingLine': 129,\n",
       "       'endingLine': 129,\n",
       "       'age': 3,\n",
       "       'commit': {'oid': 'be9163ae62bb166d812ffbf3af2a8af3dded30da',\n",
       "        'author': {'name': 'Simon Biggs'}}},\n",
       "      {'startingLine': 130,\n",
       "       'endingLine': 133,\n",
       "       'age': 3,\n",
       "       'commit': {'oid': '9fb18c55cbb26ea2357fda9bc4808e530d21497e',\n",
       "        'author': {'name': 'Simon Biggs'}}},\n",
       "      {'startingLine': 134,\n",
       "       'endingLine': 141,\n",
       "       'age': 3,\n",
       "       'commit': {'oid': 'be9163ae62bb166d812ffbf3af2a8af3dded30da',\n",
       "        'author': {'name': 'Simon Biggs'}}},\n",
       "      {'startingLine': 142,\n",
       "       'endingLine': 143,\n",
       "       'age': 3,\n",
       "       'commit': {'oid': 'e58b33f9cda722dea78243cd73293c66d01bfcca',\n",
       "        'author': {'name': 'Simon Biggs'}}},\n",
       "      {'startingLine': 144,\n",
       "       'endingLine': 144,\n",
       "       'age': 3,\n",
       "       'commit': {'oid': '5b7b941fdb4483b10875a86f3d07886686ff3fa2',\n",
       "        'author': {'name': 'Simon Biggs'}}},\n",
       "      {'startingLine': 145,\n",
       "       'endingLine': 145,\n",
       "       'age': 2,\n",
       "       'commit': {'oid': '5e57060965e4089b30812d3f79b63b3cffa8426f',\n",
       "        'author': {'name': 'Simon Biggs'}}},\n",
       "      {'startingLine': 146,\n",
       "       'endingLine': 146,\n",
       "       'age': 3,\n",
       "       'commit': {'oid': '5b7b941fdb4483b10875a86f3d07886686ff3fa2',\n",
       "        'author': {'name': 'Simon Biggs'}}},\n",
       "      {'startingLine': 147,\n",
       "       'endingLine': 150,\n",
       "       'age': 3,\n",
       "       'commit': {'oid': 'be9163ae62bb166d812ffbf3af2a8af3dded30da',\n",
       "        'author': {'name': 'Simon Biggs'}}},\n",
       "      {'startingLine': 151,\n",
       "       'endingLine': 151,\n",
       "       'age': 3,\n",
       "       'commit': {'oid': '9fb18c55cbb26ea2357fda9bc4808e530d21497e',\n",
       "        'author': {'name': 'Simon Biggs'}}},\n",
       "      {'startingLine': 152,\n",
       "       'endingLine': 157,\n",
       "       'age': 3,\n",
       "       'commit': {'oid': 'bcb4f64bf81b7a98a2e15508b8ebdbe3a17058c0',\n",
       "        'author': {'name': 'Simon Biggs'}}},\n",
       "      {'startingLine': 158,\n",
       "       'endingLine': 160,\n",
       "       'age': 3,\n",
       "       'commit': {'oid': 'be9163ae62bb166d812ffbf3af2a8af3dded30da',\n",
       "        'author': {'name': 'Simon Biggs'}}},\n",
       "      {'startingLine': 161,\n",
       "       'endingLine': 162,\n",
       "       'age': 3,\n",
       "       'commit': {'oid': '9fb18c55cbb26ea2357fda9bc4808e530d21497e',\n",
       "        'author': {'name': 'Simon Biggs'}}},\n",
       "      {'startingLine': 163,\n",
       "       'endingLine': 163,\n",
       "       'age': 3,\n",
       "       'commit': {'oid': 'be9163ae62bb166d812ffbf3af2a8af3dded30da',\n",
       "        'author': {'name': 'Simon Biggs'}}},\n",
       "      {'startingLine': 164,\n",
       "       'endingLine': 167,\n",
       "       'age': 3,\n",
       "       'commit': {'oid': '9fb18c55cbb26ea2357fda9bc4808e530d21497e',\n",
       "        'author': {'name': 'Simon Biggs'}}},\n",
       "      {'startingLine': 168,\n",
       "       'endingLine': 171,\n",
       "       'age': 3,\n",
       "       'commit': {'oid': 'be9163ae62bb166d812ffbf3af2a8af3dded30da',\n",
       "        'author': {'name': 'Simon Biggs'}}},\n",
       "      {'startingLine': 172,\n",
       "       'endingLine': 173,\n",
       "       'age': 3,\n",
       "       'commit': {'oid': '8d3a15dcf5963b9ca6f59edbcf7b5e089637cfce',\n",
       "        'author': {'name': 'Simon Biggs'}}},\n",
       "      {'startingLine': 174,\n",
       "       'endingLine': 176,\n",
       "       'age': 3,\n",
       "       'commit': {'oid': 'fdc8f817470bba0560685f8478dbd81967c4290f',\n",
       "        'author': {'name': 'Simon Biggs'}}},\n",
       "      {'startingLine': 177,\n",
       "       'endingLine': 177,\n",
       "       'age': 3,\n",
       "       'commit': {'oid': '9fb18c55cbb26ea2357fda9bc4808e530d21497e',\n",
       "        'author': {'name': 'Simon Biggs'}}},\n",
       "      {'startingLine': 178,\n",
       "       'endingLine': 215,\n",
       "       'age': 3,\n",
       "       'commit': {'oid': '3b3592ef5a5d59234e557075707fb036b59a993c',\n",
       "        'author': {'name': 'Simon Biggs'}}},\n",
       "      {'startingLine': 216,\n",
       "       'endingLine': 216,\n",
       "       'age': 3,\n",
       "       'commit': {'oid': '9fb18c55cbb26ea2357fda9bc4808e530d21497e',\n",
       "        'author': {'name': 'Simon Biggs'}}},\n",
       "      {'startingLine': 217,\n",
       "       'endingLine': 217,\n",
       "       'age': 3,\n",
       "       'commit': {'oid': 'be9163ae62bb166d812ffbf3af2a8af3dded30da',\n",
       "        'author': {'name': 'Simon Biggs'}}},\n",
       "      {'startingLine': 218,\n",
       "       'endingLine': 220,\n",
       "       'age': 3,\n",
       "       'commit': {'oid': '9fb18c55cbb26ea2357fda9bc4808e530d21497e',\n",
       "        'author': {'name': 'Simon Biggs'}}},\n",
       "      {'startingLine': 221,\n",
       "       'endingLine': 221,\n",
       "       'age': 3,\n",
       "       'commit': {'oid': 'be9163ae62bb166d812ffbf3af2a8af3dded30da',\n",
       "        'author': {'name': 'Simon Biggs'}}},\n",
       "      {'startingLine': 222,\n",
       "       'endingLine': 225,\n",
       "       'age': 3,\n",
       "       'commit': {'oid': '9fb18c55cbb26ea2357fda9bc4808e530d21497e',\n",
       "        'author': {'name': 'Simon Biggs'}}},\n",
       "      {'startingLine': 226,\n",
       "       'endingLine': 226,\n",
       "       'age': 3,\n",
       "       'commit': {'oid': 'd13989a75082db70c8142b25f44627d0268e19a5',\n",
       "        'author': {'name': 'Simon Biggs'}}},\n",
       "      {'startingLine': 227,\n",
       "       'endingLine': 230,\n",
       "       'age': 3,\n",
       "       'commit': {'oid': 'be9163ae62bb166d812ffbf3af2a8af3dded30da',\n",
       "        'author': {'name': 'Simon Biggs'}}},\n",
       "      {'startingLine': 231,\n",
       "       'endingLine': 231,\n",
       "       'age': 3,\n",
       "       'commit': {'oid': '18ee0f83a3c944f7b113e9c30f37cf50717ca730',\n",
       "        'author': {'name': 'Simon Biggs'}}},\n",
       "      {'startingLine': 232,\n",
       "       'endingLine': 237,\n",
       "       'age': 3,\n",
       "       'commit': {'oid': 'be9163ae62bb166d812ffbf3af2a8af3dded30da',\n",
       "        'author': {'name': 'Simon Biggs'}}},\n",
       "      {'startingLine': 238,\n",
       "       'endingLine': 238,\n",
       "       'age': 3,\n",
       "       'commit': {'oid': '18ee0f83a3c944f7b113e9c30f37cf50717ca730',\n",
       "        'author': {'name': 'Simon Biggs'}}},\n",
       "      {'startingLine': 239,\n",
       "       'endingLine': 240,\n",
       "       'age': 3,\n",
       "       'commit': {'oid': 'be9163ae62bb166d812ffbf3af2a8af3dded30da',\n",
       "        'author': {'name': 'Simon Biggs'}}},\n",
       "      {'startingLine': 241,\n",
       "       'endingLine': 241,\n",
       "       'age': 3,\n",
       "       'commit': {'oid': '9fb18c55cbb26ea2357fda9bc4808e530d21497e',\n",
       "        'author': {'name': 'Simon Biggs'}}},\n",
       "      {'startingLine': 242,\n",
       "       'endingLine': 244,\n",
       "       'age': 3,\n",
       "       'commit': {'oid': 'be9163ae62bb166d812ffbf3af2a8af3dded30da',\n",
       "        'author': {'name': 'Simon Biggs'}}},\n",
       "      {'startingLine': 245,\n",
       "       'endingLine': 245,\n",
       "       'age': 3,\n",
       "       'commit': {'oid': '9fb18c55cbb26ea2357fda9bc4808e530d21497e',\n",
       "        'author': {'name': 'Simon Biggs'}}},\n",
       "      {'startingLine': 246,\n",
       "       'endingLine': 246,\n",
       "       'age': 3,\n",
       "       'commit': {'oid': 'be9163ae62bb166d812ffbf3af2a8af3dded30da',\n",
       "        'author': {'name': 'Simon Biggs'}}},\n",
       "      {'startingLine': 247,\n",
       "       'endingLine': 247,\n",
       "       'age': 3,\n",
       "       'commit': {'oid': '9fb18c55cbb26ea2357fda9bc4808e530d21497e',\n",
       "        'author': {'name': 'Simon Biggs'}}},\n",
       "      {'startingLine': 248,\n",
       "       'endingLine': 249,\n",
       "       'age': 3,\n",
       "       'commit': {'oid': 'e58b33f9cda722dea78243cd73293c66d01bfcca',\n",
       "        'author': {'name': 'Simon Biggs'}}},\n",
       "      {'startingLine': 250,\n",
       "       'endingLine': 252,\n",
       "       'age': 3,\n",
       "       'commit': {'oid': '5b7b941fdb4483b10875a86f3d07886686ff3fa2',\n",
       "        'author': {'name': 'Simon Biggs'}}},\n",
       "      {'startingLine': 253,\n",
       "       'endingLine': 254,\n",
       "       'age': 3,\n",
       "       'commit': {'oid': 'e58b33f9cda722dea78243cd73293c66d01bfcca',\n",
       "        'author': {'name': 'Simon Biggs'}}},\n",
       "      {'startingLine': 255,\n",
       "       'endingLine': 258,\n",
       "       'age': 3,\n",
       "       'commit': {'oid': 'be9163ae62bb166d812ffbf3af2a8af3dded30da',\n",
       "        'author': {'name': 'Simon Biggs'}}},\n",
       "      {'startingLine': 259,\n",
       "       'endingLine': 260,\n",
       "       'age': 3,\n",
       "       'commit': {'oid': '9fb18c55cbb26ea2357fda9bc4808e530d21497e',\n",
       "        'author': {'name': 'Simon Biggs'}}},\n",
       "      {'startingLine': 261,\n",
       "       'endingLine': 261,\n",
       "       'age': 3,\n",
       "       'commit': {'oid': 'be9163ae62bb166d812ffbf3af2a8af3dded30da',\n",
       "        'author': {'name': 'Simon Biggs'}}},\n",
       "      {'startingLine': 262,\n",
       "       'endingLine': 265,\n",
       "       'age': 3,\n",
       "       'commit': {'oid': '9fb18c55cbb26ea2357fda9bc4808e530d21497e',\n",
       "        'author': {'name': 'Simon Biggs'}}},\n",
       "      {'startingLine': 266,\n",
       "       'endingLine': 271,\n",
       "       'age': 3,\n",
       "       'commit': {'oid': '33ec2114f025576ce00cbbc5ad3b3ac544d31d03',\n",
       "        'author': {'name': 'Simon Biggs'}}},\n",
       "      {'startingLine': 272,\n",
       "       'endingLine': 272,\n",
       "       'age': 3,\n",
       "       'commit': {'oid': 'cac08e953bcb92ae89d4a96e449e3d011ad73a10',\n",
       "        'author': {'name': 'Simon Biggs'}}},\n",
       "      {'startingLine': 273,\n",
       "       'endingLine': 274,\n",
       "       'age': 3,\n",
       "       'commit': {'oid': '42794c3551203a45f0432b4a45de2df614f353d4',\n",
       "        'author': {'name': 'Simon Biggs'}}},\n",
       "      {'startingLine': 275,\n",
       "       'endingLine': 276,\n",
       "       'age': 3,\n",
       "       'commit': {'oid': 'cac08e953bcb92ae89d4a96e449e3d011ad73a10',\n",
       "        'author': {'name': 'Simon Biggs'}}},\n",
       "      {'startingLine': 277,\n",
       "       'endingLine': 277,\n",
       "       'age': 3,\n",
       "       'commit': {'oid': '9fb18c55cbb26ea2357fda9bc4808e530d21497e',\n",
       "        'author': {'name': 'Simon Biggs'}}},\n",
       "      {'startingLine': 278,\n",
       "       'endingLine': 281,\n",
       "       'age': 3,\n",
       "       'commit': {'oid': 'be9163ae62bb166d812ffbf3af2a8af3dded30da',\n",
       "        'author': {'name': 'Simon Biggs'}}},\n",
       "      {'startingLine': 282,\n",
       "       'endingLine': 283,\n",
       "       'age': 3,\n",
       "       'commit': {'oid': '9fb18c55cbb26ea2357fda9bc4808e530d21497e',\n",
       "        'author': {'name': 'Simon Biggs'}}},\n",
       "      {'startingLine': 284,\n",
       "       'endingLine': 286,\n",
       "       'age': 3,\n",
       "       'commit': {'oid': 'be9163ae62bb166d812ffbf3af2a8af3dded30da',\n",
       "        'author': {'name': 'Simon Biggs'}}},\n",
       "      {'startingLine': 287,\n",
       "       'endingLine': 287,\n",
       "       'age': 3,\n",
       "       'commit': {'oid': '9fb18c55cbb26ea2357fda9bc4808e530d21497e',\n",
       "        'author': {'name': 'Simon Biggs'}}},\n",
       "      {'startingLine': 288,\n",
       "       'endingLine': 290,\n",
       "       'age': 3,\n",
       "       'commit': {'oid': 'cac08e953bcb92ae89d4a96e449e3d011ad73a10',\n",
       "        'author': {'name': 'Simon Biggs'}}},\n",
       "      {'startingLine': 291,\n",
       "       'endingLine': 293,\n",
       "       'age': 3,\n",
       "       'commit': {'oid': '9fb18c55cbb26ea2357fda9bc4808e530d21497e',\n",
       "        'author': {'name': 'Simon Biggs'}}},\n",
       "      {'startingLine': 294,\n",
       "       'endingLine': 294,\n",
       "       'age': 3,\n",
       "       'commit': {'oid': 'be9163ae62bb166d812ffbf3af2a8af3dded30da',\n",
       "        'author': {'name': 'Simon Biggs'}}},\n",
       "      {'startingLine': 295,\n",
       "       'endingLine': 295,\n",
       "       'age': 3,\n",
       "       'commit': {'oid': '18ee0f83a3c944f7b113e9c30f37cf50717ca730',\n",
       "        'author': {'name': 'Simon Biggs'}}},\n",
       "      {'startingLine': 296,\n",
       "       'endingLine': 298,\n",
       "       'age': 3,\n",
       "       'commit': {'oid': 'be9163ae62bb166d812ffbf3af2a8af3dded30da',\n",
       "        'author': {'name': 'Simon Biggs'}}},\n",
       "      {'startingLine': 299,\n",
       "       'endingLine': 299,\n",
       "       'age': 3,\n",
       "       'commit': {'oid': '9fb18c55cbb26ea2357fda9bc4808e530d21497e',\n",
       "        'author': {'name': 'Simon Biggs'}}},\n",
       "      {'startingLine': 300,\n",
       "       'endingLine': 302,\n",
       "       'age': 3,\n",
       "       'commit': {'oid': 'be9163ae62bb166d812ffbf3af2a8af3dded30da',\n",
       "        'author': {'name': 'Simon Biggs'}}},\n",
       "      {'startingLine': 303,\n",
       "       'endingLine': 304,\n",
       "       'age': 3,\n",
       "       'commit': {'oid': '9fb18c55cbb26ea2357fda9bc4808e530d21497e',\n",
       "        'author': {'name': 'Simon Biggs'}}},\n",
       "      {'startingLine': 305,\n",
       "       'endingLine': 305,\n",
       "       'age': 3,\n",
       "       'commit': {'oid': 'be9163ae62bb166d812ffbf3af2a8af3dded30da',\n",
       "        'author': {'name': 'Simon Biggs'}}},\n",
       "      {'startingLine': 306,\n",
       "       'endingLine': 311,\n",
       "       'age': 3,\n",
       "       'commit': {'oid': '9fb18c55cbb26ea2357fda9bc4808e530d21497e',\n",
       "        'author': {'name': 'Simon Biggs'}}},\n",
       "      {'startingLine': 312,\n",
       "       'endingLine': 315,\n",
       "       'age': 3,\n",
       "       'commit': {'oid': 'be9163ae62bb166d812ffbf3af2a8af3dded30da',\n",
       "        'author': {'name': 'Simon Biggs'}}},\n",
       "      {'startingLine': 316,\n",
       "       'endingLine': 316,\n",
       "       'age': 3,\n",
       "       'commit': {'oid': '9fb18c55cbb26ea2357fda9bc4808e530d21497e',\n",
       "        'author': {'name': 'Simon Biggs'}}},\n",
       "      {'startingLine': 317,\n",
       "       'endingLine': 319,\n",
       "       'age': 3,\n",
       "       'commit': {'oid': 'be9163ae62bb166d812ffbf3af2a8af3dded30da',\n",
       "        'author': {'name': 'Simon Biggs'}}},\n",
       "      {'startingLine': 320,\n",
       "       'endingLine': 321,\n",
       "       'age': 3,\n",
       "       'commit': {'oid': '9fb18c55cbb26ea2357fda9bc4808e530d21497e',\n",
       "        'author': {'name': 'Simon Biggs'}}},\n",
       "      {'startingLine': 322,\n",
       "       'endingLine': 322,\n",
       "       'age': 3,\n",
       "       'commit': {'oid': 'be9163ae62bb166d812ffbf3af2a8af3dded30da',\n",
       "        'author': {'name': 'Simon Biggs'}}},\n",
       "      {'startingLine': 323,\n",
       "       'endingLine': 326,\n",
       "       'age': 3,\n",
       "       'commit': {'oid': '9fb18c55cbb26ea2357fda9bc4808e530d21497e',\n",
       "        'author': {'name': 'Simon Biggs'}}},\n",
       "      {'startingLine': 327,\n",
       "       'endingLine': 328,\n",
       "       'age': 3,\n",
       "       'commit': {'oid': 'be9163ae62bb166d812ffbf3af2a8af3dded30da',\n",
       "        'author': {'name': 'Simon Biggs'}}},\n",
       "      {'startingLine': 329,\n",
       "       'endingLine': 330,\n",
       "       'age': 3,\n",
       "       'commit': {'oid': '9fb18c55cbb26ea2357fda9bc4808e530d21497e',\n",
       "        'author': {'name': 'Simon Biggs'}}},\n",
       "      {'startingLine': 331,\n",
       "       'endingLine': 331,\n",
       "       'age': 3,\n",
       "       'commit': {'oid': 'be9163ae62bb166d812ffbf3af2a8af3dded30da',\n",
       "        'author': {'name': 'Simon Biggs'}}},\n",
       "      {'startingLine': 332,\n",
       "       'endingLine': 334,\n",
       "       'age': 3,\n",
       "       'commit': {'oid': '9fb18c55cbb26ea2357fda9bc4808e530d21497e',\n",
       "        'author': {'name': 'Simon Biggs'}}},\n",
       "      {'startingLine': 335,\n",
       "       'endingLine': 335,\n",
       "       'age': 3,\n",
       "       'commit': {'oid': 'be9163ae62bb166d812ffbf3af2a8af3dded30da',\n",
       "        'author': {'name': 'Simon Biggs'}}},\n",
       "      {'startingLine': 336,\n",
       "       'endingLine': 339,\n",
       "       'age': 3,\n",
       "       'commit': {'oid': '9fb18c55cbb26ea2357fda9bc4808e530d21497e',\n",
       "        'author': {'name': 'Simon Biggs'}}},\n",
       "      {'startingLine': 340,\n",
       "       'endingLine': 342,\n",
       "       'age': 3,\n",
       "       'commit': {'oid': 'be9163ae62bb166d812ffbf3af2a8af3dded30da',\n",
       "        'author': {'name': 'Simon Biggs'}}},\n",
       "      {'startingLine': 343,\n",
       "       'endingLine': 343,\n",
       "       'age': 3,\n",
       "       'commit': {'oid': '9fb18c55cbb26ea2357fda9bc4808e530d21497e',\n",
       "        'author': {'name': 'Simon Biggs'}}},\n",
       "      {'startingLine': 344,\n",
       "       'endingLine': 344,\n",
       "       'age': 3,\n",
       "       'commit': {'oid': 'be9163ae62bb166d812ffbf3af2a8af3dded30da',\n",
       "        'author': {'name': 'Simon Biggs'}}},\n",
       "      {'startingLine': 345,\n",
       "       'endingLine': 347,\n",
       "       'age': 3,\n",
       "       'commit': {'oid': '9fb18c55cbb26ea2357fda9bc4808e530d21497e',\n",
       "        'author': {'name': 'Simon Biggs'}}},\n",
       "      {'startingLine': 348,\n",
       "       'endingLine': 351,\n",
       "       'age': 3,\n",
       "       'commit': {'oid': 'be9163ae62bb166d812ffbf3af2a8af3dded30da',\n",
       "        'author': {'name': 'Simon Biggs'}}},\n",
       "      {'startingLine': 352,\n",
       "       'endingLine': 352,\n",
       "       'age': 3,\n",
       "       'commit': {'oid': '9fb18c55cbb26ea2357fda9bc4808e530d21497e',\n",
       "        'author': {'name': 'Simon Biggs'}}},\n",
       "      {'startingLine': 353,\n",
       "       'endingLine': 355,\n",
       "       'age': 3,\n",
       "       'commit': {'oid': 'be9163ae62bb166d812ffbf3af2a8af3dded30da',\n",
       "        'author': {'name': 'Simon Biggs'}}},\n",
       "      {'startingLine': 356,\n",
       "       'endingLine': 357,\n",
       "       'age': 3,\n",
       "       'commit': {'oid': '9fb18c55cbb26ea2357fda9bc4808e530d21497e',\n",
       "        'author': {'name': 'Simon Biggs'}}},\n",
       "      {'startingLine': 358,\n",
       "       'endingLine': 358,\n",
       "       'age': 3,\n",
       "       'commit': {'oid': 'be9163ae62bb166d812ffbf3af2a8af3dded30da',\n",
       "        'author': {'name': 'Simon Biggs'}}},\n",
       "      {'startingLine': 359,\n",
       "       'endingLine': 362,\n",
       "       'age': 3,\n",
       "       'commit': {'oid': '9fb18c55cbb26ea2357fda9bc4808e530d21497e',\n",
       "        'author': {'name': 'Simon Biggs'}}},\n",
       "      {'startingLine': 363,\n",
       "       'endingLine': 367,\n",
       "       'age': 3,\n",
       "       'commit': {'oid': 'be9163ae62bb166d812ffbf3af2a8af3dded30da',\n",
       "        'author': {'name': 'Simon Biggs'}}},\n",
       "      {'startingLine': 368,\n",
       "       'endingLine': 368,\n",
       "       'age': 3,\n",
       "       'commit': {'oid': '9fb18c55cbb26ea2357fda9bc4808e530d21497e',\n",
       "        'author': {'name': 'Simon Biggs'}}},\n",
       "      {'startingLine': 369,\n",
       "       'endingLine': 371,\n",
       "       'age': 3,\n",
       "       'commit': {'oid': 'be9163ae62bb166d812ffbf3af2a8af3dded30da',\n",
       "        'author': {'name': 'Simon Biggs'}}},\n",
       "      {'startingLine': 372,\n",
       "       'endingLine': 373,\n",
       "       'age': 3,\n",
       "       'commit': {'oid': '9fb18c55cbb26ea2357fda9bc4808e530d21497e',\n",
       "        'author': {'name': 'Simon Biggs'}}},\n",
       "      {'startingLine': 374,\n",
       "       'endingLine': 374,\n",
       "       'age': 3,\n",
       "       'commit': {'oid': 'be9163ae62bb166d812ffbf3af2a8af3dded30da',\n",
       "        'author': {'name': 'Simon Biggs'}}},\n",
       "      {'startingLine': 375,\n",
       "       'endingLine': 376,\n",
       "       'age': 3,\n",
       "       'commit': {'oid': '9fb18c55cbb26ea2357fda9bc4808e530d21497e',\n",
       "        'author': {'name': 'Simon Biggs'}}},\n",
       "      {'startingLine': 377,\n",
       "       'endingLine': 377,\n",
       "       'age': 3,\n",
       "       'commit': {'oid': 'be9163ae62bb166d812ffbf3af2a8af3dded30da',\n",
       "        'author': {'name': 'Simon Biggs'}}},\n",
       "      {'startingLine': 378,\n",
       "       'endingLine': 378,\n",
       "       'age': 3,\n",
       "       'commit': {'oid': '9fb18c55cbb26ea2357fda9bc4808e530d21497e',\n",
       "        'author': {'name': 'Simon Biggs'}}},\n",
       "      {'startingLine': 379,\n",
       "       'endingLine': 380,\n",
       "       'age': 3,\n",
       "       'commit': {'oid': 'e58b33f9cda722dea78243cd73293c66d01bfcca',\n",
       "        'author': {'name': 'Simon Biggs'}}},\n",
       "      {'startingLine': 381,\n",
       "       'endingLine': 384,\n",
       "       'age': 3,\n",
       "       'commit': {'oid': '5b7b941fdb4483b10875a86f3d07886686ff3fa2',\n",
       "        'author': {'name': 'Simon Biggs'}}},\n",
       "      {'startingLine': 385,\n",
       "       'endingLine': 385,\n",
       "       'age': 2,\n",
       "       'commit': {'oid': '59949b3d91b57d3fb72ce8560e3df573d6612d80',\n",
       "        'author': {'name': 'Simon Biggs'}}},\n",
       "      {'startingLine': 386,\n",
       "       'endingLine': 386,\n",
       "       'age': 3,\n",
       "       'commit': {'oid': '5b7b941fdb4483b10875a86f3d07886686ff3fa2',\n",
       "        'author': {'name': 'Simon Biggs'}}}]}}},\n",
       "  'viewer': {'login': 'radiotherapyai-bot'},\n",
       "  'rateLimit': {'limit': 5000,\n",
       "   'cost': 1,\n",
       "   'remaining': 4995,\n",
       "   'resetAt': '2022-03-24T01:55:30Z'}}}"
      ]
     },
     "execution_count": 43,
     "metadata": {},
     "output_type": "execute_result"
    }
   ],
   "source": [
    "request.json()"
   ]
  },
  {
   "cell_type": "code",
   "execution_count": null,
   "id": "ebeaa032-fbe1-49e6-9a3a-fbbb761dfe09",
   "metadata": {},
   "outputs": [],
   "source": []
  },
  {
   "cell_type": "code",
   "execution_count": null,
   "id": "e0e737b3-437c-44d1-993f-fcd40dec9a3f",
   "metadata": {},
   "outputs": [],
   "source": []
  },
  {
   "cell_type": "code",
   "execution_count": null,
   "id": "c9d858f6-0088-4880-8f75-768d97418fe1",
   "metadata": {},
   "outputs": [],
   "source": []
  },
  {
   "cell_type": "code",
   "execution_count": null,
   "id": "ea874fb8-17a5-44fe-86ad-2a1cff0cca7f",
   "metadata": {},
   "outputs": [],
   "source": []
  },
  {
   "cell_type": "code",
   "execution_count": null,
   "id": "5a51bbd5-b46f-498c-838a-dfc945fe2ca8",
   "metadata": {},
   "outputs": [],
   "source": []
  },
  {
   "cell_type": "code",
   "execution_count": null,
   "id": "8853e170-96f8-4ecd-b6f5-f915f9acf4a9",
   "metadata": {},
   "outputs": [],
   "source": []
  },
  {
   "cell_type": "code",
   "execution_count": null,
   "id": "29b59a67-146f-4bd7-be20-a688ec829e47",
   "metadata": {},
   "outputs": [],
   "source": []
  },
  {
   "cell_type": "code",
   "execution_count": null,
   "id": "57502da3-3c0f-4b98-b56e-3e1d9968241d",
   "metadata": {},
   "outputs": [],
   "source": []
  },
  {
   "cell_type": "code",
   "execution_count": null,
   "id": "008c3459-cbe5-496e-849c-b5c18bb13489",
   "metadata": {},
   "outputs": [],
   "source": []
  },
  {
   "cell_type": "code",
   "execution_count": null,
   "id": "be1d9229-70b8-4aa7-ac14-6c667fb430de",
   "metadata": {},
   "outputs": [],
   "source": []
  },
  {
   "cell_type": "code",
   "execution_count": 5,
   "id": "1bb5e801-5de2-4812-9a2f-0cb6183d3a77",
   "metadata": {},
   "outputs": [
    {
     "data": {
      "text/plain": [
       "<github.MainClass.Github at 0x7fdd1f250eb0>"
      ]
     },
     "execution_count": 5,
     "metadata": {},
     "output_type": "execute_result"
    }
   ],
   "source": [
    "github_instance"
   ]
  },
  {
   "cell_type": "code",
   "execution_count": 6,
   "id": "b984ec99-b580-4acd-b198-9c58b51b5c0b",
   "metadata": {},
   "outputs": [
    {
     "name": "stdout",
     "output_type": "stream",
     "text": [
      "regulatory\n"
     ]
    }
   ],
   "source": [
    "for repo in github_instance.get_user().get_repos():\n",
    "    print(repo.name)"
   ]
  },
  {
   "cell_type": "code",
   "execution_count": 7,
   "id": "38615b8b-1106-4dc0-804b-87f3ef626e3e",
   "metadata": {},
   "outputs": [],
   "source": [
    "repo = github_instance.get_repo(\"RadiotherapyAI/regulatory\")"
   ]
  },
  {
   "cell_type": "code",
   "execution_count": 8,
   "id": "4c801ebd-e5bc-4b8d-bbe8-e927fdf51a71",
   "metadata": {},
   "outputs": [
    {
     "data": {
      "text/plain": [
       "'regulatory'"
      ]
     },
     "execution_count": 8,
     "metadata": {},
     "output_type": "execute_result"
    }
   ],
   "source": [
    "repo.name"
   ]
  },
  {
   "cell_type": "code",
   "execution_count": 9,
   "id": "5a63e0b4-f6d7-4e8d-a9f3-b021c1ca6fde",
   "metadata": {},
   "outputs": [],
   "source": [
    "pull_requests = list(repo.get_pulls(direction='asc'))"
   ]
  },
  {
   "cell_type": "code",
   "execution_count": 10,
   "id": "b627469e-1862-4cc9-b8fc-18fd5010cf31",
   "metadata": {},
   "outputs": [],
   "source": [
    "pr_with_an_approval = repo.get_pull(20)"
   ]
  },
  {
   "cell_type": "code",
   "execution_count": 11,
   "id": "0536974e-e2c6-4011-8b39-7ced54bdda36",
   "metadata": {},
   "outputs": [],
   "source": [
    "reviews = list(pr_with_an_approval.get_reviews())"
   ]
  },
  {
   "cell_type": "code",
   "execution_count": 12,
   "id": "ce0d5703-1058-4872-9ab7-c3a1d37c2cc7",
   "metadata": {},
   "outputs": [
    {
     "name": "stdout",
     "output_type": "stream",
     "text": [
      "Oliver Eidel approved ff93226e7b8be303161ce184ef0bbc2ae3bdcbe5 on the 2022-Mar-01\n"
     ]
    }
   ],
   "source": [
    "for review in reviews:\n",
    "    if review.state == \"APPROVED\":\n",
    "        print(f\"{review.user.name} approved {review.commit_id} on the {review.submitted_at.strftime('%Y-%b-%d')}\")"
   ]
  },
  {
   "cell_type": "code",
   "execution_count": 13,
   "id": "60a392ca-362f-41b7-9e60-6c330571938e",
   "metadata": {},
   "outputs": [],
   "source": [
    "review = reviews[0]"
   ]
  },
  {
   "cell_type": "code",
   "execution_count": 14,
   "id": "701ae226-5458-45e0-901e-625e39df7656",
   "metadata": {},
   "outputs": [
    {
     "data": {
      "text/plain": [
       "'ff93226e7b8be303161ce184ef0bbc2ae3bdcbe5'"
      ]
     },
     "execution_count": 14,
     "metadata": {},
     "output_type": "execute_result"
    }
   ],
   "source": [
    "review.commit_id"
   ]
  },
  {
   "cell_type": "code",
   "execution_count": 15,
   "id": "43140d72-ebad-4ed7-bde4-0383ccd478c5",
   "metadata": {},
   "outputs": [
    {
     "data": {
      "text/plain": [
       "NamedUser(login=\"olieidel\")"
      ]
     },
     "execution_count": 15,
     "metadata": {},
     "output_type": "execute_result"
    }
   ],
   "source": [
    "review.user"
   ]
  },
  {
   "cell_type": "code",
   "execution_count": 16,
   "id": "c111912d-4b88-4cf6-b50d-d3fee3c058ae",
   "metadata": {},
   "outputs": [
    {
     "data": {
      "text/plain": [
       "'2022-Mar-01'"
      ]
     },
     "execution_count": 16,
     "metadata": {},
     "output_type": "execute_result"
    }
   ],
   "source": [
    "review.submitted_at.strftime('%Y-%b-%d')"
   ]
  },
  {
   "cell_type": "code",
   "execution_count": 17,
   "id": "4c549fbd-1312-40f6-9806-f1757d923f7c",
   "metadata": {},
   "outputs": [
    {
     "data": {
      "text/plain": [
       "[]"
      ]
     },
     "execution_count": 17,
     "metadata": {},
     "output_type": "execute_result"
    }
   ],
   "source": [
    "list()"
   ]
  },
  {
   "cell_type": "code",
   "execution_count": 18,
   "id": "d9230315-adf9-43e4-912d-871a29b0b9f8",
   "metadata": {},
   "outputs": [
    {
     "name": "stdout",
     "output_type": "stream",
     "text": [
      "https://github.com/RadiotherapyAI/regulatory/blob/ff93226e7b8be303161ce184ef0bbc2ae3bdcbe5/src/documents/drafts/62304-mapping.md\n",
      "https://github.com/RadiotherapyAI/regulatory/blob/ff93226e7b8be303161ce184ef0bbc2ae3bdcbe5/src/documents/drafts/quality-manual-policy-objectives.md\n",
      "https://github.com/RadiotherapyAI/regulatory/blob/ff93226e7b8be303161ce184ef0bbc2ae3bdcbe5/src/documents/drafts/sop-integrated-software-development.md\n"
     ]
    }
   ],
   "source": [
    "for a_file in pr_with_an_approval.get_files():    \n",
    "    print(f\"https://github.com/RadiotherapyAI/regulatory/blob/{review.commit_id}/{a_file.filename}\")"
   ]
  },
  {
   "cell_type": "code",
   "execution_count": 21,
   "id": "5a2d9ac2-ab41-42c3-8a4e-d90c7c3e3bd8",
   "metadata": {},
   "outputs": [
    {
     "data": {
      "text/plain": [
       "'Simon Biggs'"
      ]
     },
     "execution_count": 21,
     "metadata": {},
     "output_type": "execute_result"
    }
   ],
   "source": [
    "pr_with_an_approval.merged_by.name"
   ]
  },
  {
   "cell_type": "code",
   "execution_count": 20,
   "id": "ed06afd2-aac0-4f38-b9b0-161e0ceac584",
   "metadata": {},
   "outputs": [
    {
     "data": {
      "text/plain": [
       "datetime.datetime(2022, 3, 23, 5, 57, 58)"
      ]
     },
     "execution_count": 20,
     "metadata": {},
     "output_type": "execute_result"
    }
   ],
   "source": [
    "pr_with_an_approval.merged_at"
   ]
  },
  {
   "cell_type": "code",
   "execution_count": 57,
   "id": "f9d52df2-144d-41db-a42c-b78d60e4fb36",
   "metadata": {},
   "outputs": [],
   "source": [
    "commits = list(repo.get_commits(path='src/documents/released/sop-document-record-control/index.md'))"
   ]
  },
  {
   "cell_type": "code",
   "execution_count": 58,
   "id": "a7dce7b4-ef75-4697-961d-8b2e0aee6522",
   "metadata": {},
   "outputs": [],
   "source": [
    "commit = commits[0]"
   ]
  },
  {
   "cell_type": "code",
   "execution_count": 59,
   "id": "0c628ae1-b9ab-4004-b4ec-4f820562f269",
   "metadata": {},
   "outputs": [
    {
     "data": {
      "text/plain": [
       "'GitHub Web Flow'"
      ]
     },
     "execution_count": 59,
     "metadata": {},
     "output_type": "execute_result"
    }
   ],
   "source": [
    "commit.committer.name"
   ]
  },
  {
   "cell_type": "code",
   "execution_count": 60,
   "id": "0e4ed6a8-ba7f-4cfd-9b03-55ffb7d0f43b",
   "metadata": {},
   "outputs": [
    {
     "data": {
      "text/plain": [
       "[]"
      ]
     },
     "execution_count": 60,
     "metadata": {},
     "output_type": "execute_result"
    }
   ],
   "source": [
    "list(commit.get_statuses())"
   ]
  },
  {
   "cell_type": "code",
   "execution_count": 61,
   "id": "77dd8bb8-7ac7-4fdb-85c2-2928c7dde817",
   "metadata": {},
   "outputs": [
    {
     "data": {
      "text/plain": [
       "'Fri, 04 Mar 2022 23:39:36 GMT'"
      ]
     },
     "execution_count": 61,
     "metadata": {},
     "output_type": "execute_result"
    }
   ],
   "source": [
    "commit.last_modified"
   ]
  },
  {
   "cell_type": "code",
   "execution_count": 62,
   "id": "f90609b9-40ae-4fcb-8468-94c53c4418d5",
   "metadata": {},
   "outputs": [],
   "source": [
    "def commit_date(commit):\n",
    "    return datetime.datetime.strptime(commit.last_modified, \"%a, %d %b %Y %H:%M:%S %Z\")\n",
    "    "
   ]
  },
  {
   "cell_type": "code",
   "execution_count": 63,
   "id": "6f2747f9-768e-48b4-ba81-e0e09ed59d5d",
   "metadata": {},
   "outputs": [
    {
     "data": {
      "text/plain": [
       "'2022-Mar-04'"
      ]
     },
     "execution_count": 63,
     "metadata": {},
     "output_type": "execute_result"
    }
   ],
   "source": [
    "commit_date(commit).strftime('%Y-%b-%d')"
   ]
  },
  {
   "cell_type": "code",
   "execution_count": 64,
   "id": "6c4afd3f-457a-4929-a278-84cf9edc6e4c",
   "metadata": {},
   "outputs": [
    {
     "data": {
      "text/plain": [
       "{PullRequest(title=\"Allow for PR only edits\", number=18),\n",
       " PullRequest(title=\"Release sop drc, remove rdm templates for now\", number=14)}"
      ]
     },
     "execution_count": 64,
     "metadata": {},
     "output_type": "execute_result"
    }
   ],
   "source": [
    "author_and_timestamp = []\n",
    "prs_for_this_file = set()\n",
    "\n",
    "for commit in commits:\n",
    "    author_and_timestamp.append((commit.committer.name, commit_date(commit)))\n",
    "    prs_for_this_file.update(commit.get_pulls())\n",
    "    \n",
    "prs_for_this_file"
   ]
  },
  {
   "cell_type": "code",
   "execution_count": null,
   "id": "23108634-ac67-4620-9f7a-23857e0f54a4",
   "metadata": {},
   "outputs": [],
   "source": [
    "# Doesn't have the full history of the file.\n",
    "# Potentially need to use the GraphQL API?"
   ]
  },
  {
   "cell_type": "code",
   "execution_count": 65,
   "id": "2379e8f7-515a-48ff-ab20-ca481aac4cee",
   "metadata": {},
   "outputs": [
    {
     "data": {
      "text/plain": [
       "[('GitHub Web Flow', datetime.datetime(2022, 3, 4, 23, 39, 36)),\n",
       " ('GitHub Web Flow', datetime.datetime(2022, 3, 4, 23, 39, 36)),\n",
       " ('GitHub Web Flow', datetime.datetime(2022, 3, 4, 23, 39, 36)),\n",
       " ('Simon Biggs', datetime.datetime(2022, 3, 4, 23, 39, 36)),\n",
       " ('Simon Biggs', datetime.datetime(2022, 3, 4, 23, 39, 36)),\n",
       " ('Simon Biggs', datetime.datetime(2022, 3, 4, 23, 39, 36)),\n",
       " ('Simon Biggs', datetime.datetime(2022, 3, 4, 23, 39, 36)),\n",
       " ('Simon Biggs', datetime.datetime(2022, 3, 4, 23, 39, 36)),\n",
       " ('Simon Biggs', datetime.datetime(2022, 3, 4, 23, 39, 36)),\n",
       " ('Simon Biggs', datetime.datetime(2022, 3, 4, 23, 39, 36)),\n",
       " ('Simon Biggs', datetime.datetime(2022, 3, 4, 23, 39, 36)),\n",
       " ('Simon Biggs', datetime.datetime(2022, 3, 4, 23, 39, 36)),\n",
       " ('Simon Biggs', datetime.datetime(2022, 3, 4, 23, 39, 36)),\n",
       " ('Simon Biggs', datetime.datetime(2022, 3, 4, 23, 39, 36))]"
      ]
     },
     "execution_count": 65,
     "metadata": {},
     "output_type": "execute_result"
    }
   ],
   "source": [
    "author_and_timestamp = sorted(author_and_timestamp, key=lambda x: x[1])\n",
    "author_and_timestamp"
   ]
  },
  {
   "cell_type": "code",
   "execution_count": 66,
   "id": "e3ce435d-7a4f-49a0-bca9-5a50656a3979",
   "metadata": {},
   "outputs": [
    {
     "data": {
      "text/plain": [
       "'GitHub Web Flow'"
      ]
     },
     "execution_count": 66,
     "metadata": {},
     "output_type": "execute_result"
    }
   ],
   "source": [
    "file_creator = author_and_timestamp[0][0]\n",
    "file_creator"
   ]
  },
  {
   "cell_type": "code",
   "execution_count": null,
   "id": "e836ebb9-e7f0-4c9e-9c8d-7b13b359ea20",
   "metadata": {},
   "outputs": [],
   "source": []
  },
  {
   "cell_type": "code",
   "execution_count": 67,
   "id": "4aa3e076-cfd6-4c72-84e5-e1483c1a3ebf",
   "metadata": {},
   "outputs": [
    {
     "data": {
      "text/plain": [
       "[PullRequest(title=\"Release sop drc, remove rdm templates for now\", number=14)]"
      ]
     },
     "execution_count": 67,
     "metadata": {},
     "output_type": "execute_result"
    }
   ],
   "source": [
    "prs_for_this_file = list(commit.get_pulls())\n",
    "prs_for_this_file"
   ]
  },
  {
   "cell_type": "code",
   "execution_count": null,
   "id": "15ab20ac-8008-406b-be7b-d754d00a1c45",
   "metadata": {},
   "outputs": [],
   "source": []
  }
 ],
 "metadata": {
  "kernelspec": {
   "display_name": "rtairegulatory",
   "language": "python",
   "name": "rtairegulatory"
  },
  "language_info": {
   "codemirror_mode": {
    "name": "ipython",
    "version": 3
   },
   "file_extension": ".py",
   "mimetype": "text/x-python",
   "name": "python",
   "nbconvert_exporter": "python",
   "pygments_lexer": "ipython3",
   "version": "3.9.7"
  }
 },
 "nbformat": 4,
 "nbformat_minor": 5
}
