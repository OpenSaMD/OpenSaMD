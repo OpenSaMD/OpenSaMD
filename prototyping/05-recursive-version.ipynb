{
 "cells": [
  {
   "cell_type": "code",
   "execution_count": null,
   "id": "55ca49a3-b26d-40d2-93be-3ec528820ad4",
   "metadata": {},
   "outputs": [],
   "source": [
    "import sys\n",
    "sys.version"
   ]
  },
  {
   "cell_type": "code",
   "execution_count": null,
   "id": "2a428ad8-abd1-485b-85bf-54cd2296ec01",
   "metadata": {},
   "outputs": [],
   "source": [
    "import numpy as np\n",
    "import skimage.measure"
   ]
  },
  {
   "cell_type": "code",
   "execution_count": null,
   "id": "c3814c86-8748-471b-bb41-3a31bbd9b869",
   "metadata": {},
   "outputs": [],
   "source": [
    "import pydicom\n",
    "pydicom.__version__"
   ]
  },
  {
   "cell_type": "code",
   "execution_count": null,
   "id": "c0096609-2749-463f-bfe6-ccaf5cec01e4",
   "metadata": {},
   "outputs": [],
   "source": [
    "%load_ext autoreload\n",
    "%autoreload 2"
   ]
  },
  {
   "cell_type": "code",
   "execution_count": null,
   "id": "7a9dd35b-cd6e-4fed-b8ed-e9adf3667013",
   "metadata": {},
   "outputs": [],
   "source": [
    "import rai\n",
    "rai.__version__"
   ]
  },
  {
   "cell_type": "code",
   "execution_count": null,
   "id": "58e3bd81-508b-4273-ad19-9cb1cd3905a3",
   "metadata": {},
   "outputs": [],
   "source": [
    "import raicontours\n",
    "\n",
    "from raicontours import TG263\n",
    "\n",
    "raicontours.__version__"
   ]
  },
  {
   "cell_type": "code",
   "execution_count": null,
   "id": "5fb0dae0-9622-4a3d-b004-a437219966a6",
   "metadata": {},
   "outputs": [],
   "source": []
  },
  {
   "cell_type": "code",
   "execution_count": null,
   "id": "4f6aa26e-e721-416d-96b6-27744c9cc981",
   "metadata": {},
   "outputs": [],
   "source": [
    "cfg = raicontours.get_config()"
   ]
  },
  {
   "cell_type": "code",
   "execution_count": null,
   "id": "841eee57-9e8e-4fcb-bdcd-d95bef5fa1d2",
   "metadata": {},
   "outputs": [],
   "source": [
    "rai_starting_model, rai_dependent_model = rai.load_model(cfg=cfg)"
   ]
  },
  {
   "cell_type": "code",
   "execution_count": null,
   "id": "49d2ebb7-abd3-4b8c-b535-210310f98bd9",
   "metadata": {},
   "outputs": [],
   "source": []
  },
  {
   "cell_type": "code",
   "execution_count": null,
   "id": "e53da7c8-a538-4a74-ab2e-861ede4bb1d8",
   "metadata": {},
   "outputs": [],
   "source": [
    "image_paths, structure_path = rai.download_deepmind_example()\n",
    "structure_path"
   ]
  },
  {
   "cell_type": "code",
   "execution_count": null,
   "id": "7ac235ab-cacb-40ea-91b6-ff45353626e1",
   "metadata": {},
   "outputs": [],
   "source": [
    "x_grid, y_grid, image_stack, image_uids = rai.paths_to_image_stack_hfs(\n",
    "    cfg=cfg, paths=image_paths\n",
    ")"
   ]
  },
  {
   "cell_type": "code",
   "execution_count": null,
   "id": "f2e650ce-2ab5-46fd-93f0-403fa8252ccd",
   "metadata": {},
   "outputs": [],
   "source": [
    "image_stack.shape"
   ]
  },
  {
   "cell_type": "code",
   "execution_count": null,
   "id": "eb710540-d375-4490-a2ce-e9b41cbc420a",
   "metadata": {},
   "outputs": [],
   "source": [
    "reduced_image_stack = skimage.measure.block_reduce(image_stack, block_size=cfg[\"reduce_block_sizes\"][0], func=np.mean)\n",
    "reduced_image_stack.shape"
   ]
  },
  {
   "cell_type": "code",
   "execution_count": null,
   "id": "2c699b9d-04a8-417c-b19e-555b82158c2e",
   "metadata": {},
   "outputs": [],
   "source": [
    "310 / 4"
   ]
  },
  {
   "cell_type": "code",
   "execution_count": null,
   "id": "6b18fc55-6207-4951-8927-6c20cc5ea36f",
   "metadata": {},
   "outputs": [],
   "source": [
    "z = [15, 30]\n",
    "y = [35, 60]\n",
    "x = [50, 80]\n",
    "\n",
    "predicted_masks = rai.inference_over_jittered_grid(\n",
    "    cfg=cfg, model=rai_starting_model, grid=(z, y, x), image_stack=reduced_image_stack,\n",
    ")"
   ]
  },
  {
   "cell_type": "code",
   "execution_count": null,
   "id": "e8d8cf9a-8dce-4461-ab7e-d78c3792cafb",
   "metadata": {},
   "outputs": [],
   "source": [
    "# predicted_masks = rai.inference_over_jittered_grid(\n",
    "#     cfg=cfg, model=rai_dependent_model, grid=(z, y, x), image_stack=reduced_image_stack, masks_stack=predicted_masks\n",
    "# )"
   ]
  },
  {
   "cell_type": "code",
   "execution_count": null,
   "id": "6f51bcd4-8f5b-410c-8f7b-8ec94569f531",
   "metadata": {},
   "outputs": [],
   "source": [
    "cfg[\"reduce_block_sizes\"]"
   ]
  },
  {
   "cell_type": "code",
   "execution_count": null,
   "id": "d5012fcb-e18a-4599-9569-0de0ec55c5a8",
   "metadata": {},
   "outputs": [],
   "source": [
    "upscaled = predicted_masks\n",
    "\n",
    "for i in range(3):\n",
    "    upscaled = np.repeat(upscaled, repeats=2, axis=i)\n",
    "\n",
    "if upscaled.shape[0] != image_stack.shape[0]:\n",
    "    upscaled = upscaled.astype(np.float32)\n",
    "    \n",
    "    upscaled = np.mean([upscaled[1:, ...], upscaled[0:-1, ...]], axis=0)\n",
    "    assert upscaled.shape[0] == image_stack.shape[0]\n",
    "    \n",
    "    upscaled = np.round(upscaled).astype(np.uint8)\n",
    "    \n",
    "upscaled.shape"
   ]
  },
  {
   "cell_type": "code",
   "execution_count": null,
   "id": "5372a486-56f7-4f6a-b9f9-f55a6ec6f512",
   "metadata": {},
   "outputs": [],
   "source": [
    "where_mask = np.where(upscaled > 127.5)\n",
    "np.min(where_mask, axis=1)"
   ]
  },
  {
   "cell_type": "code",
   "execution_count": null,
   "id": "198822e0-a509-485c-8795-3a07e604c091",
   "metadata": {},
   "outputs": [],
   "source": [
    "np.max(where_mask, axis=1)"
   ]
  },
  {
   "cell_type": "code",
   "execution_count": null,
   "id": "5a338a26-bf5b-4c50-ae25-a86f85b9edf1",
   "metadata": {},
   "outputs": [],
   "source": [
    "reduced_image_stack = skimage.measure.block_reduce(image_stack, block_size=cfg[\"reduce_block_sizes\"][1], func=np.mean)\n",
    "reduced_image_stack.shape"
   ]
  },
  {
   "cell_type": "code",
   "execution_count": null,
   "id": "669f8f6c-ec7a-4b64-ad87-967df94d8ee6",
   "metadata": {},
   "outputs": [],
   "source": [
    "z = [35, 45, 55]\n",
    "y = [70, 95, 120]\n",
    "x = [100, 130, 160]\n",
    "\n",
    "predicted_masks = rai.inference_over_jittered_grid(\n",
    "    cfg=cfg, model=rai_dependent_model, grid=(z, y, x), image_stack=reduced_image_stack, masks_stack=upscaled\n",
    ")"
   ]
  },
  {
   "cell_type": "code",
   "execution_count": null,
   "id": "8a96db31-fd49-4062-b349-5b538bf26f2b",
   "metadata": {},
   "outputs": [],
   "source": [
    "predicted_masks.shape"
   ]
  },
  {
   "cell_type": "code",
   "execution_count": null,
   "id": "da775954-a252-46a5-acfc-6d79b39d7c3a",
   "metadata": {},
   "outputs": [],
   "source": [
    "np.max(predicted_masks)"
   ]
  },
  {
   "cell_type": "code",
   "execution_count": null,
   "id": "560f6d51-89ef-4cbf-a7cf-4d3f778d30e3",
   "metadata": {},
   "outputs": [],
   "source": [
    "upscaled = predicted_masks\n",
    "\n",
    "for i in range(1,3):\n",
    "    upscaled = np.repeat(upscaled, repeats=2, axis=i)\n",
    "\n",
    "if upscaled.shape[0] != image_stack.shape[0]:\n",
    "    upscaled = upscaled.astype(np.float32)\n",
    "    \n",
    "    upscaled = np.mean([upscaled[1:, ...], upscaled[0:-1, ...]], axis=0)\n",
    "    assert upscaled.shape[0] == image_stack.shape[0]\n",
    "    \n",
    "    upscaled = np.round(upscaled).astype(np.uint8)\n",
    "    \n",
    "upscaled.shape"
   ]
  },
  {
   "cell_type": "code",
   "execution_count": null,
   "id": "73107915-f68c-494e-808b-9a57674ee07a",
   "metadata": {},
   "outputs": [],
   "source": []
  },
  {
   "cell_type": "code",
   "execution_count": null,
   "id": "324e2854-eaee-4904-9bbe-8a2ab4f85510",
   "metadata": {},
   "outputs": [],
   "source": []
  },
  {
   "cell_type": "code",
   "execution_count": null,
   "id": "1621af70-0d0b-481c-b0cc-4d6840903468",
   "metadata": {},
   "outputs": [],
   "source": [
    "predicted_masks = upscaled\n",
    "\n",
    "for i in range(4):\n",
    "    z = [35, 40, 45, 50, 55]\n",
    "    y = [140, 155, 175, 195, 215, 230]\n",
    "    x = [210, 230, 250, 270, 290, 310]\n",
    "\n",
    "    predicted_masks = rai.inference_over_jittered_grid(\n",
    "        cfg=cfg, model=rai_dependent_model, grid=(z, y, x), image_stack=image_stack, masks_stack=predicted_masks\n",
    "    )"
   ]
  },
  {
   "cell_type": "code",
   "execution_count": null,
   "id": "a150c2e9-1a74-42e6-9e1d-d34c0c1432f6",
   "metadata": {},
   "outputs": [],
   "source": [
    "predicted_masks = rai.inference_over_jittered_grid(\n",
    "    cfg=cfg, model=rai_dependent_model, grid=(z, y, x), image_stack=image_stack, masks_stack=predicted_masks\n",
    ")"
   ]
  },
  {
   "cell_type": "code",
   "execution_count": null,
   "id": "5726c47d-78d3-4db1-b388-0ed972552ede",
   "metadata": {},
   "outputs": [],
   "source": [
    "predicted_contours_by_structure = rai.masks_to_contours_by_structure(\n",
    "    cfg=cfg, x_grid=x_grid, y_grid=y_grid, masks=predicted_masks\n",
    ")\n",
    "\n",
    "predicted_contours_by_structure.keys()"
   ]
  },
  {
   "cell_type": "code",
   "execution_count": null,
   "id": "6f1ef46b-9e7e-4128-bddd-8e9ca1d34cec",
   "metadata": {},
   "outputs": [],
   "source": [
    "rai.plot_contours_by_structure(\n",
    "    x_grid, y_grid, image_stack, predicted_contours_by_structure\n",
    ")"
   ]
  },
  {
   "cell_type": "markdown",
   "id": "d1a1e444-81b1-4832-bdcf-3ba7cd1626ce",
   "metadata": {},
   "source": [
    "## Compare to DICOM-RT Structure"
   ]
  },
  {
   "cell_type": "code",
   "execution_count": null,
   "id": "a1213988-d736-4b2b-a7c5-d0056d822234",
   "metadata": {},
   "outputs": [],
   "source": [
    "structure_ds = pydicom.read_file(structure_path)\n",
    "[item.ROIName for item in structure_ds.StructureSetROISequence]"
   ]
  },
  {
   "cell_type": "code",
   "execution_count": null,
   "id": "4b0c7fc0-5e3c-4962-9e5a-30d656661696",
   "metadata": {},
   "outputs": [],
   "source": [
    "align_map = {\n",
    "    \"Orbit-Lt\": [TG263.Eye_L],\n",
    "    \"Orbit-Rt\": [TG263.Eye_R],\n",
    "    \"Lacrimal-Lt\": [TG263.Glnd_Lacrimal_L],\n",
    "    \"Lacrimal-Rt\": [TG263.Glnd_Lacrimal_R],\n",
    "    \"Lens-Lt\": [TG263.Lens_L],\n",
    "    \"Lens-Rt\": [TG263.Lens_R],\n",
    "    \"Optic-Nerve-Lt\": [TG263.OpticNrv_L],\n",
    "    \"Optic-Nerve-Rt\": [TG263.OpticNrv_R],\n",
    "}"
   ]
  },
  {
   "cell_type": "code",
   "execution_count": null,
   "id": "fb528e9a-b338-4e20-a2ba-3ca6095d044e",
   "metadata": {},
   "outputs": [],
   "source": [
    "structure_names = list(align_map.keys())\n",
    "structure_names"
   ]
  },
  {
   "cell_type": "code",
   "execution_count": null,
   "id": "1e85ac24-f3f6-4b60-86ed-c5321f121e61",
   "metadata": {},
   "outputs": [],
   "source": [
    "dicom_contours_by_structure = rai.dicom_to_contours_by_structure(\n",
    "    ds=structure_ds, image_uids=image_uids, structure_names=structure_names\n",
    ")\n",
    "dicom_contours_by_structure.keys()"
   ]
  },
  {
   "cell_type": "code",
   "execution_count": null,
   "id": "a5cbd665-ec40-4e2c-85fd-1163fda0703f",
   "metadata": {},
   "outputs": [],
   "source": [
    "aligned_predicted_contours_by_structure = rai.merge_contours_by_structure(\n",
    "    predicted_contours_by_structure, align_map\n",
    ")\n",
    "aligned_predicted_contours_by_structure.keys()"
   ]
  },
  {
   "cell_type": "code",
   "execution_count": null,
   "id": "5a9bf27e-bbb2-4e61-b0af-2609025a3ec8",
   "metadata": {},
   "outputs": [],
   "source": [
    "dice = {}\n",
    "for name in align_map:\n",
    "    dice[name] = rai.dice_from_contours_by_slice(\n",
    "        dicom_contours_by_structure[name],\n",
    "        aligned_predicted_contours_by_structure[name],\n",
    "    )\n",
    "\n",
    "dice"
   ]
  },
  {
   "cell_type": "code",
   "execution_count": null,
   "id": "b828a6e5-9422-4e57-91a8-88efd743de2a",
   "metadata": {},
   "outputs": [],
   "source": [
    "# {'Orbit-Lt': 0.9362643339720585,\n",
    "#  'Orbit-Rt': 0.9118221819034799,\n",
    "#  'Lacrimal-Lt': 0.5370672348555429,\n",
    "#  'Lacrimal-Rt': 0.7410031278293367,\n",
    "#  'Lens-Lt': 0.6199596069529278,\n",
    "#  'Lens-Rt': 0.5651545326203434,\n",
    "#  'Optic-Nerve-Lt': 0.6357191302295039,\n",
    "#  'Optic-Nerve-Rt': 0.682449321749098}"
   ]
  },
  {
   "cell_type": "code",
   "execution_count": null,
   "id": "e309efd1-5f58-4465-b24c-45d6f201ade7",
   "metadata": {},
   "outputs": [],
   "source": [
    "# {'Orbit-Lt': 0.9373359477378552,\n",
    "#  'Orbit-Rt': 0.9113421598778818,\n",
    "#  'Lacrimal-Lt': 0.5363035517347803,\n",
    "#  'Lacrimal-Rt': 0.6471835776059125,\n",
    "#  'Lens-Lt': 0.5794501251828946,\n",
    "#  'Lens-Rt': 0.7313020381451935,\n",
    "#  'Optic-Nerve-Lt': 0.684091594978361,\n",
    "#  'Optic-Nerve-Rt': 0.7138739867025855}"
   ]
  },
  {
   "cell_type": "code",
   "execution_count": null,
   "id": "18f6ea89-0391-4bee-895b-9e888f405049",
   "metadata": {},
   "outputs": [],
   "source": []
  },
  {
   "cell_type": "code",
   "execution_count": null,
   "id": "68b6a922-ac7c-4cbb-9a0e-e9f840804952",
   "metadata": {},
   "outputs": [],
   "source": [
    "# {'Orbit-Lt': 0.9329802027327212,\n",
    "#  'Orbit-Rt': 0.9292203655627251,\n",
    "#  'Lacrimal-Lt': 0.5592778493774634,\n",
    "#  'Lacrimal-Rt': 0.7033117079481864,\n",
    "#  'Lens-Lt': 0.5634343902399727,\n",
    "#  'Lens-Rt': 0.705192510533307,\n",
    "#  'Optic-Nerve-Lt': 0.6856992769482004,\n",
    "#  'Optic-Nerve-Rt': 0.7298940044091032}"
   ]
  },
  {
   "cell_type": "code",
   "execution_count": null,
   "id": "2804abdd-82ad-4d5e-b1d8-edb9b49a8169",
   "metadata": {},
   "outputs": [],
   "source": [
    "# {'Orbit-Lt': 0.9305747733824346,\n",
    "#  'Orbit-Rt': 0.910793750098107,\n",
    "#  'Lacrimal-Lt': 0.5935095702014695,\n",
    "#  'Lacrimal-Rt': 0.7100921000984858,\n",
    "#  'Lens-Lt': 0.5989498141190633,\n",
    "#  'Lens-Rt': 0.719354923884271,\n",
    "#  'Optic-Nerve-Lt': 0.6913394086656418,\n",
    "#  'Optic-Nerve-Rt': 0.7227423217545667}"
   ]
  },
  {
   "cell_type": "code",
   "execution_count": null,
   "id": "6690c8d9-bc44-4f35-8172-b00d05b2b6e4",
   "metadata": {},
   "outputs": [],
   "source": [
    "# {'Orbit-Lt': 0.9300944496577743,\n",
    "#  'Orbit-Rt': 0.9058749383004636,\n",
    "#  'Lacrimal-Lt': 0.5882465946938259,\n",
    "#  'Lacrimal-Rt': 0.7160347725352805,\n",
    "#  'Lens-Lt': 0.6106324895768452,\n",
    "#  'Lens-Rt': 0.7109035771108655,\n",
    "#  'Optic-Nerve-Lt': 0.6932087812283164,\n",
    "#  'Optic-Nerve-Rt': 0.718207519345175}"
   ]
  },
  {
   "cell_type": "code",
   "execution_count": null,
   "id": "6c849dc0-9d0c-409a-84b7-c5614082155c",
   "metadata": {},
   "outputs": [],
   "source": [
    "# {'Orbit-Lt': 0.9301188710327498,\n",
    "#  'Orbit-Rt': 0.904238953690376,\n",
    "#  'Lacrimal-Lt': 0.5923609038362603,\n",
    "#  'Lacrimal-Rt': 0.7161445302661364,\n",
    "#  'Lens-Lt': 0.6271590117562696,\n",
    "#  'Lens-Rt': 0.711952599045201,\n",
    "#  'Optic-Nerve-Lt': 0.6928188112434206,\n",
    "#  'Optic-Nerve-Rt': 0.719606212923026}"
   ]
  },
  {
   "cell_type": "code",
   "execution_count": null,
   "id": "92f9b435-d223-4ae8-9998-bcd3426c89c7",
   "metadata": {},
   "outputs": [],
   "source": [
    "# {'Orbit-Lt': 0.9294303562741772,\n",
    "#  'Orbit-Rt': 0.9038576742036607,\n",
    "#  'Lacrimal-Lt': 0.5945729841044676,\n",
    "#  'Lacrimal-Rt': 0.7165850979138209,\n",
    "#  'Lens-Lt': 0.6335797569609779,\n",
    "#  'Lens-Rt': 0.7088506798601667,\n",
    "#  'Optic-Nerve-Lt': 0.6948517323062952,\n",
    "#  'Optic-Nerve-Rt': 0.7192801382645814}"
   ]
  },
  {
   "cell_type": "code",
   "execution_count": null,
   "id": "d0f39f6b-46aa-4714-a14b-06e11facd0ca",
   "metadata": {},
   "outputs": [],
   "source": [
    "# {'Orbit-Lt': 0.9294079306503369,\n",
    "#  'Orbit-Rt': 0.9026140401337023,\n",
    "#  'Lacrimal-Lt': 0.5920014348952012,\n",
    "#  'Lacrimal-Rt': 0.7179298548149553,\n",
    "#  'Lens-Lt': 0.6312570186088973,\n",
    "#  'Lens-Rt': 0.7088131001839902,\n",
    "#  'Optic-Nerve-Lt': 0.6940026006174406,\n",
    "#  'Optic-Nerve-Rt': 0.7205659434474421}"
   ]
  },
  {
   "cell_type": "code",
   "execution_count": null,
   "id": "1b50155e-fdff-4b28-bc12-5a64857378b8",
   "metadata": {},
   "outputs": [],
   "source": [
    "combined_contours_by_structure = {\n",
    "    **predicted_contours_by_structure,\n",
    "    **dicom_contours_by_structure,\n",
    "}\n",
    "\n",
    "rai.plot_contours_by_structure(\n",
    "    x_grid, y_grid, image_stack, combined_contours_by_structure, align_map\n",
    ")"
   ]
  },
  {
   "cell_type": "code",
   "execution_count": null,
   "id": "c844fb0b-5e98-455a-8f57-3352b390aa40",
   "metadata": {},
   "outputs": [],
   "source": []
  }
 ],
 "metadata": {
  "kernelspec": {
   "display_name": "rai",
   "language": "python",
   "name": "rai"
  },
  "language_info": {
   "codemirror_mode": {
    "name": "ipython",
    "version": 3
   },
   "file_extension": ".py",
   "mimetype": "text/x-python",
   "name": "python",
   "nbconvert_exporter": "python",
   "pygments_lexer": "ipython3",
   "version": "3.7.9"
  }
 },
 "nbformat": 4,
 "nbformat_minor": 5
}
