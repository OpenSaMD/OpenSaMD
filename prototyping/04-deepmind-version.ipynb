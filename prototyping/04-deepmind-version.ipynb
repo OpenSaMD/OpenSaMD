{
 "cells": [
  {
   "cell_type": "code",
   "execution_count": null,
   "id": "55ca49a3-b26d-40d2-93be-3ec528820ad4",
   "metadata": {},
   "outputs": [],
   "source": [
    "import sys\n",
    "sys.version"
   ]
  },
  {
   "cell_type": "code",
   "execution_count": null,
   "id": "c3814c86-8748-471b-bb41-3a31bbd9b869",
   "metadata": {},
   "outputs": [],
   "source": [
    "import pydicom"
   ]
  },
  {
   "cell_type": "code",
   "execution_count": null,
   "id": "c0096609-2749-463f-bfe6-ccaf5cec01e4",
   "metadata": {},
   "outputs": [],
   "source": [
    "%load_ext autoreload\n",
    "%autoreload 2"
   ]
  },
  {
   "cell_type": "code",
   "execution_count": null,
   "id": "7a9dd35b-cd6e-4fed-b8ed-e9adf3667013",
   "metadata": {},
   "outputs": [],
   "source": [
    "import rai\n",
    "import raicontours\n",
    "\n",
    "from raicontours import TG263"
   ]
  },
  {
   "cell_type": "code",
   "execution_count": null,
   "id": "4f6aa26e-e721-416d-96b6-27744c9cc981",
   "metadata": {},
   "outputs": [],
   "source": [
    "raicontours.cfg"
   ]
  },
  {
   "cell_type": "code",
   "execution_count": null,
   "id": "841eee57-9e8e-4fcb-bdcd-d95bef5fa1d2",
   "metadata": {},
   "outputs": [],
   "source": [
    "rai_model = rai.load_model(cfg=raicontours.cfg)"
   ]
  },
  {
   "cell_type": "code",
   "execution_count": null,
   "id": "e53da7c8-a538-4a74-ab2e-861ede4bb1d8",
   "metadata": {},
   "outputs": [],
   "source": [
    "image_paths, structure_path = rai.download_deepmind_example(\"rai-data\")\n",
    "structure_path"
   ]
  },
  {
   "cell_type": "code",
   "execution_count": null,
   "id": "7ac235ab-cacb-40ea-91b6-ff45353626e1",
   "metadata": {},
   "outputs": [],
   "source": [
    "x_grid, y_grid, image_stack, image_uids = rai.paths_to_image_stack_hfs(\n",
    "    image_paths\n",
    ")"
   ]
  },
  {
   "cell_type": "code",
   "execution_count": null,
   "id": "6b18fc55-6207-4951-8927-6c20cc5ea36f",
   "metadata": {},
   "outputs": [],
   "source": [
    "z = [35, 45, 55]\n",
    "y = [140, 155, 175, 195, 215, 230]\n",
    "x = [210, 230, 250, 270, 290, 310]\n",
    "\n",
    "predicted_masks = rai.inference_over_jittered_grid(\n",
    "    model=rai_model, image_stack=image_stack, grid=(z, y, x)\n",
    ")"
   ]
  },
  {
   "cell_type": "code",
   "execution_count": null,
   "id": "5726c47d-78d3-4db1-b388-0ed972552ede",
   "metadata": {},
   "outputs": [],
   "source": [
    "predicted_contours_by_structure = rai.masks_to_contours_by_structure(\n",
    "    x_grid, y_grid, predicted_masks\n",
    ")\n",
    "\n",
    "predicted_contours_by_structure.keys()"
   ]
  },
  {
   "cell_type": "code",
   "execution_count": null,
   "id": "6f1ef46b-9e7e-4128-bddd-8e9ca1d34cec",
   "metadata": {},
   "outputs": [],
   "source": [
    "rai.plot_contours_by_structure(\n",
    "    x_grid, y_grid, image_stack, predicted_contours_by_structure\n",
    ")"
   ]
  },
  {
   "cell_type": "markdown",
   "id": "d1a1e444-81b1-4832-bdcf-3ba7cd1626ce",
   "metadata": {},
   "source": [
    "## Compare to DICOM-RT Structure"
   ]
  },
  {
   "cell_type": "code",
   "execution_count": null,
   "id": "a1213988-d736-4b2b-a7c5-d0056d822234",
   "metadata": {},
   "outputs": [],
   "source": [
    "structure_ds = pydicom.read_file(structure_path)\n",
    "[item.ROIName for item in structure_ds.StructureSetROISequence]"
   ]
  },
  {
   "cell_type": "code",
   "execution_count": null,
   "id": "4b0c7fc0-5e3c-4962-9e5a-30d656661696",
   "metadata": {},
   "outputs": [],
   "source": [
    "align_map = {\n",
    "    \"Orbit-Lt\": [TG263.Eye_L],\n",
    "    \"Orbit-Rt\": [TG263.Eye_R],\n",
    "    \"Lacrimal-Lt\": [TG263.Glnd_Lacrimal_L],\n",
    "    \"Lacrimal-Rt\": [TG263.Glnd_Lacrimal_R],\n",
    "    \"Lens-Lt\": [TG263.Lens_L],\n",
    "    \"Lens-Rt\": [TG263.Lens_R],\n",
    "    \"Optic-Nerve-Lt\": [TG263.OpticNrv_L],\n",
    "    \"Optic-Nerve-Rt\": [TG263.OpticNrv_R],\n",
    "}"
   ]
  },
  {
   "cell_type": "code",
   "execution_count": null,
   "id": "fb528e9a-b338-4e20-a2ba-3ca6095d044e",
   "metadata": {},
   "outputs": [],
   "source": [
    "structure_names = list(align_map.keys())\n",
    "structure_names"
   ]
  },
  {
   "cell_type": "code",
   "execution_count": null,
   "id": "1e85ac24-f3f6-4b60-86ed-c5321f121e61",
   "metadata": {},
   "outputs": [],
   "source": [
    "dicom_contours_by_structure = rai.dicom_to_contours_by_structure(\n",
    "    ds=structure_ds, image_uids=image_uids, structure_names=structure_names\n",
    ")\n",
    "dicom_contours_by_structure.keys()"
   ]
  },
  {
   "cell_type": "code",
   "execution_count": null,
   "id": "a5cbd665-ec40-4e2c-85fd-1163fda0703f",
   "metadata": {},
   "outputs": [],
   "source": [
    "aligned_predicted_contours_by_structure = rai.merge_contours_by_structure(\n",
    "    predicted_contours_by_structure, align_map\n",
    ")\n",
    "aligned_predicted_contours_by_structure.keys()"
   ]
  },
  {
   "cell_type": "code",
   "execution_count": null,
   "id": "5a9bf27e-bbb2-4e61-b0af-2609025a3ec8",
   "metadata": {},
   "outputs": [],
   "source": [
    "dice = {}\n",
    "for name in align_map:\n",
    "    dice[name] = rai.dice_from_contours_by_slice(\n",
    "        dicom_contours_by_structure[name],\n",
    "        aligned_predicted_contours_by_structure[name],\n",
    "    )\n",
    "\n",
    "dice"
   ]
  },
  {
   "cell_type": "code",
   "execution_count": null,
   "id": "1b50155e-fdff-4b28-bc12-5a64857378b8",
   "metadata": {},
   "outputs": [],
   "source": [
    "combined_contours_by_structure = {\n",
    "    **predicted_contours_by_structure,\n",
    "    **dicom_contours_by_structure,\n",
    "}\n",
    "\n",
    "rai.plot_contours_by_structure(\n",
    "    x_grid, y_grid, image_stack, combined_contours_by_structure, align_map\n",
    ")"
   ]
  }
 ],
 "metadata": {
  "kernelspec": {
   "display_name": "rai",
   "language": "python",
   "name": "rai"
  },
  "language_info": {
   "codemirror_mode": {
    "name": "ipython",
    "version": 3
   },
   "file_extension": ".py",
   "mimetype": "text/x-python",
   "name": "python",
   "nbconvert_exporter": "python",
   "pygments_lexer": "ipython3",
   "version": "3.7.9"
  }
 },
 "nbformat": 4,
 "nbformat_minor": 5
}
