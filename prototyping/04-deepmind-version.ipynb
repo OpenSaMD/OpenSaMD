{
 "cells": [
  {
   "cell_type": "code",
   "execution_count": null,
   "id": "55ca49a3-b26d-40d2-93be-3ec528820ad4",
   "metadata": {},
   "outputs": [],
   "source": [
    "import sys\n",
    "sys.version"
   ]
  },
  {
   "cell_type": "code",
   "execution_count": null,
   "id": "61b5a624-b16f-4397-b9b7-46b021b26dbd",
   "metadata": {},
   "outputs": [],
   "source": [
    "import numpy as np\n",
    "import pydicom\n",
    "import matplotlib.pyplot as plt"
   ]
  },
  {
   "cell_type": "code",
   "execution_count": null,
   "id": "c0096609-2749-463f-bfe6-ccaf5cec01e4",
   "metadata": {},
   "outputs": [],
   "source": [
    "%load_ext autoreload\n",
    "%autoreload 2"
   ]
  },
  {
   "cell_type": "code",
   "execution_count": null,
   "id": "1790e3b3-7022-480c-b53e-86fee30ef52a",
   "metadata": {},
   "outputs": [],
   "source": [
    "from raicontours import TG263\n",
    "\n",
    "from rai.contours import merge as _merge_contours\n",
    "from rai.data import download as _data_download\n",
    "from rai.data import images as _images_data\n",
    "from rai.dicom import structures as _dicom_structures\n",
    "from rai.mask import convert as _mask_convert\n",
    "from rai.metrics import dice as _dice_metric\n",
    "from rai.inference import main as _inference\n",
    "\n",
    "from rai.display import inference as _display_inference"
   ]
  },
  {
   "cell_type": "code",
   "execution_count": null,
   "id": "0b48dd95-96a7-44f7-b154-b7804f4ab0c6",
   "metadata": {},
   "outputs": [],
   "source": [
    "image_paths, structure_path = _data_download.deepmind_example()\n",
    "\n",
    "x_grid, y_grid, image_stack, image_uids = _images_data.paths_to_image_stack_hfs(\n",
    "    image_paths\n",
    ")\n",
    "\n",
    "z = [35, 45, 55]\n",
    "y = [140, 155, 175, 195, 215, 230]\n",
    "x = [210, 230, 250, 270, 290, 310]\n",
    "\n",
    "masks_pd = _inference.inference_over_jittered_grid(\n",
    "    image_stack=image_stack, grid=(z, y, x)\n",
    ")\n",
    "\n",
    "pd_contours_by_structure_tg263 = _mask_convert.masks_to_contours_by_structure(\n",
    "    x_grid, y_grid, masks_pd\n",
    ")"
   ]
  },
  {
   "cell_type": "code",
   "execution_count": null,
   "id": "a1213988-d736-4b2b-a7c5-d0056d822234",
   "metadata": {},
   "outputs": [],
   "source": [
    "structure_ds = pydicom.read_file(structure_path)\n",
    "[item.ROIName for item in structure_ds.StructureSetROISequence]"
   ]
  },
  {
   "cell_type": "code",
   "execution_count": null,
   "id": "1d534a41-348c-4422-8132-60d5002130ac",
   "metadata": {},
   "outputs": [],
   "source": [
    "merge_map = {\n",
    "    \"Orbit-Lt\": [TG263.Eye_L],\n",
    "    \"Orbit-Rt\": [TG263.Eye_R],\n",
    "    \"Lacrimal-Lt\": [TG263.Glnd_Lacrimal_L],\n",
    "    \"Lacrimal-Rt\": [TG263.Glnd_Lacrimal_R],\n",
    "    \"Lens-Lt\": [TG263.Lens_L],\n",
    "    \"Lens-Rt\": [TG263.Lens_R],\n",
    "    \"Optic-Nerve-Lt\": [TG263.OpticNrv_L],\n",
    "    \"Optic-Nerve-Rt\": [TG263.OpticNrv_R],\n",
    "}\n",
    "\n",
    "gt_contours_by_structure_dicom_names = _dicom_structures.dicom_to_contours_by_structure(\n",
    "    ds=structure_ds, image_uids=image_uids, structure_names=merge_map.keys()\n",
    ")\n",
    "\n",
    "pd_contours_by_structure_dicom_names = _merge_contours.merge_contours_by_structure(\n",
    "    pd_contours_by_structure_tg263, merge_map\n",
    ")\n",
    "\n",
    "dice = {}\n",
    "for name in merge_map:\n",
    "    dice[name] = _dice_metric.from_contours_by_slice(\n",
    "        gt_contours_by_structure_dicom_names[name],\n",
    "        pd_contours_by_structure_dicom_names[name],\n",
    "    )\n",
    "\n",
    "dice"
   ]
  },
  {
   "cell_type": "code",
   "execution_count": null,
   "id": "1b50155e-fdff-4b28-bc12-5a64857378b8",
   "metadata": {},
   "outputs": [],
   "source": [
    "all_contours_by_structure = {\n",
    "    **pd_contours_by_structure_tg263,\n",
    "    **gt_contours_by_structure_dicom_names,\n",
    "}\n",
    "\n",
    "_display_inference.plot_model_result(\n",
    "    x_grid, y_grid, image_stack, all_contours_by_structure, merge_map\n",
    ")"
   ]
  }
 ],
 "metadata": {
  "kernelspec": {
   "display_name": "rai",
   "language": "python",
   "name": "rai"
  },
  "language_info": {
   "codemirror_mode": {
    "name": "ipython",
    "version": 3
   },
   "file_extension": ".py",
   "mimetype": "text/x-python",
   "name": "python",
   "nbconvert_exporter": "python",
   "pygments_lexer": "ipython3",
   "version": "3.7.9"
  }
 },
 "nbformat": 4,
 "nbformat_minor": 5
}
