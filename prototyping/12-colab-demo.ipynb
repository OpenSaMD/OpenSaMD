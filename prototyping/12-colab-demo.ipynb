{
 "cells": [
  {
   "cell_type": "code",
   "execution_count": null,
   "id": "55ca49a3-b26d-40d2-93be-3ec528820ad4",
   "metadata": {
    "colab": {
     "base_uri": "https://localhost:8080/",
     "height": 35
    },
    "id": "55ca49a3-b26d-40d2-93be-3ec528820ad4",
    "outputId": "33939694-8539-47b9-b856-7e5ab18bc7c8"
   },
   "outputs": [],
   "source": [
    "import sys\n",
    "sys.version"
   ]
  },
  {
   "cell_type": "code",
   "execution_count": null,
   "id": "c11dd6da-fb3b-4fb5-8889-3cd8099ce4cf",
   "metadata": {},
   "outputs": [],
   "source": [
    "!pip install rai==0.2.0-dev3"
   ]
  },
  {
   "cell_type": "code",
   "execution_count": null,
   "id": "9f85aba0-32b2-45a7-9265-3cd41c70646a",
   "metadata": {},
   "outputs": [],
   "source": [
    "from pkg_resources import parse_version\n",
    "import matplotlib\n",
    "assert parse_version(matplotlib.__version__) > parse_version('3.4.0')\n",
    "# If this fails, click the \"restart runtime\" button in the cell above"
   ]
  },
  {
   "cell_type": "code",
   "execution_count": null,
   "id": "94632d32-5215-45b8-bd70-4625e4162752",
   "metadata": {},
   "outputs": [],
   "source": [
    "from google.colab import output\n",
    "output.enable_custom_widget_manager()"
   ]
  },
  {
   "cell_type": "code",
   "execution_count": null,
   "id": "2a428ad8-abd1-485b-85bf-54cd2296ec01",
   "metadata": {
    "id": "2a428ad8-abd1-485b-85bf-54cd2296ec01"
   },
   "outputs": [],
   "source": [
    "import tqdm\n",
    "import numpy as np\n",
    "import skimage.measure\n",
    "import matplotlib.pyplot as plt"
   ]
  },
  {
   "cell_type": "code",
   "execution_count": null,
   "id": "c3814c86-8748-471b-bb41-3a31bbd9b869",
   "metadata": {
    "colab": {
     "base_uri": "https://localhost:8080/",
     "height": 35
    },
    "id": "c3814c86-8748-471b-bb41-3a31bbd9b869",
    "outputId": "3b88e408-457a-4943-ef86-cec1458d41b9"
   },
   "outputs": [],
   "source": [
    "import pydicom\n",
    "pydicom.__version__"
   ]
  },
  {
   "cell_type": "code",
   "execution_count": null,
   "id": "7a9dd35b-cd6e-4fed-b8ed-e9adf3667013",
   "metadata": {
    "colab": {
     "base_uri": "https://localhost:8080/",
     "height": 35
    },
    "id": "7a9dd35b-cd6e-4fed-b8ed-e9adf3667013",
    "outputId": "967666c4-2c40-4ef4-d6f9-33d78f63b7b7"
   },
   "outputs": [],
   "source": [
    "import rai\n",
    "rai.__version__"
   ]
  },
  {
   "cell_type": "code",
   "execution_count": null,
   "id": "58e3bd81-508b-4273-ad19-9cb1cd3905a3",
   "metadata": {
    "colab": {
     "base_uri": "https://localhost:8080/",
     "height": 35
    },
    "id": "58e3bd81-508b-4273-ad19-9cb1cd3905a3",
    "outputId": "310add06-c3d6-45a7-a3f9-81c04a920d38"
   },
   "outputs": [],
   "source": [
    "import raicontours\n",
    "\n",
    "from raicontours import TG263\n",
    "\n",
    "raicontours.__version__"
   ]
  },
  {
   "cell_type": "code",
   "execution_count": null,
   "id": "5fb0dae0-9622-4a3d-b004-a437219966a6",
   "metadata": {
    "id": "5fb0dae0-9622-4a3d-b004-a437219966a6"
   },
   "outputs": [],
   "source": [
    "%matplotlib widget"
   ]
  },
  {
   "cell_type": "code",
   "execution_count": null,
   "id": "4f6aa26e-e721-416d-96b6-27744c9cc981",
   "metadata": {
    "id": "4f6aa26e-e721-416d-96b6-27744c9cc981"
   },
   "outputs": [],
   "source": [
    "cfg = raicontours.get_config()"
   ]
  },
  {
   "cell_type": "code",
   "execution_count": null,
   "id": "094f0c62-a67e-4d75-9eab-683966f069a4",
   "metadata": {
    "colab": {
     "base_uri": "https://localhost:8080/"
    },
    "id": "094f0c62-a67e-4d75-9eab-683966f069a4",
    "outputId": "5faecb60-96ec-4f78-f2c3-f95ac620c833"
   },
   "outputs": [],
   "source": [
    "cfg"
   ]
  },
  {
   "cell_type": "code",
   "execution_count": null,
   "id": "e53da7c8-a538-4a74-ab2e-861ede4bb1d8",
   "metadata": {
    "colab": {
     "base_uri": "https://localhost:8080/"
    },
    "id": "e53da7c8-a538-4a74-ab2e-861ede4bb1d8",
    "outputId": "3667bf25-509d-4614-d68e-7fa5d012a14e"
   },
   "outputs": [],
   "source": [
    "image_paths, structure_path = rai.download_deepmind_example()\n",
    "structure_path"
   ]
  },
  {
   "cell_type": "code",
   "execution_count": null,
   "id": "60f4de14-450c-4741-bcb9-097772d0a14f",
   "metadata": {
    "id": "60f4de14-450c-4741-bcb9-097772d0a14f"
   },
   "outputs": [],
   "source": [
    "grids, image_stack, image_uids = rai.paths_to_image_stack_hfs(cfg=cfg, paths=image_paths)\n",
    "(z_grid, y_grid, x_grid) = grids"
   ]
  },
  {
   "cell_type": "code",
   "execution_count": null,
   "id": "c2d52c0e-d533-40ba-becf-a83a802d7205",
   "metadata": {
    "id": "c2d52c0e-d533-40ba-becf-a83a802d7205"
   },
   "outputs": [],
   "source": [
    "models = rai.load_models(cfg=cfg)"
   ]
  },
  {
   "cell_type": "code",
   "execution_count": null,
   "id": "9368efc8-f8b4-4cbb-bb8b-a14431722c92",
   "metadata": {
    "colab": {
     "base_uri": "https://localhost:8080/"
    },
    "id": "9368efc8-f8b4-4cbb-bb8b-a14431722c92",
    "outputId": "5e1614f5-e4c0-48fd-d76a-f602e431818d"
   },
   "outputs": [],
   "source": [
    "predicted_masks = rai.inference(\n",
    "    cfg=cfg,\n",
    "    models=models,\n",
    "    image_stack=image_stack,\n",
    "    max_batch_size=10,\n",
    "    step_size=60,\n",
    ")"
   ]
  },
  {
   "cell_type": "code",
   "execution_count": null,
   "id": "0716adaf-53dd-4e81-b5b0-ed6210cd87c5",
   "metadata": {
    "id": "0716adaf-53dd-4e81-b5b0-ed6210cd87c5"
   },
   "outputs": [],
   "source": [
    "structure_ds = pydicom.read_file(structure_path)\n",
    "[item.ROIName for item in structure_ds.StructureSetROISequence]"
   ]
  },
  {
   "cell_type": "code",
   "execution_count": null,
   "id": "73107915-f68c-494e-808b-9a57674ee07a",
   "metadata": {
    "id": "73107915-f68c-494e-808b-9a57674ee07a"
   },
   "outputs": [],
   "source": [
    "align_map = {\n",
    "    \"Brainstem\": [TG263.Brainstem],\n",
    "    \"Lacrimal-Lt\": [TG263.Glnd_Lacrimal_L],\n",
    "    \"Lacrimal-Rt\": [TG263.Glnd_Lacrimal_R],\n",
    "    \"Lens-Lt\": [TG263.Lens_L],\n",
    "    \"Lens-Rt\": [TG263.Lens_R],\n",
    "    \"Optic-Nerve-Lt\": [TG263.OpticNrv_L],\n",
    "    \"Optic-Nerve-Rt\": [TG263.OpticNrv_R],\n",
    "    \"Orbit-Lt\": [TG263.Eye_L],\n",
    "    \"Orbit-Rt\": [TG263.Eye_R],\n",
    "    \"Parotid-Lt\": [TG263.Parotid_L],\n",
    "    \"Parotid-Rt\": [TG263.Parotid_R],\n",
    "    \"Spinal-Cord\": [TG263.SpinalCord],\n",
    "    \"Submandibular-Lt\": [TG263.Glnd_Submand_L],\n",
    "    \"Submandibular-Rt\": [TG263.Glnd_Submand_R],\n",
    "}\n",
    "structure_names = list(align_map.keys())\n",
    "\n",
    "dicom_contours_by_structure = rai.dicom_to_contours_by_structure(\n",
    "    ds=structure_ds, image_uids=image_uids, structure_names=structure_names\n",
    ")\n",
    "\n"
   ]
  },
  {
   "cell_type": "code",
   "execution_count": null,
   "id": "a411139f-fd6d-4884-b516-4b4c8f9f46c7",
   "metadata": {
    "id": "a411139f-fd6d-4884-b516-4b4c8f9f46c7"
   },
   "outputs": [],
   "source": [
    "predicted_contours_by_structure = rai.masks_to_contours_by_structure(\n",
    "    x_grid=x_grid, y_grid=y_grid, masks=predicted_masks, structure_names=cfg[\"structures\"]\n",
    ")\n",
    "\n",
    "aligned_predicted_contours_by_structure = rai.merge_contours_by_structure(\n",
    "    predicted_contours_by_structure, align_map\n",
    ")\n",
    "\n",
    "dice = {}\n",
    "for name in align_map:\n",
    "    dice[name] = rai.dice_from_contours_by_slice(\n",
    "        dicom_contours_by_structure[name],\n",
    "        aligned_predicted_contours_by_structure[name],\n",
    "    )\n",
    "    \n",
    "dice"
   ]
  },
  {
   "cell_type": "code",
   "execution_count": null,
   "id": "f2825fb9-ab73-4e3e-b7fe-a0e0ddaeb25f",
   "metadata": {
    "id": "f2825fb9-ab73-4e3e-b7fe-a0e0ddaeb25f"
   },
   "outputs": [],
   "source": [
    "slice_indices, axis_limits, centre_indices = rai.view_ranges_from_masks(grids, predicted_masks)"
   ]
  },
  {
   "cell_type": "code",
   "execution_count": null,
   "id": "784a047e-9d49-47a9-b260-d7712c43a6cb",
   "metadata": {
    "id": "784a047e-9d49-47a9-b260-d7712c43a6cb"
   },
   "outputs": [],
   "source": [
    "contours_by_orientation = rai.masks_to_contours_by_orientation(\n",
    "    grids, predicted_masks, structure_names=cfg[\"structures\"]\n",
    ")"
   ]
  },
  {
   "cell_type": "code",
   "execution_count": null,
   "id": "27ed52d6-4d3b-494e-b8bc-c55277a81c16",
   "metadata": {
    "id": "27ed52d6-4d3b-494e-b8bc-c55277a81c16"
   },
   "outputs": [],
   "source": [
    "vmin = 0.2\n",
    "vmax = 0.4"
   ]
  },
  {
   "cell_type": "code",
   "execution_count": null,
   "id": "1a4e952c-92bb-4c1d-b907-a1708889fef0",
   "metadata": {
    "id": "1a4e952c-92bb-4c1d-b907-a1708889fef0"
   },
   "outputs": [],
   "source": [
    "rai.auto_scroll_contours_by_orientation(\n",
    "    grids=grids,\n",
    "    images=image_stack,\n",
    "    contours_by_orientation=contours_by_orientation,\n",
    "    slice_indicies=slice_indices,\n",
    "    axis_limits=axis_limits,\n",
    "    structure_names=cfg[\"structures\"],\n",
    "    vmin=vmin,\n",
    "    vmax=vmax,\n",
    "    interval=200,\n",
    ")"
   ]
  }
 ],
 "metadata": {
  "accelerator": "GPU",
  "colab": {
   "provenance": []
  },
  "kernelspec": {
   "display_name": "Python 3 (ipykernel)",
   "language": "python",
   "name": "python3"
  },
  "language_info": {
   "codemirror_mode": {
    "name": "ipython",
    "version": 3
   },
   "file_extension": ".py",
   "mimetype": "text/x-python",
   "name": "python",
   "nbconvert_exporter": "python",
   "pygments_lexer": "ipython3",
   "version": "3.10.6"
  }
 },
 "nbformat": 4,
 "nbformat_minor": 5
}
