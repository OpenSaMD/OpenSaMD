{
 "cells": [
  {
   "cell_type": "code",
   "execution_count": null,
   "id": "55ca49a3-b26d-40d2-93be-3ec528820ad4",
   "metadata": {},
   "outputs": [],
   "source": [
    "import sys\n",
    "sys.version"
   ]
  },
  {
   "cell_type": "code",
   "execution_count": null,
   "id": "2a428ad8-abd1-485b-85bf-54cd2296ec01",
   "metadata": {},
   "outputs": [],
   "source": [
    "import tqdm\n",
    "import numpy as np\n",
    "import skimage.measure\n",
    "import matplotlib.pyplot as plt"
   ]
  },
  {
   "cell_type": "code",
   "execution_count": null,
   "id": "c3814c86-8748-471b-bb41-3a31bbd9b869",
   "metadata": {},
   "outputs": [],
   "source": [
    "import pydicom\n",
    "pydicom.__version__"
   ]
  },
  {
   "cell_type": "code",
   "execution_count": null,
   "id": "c0096609-2749-463f-bfe6-ccaf5cec01e4",
   "metadata": {},
   "outputs": [],
   "source": [
    "%load_ext autoreload\n",
    "%autoreload 2"
   ]
  },
  {
   "cell_type": "code",
   "execution_count": null,
   "id": "7a9dd35b-cd6e-4fed-b8ed-e9adf3667013",
   "metadata": {},
   "outputs": [],
   "source": [
    "import rai\n",
    "rai.__version__"
   ]
  },
  {
   "cell_type": "code",
   "execution_count": null,
   "id": "58e3bd81-508b-4273-ad19-9cb1cd3905a3",
   "metadata": {},
   "outputs": [],
   "source": [
    "import raicontours\n",
    "\n",
    "from raicontours import TG263\n",
    "\n",
    "raicontours.__version__"
   ]
  },
  {
   "cell_type": "code",
   "execution_count": null,
   "id": "5fb0dae0-9622-4a3d-b004-a437219966a6",
   "metadata": {},
   "outputs": [],
   "source": []
  },
  {
   "cell_type": "code",
   "execution_count": null,
   "id": "4f6aa26e-e721-416d-96b6-27744c9cc981",
   "metadata": {},
   "outputs": [],
   "source": [
    "cfg = raicontours.get_config()"
   ]
  },
  {
   "cell_type": "code",
   "execution_count": null,
   "id": "094f0c62-a67e-4d75-9eab-683966f069a4",
   "metadata": {},
   "outputs": [],
   "source": [
    "cfg"
   ]
  },
  {
   "cell_type": "code",
   "execution_count": null,
   "id": "841eee57-9e8e-4fcb-bdcd-d95bef5fa1d2",
   "metadata": {},
   "outputs": [],
   "source": [
    "rai_starting_model, rai_dependent_model = rai.load_model(cfg=cfg)"
   ]
  },
  {
   "cell_type": "code",
   "execution_count": null,
   "id": "49d2ebb7-abd3-4b8c-b535-210310f98bd9",
   "metadata": {},
   "outputs": [],
   "source": []
  },
  {
   "cell_type": "code",
   "execution_count": null,
   "id": "e53da7c8-a538-4a74-ab2e-861ede4bb1d8",
   "metadata": {},
   "outputs": [],
   "source": [
    "image_paths, structure_path = rai.download_deepmind_example()\n",
    "structure_path"
   ]
  },
  {
   "cell_type": "code",
   "execution_count": null,
   "id": "7ac235ab-cacb-40ea-91b6-ff45353626e1",
   "metadata": {},
   "outputs": [],
   "source": [
    "x_grid, y_grid, z_grid, original_image_stack, image_uids = rai.paths_to_image_stack_hfs(\n",
    "    cfg=cfg, paths=image_paths\n",
    ")"
   ]
  },
  {
   "cell_type": "code",
   "execution_count": null,
   "id": "f2e650ce-2ab5-46fd-93f0-403fa8252ccd",
   "metadata": {},
   "outputs": [],
   "source": [
    "original_image_stack.shape"
   ]
  },
  {
   "cell_type": "code",
   "execution_count": null,
   "id": "02a26778-4f7b-4eb9-a028-8fb1357b9d8b",
   "metadata": {},
   "outputs": [],
   "source": [
    "original_num_slices = original_image_stack.shape[0]\n",
    "\n",
    "slice_reduction = cfg[\"reduce_block_sizes\"][0][0]\n",
    "desired_num_slices = int(np.ceil(original_num_slices / slice_reduction) * slice_reduction)\n",
    "\n",
    "if original_num_slices != desired_num_slices:\n",
    "    image_stack = original_image_stack.take(range(desired_num_slices), axis=0, mode='clip')\n",
    "else:\n",
    "    image_stack = original_image_stack\n",
    "    \n",
    "num_slices = image_stack.shape[0]\n",
    "assert num_slices == desired_num_slices\n",
    "assert image_stack.shape[1:3] == (512, 512)\n",
    "\n",
    "image_stack.shape"
   ]
  },
  {
   "cell_type": "code",
   "execution_count": null,
   "id": "eb710540-d375-4490-a2ce-e9b41cbc420a",
   "metadata": {},
   "outputs": [],
   "source": [
    "reduced_image_stack = skimage.measure.block_reduce(image_stack, block_size=cfg[\"reduce_block_sizes\"][0], func=np.mean)\n",
    "reduced_image_stack.shape"
   ]
  },
  {
   "cell_type": "code",
   "execution_count": null,
   "id": "2c699b9d-04a8-417c-b19e-555b82158c2e",
   "metadata": {},
   "outputs": [],
   "source": [
    "310 / 4"
   ]
  },
  {
   "cell_type": "code",
   "execution_count": null,
   "id": "39b5bb39-a3b1-4bb5-8e11-abdaf0caf44e",
   "metadata": {},
   "outputs": [],
   "source": [
    "step_size = 40\n",
    "\n",
    "reduced_num_slices = reduced_image_stack.shape[0]\n",
    "step_size = int(np.ceil(reduced_num_slices / np.ceil(reduced_num_slices / step_size)))\n",
    "z = list(range(0, reduced_num_slices, step_size)) + [reduced_num_slices]\n",
    "z"
   ]
  },
  {
   "cell_type": "code",
   "execution_count": null,
   "id": "6b18fc55-6207-4951-8927-6c20cc5ea36f",
   "metadata": {},
   "outputs": [],
   "source": [
    "y = [30, 60, 90]\n",
    "x = [30, 60, 90]\n",
    "\n",
    "predicted_masks = rai.inference_over_jittered_grid(\n",
    "    cfg=cfg, model=rai_starting_model, grid=(z, y, x), image_stack=reduced_image_stack, max_batch_size=10\n",
    ")"
   ]
  },
  {
   "cell_type": "code",
   "execution_count": null,
   "id": "ff3c2602-c6e1-425b-9a38-ae47a428b038",
   "metadata": {},
   "outputs": [],
   "source": [
    "where_mask = np.where(predicted_masks > 127.5)\n",
    "np.min(where_mask, axis=1)"
   ]
  },
  {
   "cell_type": "code",
   "execution_count": null,
   "id": "0589eefb-f332-4e2f-80af-c024afb456d7",
   "metadata": {},
   "outputs": [],
   "source": [
    "np.max(where_mask, axis=1)"
   ]
  },
  {
   "cell_type": "code",
   "execution_count": null,
   "id": "e8d8cf9a-8dce-4461-ab7e-d78c3792cafb",
   "metadata": {},
   "outputs": [],
   "source": [
    "# predicted_masks = rai.inference_over_jittered_grid(\n",
    "#     cfg=cfg, model=rai_dependent_model, grid=(z, y, x), image_stack=reduced_image_stack, masks_stack=predicted_masks\n",
    "# )"
   ]
  },
  {
   "cell_type": "code",
   "execution_count": null,
   "id": "6f51bcd4-8f5b-410c-8f7b-8ec94569f531",
   "metadata": {},
   "outputs": [],
   "source": [
    "cfg[\"reduce_block_sizes\"]"
   ]
  },
  {
   "cell_type": "code",
   "execution_count": null,
   "id": "d5012fcb-e18a-4599-9569-0de0ec55c5a8",
   "metadata": {},
   "outputs": [],
   "source": [
    "upscaled = predicted_masks\n",
    "\n",
    "for i in range(3):\n",
    "    upscaled = np.repeat(upscaled, repeats=2, axis=i)\n",
    "\n",
    "\n",
    "assert upscaled.shape[0] == image_stack.shape[0]\n",
    "    \n",
    "upscaled.shape"
   ]
  },
  {
   "cell_type": "code",
   "execution_count": null,
   "id": "5372a486-56f7-4f6a-b9f9-f55a6ec6f512",
   "metadata": {},
   "outputs": [],
   "source": [
    "where_mask = np.where(upscaled > 127.5)\n",
    "np.min(where_mask, axis=1)"
   ]
  },
  {
   "cell_type": "code",
   "execution_count": null,
   "id": "198822e0-a509-485c-8795-3a07e604c091",
   "metadata": {},
   "outputs": [],
   "source": [
    "np.max(where_mask, axis=1)"
   ]
  },
  {
   "cell_type": "code",
   "execution_count": null,
   "id": "5a338a26-bf5b-4c50-ae25-a86f85b9edf1",
   "metadata": {},
   "outputs": [],
   "source": [
    "reduced_image_stack = skimage.measure.block_reduce(image_stack, block_size=cfg[\"reduce_block_sizes\"][1], func=np.mean)\n",
    "reduced_image_stack.shape"
   ]
  },
  {
   "cell_type": "code",
   "execution_count": null,
   "id": "a6d77fd3-55fa-4456-a5b8-9fc6c7768f1f",
   "metadata": {},
   "outputs": [],
   "source": [
    "step_size = 40\n",
    "\n",
    "reduced_num_slices = reduced_image_stack.shape[0]\n",
    "step_size = int(np.ceil(reduced_num_slices / np.ceil(reduced_num_slices / step_size)))\n",
    "z = list(range(0, reduced_num_slices, step_size)) + [reduced_num_slices]\n",
    "z"
   ]
  },
  {
   "cell_type": "code",
   "execution_count": null,
   "id": "669f8f6c-ec7a-4b64-ad87-967df94d8ee6",
   "metadata": {},
   "outputs": [],
   "source": [
    "y = [60, 95, 130, 165]\n",
    "x = [65, 105, 145, 185]\n",
    "\n",
    "predicted_masks = rai.inference_over_jittered_grid(\n",
    "    cfg=cfg, model=rai_dependent_model, grid=(z, y, x), image_stack=reduced_image_stack, masks_stack=upscaled, max_batch_size=10\n",
    ")"
   ]
  },
  {
   "cell_type": "code",
   "execution_count": null,
   "id": "8a96db31-fd49-4062-b349-5b538bf26f2b",
   "metadata": {},
   "outputs": [],
   "source": [
    "predicted_masks.shape"
   ]
  },
  {
   "cell_type": "code",
   "execution_count": null,
   "id": "da775954-a252-46a5-acfc-6d79b39d7c3a",
   "metadata": {},
   "outputs": [],
   "source": [
    "np.max(predicted_masks)"
   ]
  },
  {
   "cell_type": "code",
   "execution_count": null,
   "id": "560f6d51-89ef-4cbf-a7cf-4d3f778d30e3",
   "metadata": {},
   "outputs": [],
   "source": [
    "upscaled = predicted_masks\n",
    "\n",
    "for i in range(1,3):\n",
    "    upscaled = np.repeat(upscaled, repeats=2, axis=i)\n",
    "    \n",
    "upscaled.shape"
   ]
  },
  {
   "cell_type": "code",
   "execution_count": null,
   "id": "0716adaf-53dd-4e81-b5b0-ed6210cd87c5",
   "metadata": {},
   "outputs": [],
   "source": [
    "structure_ds = pydicom.read_file(structure_path)\n",
    "[item.ROIName for item in structure_ds.StructureSetROISequence]"
   ]
  },
  {
   "cell_type": "code",
   "execution_count": null,
   "id": "73107915-f68c-494e-808b-9a57674ee07a",
   "metadata": {},
   "outputs": [],
   "source": [
    "align_map = {\n",
    "    \"Brain\": [TG263.Brain],\n",
    "    \"Brainstem\": [TG263.Brainstem],\n",
    "    \"Cochlea-Lt\": [TG263.Cochlea_L],\n",
    "    \"Cochlea-Rt\": [TG263.Cochlea_R],\n",
    "    \"Lacrimal-Lt\": [TG263.Glnd_Lacrimal_L],\n",
    "    \"Lacrimal-Rt\": [TG263.Glnd_Lacrimal_R],\n",
    "    \"Lens-Lt\": [TG263.Lens_L],\n",
    "    \"Lens-Rt\": [TG263.Lens_R],\n",
    "    \"Lung-Lt\": [TG263.Lung_L],\n",
    "    \"Lung-Rt\": [TG263.Lung_R],\n",
    "    \"Mandible\": [TG263.Bone_Mandible],\n",
    "    \"Optic-Nerve-Lt\": [TG263.OpticNrv_L],\n",
    "    \"Optic-Nerve-Rt\": [TG263.OpticNrv_R],\n",
    "    \"Orbit-Lt\": [TG263.Eye_L],\n",
    "    \"Orbit-Rt\": [TG263.Eye_R],\n",
    "    \"Parotid-Lt\": [TG263.Parotid_L],\n",
    "    \"Parotid-Rt\": [TG263.Parotid_R],\n",
    "    \"Spinal-Cord\": [TG263.SpinalCord],\n",
    "    \"Submandibular-Lt\": [TG263.Glnd_Submand_L],\n",
    "    \"Submandibular-Rt\": [TG263.Glnd_Submand_R],\n",
    "}\n",
    "structure_names = list(align_map.keys())\n",
    "\n",
    "dicom_contours_by_structure = rai.dicom_to_contours_by_structure(\n",
    "    ds=structure_ds, image_uids=image_uids, structure_names=structure_names\n",
    ")\n",
    "\n"
   ]
  },
  {
   "cell_type": "code",
   "execution_count": null,
   "id": "324e2854-eaee-4904-9bbe-8a2ab4f85510",
   "metadata": {},
   "outputs": [],
   "source": [
    "num_slices = image_stack.shape[0]\n",
    "step_size = int(np.ceil(num_slices / np.ceil(num_slices / 40)))\n",
    "z = list(range(0, num_slices, step_size)) + [num_slices]\n",
    "z"
   ]
  },
  {
   "cell_type": "code",
   "execution_count": null,
   "id": "387c00ad-c50b-494b-9fe1-532d1bfca7c0",
   "metadata": {},
   "outputs": [],
   "source": [
    "where_mask = np.where(upscaled > 127.5)\n",
    "np.min(where_mask, axis=1)"
   ]
  },
  {
   "cell_type": "code",
   "execution_count": null,
   "id": "0ff403b6-644a-4de6-bee3-3b22ea607400",
   "metadata": {},
   "outputs": [],
   "source": [
    "np.max(where_mask, axis=1)"
   ]
  },
  {
   "cell_type": "code",
   "execution_count": null,
   "id": "6f16e58e-3238-4d4c-beac-f065efc5db51",
   "metadata": {},
   "outputs": [],
   "source": [
    "y = list(range(125, 330, 40))\n",
    "y"
   ]
  },
  {
   "cell_type": "code",
   "execution_count": null,
   "id": "d2cd3fbd-b850-4ee1-89f5-76380054896f",
   "metadata": {},
   "outputs": [],
   "source": [
    "x = list(range(130, 380, 40))\n",
    "x"
   ]
  },
  {
   "cell_type": "code",
   "execution_count": null,
   "id": "1621af70-0d0b-481c-b0cc-4d6840903468",
   "metadata": {},
   "outputs": [],
   "source": [
    "predicted_masks = upscaled\n",
    "\n",
    "looped_dice = []\n",
    "for i in range(1):\n",
    "    predicted_masks = rai.inference_over_jittered_grid(\n",
    "        cfg=cfg, \n",
    "        model=rai_dependent_model, \n",
    "        grid=(z, y, x), \n",
    "        image_stack=image_stack, \n",
    "        masks_stack=predicted_masks, \n",
    "        max_batch_size=10, \n",
    "        verify=False  # TODO: Remove this before publishing\n",
    "    )\n",
    "    \n",
    "    \n",
    "    predicted_contours_by_structure = rai.masks_to_contours_by_structure(\n",
    "        cfg=cfg, x_grid=x_grid, y_grid=y_grid, masks=predicted_masks[0:original_num_slices, ...]\n",
    "    )\n",
    "    \n",
    "    aligned_predicted_contours_by_structure = rai.merge_contours_by_structure(\n",
    "        predicted_contours_by_structure, align_map\n",
    "    )\n",
    "    \n",
    "    dice = {}\n",
    "    for name in align_map:\n",
    "        dice[name] = rai.dice_from_contours_by_slice(\n",
    "            dicom_contours_by_structure[name],\n",
    "            aligned_predicted_contours_by_structure[name],\n",
    "        )\n",
    "        \n",
    "    looped_dice.append(dice)"
   ]
  },
  {
   "cell_type": "code",
   "execution_count": null,
   "id": "b2a019aa-ff96-42b9-90f1-b8f1d69d71ee",
   "metadata": {},
   "outputs": [],
   "source": [
    "for name in structure_names:\n",
    "    dice = []\n",
    "    for item in looped_dice:\n",
    "        dice.append(item[name])\n",
    "        \n",
    "    plt.plot(dice, '-o', label=name)\n",
    "    \n",
    "plt.legend()"
   ]
  },
  {
   "cell_type": "code",
   "execution_count": null,
   "id": "d267157e-25c6-40ae-b948-5cbd32d4d78f",
   "metadata": {},
   "outputs": [],
   "source": [
    "# predicted_contours_by_structure"
   ]
  },
  {
   "cell_type": "code",
   "execution_count": null,
   "id": "fc3f0eb4-ac4b-4402-aec3-47c6aaef28e0",
   "metadata": {},
   "outputs": [],
   "source": [
    "# looped_dice"
   ]
  },
  {
   "cell_type": "code",
   "execution_count": null,
   "id": "e4d91a0e-4961-40a7-9711-7f7deba69668",
   "metadata": {},
   "outputs": [],
   "source": [
    "# TODO: Create an ipywidget slider for the slices"
   ]
  },
  {
   "cell_type": "code",
   "execution_count": null,
   "id": "29045f40-aec9-43a9-941e-7048dd11412d",
   "metadata": {},
   "outputs": [],
   "source": []
  },
  {
   "cell_type": "code",
   "execution_count": null,
   "id": "ab2fa4d8-3f84-4f59-a50b-c32c2734c042",
   "metadata": {},
   "outputs": [],
   "source": []
  },
  {
   "cell_type": "code",
   "execution_count": null,
   "id": "b80fe311-b434-4203-b780-8a3284fe7820",
   "metadata": {},
   "outputs": [],
   "source": [
    "# TODO: Allow creation over other axis\n",
    "# First, verify that this can be used within plotly on tranverse\n",
    "\n",
    "predicted_contours_by_structure = rai.masks_to_contours_by_structure(\n",
    "    cfg=cfg, x_grid=x_grid, y_grid=y_grid, masks=predicted_masks[0:original_num_slices, ...]\n",
    ")"
   ]
  },
  {
   "cell_type": "code",
   "execution_count": null,
   "id": "018cd351-f921-4b87-a8a7-99653654296a",
   "metadata": {},
   "outputs": [],
   "source": [
    "import plotly.graph_objects as go\n",
    "\n",
    "\n",
    "\n",
    "fig = go.Figure()\n",
    "\n",
    "contours = predicted_contours_by_structure[TG263.Brain][50]\n",
    "\n",
    "for contour in contours:\n",
    "    contour_array = np.array(contour + [contour[0]])\n",
    "    \n",
    "    fig.add_trace(go.Scatter(\n",
    "        x=contour_array[:, 0],\n",
    "        y=contour_array[:, 1],\n",
    "        hoverinfo=\"skip\",\n",
    "        mode=\"lines\"\n",
    "    ))\n",
    "fig.show()"
   ]
  },
  {
   "cell_type": "code",
   "execution_count": null,
   "id": "3b304057-6519-4311-bd85-1f7e2cb4905e",
   "metadata": {},
   "outputs": [],
   "source": [
    "print(fig)"
   ]
  },
  {
   "cell_type": "code",
   "execution_count": null,
   "id": "8e7f037b-ec51-4a0a-b22a-0ef598d12572",
   "metadata": {},
   "outputs": [],
   "source": [
    "# predicted_contours_by_structure[TG263.Brain]"
   ]
  },
  {
   "cell_type": "code",
   "execution_count": null,
   "id": "62547db2-99e1-4a71-b016-ff65f2a80299",
   "metadata": {},
   "outputs": [],
   "source": []
  },
  {
   "cell_type": "code",
   "execution_count": null,
   "id": "162631ed-97da-4b08-a7f8-5853d2938eed",
   "metadata": {},
   "outputs": [],
   "source": [
    "from rai.display import interactive"
   ]
  },
  {
   "cell_type": "code",
   "execution_count": null,
   "id": "98bc1eba-86fe-4f1a-9604-682db0f0e37d",
   "metadata": {},
   "outputs": [],
   "source": []
  },
  {
   "cell_type": "code",
   "execution_count": null,
   "id": "a477d2de-d55d-42d3-96d2-8dea35c13c32",
   "metadata": {},
   "outputs": [],
   "source": []
  },
  {
   "cell_type": "code",
   "execution_count": null,
   "id": "8b94326a-1ce0-4115-97be-e152efd15506",
   "metadata": {},
   "outputs": [],
   "source": [
    "transverse, coronal, sagittal = interactive.collect_slices(\n",
    "    original_image_stack, \n",
    "    vmin = 0.2, \n",
    "    vmax = 0.4,\n",
    ")\n",
    "\n",
    "grids = (z_grid, y_grid, x_grid)\n",
    "\n",
    "images = interactive.create_plotly_layout_images(\n",
    "    grids, (50, 256, 256), transverse, coronal, sagittal)\n",
    "\n",
    "interactive.draw(\n",
    "    grids=grids,\n",
    "    images=images,\n",
    "    ranges=[\n",
    "        [-150, 100],\n",
    "        [80, -170],\n",
    "        [125,-125],\n",
    "    ]\n",
    ")"
   ]
  },
  {
   "cell_type": "code",
   "execution_count": null,
   "id": "b65aa34a-a9cd-4005-80ff-77a8f2a656c6",
   "metadata": {},
   "outputs": [],
   "source": []
  },
  {
   "cell_type": "code",
   "execution_count": null,
   "id": "4816b569-6aa2-4858-8578-ba94a919dde0",
   "metadata": {},
   "outputs": [],
   "source": []
  },
  {
   "cell_type": "code",
   "execution_count": null,
   "id": "c89e9d66-1ab4-410c-b476-68aa3b39172c",
   "metadata": {},
   "outputs": [],
   "source": []
  },
  {
   "cell_type": "code",
   "execution_count": null,
   "id": "d812bb17-5c85-4e40-891e-efc179d16aaf",
   "metadata": {},
   "outputs": [],
   "source": []
  },
  {
   "cell_type": "code",
   "execution_count": null,
   "id": "9a14b185-d8c9-4dff-8f99-2b927869de4b",
   "metadata": {},
   "outputs": [],
   "source": []
  },
  {
   "cell_type": "code",
   "execution_count": null,
   "id": "c844fb0b-5e98-455a-8f57-3352b390aa40",
   "metadata": {},
   "outputs": [],
   "source": [
    "# TODO:\n",
    "# * Change figures to clickable interactive transverse/coronal/sagital bokeh\n",
    "# * Calculate and report hausdorff and surface dice as well"
   ]
  }
 ],
 "metadata": {
  "kernelspec": {
   "display_name": "rai",
   "language": "python",
   "name": "rai"
  },
  "language_info": {
   "codemirror_mode": {
    "name": "ipython",
    "version": 3
   },
   "file_extension": ".py",
   "mimetype": "text/x-python",
   "name": "python",
   "nbconvert_exporter": "python",
   "pygments_lexer": "ipython3",
   "version": "3.7.9"
  }
 },
 "nbformat": 4,
 "nbformat_minor": 5
}
