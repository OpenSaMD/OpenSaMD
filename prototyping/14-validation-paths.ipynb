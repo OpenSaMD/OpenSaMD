{
 "cells": [
  {
   "cell_type": "code",
   "execution_count": null,
   "id": "2d2af9ef-b08c-4897-ad8d-c4a60e76645d",
   "metadata": {},
   "outputs": [],
   "source": [
    "import os\n",
    "import numpy as np\n",
    "import matplotlib.pyplot as plt\n",
    "import asyncio\n",
    "import concurrent.futures"
   ]
  },
  {
   "cell_type": "code",
   "execution_count": null,
   "id": "195f1508-7ea3-4165-ae8e-d4e7656fb088",
   "metadata": {},
   "outputs": [],
   "source": [
    "os.environ[\"CUDA_VISIBLE_DEVICES\"] = \"0\""
   ]
  },
  {
   "cell_type": "code",
   "execution_count": null,
   "id": "72d48335-4599-4e60-bdfc-2a0c3b18d76c",
   "metadata": {},
   "outputs": [],
   "source": [
    "%load_ext autoreload\n",
    "%autoreload 2"
   ]
  },
  {
   "cell_type": "code",
   "execution_count": null,
   "id": "dcd2d60b-c03d-414e-adcd-db602d1c5bd3",
   "metadata": {},
   "outputs": [],
   "source": [
    "from rtaiconfig import _config, _constants\n",
    "from rtaitrain._mapping import load as _mapping\n",
    "from rtaitrain._pipeline import main as _pipeline_main\n",
    "from rtaitrain._pipeline import _grouping"
   ]
  },
  {
   "cell_type": "code",
   "execution_count": null,
   "id": "743b94b4-f00d-49bd-a107-aed65c3e8d43",
   "metadata": {},
   "outputs": [],
   "source": [
    "cfg = _config.get_config(\"recursive\")\n",
    "mappings = _mapping.load(cfg.path.mapping)"
   ]
  },
  {
   "cell_type": "code",
   "execution_count": null,
   "id": "081da623-9e4d-49fb-adfb-34c4ad560075",
   "metadata": {},
   "outputs": [],
   "source": [
    "Name = _constants.Name\n",
    "DatasetType = _constants.DatasetType\n",
    "\n",
    "dataset_type = DatasetType.Validation"
   ]
  },
  {
   "cell_type": "code",
   "execution_count": null,
   "id": "aed395ff-a2f2-4efb-880d-cabd4f4108a7",
   "metadata": {},
   "outputs": [],
   "source": [
    "validation_structure_uids = _grouping.group_structure_uids(\n",
    "    cfg=cfg,\n",
    "    mappings=mappings,\n",
    "    dataset_type=dataset_type,\n",
    "    log_paths=True,\n",
    ")"
   ]
  },
  {
   "cell_type": "code",
   "execution_count": null,
   "id": "be725d65-7ff1-4d25-83e4-86893dac63ff",
   "metadata": {},
   "outputs": [],
   "source": [
    "paths = []\n",
    "\n",
    "for uid in validation_structure_uids:\n",
    "    path = mappings[\"uid_to_path\"][uid]\n",
    "    if path.parts[0] == \"Pediatric-CT-SEG\":\n",
    "        paths.append(path)\n",
    "        \n",
    "sorted(paths)"
   ]
  },
  {
   "cell_type": "code",
   "execution_count": null,
   "id": "2ceb39ca-57f5-4f55-ab99-0ce70f5e937f",
   "metadata": {},
   "outputs": [],
   "source": []
  }
 ],
 "metadata": {
  "kernelspec": {
   "display_name": "proprietary",
   "language": "python",
   "name": "proprietary"
  },
  "language_info": {
   "codemirror_mode": {
    "name": "ipython",
    "version": 3
   },
   "file_extension": ".py",
   "mimetype": "text/x-python",
   "name": "python",
   "nbconvert_exporter": "python",
   "pygments_lexer": "ipython3",
   "version": "3.10.6"
  }
 },
 "nbformat": 4,
 "nbformat_minor": 5
}
