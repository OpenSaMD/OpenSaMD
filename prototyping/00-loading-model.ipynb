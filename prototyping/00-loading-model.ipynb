{
 "cells": [
  {
   "cell_type": "code",
   "execution_count": null,
   "id": "61b5a624-b16f-4397-b9b7-46b021b26dbd",
   "metadata": {},
   "outputs": [],
   "source": [
    "import urllib.request\n",
    "import pathlib\n",
    "import shutil\n",
    "import collections\n",
    "\n",
    "import numpy as np\n",
    "import pydicom\n",
    "import matplotlib.pyplot as plt\n",
    "import skimage.measure"
   ]
  },
  {
   "cell_type": "code",
   "execution_count": null,
   "id": "c0096609-2749-463f-bfe6-ccaf5cec01e4",
   "metadata": {},
   "outputs": [],
   "source": [
    "%load_ext autoreload\n",
    "%autoreload 2"
   ]
  },
  {
   "cell_type": "code",
   "execution_count": null,
   "id": "1790e3b3-7022-480c-b53e-86fee30ef52a",
   "metadata": {},
   "outputs": [],
   "source": [
    "from rai.model import load\n",
    "from rai.data.images import paths_to_image_stack_hfs\n",
    "from rai.mask.convert import contour_sequence_to_masks, mask_to_contours\n",
    "from rai.metrics.dice import from_contours_by_slice\n",
    "\n",
    "from raicontours import cfg, TG263"
   ]
  },
  {
   "cell_type": "code",
   "execution_count": null,
   "id": "4c774774-8d68-4103-9557-bc8eb1d28441",
   "metadata": {},
   "outputs": [],
   "source": [
    "model = load.load_model()"
   ]
  },
  {
   "cell_type": "code",
   "execution_count": null,
   "id": "11574912-a00c-42e4-8721-5065bc426446",
   "metadata": {},
   "outputs": [],
   "source": [
    "data_path = pathlib.Path('data')"
   ]
  },
  {
   "cell_type": "code",
   "execution_count": null,
   "id": "8dbb9140-f1b3-4ce8-a022-91b68ea427e4",
   "metadata": {},
   "outputs": [],
   "source": [
    "# # TODO: This can be downloaded in parallel.\n",
    "\n",
    "# data_path.mkdir(exist_ok=True)\n",
    "\n",
    "# data_root = 'https://github.com/RadiotherapyAI/data-tcia-deepmind/raw/61fd2525f9880c8b201758f43c773e515572be92/0522c0659'\n",
    "\n",
    "# filenames = [f\"CT-{item:03d}.dcm\" for item in range(165)] + [\"RS.dcm\"]\n",
    "\n",
    "# for filename in filenames:\n",
    "#     urllib.request.urlretrieve(f\"{data_root}/{filename}\", data_path / filename)"
   ]
  },
  {
   "cell_type": "code",
   "execution_count": null,
   "id": "d71ba844-3b9b-4592-8bfc-4239843ed166",
   "metadata": {},
   "outputs": [],
   "source": [
    "image_paths = [data_path / f\"CT-{item:03d}.dcm\" for item in range(165)]"
   ]
  },
  {
   "cell_type": "code",
   "execution_count": null,
   "id": "b88fefb7-42e0-419d-b631-1568fab422c4",
   "metadata": {},
   "outputs": [],
   "source": [
    "# image_stack = paths_to_image_stack(image_paths)"
   ]
  },
  {
   "cell_type": "code",
   "execution_count": null,
   "id": "b6dc007e-75d5-420b-884f-e554dd1d95f4",
   "metadata": {},
   "outputs": [],
   "source": [
    "# image_stack.shape"
   ]
  },
  {
   "cell_type": "code",
   "execution_count": null,
   "id": "b952829c-1c97-4aa5-8081-d53dee05bef5",
   "metadata": {},
   "outputs": [],
   "source": [
    "# np.max(image_stack)"
   ]
  },
  {
   "cell_type": "code",
   "execution_count": null,
   "id": "2cf7ac85-6aad-4530-b070-c3f9a9065ffe",
   "metadata": {},
   "outputs": [],
   "source": [
    "x_grid, y_grid, image_stack, image_uids = paths_to_image_stack_hfs(image_paths)\n",
    "\n",
    "\n",
    "# initial_reduce_block_size = cfg[\"reduce_block_sizes\"][0]\n",
    "\n",
    "# reduced_image_stack = skimage.measure.block_reduce(\n",
    "#     image_stack, block_size=initial_reduce_block_size, func=np.mean\n",
    "# )\n",
    "# reduced_x_grid = skimage.measure.block_reduce(\n",
    "#     x_grid, block_size=initial_reduce_block_size[2], func=np.mean\n",
    "# )\n",
    "# reduced_y_grid = skimage.measure.block_reduce(\n",
    "#     y_grid, block_size=initial_reduce_block_size[1], func=np.mean\n",
    "# )"
   ]
  },
  {
   "cell_type": "code",
   "execution_count": null,
   "id": "b21d737e-8586-4652-b99a-150dfdb32796",
   "metadata": {},
   "outputs": [],
   "source": [
    "structure_ds = pydicom.read_file(data_path / \"RS.dcm\")"
   ]
  },
  {
   "cell_type": "code",
   "execution_count": null,
   "id": "b4710075-ac40-4e34-a7e6-9d30bd6b47f9",
   "metadata": {},
   "outputs": [],
   "source": [
    "name_to_number_map = {\n",
    "    item.ROIName: item.ROINumber for item in structure_ds.StructureSetROISequence\n",
    "}\n",
    "\n",
    "name_to_number_map"
   ]
  },
  {
   "cell_type": "code",
   "execution_count": null,
   "id": "16c7c96c-e473-4775-908d-fcf9f0c23a3e",
   "metadata": {},
   "outputs": [],
   "source": [
    "TG263_to_deepmind_map = {\n",
    "    TG263.Eye_L: 'Orbit-Lt',\n",
    "    TG263.Eye_R: 'Orbit-Rt',\n",
    "    TG263.OpticNrv_L: 'Optic-Nerve-Lt',\n",
    "    TG263.OpticNrv_R: 'Optic-Nerve-Rt',\n",
    "}"
   ]
  },
  {
   "cell_type": "code",
   "execution_count": null,
   "id": "524a4393-5efd-4948-b906-08c3beb09667",
   "metadata": {},
   "outputs": [],
   "source": [
    "number_to_contour_sequence_map = {\n",
    "    item.ReferencedROINumber: item.ContourSequence for item in structure_ds.ROIContourSequence\n",
    "}"
   ]
  },
  {
   "cell_type": "code",
   "execution_count": null,
   "id": "2e8677ea-5675-4b2d-90de-c7fb22367ecb",
   "metadata": {},
   "outputs": [],
   "source": [
    "structure_name_to_contour_sequence_map = {\n",
    "    structure_name: number_to_contour_sequence_map[name_to_number_map[TG263_to_deepmind_map[structure_name]]] for structure_name in cfg[\"structures\"]\n",
    "}"
   ]
  },
  {
   "cell_type": "code",
   "execution_count": null,
   "id": "b8879570-a466-4bbb-a0c8-b2f0475614c5",
   "metadata": {},
   "outputs": [],
   "source": [
    "structure_name_to_contour_sequence_map"
   ]
  },
  {
   "cell_type": "code",
   "execution_count": null,
   "id": "ca262b25-1f69-4308-9241-48666a54e189",
   "metadata": {},
   "outputs": [],
   "source": [
    "masks = []\n",
    "\n",
    "for structure_name in cfg[\"structures\"]:\n",
    "    mask = contour_sequence_to_masks(x_grid, y_grid, image_uids, structure_name_to_contour_sequence_map[structure_name], expansion=4)\n",
    "    masks.append(mask[..., None])\n",
    "    \n",
    "masks = np.concatenate(masks, axis=-1)"
   ]
  },
  {
   "cell_type": "code",
   "execution_count": null,
   "id": "025231c2-2ea3-4f96-bc7f-e3b3be079114",
   "metadata": {},
   "outputs": [],
   "source": [
    "masks.shape"
   ]
  },
  {
   "cell_type": "code",
   "execution_count": null,
   "id": "e83259af-1eea-4cbf-b0c0-c7ab06e8a5bd",
   "metadata": {},
   "outputs": [],
   "source": [
    "# shrunk_masks =  skimage.measure.block_reduce(\n",
    "#     masks, block_size=(2, 4, 4, 1), func=np.max\n",
    "# )"
   ]
  },
  {
   "cell_type": "code",
   "execution_count": null,
   "id": "71e1508c-9bef-4bb1-9e0d-e4552afea5e2",
   "metadata": {},
   "outputs": [],
   "source": [
    "# shrunk_masks.shape"
   ]
  },
  {
   "cell_type": "code",
   "execution_count": null,
   "id": "1ff7a04e-76bf-48fc-af71-8eae0ecbc3ac",
   "metadata": {},
   "outputs": [],
   "source": [
    "# image_uids"
   ]
  },
  {
   "cell_type": "code",
   "execution_count": null,
   "id": "711a36a2-16f5-47b9-b400-8828cffef20a",
   "metadata": {},
   "outputs": [],
   "source": [
    "gt_masks = masks[13:77, 145:209, 224:288, :]\n",
    "np.max(gt_masks[..., 0])"
   ]
  },
  {
   "cell_type": "code",
   "execution_count": null,
   "id": "bebde73d-32ea-4cc9-ade9-1de9523fcdc1",
   "metadata": {},
   "outputs": [],
   "source": [
    "(200 + 155) / 2"
   ]
  },
  {
   "cell_type": "code",
   "execution_count": null,
   "id": "b97eb1eb-d322-4c29-9f86-018c45d47849",
   "metadata": {},
   "outputs": [],
   "source": [
    "177 - 32"
   ]
  },
  {
   "cell_type": "code",
   "execution_count": null,
   "id": "cfcbd041-0fef-4b87-9172-87a5a7fc8ad9",
   "metadata": {},
   "outputs": [],
   "source": [
    "177 + 32"
   ]
  },
  {
   "cell_type": "code",
   "execution_count": null,
   "id": "9cb0e555-2090-4807-9873-d185dd9c65e3",
   "metadata": {},
   "outputs": [],
   "source": [
    "(227 + 286) / 2"
   ]
  },
  {
   "cell_type": "code",
   "execution_count": null,
   "id": "f224d004-5427-4280-902d-7853aff8074e",
   "metadata": {},
   "outputs": [],
   "source": [
    "np.where(masks[..., 0] == 255)"
   ]
  },
  {
   "cell_type": "code",
   "execution_count": null,
   "id": "f6689e1f-8392-4d94-8d2b-abd31bfa7c50",
   "metadata": {},
   "outputs": [],
   "source": [
    "np.where(masks[..., 1] == 255)"
   ]
  },
  {
   "cell_type": "code",
   "execution_count": null,
   "id": "cf8462af-cf06-4c83-ba30-dcf27b064174",
   "metadata": {},
   "outputs": [],
   "source": [
    "np.where(masks[..., 2] == 255)"
   ]
  },
  {
   "cell_type": "code",
   "execution_count": null,
   "id": "04debc14-6ad1-42a0-989b-3f09683ac15a",
   "metadata": {},
   "outputs": [],
   "source": [
    "np.where(masks[..., 3] == 255)"
   ]
  },
  {
   "cell_type": "code",
   "execution_count": null,
   "id": "77908478-f0cb-4128-851d-4c3b0f1c3be8",
   "metadata": {},
   "outputs": [],
   "source": [
    "256 - 32"
   ]
  },
  {
   "cell_type": "code",
   "execution_count": null,
   "id": "579087cc-1d93-4dcc-bd42-2b3a99ac36a1",
   "metadata": {},
   "outputs": [],
   "source": [
    "256 + 32"
   ]
  },
  {
   "cell_type": "code",
   "execution_count": null,
   "id": "74ce1d25-de12-497f-a5d6-b41550691974",
   "metadata": {},
   "outputs": [],
   "source": [
    "# reduced_image_stack.shape"
   ]
  },
  {
   "cell_type": "code",
   "execution_count": null,
   "id": "c3e2803e-084c-457e-a288-205d80883c09",
   "metadata": {},
   "outputs": [],
   "source": [
    "model_input = image_stack[None, 13:77, 145:209, 224:288]\n",
    "model_input.shape"
   ]
  },
  {
   "cell_type": "code",
   "execution_count": null,
   "id": "e7b30375-0bbf-4173-b1a2-2c9626141358",
   "metadata": {},
   "outputs": [],
   "source": [
    "model_output = model.predict(model_input)"
   ]
  },
  {
   "cell_type": "code",
   "execution_count": null,
   "id": "ae074448-5b28-40a3-be2b-c29c2fef55ce",
   "metadata": {},
   "outputs": [],
   "source": [
    "cfg[\"structures\"]"
   ]
  },
  {
   "cell_type": "code",
   "execution_count": null,
   "id": "ca26dab6-02ac-4e20-a986-e7062f467544",
   "metadata": {},
   "outputs": [],
   "source": [
    "contours_by_structure_pd = {}\n",
    "contours_by_structure_gt = {}\n",
    "\n",
    "for structure_index, structure_name in enumerate(cfg[\"structures\"]):\n",
    "    this_structure_pd = model_output[0, ..., structure_index]\n",
    "    this_structure_gt = gt_masks[..., structure_index]\n",
    "    \n",
    "    contours_by_slice_pd = []\n",
    "    contours_by_slice_gt = []\n",
    "    for z_index in range(64):\n",
    "        this_slice_pd = this_structure_pd[z_index, ...]\n",
    "        this_slice_gt = this_structure_gt[z_index, ...]\n",
    "        \n",
    "        contours_pd = mask_to_contours(x_grid, y_grid, this_slice_pd)\n",
    "        contours_gt = mask_to_contours(x_grid, y_grid, this_slice_gt)\n",
    "        \n",
    "        contours_by_slice_pd.append(contours_pd)\n",
    "        contours_by_slice_gt.append(contours_gt)\n",
    "        \n",
    "    contours_by_structure_pd[structure_name] = contours_by_slice_pd\n",
    "    contours_by_structure_gt[structure_name] = contours_by_slice_gt"
   ]
  },
  {
   "cell_type": "code",
   "execution_count": null,
   "id": "5738e2b5-fb7f-4e05-8e02-9560fccabfdf",
   "metadata": {},
   "outputs": [],
   "source": [
    "# contours_by_structure_pd"
   ]
  },
  {
   "cell_type": "code",
   "execution_count": null,
   "id": "db4a822a-cd61-47d8-987b-67f17f9b1052",
   "metadata": {},
   "outputs": [],
   "source": [
    "dice = {}\n",
    "\n",
    "for structure_name in cfg[\"structures\"]:\n",
    "    a = contours_by_structure_pd[structure_name]\n",
    "    b = contours_by_structure_gt[structure_name]\n",
    "    \n",
    "    dice[structure_name] = from_contours_by_slice(a, b)\n",
    "\n",
    "\n",
    "dice"
   ]
  },
  {
   "cell_type": "code",
   "execution_count": null,
   "id": "aaec4080-1441-41ea-9ecb-adeaaf1869ec",
   "metadata": {},
   "outputs": [],
   "source": []
  },
  {
   "cell_type": "code",
   "execution_count": null,
   "id": "53fe318e-a966-4359-9297-0931dd835e95",
   "metadata": {},
   "outputs": [],
   "source": []
  },
  {
   "cell_type": "code",
   "execution_count": null,
   "id": "440d4534-2c67-4300-ae69-e368aa4e0fc0",
   "metadata": {},
   "outputs": [],
   "source": [
    "def _plot_model_result(\n",
    "    model_input, model_output\n",
    "):\n",
    "    contours_by_slice = _get_contours_by_slice(\n",
    "        images=model_input,\n",
    "        predictions=model_output,\n",
    "    )\n",
    "\n",
    "    x = list(range(model_input.shape[1]))\n",
    "    vmin = 0.2\n",
    "    vmax = 0.4\n",
    "\n",
    "    ylim = [-np.inf, np.inf]\n",
    "    xlim = [np.inf, -np.inf]\n",
    "\n",
    "    axs = []\n",
    "\n",
    "    for z_index, contours_by_name in contours_by_slice.items():\n",
    "        fig, ax = plt.subplots()\n",
    "        axs.append(ax)\n",
    "\n",
    "        ax.pcolormesh(\n",
    "            x,\n",
    "            x,\n",
    "            model_input[z_index, :, :],\n",
    "            vmin=vmin,\n",
    "            vmax=vmax,\n",
    "            shading=\"nearest\",\n",
    "            cmap=\"gray\",\n",
    "        )\n",
    "\n",
    "        for structure_name, contours in contours_by_name.items():\n",
    "            for contour in contours:\n",
    "                ax.plot(\n",
    "                    contour[:, 1],\n",
    "                    contour[:, 0],\n",
    "                    label=structure_name.value,\n",
    "                )\n",
    "\n",
    "                xlim[1] = np.max([np.max(contour[:, 1]), xlim[1]])\n",
    "                xlim[0] = np.min([np.min(contour[:, 1]), xlim[0]])\n",
    "                ylim[0] = np.max([np.max(contour[:, 0]), ylim[0]])\n",
    "                ylim[1] = np.min([np.min(contour[:, 0]), ylim[1]])\n",
    "\n",
    "        ax.set_aspect(\"equal\", \"box\")\n",
    "\n",
    "        plt.legend(bbox_to_anchor=(1.04, 1), loc=\"upper left\")\n",
    "\n",
    "    x_range = xlim[1] - xlim[0]\n",
    "    y_range = ylim[0] - ylim[1]\n",
    "\n",
    "    margin = 0.2\n",
    "\n",
    "    xlim[0] -= x_range * margin\n",
    "    xlim[1] += x_range * margin\n",
    "\n",
    "    ylim[1] -= y_range * margin\n",
    "    ylim[0] += y_range * margin\n",
    "\n",
    "    for ax in axs:\n",
    "        ax.set_ylim(ylim)\n",
    "        ax.set_xlim(xlim)\n",
    "\n",
    "    plt.show()"
   ]
  },
  {
   "cell_type": "code",
   "execution_count": null,
   "id": "b911ffad-58f9-4bba-9eb2-b483b34114fe",
   "metadata": {},
   "outputs": [],
   "source": [
    "def _get_contours_by_slice(\n",
    "    images, predictions\n",
    "):\n",
    "    num_slices = images.shape[0]\n",
    "    contours_by_slice = collections.defaultdict(dict)\n",
    "\n",
    "    for i in range(num_slices):\n",
    "        for structure_name in cfg[\"structures\"]:\n",
    "            k = cfg[\"structures\"].index(structure_name)\n",
    "\n",
    "            prediction_slice = predictions[i, :, :, k]\n",
    "\n",
    "            if np.max(prediction_slice) < 127.5:\n",
    "                continue\n",
    "\n",
    "            contours = skimage.measure.find_contours(prediction_slice, level=127.5)\n",
    "            contours_by_slice[i][structure_name] = contours\n",
    "\n",
    "    return contours_by_slice"
   ]
  },
  {
   "cell_type": "code",
   "execution_count": null,
   "id": "ae61abec-4e8d-4180-9608-23a61e843ed6",
   "metadata": {},
   "outputs": [],
   "source": [
    "_plot_model_result(model_input[0, ...], model_output[0, ...])"
   ]
  },
  {
   "cell_type": "code",
   "execution_count": null,
   "id": "114dddd8-28ab-4b74-96df-9b5f77a2a3bf",
   "metadata": {},
   "outputs": [],
   "source": []
  }
 ],
 "metadata": {
  "kernelspec": {
   "display_name": "rai",
   "language": "python",
   "name": "rai"
  },
  "language_info": {
   "codemirror_mode": {
    "name": "ipython",
    "version": 3
   },
   "file_extension": ".py",
   "mimetype": "text/x-python",
   "name": "python",
   "nbconvert_exporter": "python",
   "pygments_lexer": "ipython3",
   "version": "3.10.6"
  }
 },
 "nbformat": 4,
 "nbformat_minor": 5
}
