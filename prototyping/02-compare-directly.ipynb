{
 "cells": [
  {
   "cell_type": "code",
   "execution_count": null,
   "id": "61b5a624-b16f-4397-b9b7-46b021b26dbd",
   "metadata": {},
   "outputs": [],
   "source": [
    "import urllib.request\n",
    "import pathlib\n",
    "import shutil\n",
    "import collections\n",
    "import multiprocessing\n",
    "\n",
    "import numpy as np\n",
    "import pydicom\n",
    "import matplotlib.pyplot as plt\n",
    "import skimage.measure"
   ]
  },
  {
   "cell_type": "code",
   "execution_count": null,
   "id": "c0096609-2749-463f-bfe6-ccaf5cec01e4",
   "metadata": {},
   "outputs": [],
   "source": [
    "%load_ext autoreload\n",
    "%autoreload 2"
   ]
  },
  {
   "cell_type": "code",
   "execution_count": null,
   "id": "1790e3b3-7022-480c-b53e-86fee30ef52a",
   "metadata": {},
   "outputs": [],
   "source": [
    "from rai.model import load\n",
    "from rai.data.images import paths_to_image_stack_hfs\n",
    "from rai.mask.convert import contour_sequence_to_masks, mask_to_contours\n",
    "from rai.metrics.dice import from_contours_by_slice\n",
    "\n",
    "from rai.dicom import structures as _dicom_structures\n",
    "\n",
    "from rai.inference import batch, merge\n",
    "\n",
    "from raicontours import cfg, TG263"
   ]
  },
  {
   "cell_type": "code",
   "execution_count": null,
   "id": "4c774774-8d68-4103-9557-bc8eb1d28441",
   "metadata": {},
   "outputs": [],
   "source": [
    "model = load.load_model()"
   ]
  },
  {
   "cell_type": "code",
   "execution_count": null,
   "id": "11574912-a00c-42e4-8721-5065bc426446",
   "metadata": {},
   "outputs": [],
   "source": [
    "data_path = pathlib.Path('data')"
   ]
  },
  {
   "cell_type": "code",
   "execution_count": null,
   "id": "63eee135-9524-4f9c-b78f-77ed5e3abab8",
   "metadata": {},
   "outputs": [],
   "source": [
    "structure_url = \"https://github.com/RadiotherapyAI/data-tcia-hnscc-part-3/raw/main/HNSCC-01-0201/10-21-2002-RT%20SIMULATION-79781/1.000000-91247/1-1.dcm\"\n",
    "structure_path = data_path / \"1-1.dcm\""
   ]
  },
  {
   "cell_type": "code",
   "execution_count": null,
   "id": "7836525a-b39b-4ce4-9f50-c4b6091fabfa",
   "metadata": {},
   "outputs": [],
   "source": [
    "image_filenames = [f\"1-{item:03d}.dcm\" for item in range(1, 177)]\n",
    "\n",
    "image_urls = [\n",
    "    f\"https://github.com/RadiotherapyAI/data-tcia-hnscc-part-3/raw/main/HNSCC-01-0201/10-21-2002-RT%20SIMULATION-79781/2.000000-47027/{filename}\"\n",
    "    for filename in image_filenames\n",
    "]\n",
    "image_paths = [\n",
    "    data_path / filename\n",
    "    for filename in image_filenames\n",
    "]"
   ]
  },
  {
   "cell_type": "code",
   "execution_count": null,
   "id": "89dcbda2-bc00-4c59-8a5e-f03c5017177e",
   "metadata": {},
   "outputs": [],
   "source": [
    "urls_to_download = [structure_url] + image_urls\n",
    "paths_to_save_to = [structure_path] + image_paths"
   ]
  },
  {
   "cell_type": "code",
   "execution_count": null,
   "id": "afef8196-a839-4f1b-b28d-e0199d0870eb",
   "metadata": {},
   "outputs": [],
   "source": [
    "processes = []\n",
    "\n",
    "for url, path in zip(urls_to_download, paths_to_save_to):\n",
    "    if path.exists():\n",
    "        continue\n",
    "        \n",
    "    p = multiprocessing.Process(\n",
    "        target=urllib.request.urlretrieve,\n",
    "        kwargs={\"url\": url, \"filename\": path}\n",
    "    )\n",
    "    p.start()\n",
    "    processes.append(p)\n",
    "    \n",
    "for p in processes:\n",
    "    p.join()"
   ]
  },
  {
   "cell_type": "code",
   "execution_count": null,
   "id": "60582a8b-f239-409b-9509-4f1722b1854d",
   "metadata": {},
   "outputs": [],
   "source": []
  },
  {
   "cell_type": "code",
   "execution_count": null,
   "id": "2cf7ac85-6aad-4530-b070-c3f9a9065ffe",
   "metadata": {},
   "outputs": [],
   "source": [
    "x_grid, y_grid, image_stack, image_uids = paths_to_image_stack_hfs(image_paths)"
   ]
  },
  {
   "cell_type": "code",
   "execution_count": null,
   "id": "b21d737e-8586-4652-b99a-150dfdb32796",
   "metadata": {},
   "outputs": [],
   "source": [
    "structure_ds = pydicom.read_file(structure_path)"
   ]
  },
  {
   "cell_type": "code",
   "execution_count": null,
   "id": "b4710075-ac40-4e34-a7e6-9d30bd6b47f9",
   "metadata": {},
   "outputs": [],
   "source": [
    "name_to_number_map = {\n",
    "    item.ROIName: item.ROINumber for item in structure_ds.StructureSetROISequence\n",
    "}\n",
    "\n",
    "name_to_number_map"
   ]
  },
  {
   "cell_type": "code",
   "execution_count": null,
   "id": "16c7c96c-e473-4775-908d-fcf9f0c23a3e",
   "metadata": {},
   "outputs": [],
   "source": [
    "name_map = {\n",
    "    'Eyes': [TG263.Eye_L, TG263.Eye_R],\n",
    "    'L Optic Nerve': [TG263.OpticNrv_L],\n",
    "    'R Optic Nerve': [TG263.OpticNrv_R]\n",
    "}"
   ]
  },
  {
   "cell_type": "code",
   "execution_count": null,
   "id": "524a4393-5efd-4948-b906-08c3beb09667",
   "metadata": {},
   "outputs": [],
   "source": [
    "number_to_contour_sequence_map = {\n",
    "    item.ReferencedROINumber: item.ContourSequence for item in structure_ds.ROIContourSequence\n",
    "}"
   ]
  },
  {
   "cell_type": "code",
   "execution_count": null,
   "id": "2e8677ea-5675-4b2d-90de-c7fb22367ecb",
   "metadata": {},
   "outputs": [],
   "source": [
    "structure_name_to_contour_sequence_map = {\n",
    "    structure_name: number_to_contour_sequence_map[name_to_number_map[TG263_to_deepmind_map[structure_name]]] for structure_name in TG263_to_deepmind_map.keys()\n",
    "}"
   ]
  },
  {
   "cell_type": "code",
   "execution_count": null,
   "id": "b8879570-a466-4bbb-a0c8-b2f0475614c5",
   "metadata": {},
   "outputs": [],
   "source": [
    "structure_name_to_contour_sequence_map"
   ]
  },
  {
   "cell_type": "code",
   "execution_count": null,
   "id": "e81e5d12-4d1a-40ce-a776-0bf94d8d8319",
   "metadata": {},
   "outputs": [],
   "source": [
    "import itertools"
   ]
  },
  {
   "cell_type": "code",
   "execution_count": null,
   "id": "b1f5eee5-5fec-4309-b862-879bcaaeeb14",
   "metadata": {},
   "outputs": [],
   "source": [
    "z = [35, 45, 55]\n",
    "y = [155, 175, 195, 215]\n",
    "x = [210, 230, 250, 270, 290, 310]\n",
    "\n",
    "points = []\n",
    "for point in itertools.product(z, y, x):\n",
    "    point = np.random.randint(-1, 2, size=3) + point\n",
    "    points.append(tuple(point.tolist()))\n",
    "\n",
    "\n",
    "# points"
   ]
  },
  {
   "cell_type": "code",
   "execution_count": null,
   "id": "5489b473-e0f4-4a6b-ba2e-770f579b6c2a",
   "metadata": {},
   "outputs": [],
   "source": [
    "model_input = batch.create_batch(image_stack, points)\n",
    "model_input.shape"
   ]
  },
  {
   "cell_type": "code",
   "execution_count": null,
   "id": "b3aedd4c-4d8c-44a5-996d-98b8f33245c3",
   "metadata": {},
   "outputs": [],
   "source": [
    "# model_input += np.random.normal(size=model_input.shape, scale=0.0001)"
   ]
  },
  {
   "cell_type": "code",
   "execution_count": null,
   "id": "b1bd2004-0911-47e1-a214-a8fcc87c7bff",
   "metadata": {},
   "outputs": [],
   "source": [
    "# model_output = batch.run_batch(model=model, model_input=model_input, max_batch_size=20)\n",
    "\n",
    "model_output = model.predict(model_input)"
   ]
  },
  {
   "cell_type": "code",
   "execution_count": null,
   "id": "996a7cba-90a5-47d9-94eb-fd46ddb50717",
   "metadata": {},
   "outputs": [],
   "source": [
    "merged = np.zeros(shape=image_stack.shape + (len(cfg[\"structures\"]),), dtype=np.uint8)\n",
    "counts = np.zeros(shape=image_stack.shape + (1,), dtype=np.float32)"
   ]
  },
  {
   "cell_type": "code",
   "execution_count": null,
   "id": "a911a040-52e4-4df4-bbc1-bd5ebcb7abc0",
   "metadata": {},
   "outputs": [],
   "source": []
  },
  {
   "cell_type": "code",
   "execution_count": null,
   "id": "451dfcc7-0bf7-4265-a961-a281991cbf93",
   "metadata": {},
   "outputs": [],
   "source": [
    "merged, counts = merge.merge_predictions(merged, counts, points, model_output)"
   ]
  },
  {
   "cell_type": "code",
   "execution_count": null,
   "id": "9c8d1f28-107e-4982-8527-f704b78281de",
   "metadata": {},
   "outputs": [],
   "source": [
    "merged.shape"
   ]
  },
  {
   "cell_type": "code",
   "execution_count": null,
   "id": "2ed4641b-2792-4ef4-89fa-d056b7cbbb66",
   "metadata": {},
   "outputs": [],
   "source": [
    "where_mask = np.where(merged > 127.5)\n",
    "    \n",
    "print(np.min(where_mask, axis=1))\n",
    "print(np.max(where_mask, axis=1))"
   ]
  },
  {
   "cell_type": "code",
   "execution_count": null,
   "id": "ae074448-5b28-40a3-be2b-c29c2fef55ce",
   "metadata": {},
   "outputs": [],
   "source": [
    "cfg[\"structures\"]"
   ]
  },
  {
   "cell_type": "code",
   "execution_count": null,
   "id": "ca26dab6-02ac-4e20-a986-e7062f467544",
   "metadata": {},
   "outputs": [],
   "source": [
    "contours_by_structure_pd = {}\n",
    "\n",
    "for structure_index, structure_name in enumerate(cfg[\"structures\"]):\n",
    "    this_structure_pd = merged[..., structure_index]\n",
    "    \n",
    "    contours_by_slice_pd = []\n",
    "    for z_index in range(image_stack.shape[0]):\n",
    "        this_slice_pd = this_structure_pd[z_index, ...]\n",
    "        contours_pd = mask_to_contours(x_grid, y_grid, this_slice_pd)\n",
    "        contours_by_slice_pd.append(contours_pd)\n",
    "        \n",
    "    contours_by_structure_pd[structure_name] = contours_by_slice_pd"
   ]
  },
  {
   "cell_type": "code",
   "execution_count": null,
   "id": "7b651427-9473-4a47-89cf-100da12b4836",
   "metadata": {},
   "outputs": [],
   "source": []
  },
  {
   "cell_type": "code",
   "execution_count": null,
   "id": "62417ab5-265b-4bde-86a1-5c82322c36db",
   "metadata": {},
   "outputs": [],
   "source": []
  },
  {
   "cell_type": "code",
   "execution_count": null,
   "id": "5738e2b5-fb7f-4e05-8e02-9560fccabfdf",
   "metadata": {},
   "outputs": [],
   "source": [
    "# contours_by_structure_pd"
   ]
  },
  {
   "cell_type": "code",
   "execution_count": null,
   "id": "db4a822a-cd61-47d8-987b-67f17f9b1052",
   "metadata": {},
   "outputs": [],
   "source": [
    "contours_by_structure_gt = {}\n",
    "dice = {}\n",
    "\n",
    "for structure_name in cfg[\"structures\"]:\n",
    "    contours_by_slice_gt = _dicom_structures.contour_sequence_to_contours_by_slice(\n",
    "        image_uids, structure_name_to_contour_sequence_map[structure_name], \n",
    "    )\n",
    "    contours_by_structure_gt[structure_name] = contours_by_slice_gt\n",
    "    \n",
    "    contours_by_slice_pd = contours_by_structure_pd[structure_name]\n",
    "\n",
    "    dice[structure_name] = from_contours_by_slice(contours_by_slice_gt, contours_by_slice_pd)\n",
    "\n",
    "\n",
    "dice"
   ]
  },
  {
   "cell_type": "code",
   "execution_count": null,
   "id": "aaec4080-1441-41ea-9ecb-adeaaf1869ec",
   "metadata": {},
   "outputs": [],
   "source": [
    "# {<TG263.Eye_L: 'Eye_L'>: 0.9286226212597871,\n",
    "#  <TG263.Eye_R: 'Eye_R'>: 0.9334308746033888,\n",
    "#  <TG263.OpticNrv_L: 'OpticNrv_L'>: 0.6856320902654309,\n",
    "#  <TG263.OpticNrv_R: 'OpticNrv_R'>: 0.6884461234057949}"
   ]
  },
  {
   "cell_type": "code",
   "execution_count": null,
   "id": "39e538d8-3ec1-4f78-a2da-094c60ed935d",
   "metadata": {},
   "outputs": [],
   "source": [
    "# {<TG263.Eye_L: 'Eye_L'>: 0.9276166769047884,\n",
    "#  <TG263.Eye_R: 'Eye_R'>: 0.9329666079985781,\n",
    "#  <TG263.OpticNrv_L: 'OpticNrv_L'>: 0.6790198588731543,\n",
    "#  <TG263.OpticNrv_R: 'OpticNrv_R'>: 0.699842287849424}"
   ]
  },
  {
   "cell_type": "code",
   "execution_count": null,
   "id": "f675f3f6-032e-49a4-8628-f2f59a55d805",
   "metadata": {},
   "outputs": [],
   "source": [
    "# {<TG263.Eye_L: 'Eye_L'>: 0.9270018339944661,\n",
    "#  <TG263.Eye_R: 'Eye_R'>: 0.9319641570630034,\n",
    "#  <TG263.OpticNrv_L: 'OpticNrv_L'>: 0.6728881191293525,\n",
    "#  <TG263.OpticNrv_R: 'OpticNrv_R'>: 0.7000592546884346}"
   ]
  },
  {
   "cell_type": "code",
   "execution_count": null,
   "id": "53fe318e-a966-4359-9297-0931dd835e95",
   "metadata": {},
   "outputs": [],
   "source": [
    "image_stack.shape"
   ]
  },
  {
   "cell_type": "code",
   "execution_count": null,
   "id": "18a9ce8a-59b9-4909-b7e5-eb565c2f9548",
   "metadata": {},
   "outputs": [],
   "source": [
    "len(contours_by_structure_gt[TG263.OpticNrv_R])"
   ]
  },
  {
   "cell_type": "code",
   "execution_count": null,
   "id": "d5a8070e-1c7b-4a10-ba7f-4b08db0fdf8c",
   "metadata": {},
   "outputs": [],
   "source": [
    "len(contours_by_structure_pd[TG263.OpticNrv_R])"
   ]
  },
  {
   "cell_type": "code",
   "execution_count": null,
   "id": "440d4534-2c67-4300-ae69-e368aa4e0fc0",
   "metadata": {},
   "outputs": [],
   "source": [
    "def _plot_model_result(\n",
    "    image_stack, contours_by_structure_gt, contours_by_structure_pd\n",
    "):\n",
    "    vmin = 0.2\n",
    "    vmax = 0.4\n",
    "\n",
    "    ylim = [-np.inf, np.inf]\n",
    "    xlim = [np.inf, -np.inf]\n",
    "\n",
    "    axs = []\n",
    "\n",
    "    for z_index in range(image_stack.shape[0]):\n",
    "        has_a_contour = False\n",
    "        \n",
    "        for structure_name, contours_by_slice in contours_by_structure_pd.items():\n",
    "            contours = contours_by_slice[z_index]\n",
    "            if len(contours) > 0:\n",
    "                has_a_contour = True\n",
    "                break\n",
    "                \n",
    "        if not has_a_contour:\n",
    "            continue\n",
    "        \n",
    "        \n",
    "        fig, ax = plt.subplots()\n",
    "        axs.append(ax)\n",
    "\n",
    "        ax.pcolormesh(\n",
    "            x_grid, y_grid,\n",
    "            image_stack[z_index, :, :],\n",
    "            vmin=vmin,\n",
    "            vmax=vmax,\n",
    "            shading=\"nearest\",\n",
    "            cmap=\"gray\",\n",
    "        )\n",
    "\n",
    "        for structure_name, contours_by_slice in contours_by_structure_pd.items():\n",
    "            i = cfg[\"structures\"].index(structure_name)\n",
    "            colour = f\"C{i}\"\n",
    "            \n",
    "            contours = contours_by_slice[z_index]\n",
    "            \n",
    "            for contour in contours:\n",
    "                contour_array = np.array(contour)\n",
    "                ax.plot(\n",
    "                    contour_array[:, 0],\n",
    "                    contour_array[:, 1],\n",
    "                    label=structure_name.value,\n",
    "                    c=colour,\n",
    "                    \n",
    "                )\n",
    "\n",
    "                xlim[1] = np.max([np.max(contour_array[:, 0]), xlim[1]])\n",
    "                xlim[0] = np.min([np.min(contour_array[:, 0]), xlim[0]])\n",
    "                ylim[0] = np.max([np.max(contour_array[:, 1]), ylim[0]])\n",
    "                ylim[1] = np.min([np.min(contour_array[:, 1]), ylim[1]])\n",
    "\n",
    "        ax.set_aspect(\"equal\", \"box\")\n",
    "\n",
    "        plt.legend(bbox_to_anchor=(1.04, 1), loc=\"upper left\")\n",
    "        plt.title(f\"Slice: {z_index}\")\n",
    "\n",
    "    x_range = xlim[1] - xlim[0]\n",
    "    y_range = ylim[0] - ylim[1]\n",
    "\n",
    "    margin = 0.2\n",
    "\n",
    "    xlim[0] -= x_range * margin\n",
    "    xlim[1] += x_range * margin\n",
    "\n",
    "    ylim[1] -= y_range * margin\n",
    "    ylim[0] += y_range * margin\n",
    "\n",
    "    for ax in axs:\n",
    "        ax.set_ylim(ylim)\n",
    "        ax.set_xlim(xlim)\n",
    "\n",
    "    plt.show()"
   ]
  },
  {
   "cell_type": "code",
   "execution_count": null,
   "id": "ae61abec-4e8d-4180-9608-23a61e843ed6",
   "metadata": {},
   "outputs": [],
   "source": [
    "_plot_model_result(image_stack, contours_by_structure_gt, contours_by_structure_pd)"
   ]
  },
  {
   "cell_type": "code",
   "execution_count": null,
   "id": "114dddd8-28ab-4b74-96df-9b5f77a2a3bf",
   "metadata": {},
   "outputs": [],
   "source": [
    "# TODO: Calculate a few patches and merge"
   ]
  }
 ],
 "metadata": {
  "kernelspec": {
   "display_name": "rai",
   "language": "python",
   "name": "rai"
  },
  "language_info": {
   "codemirror_mode": {
    "name": "ipython",
    "version": 3
   },
   "file_extension": ".py",
   "mimetype": "text/x-python",
   "name": "python",
   "nbconvert_exporter": "python",
   "pygments_lexer": "ipython3",
   "version": "3.10.6"
  }
 },
 "nbformat": 4,
 "nbformat_minor": 5
}
