{
 "cells": [
  {
   "cell_type": "code",
   "execution_count": null,
   "id": "55ca49a3-b26d-40d2-93be-3ec528820ad4",
   "metadata": {
    "colab": {
     "base_uri": "https://localhost:8080/",
     "height": 35
    },
    "id": "55ca49a3-b26d-40d2-93be-3ec528820ad4",
    "outputId": "33939694-8539-47b9-b856-7e5ab18bc7c8"
   },
   "outputs": [],
   "source": [
    "import sys\n",
    "sys.version"
   ]
  },
  {
   "cell_type": "code",
   "execution_count": null,
   "id": "c11dd6da-fb3b-4fb5-8889-3cd8099ce4cf",
   "metadata": {},
   "outputs": [],
   "source": [
    "try:\n",
    "    from google.colab import output\n",
    "    !pip install rai==0.2.0-dev5\n",
    "    \n",
    "except ModuleNotFoundError:\n",
    "    %load_ext autoreload\n",
    "    %autoreload 2"
   ]
  },
  {
   "cell_type": "code",
   "execution_count": null,
   "id": "2a428ad8-abd1-485b-85bf-54cd2296ec01",
   "metadata": {
    "id": "2a428ad8-abd1-485b-85bf-54cd2296ec01"
   },
   "outputs": [],
   "source": [
    "import pathlib\n",
    "from io import BytesIO\n",
    "import zipfile\n",
    "import tqdm\n",
    "import numpy as np\n",
    "import skimage.measure\n",
    "import matplotlib.pyplot as plt"
   ]
  },
  {
   "cell_type": "code",
   "execution_count": null,
   "id": "c3814c86-8748-471b-bb41-3a31bbd9b869",
   "metadata": {
    "colab": {
     "base_uri": "https://localhost:8080/",
     "height": 35
    },
    "id": "c3814c86-8748-471b-bb41-3a31bbd9b869",
    "outputId": "3b88e408-457a-4943-ef86-cec1458d41b9"
   },
   "outputs": [],
   "source": [
    "import pydicom\n",
    "pydicom.__version__"
   ]
  },
  {
   "cell_type": "code",
   "execution_count": null,
   "id": "7a9dd35b-cd6e-4fed-b8ed-e9adf3667013",
   "metadata": {
    "colab": {
     "base_uri": "https://localhost:8080/",
     "height": 35
    },
    "id": "7a9dd35b-cd6e-4fed-b8ed-e9adf3667013",
    "outputId": "967666c4-2c40-4ef4-d6f9-33d78f63b7b7"
   },
   "outputs": [],
   "source": [
    "import rai\n",
    "rai.__version__"
   ]
  },
  {
   "cell_type": "code",
   "execution_count": null,
   "id": "58e3bd81-508b-4273-ad19-9cb1cd3905a3",
   "metadata": {
    "colab": {
     "base_uri": "https://localhost:8080/",
     "height": 35
    },
    "id": "58e3bd81-508b-4273-ad19-9cb1cd3905a3",
    "outputId": "310add06-c3d6-45a7-a3f9-81c04a920d38"
   },
   "outputs": [],
   "source": [
    "import raicontours\n",
    "\n",
    "from raicontours import TG263\n",
    "\n",
    "raicontours.__version__"
   ]
  },
  {
   "cell_type": "code",
   "execution_count": null,
   "id": "4f6aa26e-e721-416d-96b6-27744c9cc981",
   "metadata": {
    "id": "4f6aa26e-e721-416d-96b6-27744c9cc981"
   },
   "outputs": [],
   "source": [
    "cfg = raicontours.get_config()"
   ]
  },
  {
   "cell_type": "code",
   "execution_count": null,
   "id": "094f0c62-a67e-4d75-9eab-683966f069a4",
   "metadata": {
    "colab": {
     "base_uri": "https://localhost:8080/"
    },
    "id": "094f0c62-a67e-4d75-9eab-683966f069a4",
    "outputId": "5faecb60-96ec-4f78-f2c3-f95ac620c833"
   },
   "outputs": [],
   "source": [
    "cfg"
   ]
  },
  {
   "cell_type": "code",
   "execution_count": null,
   "id": "3f2b82f8-d96e-4189-aa8b-a5d4bdf7febb",
   "metadata": {},
   "outputs": [],
   "source": [
    "# from rai.inference._weighting import create_inference_weighting"
   ]
  },
  {
   "cell_type": "code",
   "execution_count": null,
   "id": "39d6efdb-153f-4ce8-a3b5-2aa688323dff",
   "metadata": {},
   "outputs": [],
   "source": [
    "# weighting = create_inference_weighting((64,64,64))\n",
    "# plt.figure()\n",
    "# plt.pcolormesh(weighting[32,...,0], vmin=0, vmax=1)\n",
    "# plt.axis('equal')\n",
    "# print(np.min(weighting), np.mean(weighting), np.max(weighting))\n",
    "\n",
    "# plt.figure()\n",
    "# plt.pcolormesh(weighting[16,...,0], vmin=0, vmax=1)\n",
    "# plt.axis('equal')"
   ]
  },
  {
   "cell_type": "code",
   "execution_count": null,
   "id": "23f6e405-6034-4d71-9413-4f9b03a982a6",
   "metadata": {},
   "outputs": [],
   "source": [
    "# weighting.shape"
   ]
  },
  {
   "cell_type": "code",
   "execution_count": null,
   "id": "e53da7c8-a538-4a74-ab2e-861ede4bb1d8",
   "metadata": {
    "colab": {
     "base_uri": "https://localhost:8080/"
    },
    "id": "e53da7c8-a538-4a74-ab2e-861ede4bb1d8",
    "outputId": "3667bf25-509d-4614-d68e-7fa5d012a14e"
   },
   "outputs": [],
   "source": [
    "# TODO: Save training, validation, and hold out uids within raicontours\n",
    "# Have this downloader be able to receive \"training\", \"validation\", or \"hold out\"\n",
    "# Have a random one be used per user.\n",
    "image_paths, structure_path, data_license_path, data_readme_path, rai_license_path = rai.download_hnscc_example()\n",
    "structure_path"
   ]
  },
  {
   "cell_type": "code",
   "execution_count": null,
   "id": "45945323-72fe-4795-9e72-342209ac1179",
   "metadata": {},
   "outputs": [],
   "source": [
    "sorted_image_paths = rai.sort_dicom_image_paths(paths=image_paths)\n",
    "\n",
    "# Prune the images used just for this demo (makes final download size smaller)\n",
    "# selected_sorted_image_paths = sorted_image_paths[14:78]\n",
    "\n",
    "# Use the following to instead use the entire image stack:\n",
    "selected_sorted_image_paths = sorted_image_paths"
   ]
  },
  {
   "cell_type": "code",
   "execution_count": null,
   "id": "8174748a-d598-4c01-8971-925022e12bd3",
   "metadata": {},
   "outputs": [],
   "source": [
    "sorted_image_series = [pydicom.dcmread(path) for path in selected_sorted_image_paths]"
   ]
  },
  {
   "cell_type": "code",
   "execution_count": null,
   "id": "60f4de14-450c-4741-bcb9-097772d0a14f",
   "metadata": {
    "id": "60f4de14-450c-4741-bcb9-097772d0a14f"
   },
   "outputs": [],
   "source": [
    "grids, image_stack = rai.sorted_image_series_to_image_stack_hfs(\n",
    "    cfg=cfg, sorted_image_series=sorted_image_series)"
   ]
  },
  {
   "cell_type": "code",
   "execution_count": null,
   "id": "c2d52c0e-d533-40ba-becf-a83a802d7205",
   "metadata": {
    "id": "c2d52c0e-d533-40ba-becf-a83a802d7205"
   },
   "outputs": [],
   "source": [
    "models = rai.load_models(cfg=cfg)"
   ]
  },
  {
   "cell_type": "code",
   "execution_count": null,
   "id": "9368efc8-f8b4-4cbb-bb8b-a14431722c92",
   "metadata": {
    "colab": {
     "base_uri": "https://localhost:8080/"
    },
    "id": "9368efc8-f8b4-4cbb-bb8b-a14431722c92",
    "outputId": "5e1614f5-e4c0-48fd-d76a-f602e431818d"
   },
   "outputs": [],
   "source": [
    "# TODO: Add in a refinement step based on points where there is uncertainty (ie artefact regions)\n",
    "# * Collect min and max values for each pixel. Points with enough difference get further refined.\n",
    "# * Consider adding in metal streak artefacts during training.\n",
    "\n",
    "predicted_masks = rai.inference(\n",
    "    cfg=cfg,\n",
    "    models=models,\n",
    "    image_stack=image_stack,\n",
    "    max_batch_size=10,\n",
    ")"
   ]
  },
  {
   "cell_type": "code",
   "execution_count": null,
   "id": "9949b210-5f55-41c6-ac5f-64d779691c32",
   "metadata": {},
   "outputs": [],
   "source": [
    "# np.vstack(diff).T.tolist()"
   ]
  },
  {
   "cell_type": "code",
   "execution_count": null,
   "id": "e7c0cfc0-eee6-4200-bdc3-63e0ac9a2e8f",
   "metadata": {},
   "outputs": [],
   "source": [
    "0.975 * 255"
   ]
  },
  {
   "cell_type": "code",
   "execution_count": null,
   "id": "53617347-890f-4212-8d74-b49f6d432d45",
   "metadata": {},
   "outputs": [],
   "source": [
    "255 / 2"
   ]
  },
  {
   "cell_type": "code",
   "execution_count": null,
   "id": "bd0d1aba-9044-4e65-a076-20202f0e6569",
   "metadata": {},
   "outputs": [],
   "source": []
  },
  {
   "cell_type": "code",
   "execution_count": null,
   "id": "74b08a19-b1f2-40a3-88e3-08b38213ad9c",
   "metadata": {},
   "outputs": [],
   "source": [
    "vmin = 0.22\n",
    "vmax = 0.35\n",
    "figsize = (8, 8)\n",
    "\n",
    "# slice_indices, axis_limits, centre_indices = rai.view_ranges_from_masks(grids, predicted_masks)\n",
    "\n"
   ]
  },
  {
   "cell_type": "code",
   "execution_count": null,
   "id": "beec1c99-56b3-4720-ae6b-a9f6bdf4e129",
   "metadata": {},
   "outputs": [],
   "source": [
    "# def callback(fig, ax, i):\n",
    "#     if i == 47:\n",
    "#         print(i)\n",
    "#         ax.tick_params(\n",
    "#             axis='both',     \n",
    "#             which='both',  \n",
    "#             bottom=False,  \n",
    "#             top=False,     \n",
    "#             left=False,\n",
    "#             right=False,\n",
    "#             labelbottom=False,\n",
    "#             labelleft=False\n",
    "#         )\n",
    "#         ax.get_legend().remove()\n",
    "#         fig.tight_layout()\n",
    "#         ax.margins(x=0, y=0)\n",
    "#         ax.set_position([0, 0, 1, 1])\n",
    "        \n",
    "#         plt.savefig('image.png', bbox_inches='tight', pad_inches=0)"
   ]
  },
  {
   "cell_type": "code",
   "execution_count": null,
   "id": "ea7adbaf-a775-41ef-b3ea-43e52914bc7c",
   "metadata": {},
   "outputs": [],
   "source": [
    "from rai.display.animation import view_ranges_from_contours_by_structure\n"
   ]
  },
  {
   "cell_type": "code",
   "execution_count": null,
   "id": "d6d520ec-d8c8-42b0-8049-51988f4859ec",
   "metadata": {},
   "outputs": [],
   "source": [
    "cfg = raicontours.get_config()\n",
    "\n",
    "predicted_contours_by_structure = rai.masks_to_contours_by_structure(\n",
    "    cfg=cfg,\n",
    "    grids=grids, \n",
    "    masks=predicted_masks, \n",
    "    structure_names=cfg[\"structures\"],\n",
    ")\n",
    "\n",
    "slice_indices, axis_limits = view_ranges_from_contours_by_structure(predicted_contours_by_structure, buffer=20)\n",
    "\n",
    "rai.plot_contours_by_structure(\n",
    "    grids=grids,\n",
    "    images=image_stack,\n",
    "    contours_by_structure=predicted_contours_by_structure,\n",
    "    orientation=\"transverse\",\n",
    "    slice_indices=slice_indices,\n",
    "    axis_limits=axis_limits,\n",
    "    structure_names=cfg[\"structures\"],\n",
    "    figsize=figsize,\n",
    "    vmin=vmin,\n",
    "    vmax=vmax,\n",
    "    # callback=callback\n",
    ")"
   ]
  },
  {
   "cell_type": "code",
   "execution_count": null,
   "id": "a135c395-d26c-44f3-a1a2-d6020411f239",
   "metadata": {},
   "outputs": [],
   "source": []
  },
  {
   "cell_type": "code",
   "execution_count": null,
   "id": "729e6230-0fd7-4dcc-9220-c143df32a862",
   "metadata": {},
   "outputs": [],
   "source": []
  },
  {
   "cell_type": "code",
   "execution_count": null,
   "id": "e374792a-8920-4935-93f3-f935ac7b44e8",
   "metadata": {},
   "outputs": [],
   "source": [
    "created_structure_ds = rai.create_dicom_structure_set(\n",
    "    cfg=cfg, \n",
    "    image_series_headers=sorted_image_series, \n",
    "    contours_by_structure=predicted_contours_by_structure\n",
    ")"
   ]
  },
  {
   "cell_type": "code",
   "execution_count": null,
   "id": "779dbf42-9118-445e-9688-564b5e00d13a",
   "metadata": {},
   "outputs": [],
   "source": [
    "created_structure_path = pathlib.Path(\"RS-RAi.dcm\")\n",
    "\n",
    "pydicom.dcmwrite(filename=created_structure_path, dataset=created_structure_ds, write_like_original=False)"
   ]
  },
  {
   "cell_type": "code",
   "execution_count": null,
   "id": "99fc0e9e-1637-459c-9b1e-774168acbc35",
   "metadata": {},
   "outputs": [],
   "source": [
    "save_to_images_directory = selected_sorted_image_paths + [data_license_path, data_readme_path]\n",
    "save_to_structure_directory = [rai_license_path, created_structure_path]\n",
    "\n",
    "with zipfile.ZipFile('results.zip', 'w', compression=zipfile.ZIP_DEFLATED) as results_zip:\n",
    "    for path in save_to_images_directory:\n",
    "        results_zip.write(path, f\"HNSCC/{path.name}\")\n",
    "        \n",
    "    for path in save_to_structure_directory:\n",
    "        results_zip.write(path, f\"RAi/{path.name}\")"
   ]
  },
  {
   "cell_type": "code",
   "execution_count": null,
   "id": "fae51683-0cce-4c64-bb10-bc24ef1e36e6",
   "metadata": {},
   "outputs": [],
   "source": [
    "# Provide the following link to users to view the DICOM files\n",
    "\n",
    "# https://viewer.imaging.datacommons.cancer.gov/local"
   ]
  },
  {
   "cell_type": "code",
   "execution_count": null,
   "id": "b881613d-1c98-4dc0-ad44-ff5b086e62d1",
   "metadata": {},
   "outputs": [],
   "source": []
  },
  {
   "cell_type": "code",
   "execution_count": null,
   "id": "0716adaf-53dd-4e81-b5b0-ed6210cd87c5",
   "metadata": {
    "id": "0716adaf-53dd-4e81-b5b0-ed6210cd87c5"
   },
   "outputs": [],
   "source": [
    "structure_ds = pydicom.read_file(structure_path)\n",
    "[item.ROIName for item in structure_ds.StructureSetROISequence]"
   ]
  },
  {
   "cell_type": "code",
   "execution_count": null,
   "id": "73107915-f68c-494e-808b-9a57674ee07a",
   "metadata": {
    "id": "73107915-f68c-494e-808b-9a57674ee07a"
   },
   "outputs": [],
   "source": [
    "image_uids = [ds.SOPInstanceUID for ds in sorted_image_series]\n",
    "\n",
    "dicom_structures_to_plot = [\n",
    "        'Lens', 'Eyes', 'R Optic Nerve', 'L Optic Nerve'\n",
    "    ]\n",
    "\n",
    "dicom_contours_by_structure = rai.dicom_to_contours_by_structure(\n",
    "    ds=structure_ds, image_uids=image_uids, structure_names=dicom_structures_to_plot\n",
    ")"
   ]
  },
  {
   "cell_type": "code",
   "execution_count": null,
   "id": "dd61a089-aed7-4d87-88e3-c53bcf37adc1",
   "metadata": {},
   "outputs": [],
   "source": [
    "rai.plot_contours_by_structure(\n",
    "    grids=grids,\n",
    "    images=image_stack,\n",
    "    contours_by_structure=dicom_contours_by_structure,\n",
    "    orientation=\"transverse\",\n",
    "    slice_indices=slice_indices,\n",
    "    axis_limits=axis_limits,\n",
    "    structure_names=dicom_structures_to_plot,\n",
    "    figsize=figsize,\n",
    "    vmin=vmin,\n",
    "    vmax=vmax,\n",
    "    callback=callback,\n",
    ")"
   ]
  },
  {
   "cell_type": "code",
   "execution_count": null,
   "id": "a411139f-fd6d-4884-b516-4b4c8f9f46c7",
   "metadata": {
    "id": "a411139f-fd6d-4884-b516-4b4c8f9f46c7"
   },
   "outputs": [],
   "source": [
    "# aligned_predicted_contours_by_structure = rai.merge_contours_by_structure(\n",
    "#     predicted_contours_by_structure, align_map\n",
    "# )\n",
    "\n",
    "# dice = {}\n",
    "# for name in align_map:\n",
    "#     dice[name] = rai.dice_from_contours_by_slice(\n",
    "#         dicom_contours_by_structure[name],\n",
    "#         aligned_predicted_contours_by_structure[name],\n",
    "#     )\n",
    "    \n",
    "# dice"
   ]
  },
  {
   "cell_type": "code",
   "execution_count": null,
   "id": "f54f90b5-0f1f-4664-b139-1088707ab6ce",
   "metadata": {},
   "outputs": [],
   "source": [
    "# TODO:\n",
    "# * Calculate and display hausdorff\n",
    "# * Turn into DICOM file, use online web DICOM viewer to view the file"
   ]
  }
 ],
 "metadata": {
  "accelerator": "GPU",
  "colab": {
   "provenance": []
  },
  "kernelspec": {
   "display_name": "rai",
   "language": "python",
   "name": "rai"
  },
  "language_info": {
   "codemirror_mode": {
    "name": "ipython",
    "version": 3
   },
   "file_extension": ".py",
   "mimetype": "text/x-python",
   "name": "python",
   "nbconvert_exporter": "python",
   "pygments_lexer": "ipython3",
   "version": "3.7.9"
  }
 },
 "nbformat": 4,
 "nbformat_minor": 5
}
