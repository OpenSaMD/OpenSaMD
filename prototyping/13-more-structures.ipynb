{
 "cells": [
  {
   "cell_type": "code",
   "execution_count": null,
   "id": "55ca49a3-b26d-40d2-93be-3ec528820ad4",
   "metadata": {
    "colab": {
     "base_uri": "https://localhost:8080/",
     "height": 35
    },
    "id": "55ca49a3-b26d-40d2-93be-3ec528820ad4",
    "outputId": "33939694-8539-47b9-b856-7e5ab18bc7c8"
   },
   "outputs": [],
   "source": [
    "import sys\n",
    "sys.version"
   ]
  },
  {
   "cell_type": "code",
   "execution_count": null,
   "id": "c11dd6da-fb3b-4fb5-8889-3cd8099ce4cf",
   "metadata": {},
   "outputs": [],
   "source": [
    "try:\n",
    "    from google.colab import output\n",
    "    !pip install rai==0.2.0-dev5\n",
    "    \n",
    "except ModuleNotFoundError:\n",
    "    %load_ext autoreload\n",
    "    %autoreload 2"
   ]
  },
  {
   "cell_type": "code",
   "execution_count": null,
   "id": "2a428ad8-abd1-485b-85bf-54cd2296ec01",
   "metadata": {
    "id": "2a428ad8-abd1-485b-85bf-54cd2296ec01"
   },
   "outputs": [],
   "source": [
    "from io import BytesIO\n",
    "from zipfile import ZipFile\n",
    "import tqdm\n",
    "import numpy as np\n",
    "import skimage.measure\n",
    "import matplotlib.pyplot as plt"
   ]
  },
  {
   "cell_type": "code",
   "execution_count": null,
   "id": "c3814c86-8748-471b-bb41-3a31bbd9b869",
   "metadata": {
    "colab": {
     "base_uri": "https://localhost:8080/",
     "height": 35
    },
    "id": "c3814c86-8748-471b-bb41-3a31bbd9b869",
    "outputId": "3b88e408-457a-4943-ef86-cec1458d41b9"
   },
   "outputs": [],
   "source": [
    "import pydicom\n",
    "pydicom.__version__"
   ]
  },
  {
   "cell_type": "code",
   "execution_count": null,
   "id": "7a9dd35b-cd6e-4fed-b8ed-e9adf3667013",
   "metadata": {
    "colab": {
     "base_uri": "https://localhost:8080/",
     "height": 35
    },
    "id": "7a9dd35b-cd6e-4fed-b8ed-e9adf3667013",
    "outputId": "967666c4-2c40-4ef4-d6f9-33d78f63b7b7"
   },
   "outputs": [],
   "source": [
    "import rai\n",
    "rai.__version__"
   ]
  },
  {
   "cell_type": "code",
   "execution_count": null,
   "id": "58e3bd81-508b-4273-ad19-9cb1cd3905a3",
   "metadata": {
    "colab": {
     "base_uri": "https://localhost:8080/",
     "height": 35
    },
    "id": "58e3bd81-508b-4273-ad19-9cb1cd3905a3",
    "outputId": "310add06-c3d6-45a7-a3f9-81c04a920d38"
   },
   "outputs": [],
   "source": [
    "import raicontours\n",
    "\n",
    "from raicontours import TG263\n",
    "\n",
    "raicontours.__version__"
   ]
  },
  {
   "cell_type": "code",
   "execution_count": null,
   "id": "4f6aa26e-e721-416d-96b6-27744c9cc981",
   "metadata": {
    "id": "4f6aa26e-e721-416d-96b6-27744c9cc981"
   },
   "outputs": [],
   "source": [
    "cfg = raicontours.get_config()"
   ]
  },
  {
   "cell_type": "code",
   "execution_count": null,
   "id": "094f0c62-a67e-4d75-9eab-683966f069a4",
   "metadata": {
    "colab": {
     "base_uri": "https://localhost:8080/"
    },
    "id": "094f0c62-a67e-4d75-9eab-683966f069a4",
    "outputId": "5faecb60-96ec-4f78-f2c3-f95ac620c833"
   },
   "outputs": [],
   "source": [
    "cfg"
   ]
  },
  {
   "cell_type": "code",
   "execution_count": null,
   "id": "e53da7c8-a538-4a74-ab2e-861ede4bb1d8",
   "metadata": {
    "colab": {
     "base_uri": "https://localhost:8080/"
    },
    "id": "e53da7c8-a538-4a74-ab2e-861ede4bb1d8",
    "outputId": "3667bf25-509d-4614-d68e-7fa5d012a14e"
   },
   "outputs": [],
   "source": [
    "# TODO: Save training, validation, and hold out uids within raicontours\n",
    "# Have this downloader be able to receive \"training\", \"validation\", or \"hold out\"\n",
    "# Have a random one be used per user.\n",
    "image_paths, structure_path = rai.download_hnscc_example()\n",
    "structure_path"
   ]
  },
  {
   "cell_type": "code",
   "execution_count": null,
   "id": "45945323-72fe-4795-9e72-342209ac1179",
   "metadata": {},
   "outputs": [],
   "source": [
    "sorted_image_series = rai.paths_to_sorted_image_series(paths=image_paths)"
   ]
  },
  {
   "cell_type": "code",
   "execution_count": null,
   "id": "72578be3-ebc3-4c66-a149-e454de7c9ad2",
   "metadata": {},
   "outputs": [],
   "source": [
    "# from rai.legacy.dicom._uid import generate_uid\n",
    "\n",
    "# common_uid = generate_uid()[0:-10]\n",
    "\n",
    "\n",
    "# for i, ds in enumerate(sorted_image_series):\n",
    "#     ds.ImagePositionPatient = np.round(ds.ImagePositionPatient, decimals=4).tolist()\n",
    "#     ds.SliceLocation = ds.ImagePositionPatient[-1]\n",
    "#     ds.SliceThickness = np.round(float(ds.SliceThickness), decimals=4)\n",
    "#     ds.PixelSpacing = np.round(ds.PixelSpacing, decimals=4).tolist()\n",
    "#     ds.file_meta.ImplementationClassUID = rai.RAI_CONTOURS_IMPLEMENTATION_CLASS_UID\n",
    "#     ds.file_meta.ImplementationVersionName = rai.RAI_IMPLEMENTATION_VERSION_NAME\n",
    "#     ds.SOPInstanceUID = f\"{common_uid}.{i}\"\n",
    "    \n",
    "# sorted_image_series[0]"
   ]
  },
  {
   "cell_type": "code",
   "execution_count": null,
   "id": "60f4de14-450c-4741-bcb9-097772d0a14f",
   "metadata": {
    "id": "60f4de14-450c-4741-bcb9-097772d0a14f"
   },
   "outputs": [],
   "source": [
    "grids, image_stack = rai.sorted_image_series_to_image_stack_hfs(\n",
    "    cfg=cfg, sorted_image_series=sorted_image_series)"
   ]
  },
  {
   "cell_type": "code",
   "execution_count": null,
   "id": "c2d52c0e-d533-40ba-becf-a83a802d7205",
   "metadata": {
    "id": "c2d52c0e-d533-40ba-becf-a83a802d7205"
   },
   "outputs": [],
   "source": [
    "models = rai.load_models(cfg=cfg)"
   ]
  },
  {
   "cell_type": "code",
   "execution_count": null,
   "id": "9368efc8-f8b4-4cbb-bb8b-a14431722c92",
   "metadata": {
    "colab": {
     "base_uri": "https://localhost:8080/"
    },
    "id": "9368efc8-f8b4-4cbb-bb8b-a14431722c92",
    "outputId": "5e1614f5-e4c0-48fd-d76a-f602e431818d"
   },
   "outputs": [],
   "source": [
    "predicted_masks = rai.inference(\n",
    "    cfg=cfg,\n",
    "    models=models,\n",
    "    image_stack=image_stack,\n",
    "    max_batch_size=10,\n",
    "    step_size=32,\n",
    ")"
   ]
  },
  {
   "cell_type": "code",
   "execution_count": null,
   "id": "bd0d1aba-9044-4e65-a076-20202f0e6569",
   "metadata": {},
   "outputs": [],
   "source": [
    "predicted_contours_by_structure = rai.masks_to_contours_by_structure(\n",
    "    grids=grids, \n",
    "    masks=predicted_masks, \n",
    "    structure_names=cfg[\"structures\"],\n",
    ")"
   ]
  },
  {
   "cell_type": "code",
   "execution_count": null,
   "id": "e374792a-8920-4935-93f3-f935ac7b44e8",
   "metadata": {},
   "outputs": [],
   "source": [
    "created_structure_ds = rai.create_dicom_structure_set(\n",
    "    cfg=cfg, \n",
    "    image_series_headers=sorted_image_series, \n",
    "    contours_by_structure=predicted_contours_by_structure\n",
    ")"
   ]
  },
  {
   "cell_type": "code",
   "execution_count": null,
   "id": "f8583c07-63ba-4e59-afcc-2d3e55fd887d",
   "metadata": {},
   "outputs": [],
   "source": [
    "# created_structure_ds.remove_private_tags()"
   ]
  },
  {
   "cell_type": "code",
   "execution_count": null,
   "id": "39d6ad72-5daa-40e0-a125-29d55f1be20f",
   "metadata": {},
   "outputs": [],
   "source": [
    "# created_structure_ds.ROIContourSequence"
   ]
  },
  {
   "cell_type": "code",
   "execution_count": null,
   "id": "36ae013a-77c0-411e-8a23-b14855e87715",
   "metadata": {},
   "outputs": [],
   "source": [
    "# sorted_image_series[0]"
   ]
  },
  {
   "cell_type": "code",
   "execution_count": null,
   "id": "779dbf42-9118-445e-9688-564b5e00d13a",
   "metadata": {},
   "outputs": [],
   "source": [
    "structure_filename = \"RS-RAi.dcm\"\n",
    "\n",
    "pydicom.dcmwrite(filename=structure_filename, dataset=created_structure_ds, write_like_original=False)"
   ]
  },
  {
   "cell_type": "code",
   "execution_count": null,
   "id": "99fc0e9e-1637-459c-9b1e-774168acbc35",
   "metadata": {},
   "outputs": [],
   "source": [
    "with ZipFile('results.zip', 'w') as results_zip:\n",
    "    for path in image_paths:\n",
    "        results_zip.write(path, path.name)\n",
    "\n",
    "    results_zip.write(structure_filename)\n",
    "    "
   ]
  },
  {
   "cell_type": "code",
   "execution_count": null,
   "id": "fae51683-0cce-4c64-bb10-bc24ef1e36e6",
   "metadata": {},
   "outputs": [],
   "source": [
    "# Provide the following link to users to view the DICOM files\n",
    "\n",
    "# https://viewer.imaging.datacommons.cancer.gov/local"
   ]
  },
  {
   "cell_type": "code",
   "execution_count": null,
   "id": "a11fd844-077b-4abc-8a7f-10b4aa239eb3",
   "metadata": {},
   "outputs": [],
   "source": []
  },
  {
   "cell_type": "code",
   "execution_count": null,
   "id": "8ae4a494-4dfe-4b11-a877-dba3ec29cea7",
   "metadata": {},
   "outputs": [],
   "source": []
  },
  {
   "cell_type": "code",
   "execution_count": null,
   "id": "b881613d-1c98-4dc0-ad44-ff5b086e62d1",
   "metadata": {},
   "outputs": [],
   "source": []
  },
  {
   "cell_type": "code",
   "execution_count": null,
   "id": "84146656-abcf-45aa-a01a-b869233c5d2c",
   "metadata": {},
   "outputs": [],
   "source": []
  },
  {
   "cell_type": "code",
   "execution_count": null,
   "id": "72651ed6-f1f0-4c4e-b836-fa6b8535a70c",
   "metadata": {},
   "outputs": [],
   "source": []
  },
  {
   "cell_type": "code",
   "execution_count": null,
   "id": "0716adaf-53dd-4e81-b5b0-ed6210cd87c5",
   "metadata": {
    "id": "0716adaf-53dd-4e81-b5b0-ed6210cd87c5"
   },
   "outputs": [],
   "source": [
    "structure_ds = pydicom.read_file(structure_path)\n",
    "[item.ROIName for item in structure_ds.StructureSetROISequence]"
   ]
  },
  {
   "cell_type": "code",
   "execution_count": null,
   "id": "73107915-f68c-494e-808b-9a57674ee07a",
   "metadata": {
    "id": "73107915-f68c-494e-808b-9a57674ee07a"
   },
   "outputs": [],
   "source": [
    "# image_uids = [ds.SOPInstanceUID for ds in sorted_image_series]\n",
    "\n",
    "\n",
    "# align_map = {\n",
    "#     \"Brain\": [TG263.Brain],\n",
    "#     \"Brainstem\": [TG263.Brainstem],\n",
    "#     \"Cochlea-Lt\": [TG263.Cochlea_L],\n",
    "#     \"Cochlea-Rt\": [TG263.Cochlea_R],\n",
    "#     \"Lacrimal-Lt\": [TG263.Glnd_Lacrimal_L],\n",
    "#     \"Lacrimal-Rt\": [TG263.Glnd_Lacrimal_R],\n",
    "#     \"Lens-Lt\": [TG263.Lens_L],\n",
    "#     \"Lens-Rt\": [TG263.Lens_R],\n",
    "#     \"Lung-Lt\": [TG263.Lung_L],\n",
    "#     \"Lung-Rt\": [TG263.Lung_R],\n",
    "#     \"Mandible\": [TG263.Bone_Mandible],\n",
    "#     \"Optic-Nerve-Lt\": [TG263.OpticNrv_L],\n",
    "#     \"Optic-Nerve-Rt\": [TG263.OpticNrv_R],\n",
    "#     \"Orbit-Lt\": [TG263.Eye_L],\n",
    "#     \"Orbit-Rt\": [TG263.Eye_R],\n",
    "#     \"Parotid-Lt\": [TG263.Parotid_L],\n",
    "#     \"Parotid-Rt\": [TG263.Parotid_R],\n",
    "#     \"Spinal-Cord\": [TG263.SpinalCord],\n",
    "#     \"Submandibular-Lt\": [TG263.Glnd_Submand_L],\n",
    "#     \"Submandibular-Rt\": [TG263.Glnd_Submand_R],\n",
    "# }\n",
    "# structure_names = list(align_map.keys())\n",
    "\n",
    "# dicom_contours_by_structure = rai.dicom_to_contours_by_structure(\n",
    "#     ds=structure_ds, image_uids=image_uids, structure_names=structure_names\n",
    "# )"
   ]
  },
  {
   "cell_type": "code",
   "execution_count": null,
   "id": "a411139f-fd6d-4884-b516-4b4c8f9f46c7",
   "metadata": {
    "id": "a411139f-fd6d-4884-b516-4b4c8f9f46c7"
   },
   "outputs": [],
   "source": [
    "# aligned_predicted_contours_by_structure = rai.merge_contours_by_structure(\n",
    "#     predicted_contours_by_structure, align_map\n",
    "# )\n",
    "\n",
    "# dice = {}\n",
    "# for name in align_map:\n",
    "#     dice[name] = rai.dice_from_contours_by_slice(\n",
    "#         dicom_contours_by_structure[name],\n",
    "#         aligned_predicted_contours_by_structure[name],\n",
    "#     )\n",
    "    \n",
    "# dice"
   ]
  },
  {
   "cell_type": "code",
   "execution_count": null,
   "id": "f54f90b5-0f1f-4664-b139-1088707ab6ce",
   "metadata": {},
   "outputs": [],
   "source": [
    "# TODO:\n",
    "# * Calculate and display hausdorff\n",
    "# * Turn into DICOM file, use online web DICOM viewer to view the file"
   ]
  }
 ],
 "metadata": {
  "accelerator": "GPU",
  "colab": {
   "provenance": []
  },
  "kernelspec": {
   "display_name": "rai",
   "language": "python",
   "name": "rai"
  },
  "language_info": {
   "codemirror_mode": {
    "name": "ipython",
    "version": 3
   },
   "file_extension": ".py",
   "mimetype": "text/x-python",
   "name": "python",
   "nbconvert_exporter": "python",
   "pygments_lexer": "ipython3",
   "version": "3.7.9"
  }
 },
 "nbformat": 4,
 "nbformat_minor": 5
}
