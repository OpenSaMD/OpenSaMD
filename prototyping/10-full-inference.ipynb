{
 "cells": [
  {
   "cell_type": "code",
   "execution_count": null,
   "id": "55ca49a3-b26d-40d2-93be-3ec528820ad4",
   "metadata": {},
   "outputs": [],
   "source": [
    "import sys\n",
    "sys.version"
   ]
  },
  {
   "cell_type": "code",
   "execution_count": null,
   "id": "2a428ad8-abd1-485b-85bf-54cd2296ec01",
   "metadata": {},
   "outputs": [],
   "source": [
    "import tqdm\n",
    "import numpy as np\n",
    "import skimage.measure\n",
    "import matplotlib.pyplot as plt\n",
    "%matplotlib widget"
   ]
  },
  {
   "cell_type": "code",
   "execution_count": null,
   "id": "c3814c86-8748-471b-bb41-3a31bbd9b869",
   "metadata": {},
   "outputs": [],
   "source": [
    "import pydicom\n",
    "pydicom.__version__"
   ]
  },
  {
   "cell_type": "code",
   "execution_count": null,
   "id": "c0096609-2749-463f-bfe6-ccaf5cec01e4",
   "metadata": {},
   "outputs": [],
   "source": [
    "%load_ext autoreload\n",
    "%autoreload 2"
   ]
  },
  {
   "cell_type": "code",
   "execution_count": null,
   "id": "7a9dd35b-cd6e-4fed-b8ed-e9adf3667013",
   "metadata": {},
   "outputs": [],
   "source": [
    "import rai\n",
    "rai.__version__"
   ]
  },
  {
   "cell_type": "code",
   "execution_count": null,
   "id": "58e3bd81-508b-4273-ad19-9cb1cd3905a3",
   "metadata": {},
   "outputs": [],
   "source": [
    "import raicontours\n",
    "\n",
    "from raicontours import TG263\n",
    "\n",
    "raicontours.__version__"
   ]
  },
  {
   "cell_type": "code",
   "execution_count": null,
   "id": "5fb0dae0-9622-4a3d-b004-a437219966a6",
   "metadata": {},
   "outputs": [],
   "source": []
  },
  {
   "cell_type": "code",
   "execution_count": null,
   "id": "4f6aa26e-e721-416d-96b6-27744c9cc981",
   "metadata": {},
   "outputs": [],
   "source": [
    "cfg = raicontours.get_config()"
   ]
  },
  {
   "cell_type": "code",
   "execution_count": null,
   "id": "094f0c62-a67e-4d75-9eab-683966f069a4",
   "metadata": {},
   "outputs": [],
   "source": [
    "cfg"
   ]
  },
  {
   "cell_type": "code",
   "execution_count": null,
   "id": "e53da7c8-a538-4a74-ab2e-861ede4bb1d8",
   "metadata": {},
   "outputs": [],
   "source": [
    "image_paths, structure_path = rai.download_deepmind_example()\n",
    "structure_path"
   ]
  },
  {
   "cell_type": "code",
   "execution_count": null,
   "id": "60f4de14-450c-4741-bcb9-097772d0a14f",
   "metadata": {},
   "outputs": [],
   "source": [
    "grids, image_stack, image_uids = rai.paths_to_image_stack_hfs(cfg=cfg, paths=image_paths)"
   ]
  },
  {
   "cell_type": "code",
   "execution_count": null,
   "id": "c2d52c0e-d533-40ba-becf-a83a802d7205",
   "metadata": {},
   "outputs": [],
   "source": [
    "models = rai.load_models(cfg=cfg)"
   ]
  },
  {
   "cell_type": "code",
   "execution_count": null,
   "id": "b37604fa-72a7-4414-8ff8-112d7ea0e19a",
   "metadata": {},
   "outputs": [],
   "source": []
  },
  {
   "cell_type": "code",
   "execution_count": null,
   "id": "9368efc8-f8b4-4cbb-bb8b-a14431722c92",
   "metadata": {},
   "outputs": [],
   "source": [
    "predicted_masks = rai.inference(\n",
    "    cfg=cfg,\n",
    "    models=models,\n",
    "    image_stack=image_stack,\n",
    "    max_batch_size=10,\n",
    "    step_size=40,\n",
    ")"
   ]
  },
  {
   "cell_type": "code",
   "execution_count": null,
   "id": "b0ce67e8-07fa-401d-a858-fa4cd191441d",
   "metadata": {},
   "outputs": [],
   "source": []
  },
  {
   "cell_type": "code",
   "execution_count": null,
   "id": "dc2039f4-2ff2-4b89-9b97-75680d56bec0",
   "metadata": {},
   "outputs": [],
   "source": []
  },
  {
   "cell_type": "code",
   "execution_count": null,
   "id": "0716adaf-53dd-4e81-b5b0-ed6210cd87c5",
   "metadata": {},
   "outputs": [],
   "source": [
    "structure_ds = pydicom.read_file(structure_path)\n",
    "[item.ROIName for item in structure_ds.StructureSetROISequence]"
   ]
  },
  {
   "cell_type": "code",
   "execution_count": null,
   "id": "73107915-f68c-494e-808b-9a57674ee07a",
   "metadata": {},
   "outputs": [],
   "source": [
    "align_map = {\n",
    "    \"Brain\": [TG263.Brain],\n",
    "    \"Brainstem\": [TG263.Brainstem],\n",
    "    \"Cochlea-Lt\": [TG263.Cochlea_L],\n",
    "    \"Cochlea-Rt\": [TG263.Cochlea_R],\n",
    "    \"Lacrimal-Lt\": [TG263.Glnd_Lacrimal_L],\n",
    "    \"Lacrimal-Rt\": [TG263.Glnd_Lacrimal_R],\n",
    "    \"Lens-Lt\": [TG263.Lens_L],\n",
    "    \"Lens-Rt\": [TG263.Lens_R],\n",
    "    \"Lung-Lt\": [TG263.Lung_L],\n",
    "    \"Lung-Rt\": [TG263.Lung_R],\n",
    "    \"Mandible\": [TG263.Bone_Mandible],\n",
    "    \"Optic-Nerve-Lt\": [TG263.OpticNrv_L],\n",
    "    \"Optic-Nerve-Rt\": [TG263.OpticNrv_R],\n",
    "    \"Orbit-Lt\": [TG263.Eye_L],\n",
    "    \"Orbit-Rt\": [TG263.Eye_R],\n",
    "    \"Parotid-Lt\": [TG263.Parotid_L],\n",
    "    \"Parotid-Rt\": [TG263.Parotid_R],\n",
    "    \"Spinal-Cord\": [TG263.SpinalCord],\n",
    "    \"Submandibular-Lt\": [TG263.Glnd_Submand_L],\n",
    "    \"Submandibular-Rt\": [TG263.Glnd_Submand_R],\n",
    "}\n",
    "structure_names = list(align_map.keys())\n",
    "\n",
    "dicom_contours_by_structure = rai.dicom_to_contours_by_structure(\n",
    "    ds=structure_ds, image_uids=image_uids, structure_names=structure_names\n",
    ")\n",
    "\n"
   ]
  },
  {
   "cell_type": "code",
   "execution_count": null,
   "id": "a411139f-fd6d-4884-b516-4b4c8f9f46c7",
   "metadata": {},
   "outputs": [],
   "source": [
    "predicted_contours_by_structure = rai.masks_to_contours_by_structure(\n",
    "    x_grid=x_grid, y_grid=y_grid, masks=predicted_masks, structure_names=cfg[\"structures\"]\n",
    ")\n",
    "\n",
    "aligned_predicted_contours_by_structure = rai.merge_contours_by_structure(\n",
    "    predicted_contours_by_structure, align_map\n",
    ")\n",
    "\n",
    "dice = {}\n",
    "for name in align_map:\n",
    "    dice[name] = rai.dice_from_contours_by_slice(\n",
    "        dicom_contours_by_structure[name],\n",
    "        aligned_predicted_contours_by_structure[name],\n",
    "    )\n",
    "    \n",
    "dice"
   ]
  },
  {
   "cell_type": "code",
   "execution_count": null,
   "id": "8cfb3c5e-4e05-41bb-8ea1-17209c59d41d",
   "metadata": {},
   "outputs": [],
   "source": [
    "# Step-size: 50\n",
    "\n",
    "# {'Brain': 0.9770559873907146,\n",
    "#  'Brainstem': 0.7446594757682403,\n",
    "#  'Cochlea-Lt': 0.0,\n",
    "#  'Cochlea-Rt': 0.0,\n",
    "#  'Lacrimal-Lt': 0.4287916964134596,\n",
    "#  'Lacrimal-Rt': 0.7150097289790804,\n",
    "#  'Lens-Lt': 0.6240236186258522,\n",
    "#  'Lens-Rt': 0.6694594192976419,\n",
    "#  'Lung-Lt': 0.987162664054495,\n",
    "#  'Lung-Rt': 0.9883733539708488,\n",
    "#  'Mandible': 0.8933116995749084,\n",
    "#  'Optic-Nerve-Lt': 0.5987591575284228,\n",
    "#  'Optic-Nerve-Rt': 0.7122899293396878,\n",
    "#  'Orbit-Lt': 0.9375315112299282,\n",
    "#  'Orbit-Rt': 0.9348481957064191,\n",
    "#  'Parotid-Lt': 0.7269063671274066,\n",
    "#  'Parotid-Rt': 0.737441485353478,\n",
    "#  'Spinal-Cord': 0.7909805731621938,\n",
    "#  'Submandibular-Lt': 0.7509269778519194,\n",
    "#  'Submandibular-Rt': 0.5433672367481709}"
   ]
  },
  {
   "cell_type": "code",
   "execution_count": null,
   "id": "f2825fb9-ab73-4e3e-b7fe-a0e0ddaeb25f",
   "metadata": {},
   "outputs": [],
   "source": [
    "# grids = (z_grid, y_grid, x_grid)\n",
    "# slice_indices, axis_limits, centre_indices = rai.view_ranges_from_masks(grids, predicted_masks)"
   ]
  },
  {
   "cell_type": "code",
   "execution_count": null,
   "id": "784a047e-9d49-47a9-b260-d7712c43a6cb",
   "metadata": {},
   "outputs": [],
   "source": [
    "# contours_by_orientation = rai.masks_to_contours_by_orientation(\n",
    "#     grids, predicted_masks, structure_names=cfg[\"structures\"]\n",
    "# )"
   ]
  },
  {
   "cell_type": "code",
   "execution_count": null,
   "id": "f81a40d1-0618-41dd-af83-17deee1b05c9",
   "metadata": {},
   "outputs": [],
   "source": [
    "# rai.draw_contours_by_orientation(\n",
    "#     cfg=cfg,\n",
    "#     grids=grids,\n",
    "#     images=image_stack,\n",
    "#     contours_by_orientation=contours_by_orientation,\n",
    "#     vmin=0.2,\n",
    "#     vmax=0.4,\n",
    "#     axis_limits=axis_limits,\n",
    "#     centre_indices=centre_indices,\n",
    "# )"
   ]
  },
  {
   "cell_type": "code",
   "execution_count": null,
   "id": "1a4e952c-92bb-4c1d-b907-a1708889fef0",
   "metadata": {},
   "outputs": [],
   "source": [
    "plt.close('all')\n",
    "\n",
    "# rai.auto_scroll_contours_by_orientation(\n",
    "#     grids=grids,\n",
    "#     images=image_stack,\n",
    "#     contours_by_orientation=contours_by_orientation,\n",
    "#     slice_indicies=slice_indices,\n",
    "#     axis_limits=axis_limits,\n",
    "#     structure_names=cfg[\"structures\"],\n",
    "#     vmin=0.2,\n",
    "#     vmax=0.4,\n",
    "# )"
   ]
  },
  {
   "cell_type": "code",
   "execution_count": null,
   "id": "c844fb0b-5e98-455a-8f57-3352b390aa40",
   "metadata": {},
   "outputs": [],
   "source": [
    "# TODO:\n",
    "# * Change figures to clickable interactive transverse/coronal/sagital bokeh\n",
    "# * Calculate and report hausdorff and surface dice as well"
   ]
  }
 ],
 "metadata": {
  "kernelspec": {
   "display_name": "rai",
   "language": "python",
   "name": "rai"
  },
  "language_info": {
   "codemirror_mode": {
    "name": "ipython",
    "version": 3
   },
   "file_extension": ".py",
   "mimetype": "text/x-python",
   "name": "python",
   "nbconvert_exporter": "python",
   "pygments_lexer": "ipython3",
   "version": "3.7.9"
  }
 },
 "nbformat": 4,
 "nbformat_minor": 5
}
