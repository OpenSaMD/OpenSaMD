{
 "cells": [
  {
   "cell_type": "code",
   "execution_count": null,
   "id": "55ca49a3-b26d-40d2-93be-3ec528820ad4",
   "metadata": {},
   "outputs": [],
   "source": [
    "import sys\n",
    "sys.version"
   ]
  },
  {
   "cell_type": "code",
   "execution_count": null,
   "id": "2a428ad8-abd1-485b-85bf-54cd2296ec01",
   "metadata": {},
   "outputs": [],
   "source": [
    "import tqdm\n",
    "import numpy as np\n",
    "import skimage.measure\n",
    "import matplotlib.pyplot as plt"
   ]
  },
  {
   "cell_type": "code",
   "execution_count": null,
   "id": "c3814c86-8748-471b-bb41-3a31bbd9b869",
   "metadata": {},
   "outputs": [],
   "source": [
    "import pydicom\n",
    "pydicom.__version__"
   ]
  },
  {
   "cell_type": "code",
   "execution_count": null,
   "id": "c0096609-2749-463f-bfe6-ccaf5cec01e4",
   "metadata": {},
   "outputs": [],
   "source": [
    "%load_ext autoreload\n",
    "%autoreload 2"
   ]
  },
  {
   "cell_type": "code",
   "execution_count": null,
   "id": "7a9dd35b-cd6e-4fed-b8ed-e9adf3667013",
   "metadata": {},
   "outputs": [],
   "source": [
    "import rai\n",
    "rai.__version__"
   ]
  },
  {
   "cell_type": "code",
   "execution_count": null,
   "id": "58e3bd81-508b-4273-ad19-9cb1cd3905a3",
   "metadata": {},
   "outputs": [],
   "source": [
    "import raicontours\n",
    "\n",
    "from raicontours import TG263\n",
    "\n",
    "raicontours.__version__"
   ]
  },
  {
   "cell_type": "code",
   "execution_count": null,
   "id": "5fb0dae0-9622-4a3d-b004-a437219966a6",
   "metadata": {},
   "outputs": [],
   "source": []
  },
  {
   "cell_type": "code",
   "execution_count": null,
   "id": "4f6aa26e-e721-416d-96b6-27744c9cc981",
   "metadata": {},
   "outputs": [],
   "source": [
    "cfg = raicontours.get_config()"
   ]
  },
  {
   "cell_type": "code",
   "execution_count": null,
   "id": "094f0c62-a67e-4d75-9eab-683966f069a4",
   "metadata": {},
   "outputs": [],
   "source": [
    "cfg"
   ]
  },
  {
   "cell_type": "code",
   "execution_count": null,
   "id": "e53da7c8-a538-4a74-ab2e-861ede4bb1d8",
   "metadata": {},
   "outputs": [],
   "source": [
    "image_paths, structure_path = rai.download_deepmind_example()\n",
    "structure_path"
   ]
  },
  {
   "cell_type": "code",
   "execution_count": null,
   "id": "9368efc8-f8b4-4cbb-bb8b-a14431722c92",
   "metadata": {},
   "outputs": [],
   "source": [
    "x_grid, y_grid, z_grid, image_uids, image_stack, predicted_masks = rai.inference_from_dicom_image_paths(\n",
    "    cfg=cfg,\n",
    "    image_paths=image_paths,\n",
    "    max_batch_size=10,\n",
    ")"
   ]
  },
  {
   "cell_type": "code",
   "execution_count": null,
   "id": "b0ce67e8-07fa-401d-a858-fa4cd191441d",
   "metadata": {},
   "outputs": [],
   "source": []
  },
  {
   "cell_type": "code",
   "execution_count": null,
   "id": "dc2039f4-2ff2-4b89-9b97-75680d56bec0",
   "metadata": {},
   "outputs": [],
   "source": []
  },
  {
   "cell_type": "code",
   "execution_count": null,
   "id": "0716adaf-53dd-4e81-b5b0-ed6210cd87c5",
   "metadata": {},
   "outputs": [],
   "source": [
    "structure_ds = pydicom.read_file(structure_path)\n",
    "[item.ROIName for item in structure_ds.StructureSetROISequence]"
   ]
  },
  {
   "cell_type": "code",
   "execution_count": null,
   "id": "73107915-f68c-494e-808b-9a57674ee07a",
   "metadata": {},
   "outputs": [],
   "source": [
    "align_map = {\n",
    "    \"Brain\": [TG263.Brain],\n",
    "    \"Brainstem\": [TG263.Brainstem],\n",
    "    \"Cochlea-Lt\": [TG263.Cochlea_L],\n",
    "    \"Cochlea-Rt\": [TG263.Cochlea_R],\n",
    "    \"Lacrimal-Lt\": [TG263.Glnd_Lacrimal_L],\n",
    "    \"Lacrimal-Rt\": [TG263.Glnd_Lacrimal_R],\n",
    "    \"Lens-Lt\": [TG263.Lens_L],\n",
    "    \"Lens-Rt\": [TG263.Lens_R],\n",
    "    \"Lung-Lt\": [TG263.Lung_L],\n",
    "    \"Lung-Rt\": [TG263.Lung_R],\n",
    "    \"Mandible\": [TG263.Bone_Mandible],\n",
    "    \"Optic-Nerve-Lt\": [TG263.OpticNrv_L],\n",
    "    \"Optic-Nerve-Rt\": [TG263.OpticNrv_R],\n",
    "    \"Orbit-Lt\": [TG263.Eye_L],\n",
    "    \"Orbit-Rt\": [TG263.Eye_R],\n",
    "    \"Parotid-Lt\": [TG263.Parotid_L],\n",
    "    \"Parotid-Rt\": [TG263.Parotid_R],\n",
    "    \"Spinal-Cord\": [TG263.SpinalCord],\n",
    "    \"Submandibular-Lt\": [TG263.Glnd_Submand_L],\n",
    "    \"Submandibular-Rt\": [TG263.Glnd_Submand_R],\n",
    "}\n",
    "structure_names = list(align_map.keys())\n",
    "\n",
    "dicom_contours_by_structure = rai.dicom_to_contours_by_structure(\n",
    "    ds=structure_ds, image_uids=image_uids, structure_names=structure_names\n",
    ")\n",
    "\n"
   ]
  },
  {
   "cell_type": "code",
   "execution_count": null,
   "id": "a411139f-fd6d-4884-b516-4b4c8f9f46c7",
   "metadata": {},
   "outputs": [],
   "source": [
    "predicted_contours_by_structure = rai.masks_to_contours_by_structure(\n",
    "    cfg=cfg, x_grid=x_grid, y_grid=y_grid, masks=predicted_masks\n",
    ")\n",
    "\n",
    "aligned_predicted_contours_by_structure = rai.merge_contours_by_structure(\n",
    "    predicted_contours_by_structure, align_map\n",
    ")\n",
    "\n",
    "dice = {}\n",
    "for name in align_map:\n",
    "    dice[name] = rai.dice_from_contours_by_slice(\n",
    "        dicom_contours_by_structure[name],\n",
    "        aligned_predicted_contours_by_structure[name],\n",
    "    )\n",
    "    \n",
    "dice"
   ]
  },
  {
   "cell_type": "code",
   "execution_count": null,
   "id": "29045f40-aec9-43a9-941e-7048dd11412d",
   "metadata": {},
   "outputs": [],
   "source": []
  },
  {
   "cell_type": "code",
   "execution_count": null,
   "id": "5f91eb53-9d22-45c7-8618-26deb8f99253",
   "metadata": {},
   "outputs": [],
   "source": [
    "rai.draw_contours_from_masks(\n",
    "    cfg=cfg,\n",
    "    z_grid=z_grid,\n",
    "    y_grid=y_grid,\n",
    "    x_grid=x_grid,\n",
    "    image_stack=image_stack,\n",
    "    masks=predicted_masks,\n",
    "    vmin=0.2,\n",
    "    vmax=0.4,\n",
    ")"
   ]
  },
  {
   "cell_type": "code",
   "execution_count": null,
   "id": "3008bd76-c78c-409c-8ff6-3a1b4cc42798",
   "metadata": {},
   "outputs": [],
   "source": []
  },
  {
   "cell_type": "code",
   "execution_count": null,
   "id": "63cb4aab-8db1-415b-b9a1-4788a8d57d72",
   "metadata": {},
   "outputs": [],
   "source": []
  },
  {
   "cell_type": "code",
   "execution_count": null,
   "id": "02de2c63-792f-4c6f-b3bc-84a1199f2b3c",
   "metadata": {},
   "outputs": [],
   "source": []
  },
  {
   "cell_type": "code",
   "execution_count": null,
   "id": "ab2fa4d8-3f84-4f59-a50b-c32c2734c042",
   "metadata": {},
   "outputs": [],
   "source": []
  },
  {
   "cell_type": "code",
   "execution_count": null,
   "id": "c844fb0b-5e98-455a-8f57-3352b390aa40",
   "metadata": {},
   "outputs": [],
   "source": [
    "# TODO:\n",
    "# * Change figures to clickable interactive transverse/coronal/sagital bokeh\n",
    "# * Calculate and report hausdorff and surface dice as well"
   ]
  }
 ],
 "metadata": {
  "kernelspec": {
   "display_name": "rai",
   "language": "python",
   "name": "rai"
  },
  "language_info": {
   "codemirror_mode": {
    "name": "ipython",
    "version": 3
   },
   "file_extension": ".py",
   "mimetype": "text/x-python",
   "name": "python",
   "nbconvert_exporter": "python",
   "pygments_lexer": "ipython3",
   "version": "3.7.9"
  }
 },
 "nbformat": 4,
 "nbformat_minor": 5
}
