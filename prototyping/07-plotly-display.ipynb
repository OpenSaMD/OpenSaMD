{
 "cells": [
  {
   "cell_type": "code",
   "execution_count": null,
   "id": "55ca49a3-b26d-40d2-93be-3ec528820ad4",
   "metadata": {},
   "outputs": [],
   "source": [
    "import sys\n",
    "sys.version"
   ]
  },
  {
   "cell_type": "code",
   "execution_count": null,
   "id": "2a428ad8-abd1-485b-85bf-54cd2296ec01",
   "metadata": {},
   "outputs": [],
   "source": [
    "import tqdm\n",
    "import numpy as np\n",
    "import skimage.measure\n",
    "import matplotlib.pyplot as plt"
   ]
  },
  {
   "cell_type": "code",
   "execution_count": null,
   "id": "c3814c86-8748-471b-bb41-3a31bbd9b869",
   "metadata": {},
   "outputs": [],
   "source": [
    "import pydicom\n",
    "pydicom.__version__"
   ]
  },
  {
   "cell_type": "code",
   "execution_count": null,
   "id": "c0096609-2749-463f-bfe6-ccaf5cec01e4",
   "metadata": {},
   "outputs": [],
   "source": [
    "%load_ext autoreload\n",
    "%autoreload 2"
   ]
  },
  {
   "cell_type": "code",
   "execution_count": null,
   "id": "7a9dd35b-cd6e-4fed-b8ed-e9adf3667013",
   "metadata": {},
   "outputs": [],
   "source": [
    "import rai\n",
    "rai.__version__"
   ]
  },
  {
   "cell_type": "code",
   "execution_count": null,
   "id": "58e3bd81-508b-4273-ad19-9cb1cd3905a3",
   "metadata": {},
   "outputs": [],
   "source": [
    "import raicontours\n",
    "\n",
    "from raicontours import TG263\n",
    "\n",
    "raicontours.__version__"
   ]
  },
  {
   "cell_type": "code",
   "execution_count": null,
   "id": "5fb0dae0-9622-4a3d-b004-a437219966a6",
   "metadata": {},
   "outputs": [],
   "source": []
  },
  {
   "cell_type": "code",
   "execution_count": null,
   "id": "4f6aa26e-e721-416d-96b6-27744c9cc981",
   "metadata": {},
   "outputs": [],
   "source": [
    "cfg = raicontours.get_config()"
   ]
  },
  {
   "cell_type": "code",
   "execution_count": null,
   "id": "094f0c62-a67e-4d75-9eab-683966f069a4",
   "metadata": {},
   "outputs": [],
   "source": [
    "cfg"
   ]
  },
  {
   "cell_type": "code",
   "execution_count": null,
   "id": "841eee57-9e8e-4fcb-bdcd-d95bef5fa1d2",
   "metadata": {},
   "outputs": [],
   "source": [
    "rai_starting_model, rai_dependent_model = rai.load_model(cfg=cfg)"
   ]
  },
  {
   "cell_type": "code",
   "execution_count": null,
   "id": "49d2ebb7-abd3-4b8c-b535-210310f98bd9",
   "metadata": {},
   "outputs": [],
   "source": []
  },
  {
   "cell_type": "code",
   "execution_count": null,
   "id": "e53da7c8-a538-4a74-ab2e-861ede4bb1d8",
   "metadata": {},
   "outputs": [],
   "source": [
    "image_paths, structure_path = rai.download_deepmind_example()\n",
    "structure_path"
   ]
  },
  {
   "cell_type": "code",
   "execution_count": null,
   "id": "7ac235ab-cacb-40ea-91b6-ff45353626e1",
   "metadata": {},
   "outputs": [],
   "source": [
    "x_grid, y_grid, z_grid, image_stack, image_uids = rai.paths_to_image_stack_hfs(\n",
    "    cfg=cfg, paths=image_paths\n",
    ")"
   ]
  },
  {
   "cell_type": "code",
   "execution_count": null,
   "id": "f2e650ce-2ab5-46fd-93f0-403fa8252ccd",
   "metadata": {},
   "outputs": [],
   "source": [
    "image_stack.shape"
   ]
  },
  {
   "cell_type": "code",
   "execution_count": null,
   "id": "02a26778-4f7b-4eb9-a028-8fb1357b9d8b",
   "metadata": {},
   "outputs": [],
   "source": [
    "original_num_slices = image_stack.shape[0]\n",
    "\n",
    "slice_reduction = cfg[\"reduce_block_sizes\"][0][0]\n",
    "desired_num_slices = int(np.ceil(original_num_slices / slice_reduction) * slice_reduction)\n",
    "\n",
    "if original_num_slices != desired_num_slices:\n",
    "    image_stack = image_stack.take(range(desired_num_slices), axis=0, mode='clip')\n",
    "    \n",
    "num_slices = image_stack.shape[0]\n",
    "assert num_slices == desired_num_slices\n",
    "assert image_stack.shape[1:3] == (512, 512)\n",
    "\n",
    "image_stack.shape"
   ]
  },
  {
   "cell_type": "code",
   "execution_count": null,
   "id": "eb710540-d375-4490-a2ce-e9b41cbc420a",
   "metadata": {},
   "outputs": [],
   "source": [
    "reduced_image_stack = skimage.measure.block_reduce(image_stack, block_size=cfg[\"reduce_block_sizes\"][0], func=np.mean)\n",
    "reduced_image_stack.shape"
   ]
  },
  {
   "cell_type": "code",
   "execution_count": null,
   "id": "2c699b9d-04a8-417c-b19e-555b82158c2e",
   "metadata": {},
   "outputs": [],
   "source": [
    "310 / 4"
   ]
  },
  {
   "cell_type": "code",
   "execution_count": null,
   "id": "39b5bb39-a3b1-4bb5-8e11-abdaf0caf44e",
   "metadata": {},
   "outputs": [],
   "source": [
    "step_size = 40\n",
    "\n",
    "reduced_num_slices = reduced_image_stack.shape[0]\n",
    "step_size = int(np.ceil(reduced_num_slices / np.ceil(reduced_num_slices / step_size)))\n",
    "z = list(range(0, reduced_num_slices, step_size)) + [reduced_num_slices]\n",
    "z"
   ]
  },
  {
   "cell_type": "code",
   "execution_count": null,
   "id": "6b18fc55-6207-4951-8927-6c20cc5ea36f",
   "metadata": {},
   "outputs": [],
   "source": [
    "y = [30, 60, 90]\n",
    "x = [30, 60, 90]\n",
    "\n",
    "predicted_masks = rai.inference_over_jittered_grid(\n",
    "    cfg=cfg, model=rai_starting_model, grid=(z, y, x), image_stack=reduced_image_stack, max_batch_size=10\n",
    ")"
   ]
  },
  {
   "cell_type": "code",
   "execution_count": null,
   "id": "ff3c2602-c6e1-425b-9a38-ae47a428b038",
   "metadata": {},
   "outputs": [],
   "source": [
    "where_mask = np.where(predicted_masks > 127.5)\n",
    "np.min(where_mask, axis=1)"
   ]
  },
  {
   "cell_type": "code",
   "execution_count": null,
   "id": "0589eefb-f332-4e2f-80af-c024afb456d7",
   "metadata": {},
   "outputs": [],
   "source": [
    "np.max(where_mask, axis=1)"
   ]
  },
  {
   "cell_type": "code",
   "execution_count": null,
   "id": "50351eb4-42b4-477f-aa78-dfe354611644",
   "metadata": {},
   "outputs": [],
   "source": [
    "reduced_x_grid = skimage.measure.block_reduce(x_grid, block_size=cfg[\"reduce_block_sizes\"][0][2], func=np.mean)\n",
    "reduced_y_grid = skimage.measure.block_reduce(y_grid, block_size=cfg[\"reduce_block_sizes\"][0][1], func=np.mean)\n",
    "\n",
    "reduced_predicted_contours_by_structure = rai.masks_to_contours_by_structure(\n",
    "    cfg=cfg, x_grid=reduced_x_grid, y_grid=reduced_y_grid, masks=predicted_masks\n",
    ")\n",
    "rai.plot_contours_by_structure(\n",
    "    reduced_x_grid, reduced_y_grid, reduced_image_stack, reduced_predicted_contours_by_structure\n",
    ")"
   ]
  },
  {
   "cell_type": "code",
   "execution_count": null,
   "id": "e8d8cf9a-8dce-4461-ab7e-d78c3792cafb",
   "metadata": {},
   "outputs": [],
   "source": [
    "# predicted_masks = rai.inference_over_jittered_grid(\n",
    "#     cfg=cfg, model=rai_dependent_model, grid=(z, y, x), image_stack=reduced_image_stack, masks_stack=predicted_masks\n",
    "# )"
   ]
  },
  {
   "cell_type": "code",
   "execution_count": null,
   "id": "6f51bcd4-8f5b-410c-8f7b-8ec94569f531",
   "metadata": {},
   "outputs": [],
   "source": [
    "cfg[\"reduce_block_sizes\"]"
   ]
  },
  {
   "cell_type": "code",
   "execution_count": null,
   "id": "d5012fcb-e18a-4599-9569-0de0ec55c5a8",
   "metadata": {},
   "outputs": [],
   "source": [
    "upscaled = predicted_masks\n",
    "\n",
    "for i in range(3):\n",
    "    upscaled = np.repeat(upscaled, repeats=2, axis=i)\n",
    "\n",
    "\n",
    "assert upscaled.shape[0] == image_stack.shape[0]\n",
    "    \n",
    "upscaled.shape"
   ]
  },
  {
   "cell_type": "code",
   "execution_count": null,
   "id": "5372a486-56f7-4f6a-b9f9-f55a6ec6f512",
   "metadata": {},
   "outputs": [],
   "source": [
    "where_mask = np.where(upscaled > 127.5)\n",
    "np.min(where_mask, axis=1)"
   ]
  },
  {
   "cell_type": "code",
   "execution_count": null,
   "id": "198822e0-a509-485c-8795-3a07e604c091",
   "metadata": {},
   "outputs": [],
   "source": [
    "np.max(where_mask, axis=1)"
   ]
  },
  {
   "cell_type": "code",
   "execution_count": null,
   "id": "5a338a26-bf5b-4c50-ae25-a86f85b9edf1",
   "metadata": {},
   "outputs": [],
   "source": [
    "reduced_image_stack = skimage.measure.block_reduce(image_stack, block_size=cfg[\"reduce_block_sizes\"][1], func=np.mean)\n",
    "reduced_image_stack.shape"
   ]
  },
  {
   "cell_type": "code",
   "execution_count": null,
   "id": "a6d77fd3-55fa-4456-a5b8-9fc6c7768f1f",
   "metadata": {},
   "outputs": [],
   "source": [
    "step_size = 40\n",
    "\n",
    "reduced_num_slices = reduced_image_stack.shape[0]\n",
    "step_size = int(np.ceil(reduced_num_slices / np.ceil(reduced_num_slices / step_size)))\n",
    "z = list(range(0, reduced_num_slices, step_size)) + [reduced_num_slices]\n",
    "z"
   ]
  },
  {
   "cell_type": "code",
   "execution_count": null,
   "id": "669f8f6c-ec7a-4b64-ad87-967df94d8ee6",
   "metadata": {},
   "outputs": [],
   "source": [
    "y = [60, 95, 130, 165]\n",
    "x = [65, 105, 145, 185]\n",
    "\n",
    "predicted_masks = rai.inference_over_jittered_grid(\n",
    "    cfg=cfg, model=rai_dependent_model, grid=(z, y, x), image_stack=reduced_image_stack, masks_stack=upscaled, max_batch_size=10\n",
    ")"
   ]
  },
  {
   "cell_type": "code",
   "execution_count": null,
   "id": "365c14e9-112b-4034-a7d4-6ebe02c9a0c4",
   "metadata": {},
   "outputs": [],
   "source": [
    "reduced_x_grid = skimage.measure.block_reduce(x_grid, block_size=cfg[\"reduce_block_sizes\"][1][2], func=np.mean)\n",
    "reduced_y_grid = skimage.measure.block_reduce(y_grid, block_size=cfg[\"reduce_block_sizes\"][1][1], func=np.mean)\n",
    "\n",
    "reduced_predicted_contours_by_structure = rai.masks_to_contours_by_structure(\n",
    "    cfg=cfg, x_grid=reduced_x_grid, y_grid=reduced_y_grid, masks=predicted_masks[0:original_num_slices, ...]\n",
    ")\n",
    "rai.plot_contours_by_structure(\n",
    "    reduced_x_grid, reduced_y_grid, reduced_image_stack[0:original_num_slices,...], reduced_predicted_contours_by_structure\n",
    ")"
   ]
  },
  {
   "cell_type": "code",
   "execution_count": null,
   "id": "8a96db31-fd49-4062-b349-5b538bf26f2b",
   "metadata": {},
   "outputs": [],
   "source": [
    "predicted_masks.shape"
   ]
  },
  {
   "cell_type": "code",
   "execution_count": null,
   "id": "da775954-a252-46a5-acfc-6d79b39d7c3a",
   "metadata": {},
   "outputs": [],
   "source": [
    "np.max(predicted_masks)"
   ]
  },
  {
   "cell_type": "code",
   "execution_count": null,
   "id": "560f6d51-89ef-4cbf-a7cf-4d3f778d30e3",
   "metadata": {},
   "outputs": [],
   "source": [
    "upscaled = predicted_masks\n",
    "\n",
    "for i in range(1,3):\n",
    "    upscaled = np.repeat(upscaled, repeats=2, axis=i)\n",
    "    \n",
    "upscaled.shape"
   ]
  },
  {
   "cell_type": "code",
   "execution_count": null,
   "id": "0716adaf-53dd-4e81-b5b0-ed6210cd87c5",
   "metadata": {},
   "outputs": [],
   "source": [
    "structure_ds = pydicom.read_file(structure_path)\n",
    "[item.ROIName for item in structure_ds.StructureSetROISequence]"
   ]
  },
  {
   "cell_type": "code",
   "execution_count": null,
   "id": "73107915-f68c-494e-808b-9a57674ee07a",
   "metadata": {},
   "outputs": [],
   "source": [
    "align_map = {\n",
    "    \"Brain\": [TG263.Brain],\n",
    "    \"Brainstem\": [TG263.Brainstem],\n",
    "    \"Cochlea-Lt\": [TG263.Cochlea_L],\n",
    "    \"Cochlea-Rt\": [TG263.Cochlea_R],\n",
    "    \"Lacrimal-Lt\": [TG263.Glnd_Lacrimal_L],\n",
    "    \"Lacrimal-Rt\": [TG263.Glnd_Lacrimal_R],\n",
    "    \"Lens-Lt\": [TG263.Lens_L],\n",
    "    \"Lens-Rt\": [TG263.Lens_R],\n",
    "    \"Lung-Lt\": [TG263.Lung_L],\n",
    "    \"Lung-Rt\": [TG263.Lung_R],\n",
    "    \"Mandible\": [TG263.Bone_Mandible],\n",
    "    \"Optic-Nerve-Lt\": [TG263.OpticNrv_L],\n",
    "    \"Optic-Nerve-Rt\": [TG263.OpticNrv_R],\n",
    "    \"Orbit-Lt\": [TG263.Eye_L],\n",
    "    \"Orbit-Rt\": [TG263.Eye_R],\n",
    "    \"Parotid-Lt\": [TG263.Parotid_L],\n",
    "    \"Parotid-Rt\": [TG263.Parotid_R],\n",
    "    \"Spinal-Cord\": [TG263.SpinalCord],\n",
    "    \"Submandibular-Lt\": [TG263.Glnd_Submand_L],\n",
    "    \"Submandibular-Rt\": [TG263.Glnd_Submand_R],\n",
    "}\n",
    "structure_names = list(align_map.keys())\n",
    "\n",
    "dicom_contours_by_structure = rai.dicom_to_contours_by_structure(\n",
    "    ds=structure_ds, image_uids=image_uids, structure_names=structure_names\n",
    ")\n",
    "\n"
   ]
  },
  {
   "cell_type": "code",
   "execution_count": null,
   "id": "324e2854-eaee-4904-9bbe-8a2ab4f85510",
   "metadata": {},
   "outputs": [],
   "source": [
    "num_slices = image_stack.shape[0]\n",
    "step_size = int(np.ceil(num_slices / np.ceil(num_slices / 40)))\n",
    "z = list(range(0, num_slices, step_size)) + [num_slices]\n",
    "z"
   ]
  },
  {
   "cell_type": "code",
   "execution_count": null,
   "id": "387c00ad-c50b-494b-9fe1-532d1bfca7c0",
   "metadata": {},
   "outputs": [],
   "source": [
    "where_mask = np.where(upscaled > 127.5)\n",
    "np.min(where_mask, axis=1)"
   ]
  },
  {
   "cell_type": "code",
   "execution_count": null,
   "id": "0ff403b6-644a-4de6-bee3-3b22ea607400",
   "metadata": {},
   "outputs": [],
   "source": [
    "np.max(where_mask, axis=1)"
   ]
  },
  {
   "cell_type": "code",
   "execution_count": null,
   "id": "6f16e58e-3238-4d4c-beac-f065efc5db51",
   "metadata": {},
   "outputs": [],
   "source": [
    "y = list(range(125, 330, 40))\n",
    "y"
   ]
  },
  {
   "cell_type": "code",
   "execution_count": null,
   "id": "d2cd3fbd-b850-4ee1-89f5-76380054896f",
   "metadata": {},
   "outputs": [],
   "source": [
    "x = list(range(130, 380, 40))\n",
    "x"
   ]
  },
  {
   "cell_type": "code",
   "execution_count": null,
   "id": "1621af70-0d0b-481c-b0cc-4d6840903468",
   "metadata": {},
   "outputs": [],
   "source": [
    "predicted_masks = upscaled\n",
    "\n",
    "looped_dice = []\n",
    "for i in range(1):\n",
    "    predicted_masks = rai.inference_over_jittered_grid(\n",
    "        cfg=cfg, \n",
    "        model=rai_dependent_model, \n",
    "        grid=(z, y, x), \n",
    "        image_stack=image_stack, \n",
    "        masks_stack=predicted_masks, \n",
    "        max_batch_size=10, \n",
    "        verify=False  # TODO: Remove this before publishing\n",
    "    )\n",
    "    \n",
    "    \n",
    "    predicted_contours_by_structure = rai.masks_to_contours_by_structure(\n",
    "        cfg=cfg, x_grid=x_grid, y_grid=y_grid, masks=predicted_masks[0:original_num_slices, ...]\n",
    "    )\n",
    "    \n",
    "    aligned_predicted_contours_by_structure = rai.merge_contours_by_structure(\n",
    "        predicted_contours_by_structure, align_map\n",
    "    )\n",
    "    \n",
    "    dice = {}\n",
    "    for name in align_map:\n",
    "        dice[name] = rai.dice_from_contours_by_slice(\n",
    "            dicom_contours_by_structure[name],\n",
    "            aligned_predicted_contours_by_structure[name],\n",
    "        )\n",
    "        \n",
    "    looped_dice.append(dice)"
   ]
  },
  {
   "cell_type": "code",
   "execution_count": null,
   "id": "b2a019aa-ff96-42b9-90f1-b8f1d69d71ee",
   "metadata": {},
   "outputs": [],
   "source": [
    "for name in structure_names:\n",
    "    dice = []\n",
    "    for item in looped_dice:\n",
    "        dice.append(item[name])\n",
    "        \n",
    "    plt.plot(dice, '-o', label=name)\n",
    "    \n",
    "plt.legend()"
   ]
  },
  {
   "cell_type": "code",
   "execution_count": null,
   "id": "d267157e-25c6-40ae-b948-5cbd32d4d78f",
   "metadata": {},
   "outputs": [],
   "source": [
    "# predicted_contours_by_structure"
   ]
  },
  {
   "cell_type": "code",
   "execution_count": null,
   "id": "fc3f0eb4-ac4b-4402-aec3-47c6aaef28e0",
   "metadata": {},
   "outputs": [],
   "source": [
    "# looped_dice"
   ]
  },
  {
   "cell_type": "code",
   "execution_count": null,
   "id": "e2978db2-8be8-4d94-906b-5ef3060bdd39",
   "metadata": {},
   "outputs": [],
   "source": [
    "rai.plot_contours_by_structure(\n",
    "    x_grid, y_grid, image_stack[0:original_num_slices, ...], predicted_contours_by_structure, align_map\n",
    ")"
   ]
  },
  {
   "cell_type": "code",
   "execution_count": null,
   "id": "c28e7299-755e-4832-b9f6-92b83572f5e8",
   "metadata": {},
   "outputs": [],
   "source": [
    "renamed_dicom_contours_by_structure = {\n",
    "    f\"DICOM {key}\": item for key, item in dicom_contours_by_structure.items()\n",
    "}"
   ]
  },
  {
   "cell_type": "code",
   "execution_count": null,
   "id": "e4d91a0e-4961-40a7-9711-7f7deba69668",
   "metadata": {},
   "outputs": [],
   "source": [
    "# TODO: Create an ipywidget slider for the slices"
   ]
  },
  {
   "cell_type": "code",
   "execution_count": null,
   "id": "1b50155e-fdff-4b28-bc12-5a64857378b8",
   "metadata": {},
   "outputs": [],
   "source": [
    "combined_contours_by_structure = {\n",
    "    **predicted_contours_by_structure,\n",
    "    **renamed_dicom_contours_by_structure,\n",
    "}\n",
    "\n",
    "rai.plot_contours_by_structure(\n",
    "    x_grid, y_grid, image_stack[0:original_num_slices, ...], combined_contours_by_structure, align_map\n",
    ")"
   ]
  },
  {
   "cell_type": "code",
   "execution_count": null,
   "id": "29045f40-aec9-43a9-941e-7048dd11412d",
   "metadata": {},
   "outputs": [],
   "source": []
  },
  {
   "cell_type": "code",
   "execution_count": null,
   "id": "ab2fa4d8-3f84-4f59-a50b-c32c2734c042",
   "metadata": {},
   "outputs": [],
   "source": []
  },
  {
   "cell_type": "code",
   "execution_count": null,
   "id": "b80fe311-b434-4203-b780-8a3284fe7820",
   "metadata": {},
   "outputs": [],
   "source": []
  },
  {
   "cell_type": "code",
   "execution_count": null,
   "id": "d4fe5f2e-8eb5-430c-9697-0337ce1f5283",
   "metadata": {},
   "outputs": [],
   "source": [
    "import plotly.offline as pyo\n",
    "pyo.init_notebook_mode()"
   ]
  },
  {
   "cell_type": "code",
   "execution_count": null,
   "id": "62547db2-99e1-4a71-b016-ff65f2a80299",
   "metadata": {},
   "outputs": [],
   "source": []
  },
  {
   "cell_type": "code",
   "execution_count": null,
   "id": "61673804-71c9-4ecf-9742-9f760bdedbd8",
   "metadata": {},
   "outputs": [],
   "source": [
    "# Create interactive bokeh\n",
    "# Press button to centre on a structure\n",
    "\n",
    "cfg\n",
    "grids = (z_grid, y_grid, x_grid)\n",
    "images = image_stack[0:original_num_slices, ...]\n",
    "masks = predicted_masks[0:original_num_slices, ...]"
   ]
  },
  {
   "cell_type": "code",
   "execution_count": null,
   "id": "162631ed-97da-4b08-a7f8-5853d2938eed",
   "metadata": {},
   "outputs": [],
   "source": [
    "from rai.display import interactive\n",
    "import pandas"
   ]
  },
  {
   "cell_type": "code",
   "execution_count": null,
   "id": "c1f7216a-19a1-4618-b97a-841c1a5a398e",
   "metadata": {},
   "outputs": [],
   "source": [
    "fig = interactive.main()\n",
    "fig.show()"
   ]
  },
  {
   "cell_type": "code",
   "execution_count": null,
   "id": "1e42390c-26f1-4c47-9386-04b655904bec",
   "metadata": {},
   "outputs": [],
   "source": [
    "import numpy as np\n",
    "import plotly.graph_objects as go\n",
    "r, theta = np.mgrid[0.1:1:10j, 0:360:20j]\n",
    "color = np.random.random(r.shape)\n",
    "fig = go.Figure(go.Barpolar(\n",
    "    r=r.ravel(),\n",
    "    theta=theta.ravel(),\n",
    "    marker_color=color.ravel()),)\n",
    "fig.update_layout(polar_bargap=0)\n",
    "fig.show()"
   ]
  },
  {
   "cell_type": "code",
   "execution_count": null,
   "id": "f5ee975e-7139-49d6-b5d9-3bb15e4adefd",
   "metadata": {},
   "outputs": [],
   "source": [
    "import plotly.graph_objects as go"
   ]
  },
  {
   "cell_type": "code",
   "execution_count": null,
   "id": "85d01ba2-e389-4bc7-8201-b05bf7b306a1",
   "metadata": {},
   "outputs": [],
   "source": [
    "from plotly.subplots import make_subplots"
   ]
  },
  {
   "cell_type": "code",
   "execution_count": null,
   "id": "80e7316b-b1dd-46fb-aa98-d98a0df26b8e",
   "metadata": {},
   "outputs": [],
   "source": [
    "from rai.mask import convert"
   ]
  },
  {
   "cell_type": "code",
   "execution_count": null,
   "id": "5499a036-11ba-477e-b783-8f2cdca68704",
   "metadata": {},
   "outputs": [],
   "source": []
  },
  {
   "cell_type": "code",
   "execution_count": null,
   "id": "39e67047-92f6-410a-b3f6-c2113d6d303a",
   "metadata": {},
   "outputs": [],
   "source": [
    "from plotly.subplots import make_subplots\n",
    "from skimage import data\n",
    "img = data.chelsea()\n",
    "fig = make_subplots(1, 2)\n",
    "# We use go.Image because subplots require traces, whereas px functions return a figure\n",
    "fig.add_trace(go.Image(z=img), 1, 1)\n",
    "for channel, color in enumerate(['red', 'green', 'blue']):\n",
    "    fig.add_trace(go.Histogram(x=img[..., channel].ravel(), opacity=0.5,\n",
    "                               marker_color=color, name='%s channel' %color), 1, 2)\n",
    "fig.update_layout(height=400)\n",
    "fig.show()"
   ]
  },
  {
   "cell_type": "code",
   "execution_count": null,
   "id": "d216a1e6-1a15-4742-94ea-b4c8cee40169",
   "metadata": {},
   "outputs": [],
   "source": [
    "img.shape"
   ]
  },
  {
   "cell_type": "code",
   "execution_count": null,
   "id": "5fb0f8c6-1521-493b-8fc9-0020136bbcbe",
   "metadata": {},
   "outputs": [],
   "source": []
  },
  {
   "cell_type": "code",
   "execution_count": null,
   "id": "529dc05b-1f4b-4685-be2c-8c2606714d0d",
   "metadata": {},
   "outputs": [],
   "source": []
  },
  {
   "cell_type": "code",
   "execution_count": null,
   "id": "f6db4517-c96b-4a6f-93ac-bfe4d4c3d245",
   "metadata": {},
   "outputs": [],
   "source": [
    "img = image_stack[50, ...]"
   ]
  },
  {
   "cell_type": "code",
   "execution_count": null,
   "id": "3ca8eb06-0d18-4c6f-93cd-9ab99d077fe1",
   "metadata": {},
   "outputs": [],
   "source": [
    "x0, dx = convert._grid_to_transform(x_grid)\n",
    "y0, dy = convert._grid_to_transform(y_grid)"
   ]
  },
  {
   "cell_type": "code",
   "execution_count": null,
   "id": "1e6e5b77-b02f-4b64-a3cd-f0b43a51c12b",
   "metadata": {},
   "outputs": [],
   "source": [
    "y_grid[-1]"
   ]
  },
  {
   "cell_type": "code",
   "execution_count": null,
   "id": "b470d794-b0b9-4bdb-a5a1-76b9ae5a236c",
   "metadata": {},
   "outputs": [],
   "source": [
    "x0 = x_grid[0]\n",
    "dx = x_grid[1] - x_grid[0]\n",
    "y0 = y_grid[-1]\n",
    "dy = y_grid[-2] - y_grid[-1]\n",
    "z0 = z_grid[0]\n",
    "dz = z_grid[1] - z_grid[0]"
   ]
  },
  {
   "cell_type": "code",
   "execution_count": null,
   "id": "0bedf2f2-90ec-4249-8f10-357defecae67",
   "metadata": {},
   "outputs": [],
   "source": []
  },
  {
   "cell_type": "code",
   "execution_count": null,
   "id": "07f10ae3-7918-4d39-aeab-0c0088e90044",
   "metadata": {},
   "outputs": [],
   "source": [
    "# go.Heatmap?"
   ]
  },
  {
   "cell_type": "code",
   "execution_count": null,
   "id": "2ea57c7b-d1e9-4c37-9c92-ca00a05a07d3",
   "metadata": {},
   "outputs": [],
   "source": [
    "fig = make_subplots(\n",
    "    rows=2,\n",
    "    cols=2,\n",
    "    vertical_spacing=0,\n",
    "    horizontal_spacing=0,\n",
    ")\n",
    "\n",
    "fig.add_trace(\n",
    "    go.Heatmap(\n",
    "        x0=x0,\n",
    "        dx=dx,\n",
    "        y0=y0,\n",
    "        dy=dy,\n",
    "        z=image_stack[50, ...],\n",
    "        colorscale=\"gray\",\n",
    "        name=\"transverse\",\n",
    "        zmin=0.2,\n",
    "        zmax=0.4,\n",
    "        xaxis=\"x\",\n",
    "        yaxis=\"y\",\n",
    "        hoverinfo='skip',\n",
    "    ), \n",
    "    1,\n",
    "    1,\n",
    ")\n",
    "\n",
    "fig.add_trace(\n",
    "    go.Heatmap(\n",
    "        x0=y0,\n",
    "        dx=dy,\n",
    "        y0=z0,\n",
    "        dy=dz,\n",
    "        z=image_stack[:,:,256],\n",
    "        colorscale=\"gray\",\n",
    "        name=\"sagittal\",\n",
    "        zmin=0.2,\n",
    "        zmax=0.4,\n",
    "        xaxis=\"x1\",\n",
    "        yaxis=\"y1\",\n",
    "        hoverinfo='skip',\n",
    "    ), \n",
    "    2,\n",
    "    2,\n",
    ")\n",
    "\n",
    "fig.add_trace(\n",
    "    go.Heatmap(\n",
    "        x0=x0,\n",
    "        dx=dx,\n",
    "        y0=z0,\n",
    "        dy=dz,\n",
    "        z=image_stack[:,256,:],\n",
    "        colorscale=\"gray\",\n",
    "        name=\"coronal\",\n",
    "        zmin=0.2,\n",
    "        zmax=0.4,\n",
    "        xaxis=\"x2\",\n",
    "        yaxis=\"y2\",\n",
    "        hoverinfo='skip',\n",
    "    ), \n",
    "    2,\n",
    "    1,\n",
    ")\n",
    "\n",
    "\n",
    "fig.update_layout(\n",
    "    {\n",
    "        \"height\": 900,\n",
    "        \"width\": 900,\n",
    "        \"dragmode\": \"pan\",\n",
    "        'xaxis': {\"range\": [-120, 150], 'scaleanchor': 'y', \"constrain\":\"domain\", \"showticklabels\": False},\n",
    "        'yaxis': {\"range\": [-100, 170], \"constrain\":\"domain\", \"showticklabels\": False},\n",
    "        'xaxis3': {'matches': 'x', \"constrain\":\"domain\", \"showticklabels\": False},\n",
    "        'yaxis3': {\"range\": [-160, 110], 'scaleanchor': 'x3', \"constrain\":\"domain\", \"showticklabels\": False},\n",
    "        'yaxis4': {'matches': 'y3', \"constrain\":\"domain\", \"showticklabels\": False},\n",
    "        'xaxis4': {\"range\": [-100, 170], 'matches': 'y', \"constrain\":\"domain\", \"showticklabels\": False},\n",
    "    }\n",
    ")\n",
    "\n",
    "fig.update_coloraxes(showscale=False)\n",
    "\n",
    "fig.show(\n",
    "    config={\n",
    "        'displayModeBar': False,\n",
    "        \"displaylogo\": False,\n",
    "        \"scrollZoom\": True,\n",
    "    }\n",
    "\n",
    ")\n",
    "# # fig.update_layout(coloraxis_showscale=False)\n",
    "# fig.update_xaxes(\n",
    "#     selector={\"name\": \"coronal\"},\n",
    "#     range=[-150, 150],\n",
    "#     constrain=\"domain\",\n",
    "# )\n",
    "# fig.update_yaxes(\n",
    "#     selector={\"name\": \"coronal\"},\n",
    "#     scaleanchor = \"x\",\n",
    "#     scaleratio = 1,\n",
    "#     range=[-150, 150],\n",
    "#     constrain=\"domain\",\n",
    "# )\n",
    "# fig.update_xaxes(\n",
    "#     selector={\"name\": \"sagittal\"},\n",
    "#     scaleanchor = \"y\",\n",
    "#     scaleratio = 1,\n",
    "# )"
   ]
  },
  {
   "cell_type": "code",
   "execution_count": null,
   "id": "09117bf9-e23e-4bc3-b95d-37d2ba653709",
   "metadata": {},
   "outputs": [],
   "source": [
    "fig.show?"
   ]
  },
  {
   "cell_type": "code",
   "execution_count": null,
   "id": "1c176c7b-bdb2-40cb-a268-6bb3988e156d",
   "metadata": {},
   "outputs": [],
   "source": [
    "print(fig)"
   ]
  },
  {
   "cell_type": "code",
   "execution_count": null,
   "id": "41bf6ad7-5455-4495-b8ae-22a530d29a78",
   "metadata": {},
   "outputs": [],
   "source": [
    "fig.update_xaxes?"
   ]
  },
  {
   "cell_type": "code",
   "execution_count": null,
   "id": "bb669dd4-ebd9-4745-8dd1-0bcf079e3290",
   "metadata": {},
   "outputs": [],
   "source": [
    "go.Heatmap?"
   ]
  },
  {
   "cell_type": "code",
   "execution_count": null,
   "id": "b65f213e-bbce-4cda-a2b7-21572ae4990c",
   "metadata": {},
   "outputs": [],
   "source": [
    "fig = px.imshow(\n",
    "    image_stack[50, ...], \n",
    "    x=x_grid,\n",
    "    y=y_grid,\n",
    "    width=800, \n",
    "    height=800,\n",
    "    color_continuous_scale='gray',\n",
    "    zmin=0.2,\n",
    "    zmax=0.4,\n",
    ")\n",
    "\n",
    "\n",
    "fig.update_layout(coloraxis_showscale=False)\n",
    "fig.update_xaxes(showticklabels=False, range=[-100, 150])\n",
    "fig.update_yaxes(showticklabels=False, range=[150, -100])"
   ]
  },
  {
   "cell_type": "code",
   "execution_count": null,
   "id": "021e8cb6-f775-46c0-aac9-6d34b53df153",
   "metadata": {},
   "outputs": [],
   "source": [
    "fig.update_yaxes?"
   ]
  },
  {
   "cell_type": "code",
   "execution_count": null,
   "id": "f36b5bf0-f642-41cd-adf0-4b3f0804fdc0",
   "metadata": {},
   "outputs": [],
   "source": []
  },
  {
   "cell_type": "code",
   "execution_count": null,
   "id": "6d8a3a8e-64c8-4feb-9a11-7f11e6d80043",
   "metadata": {},
   "outputs": [],
   "source": []
  },
  {
   "cell_type": "code",
   "execution_count": null,
   "id": "98c572da-a0c9-4780-a44f-b477816743b6",
   "metadata": {},
   "outputs": [],
   "source": [
    "# Import the necessaries libraries\n",
    "import plotly.offline as pyo\n",
    "import plotly.graph_objs as go\n",
    "# Set notebook mode to work in offline\n",
    "pyo.init_notebook_mode()\n",
    "# Create traces\n",
    "trace0 = go.Scatter(\n",
    "    x=[1, 2, 3, 4],\n",
    "    y=[10, 15, 13, 17]\n",
    ")\n",
    "trace1 = go.Scatter(\n",
    "    x=[1, 2, 3, 4],\n",
    "    y=[16, 5, 11, 9]\n",
    ")\n",
    "# Fill out data with our traces\n",
    "data = [trace0, trace1]\n",
    "# Plot it and save as basic-line.html\n",
    "pyo.iplot(data, filename = 'basic-line')"
   ]
  },
  {
   "cell_type": "code",
   "execution_count": null,
   "id": "e03919e8-f36f-41a2-8cb3-3689d6888cfe",
   "metadata": {},
   "outputs": [],
   "source": []
  },
  {
   "cell_type": "code",
   "execution_count": null,
   "id": "e3e6e90b-4896-45bc-9c5e-235b388891bc",
   "metadata": {},
   "outputs": [],
   "source": []
  },
  {
   "cell_type": "code",
   "execution_count": null,
   "id": "eda69dd2-5f9e-4c4d-ae64-dd6efb6e95dd",
   "metadata": {},
   "outputs": [],
   "source": []
  },
  {
   "cell_type": "code",
   "execution_count": null,
   "id": "a3aedf97-f3f7-4e60-9516-27666abd15d5",
   "metadata": {},
   "outputs": [],
   "source": []
  },
  {
   "cell_type": "code",
   "execution_count": null,
   "id": "fbd9415a-1ef4-4b0a-a628-c80c7f54a04c",
   "metadata": {},
   "outputs": [],
   "source": []
  },
  {
   "cell_type": "code",
   "execution_count": null,
   "id": "8731d210-2db0-4d45-b613-9897b1cfcbd0",
   "metadata": {},
   "outputs": [],
   "source": [
    "# predicted_contours_by_structure = rai.masks_to_contours_by_structure(\n",
    "#     cfg=cfg, x_grid=x_grid, y_grid=y_grid, masks=predicted_masks[0:original_num_slices, ...]\n",
    "# )\n",
    "\n",
    "# rai.plot_contours_by_structure(\n",
    "#     x_grid, y_grid, image_stack[0:original_num_slices, ...], combined_contours_by_structure, align_map\n",
    "# )"
   ]
  },
  {
   "cell_type": "code",
   "execution_count": null,
   "id": "3245cf4f-69e4-4079-b15e-81e444691d82",
   "metadata": {},
   "outputs": [],
   "source": []
  },
  {
   "cell_type": "code",
   "execution_count": null,
   "id": "c844fb0b-5e98-455a-8f57-3352b390aa40",
   "metadata": {},
   "outputs": [],
   "source": [
    "# TODO:\n",
    "# * Change figures to clickable interactive transverse/coronal/sagital bokeh\n",
    "# * Calculate and report hausdorff and surface dice as well"
   ]
  }
 ],
 "metadata": {
  "kernelspec": {
   "display_name": "rai",
   "language": "python",
   "name": "rai"
  },
  "language_info": {
   "codemirror_mode": {
    "name": "ipython",
    "version": 3
   },
   "file_extension": ".py",
   "mimetype": "text/x-python",
   "name": "python",
   "nbconvert_exporter": "python",
   "pygments_lexer": "ipython3",
   "version": "3.7.9"
  }
 },
 "nbformat": 4,
 "nbformat_minor": 5
}
