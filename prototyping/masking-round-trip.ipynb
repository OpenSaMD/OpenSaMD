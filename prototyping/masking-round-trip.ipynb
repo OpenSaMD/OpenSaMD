{
 "cells": [
  {
   "cell_type": "code",
   "execution_count": null,
   "id": "0fd37d2f-7bae-4ce2-b9e3-d8fcb8d16ae1",
   "metadata": {},
   "outputs": [],
   "source": [
    "import shapely.geometry\n",
    "import shapely.affinity\n",
    "import skimage.measure\n",
    "import skimage.draw\n",
    "import numpy as np\n",
    "import matplotlib.pyplot as plt"
   ]
  },
  {
   "cell_type": "code",
   "execution_count": null,
   "id": "2548c949-4b92-4a01-a634-fd0e106eaf04",
   "metadata": {},
   "outputs": [],
   "source": [
    "%load_ext autoreload\n",
    "%autoreload 2"
   ]
  },
  {
   "cell_type": "code",
   "execution_count": null,
   "id": "9b685d62-5c08-45c8-be2f-e4c16382c19c",
   "metadata": {},
   "outputs": [],
   "source": [
    "t = np.linspace(0, 2 * np.pi, endpoint=False)\n",
    "x = 1.5 * np.sin(t)\n",
    "y = np.cos(t) + 0.5"
   ]
  },
  {
   "cell_type": "code",
   "execution_count": null,
   "id": "c524f37f-4fec-4948-bbb0-6209617f5806",
   "metadata": {},
   "outputs": [],
   "source": [
    "plt.plot(x, y)\n",
    "plt.axis('equal')"
   ]
  },
  {
   "cell_type": "code",
   "execution_count": null,
   "id": "53dcbdad-820b-4b7d-9f5a-01402f52ac7e",
   "metadata": {},
   "outputs": [],
   "source": [
    "def grid_to_transform(grid):\n",
    "    x0 = grid[0]\n",
    "    all_dx = np.diff(grid)\n",
    "    dx = all_dx[0]\n",
    "    assert np.allclose(dx, all_dx)\n",
    "    \n",
    "    return x0, dx"
   ]
  },
  {
   "cell_type": "code",
   "execution_count": null,
   "id": "9ee31259-2248-4b12-93ef-33912293b515",
   "metadata": {},
   "outputs": [],
   "source": [
    "def mask_to_contours(x_grid, y_grid, mask):\n",
    "    padded_mask = np.pad(mask, 1)\n",
    "    contours_coords_padded_image_frame = skimage.measure.find_contours(padded_mask, level=127.5)\n",
    "    contours_coords_image_frame = [item -1 for item in contours_coords_padded_image_frame]\n",
    "    \n",
    "    x0, dx = grid_to_transform(x_grid)\n",
    "    y0, dy = grid_to_transform(y_grid)\n",
    "\n",
    "    contours = []\n",
    "    for yx_coords in contours_coords_image_frame:\n",
    "        yx_coords[:, 1] = yx_coords[:, 1] * dx + x0\n",
    "        yx_coords[:, 0] = yx_coords[:, 0] * dy + y0\n",
    "        \n",
    "        contours.append(yx_coords)\n",
    "        \n",
    "    return contours"
   ]
  },
  {
   "cell_type": "code",
   "execution_count": null,
   "id": "8a11c748-f6e2-44cc-8f28-8b8c33badbc8",
   "metadata": {},
   "outputs": [],
   "source": [
    "def _contours_to_expanded_mask(x_grid, y_grid, contours, expansion):\n",
    "    mask_size = (len(y_grid), len(x_grid))\n",
    "    expanded_mask_size = np.array(mask_size) * expansion\n",
    "    \n",
    "    x0, dx = grid_to_transform(x_grid)\n",
    "    y0, dy = grid_to_transform(y_grid)\n",
    "    \n",
    "    expanded_mask = np.zeros(expanded_mask_size)\n",
    "    \n",
    "    for yx_coords in contours:\n",
    "        y = yx_coords[:, 0]\n",
    "        x = yx_coords[:, 1]\n",
    "        \n",
    "        i = ((y - y0) / dy) * expansion + (expansion - 1) * 0.5\n",
    "        j = ((x - x0) / dx) * expansion + (expansion - 1) * 0.5\n",
    "        \n",
    "        expanded_mask = np.logical_or(\n",
    "            expanded_mask,\n",
    "            skimage.draw.polygon2mask(expanded_mask_size, np.array(list(zip(i, j)))),\n",
    "        )\n",
    "        \n",
    "    return expanded_mask"
   ]
  },
  {
   "cell_type": "code",
   "execution_count": null,
   "id": "91c2485c-2675-4a97-a414-48c3ef678e26",
   "metadata": {},
   "outputs": [],
   "source": [
    "def contours_to_mask(x_grid, y_grid, contours, expansion=16):\n",
    "    expanded_mask = _contours_to_expanded_mask(x_grid, y_grid, contours, expansion)\n",
    "    float_mask = skimage.measure.block_reduce(expanded_mask, block_size=(expansion, expansion), func=np.mean)\n",
    "    \n",
    "    mask = np.round(float_mask * 255).astype(np.uint8)\n",
    "    \n",
    "    return mask"
   ]
  },
  {
   "cell_type": "code",
   "execution_count": null,
   "id": "2c1dc195-12c7-4ebf-9057-c5a775aef82e",
   "metadata": {},
   "outputs": [],
   "source": [
    "yx_coords = np.concatenate([y[:, None], x[:, None]], axis=-1)\n",
    "yx_coords.shape"
   ]
  },
  {
   "cell_type": "code",
   "execution_count": null,
   "id": "22d9499c-b7a4-4944-926f-f0909559236c",
   "metadata": {},
   "outputs": [],
   "source": [
    "contours = [yx_coords]"
   ]
  },
  {
   "cell_type": "code",
   "execution_count": null,
   "id": "07cda5dd-8edf-4e0e-96c2-bb0aea32ba24",
   "metadata": {},
   "outputs": [],
   "source": [
    "x_grid = np.linspace(-2, 2, 21)\n",
    "y_grid = np.linspace(-2, 2, 31)"
   ]
  },
  {
   "cell_type": "code",
   "execution_count": null,
   "id": "d63844dc-fc64-40ff-a308-fc141bec9a3c",
   "metadata": {},
   "outputs": [],
   "source": [
    "mask = contours_to_mask(x_grid, y_grid, contours)"
   ]
  },
  {
   "cell_type": "code",
   "execution_count": null,
   "id": "9df2edd0-903a-4ec5-a185-d020008a5406",
   "metadata": {},
   "outputs": [],
   "source": [
    "round_trip_contours = mask_to_contours(x_grid, y_grid, mask)\n",
    "rount_trip_y = round_trip_contours[0][:, 0]\n",
    "rount_trip_x = round_trip_contours[0][:, 1]"
   ]
  },
  {
   "cell_type": "code",
   "execution_count": null,
   "id": "240cb44a-d2cb-4e52-a064-832c65dfb9bd",
   "metadata": {},
   "outputs": [],
   "source": [
    "plt.pcolormesh(x_grid, y_grid, mask, shading=\"nearest\")\n",
    "plt.plot(x, y)\n",
    "plt.plot(rount_trip_x, rount_trip_y)\n",
    "\n",
    "plt.axis('equal')"
   ]
  },
  {
   "cell_type": "code",
   "execution_count": null,
   "id": "7d35cad4-684c-470e-81e4-6a448ef8df3a",
   "metadata": {},
   "outputs": [],
   "source": []
  },
  {
   "cell_type": "code",
   "execution_count": null,
   "id": "3a6a0aca-c073-4e80-9736-0d89bec49ff1",
   "metadata": {},
   "outputs": [],
   "source": []
  },
  {
   "cell_type": "code",
   "execution_count": null,
   "id": "f4d1612c-f0ee-4c77-8bde-1700f13c3ce6",
   "metadata": {},
   "outputs": [],
   "source": []
  }
 ],
 "metadata": {
  "kernelspec": {
   "display_name": "radiotherapyai",
   "language": "python",
   "name": "radiotherapyai"
  },
  "language_info": {
   "codemirror_mode": {
    "name": "ipython",
    "version": 3
   },
   "file_extension": ".py",
   "mimetype": "text/x-python",
   "name": "python",
   "nbconvert_exporter": "python",
   "pygments_lexer": "ipython3",
   "version": "3.10.6"
  }
 },
 "nbformat": 4,
 "nbformat_minor": 5
}
