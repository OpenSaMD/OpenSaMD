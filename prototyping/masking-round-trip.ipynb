{
 "cells": [
  {
   "cell_type": "code",
   "execution_count": null,
   "id": "0fd37d2f-7bae-4ce2-b9e3-d8fcb8d16ae1",
   "metadata": {},
   "outputs": [],
   "source": [
    "import shapely\n",
    "import skimage.measure\n",
    "import skimage.draw"
   ]
  },
  {
   "cell_type": "code",
   "execution_count": null,
   "id": "2548c949-4b92-4a01-a634-fd0e106eaf04",
   "metadata": {},
   "outputs": [],
   "source": [
    "%load_ext autoreload\n",
    "%autoreload 2"
   ]
  }
 ],
 "metadata": {
  "kernelspec": {
   "display_name": "radiotherapyai",
   "language": "python",
   "name": "radiotherapyai"
  },
  "language_info": {
   "codemirror_mode": {
    "name": "ipython",
    "version": 3
   },
   "file_extension": ".py",
   "mimetype": "text/x-python",
   "name": "python",
   "nbconvert_exporter": "python",
   "pygments_lexer": "ipython3",
   "version": "3.10.6"
  }
 },
 "nbformat": 4,
 "nbformat_minor": 5
}
