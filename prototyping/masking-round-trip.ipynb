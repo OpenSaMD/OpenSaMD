{
 "cells": [
  {
   "cell_type": "code",
   "execution_count": null,
   "id": "0fd37d2f-7bae-4ce2-b9e3-d8fcb8d16ae1",
   "metadata": {},
   "outputs": [],
   "source": [
    "import shapely.geometry\n",
    "import shapely.affinity\n",
    "import skimage.measure\n",
    "import skimage.draw\n",
    "import numpy as np\n",
    "import matplotlib.pyplot as plt"
   ]
  },
  {
   "cell_type": "code",
   "execution_count": null,
   "id": "2548c949-4b92-4a01-a634-fd0e106eaf04",
   "metadata": {},
   "outputs": [],
   "source": [
    "%load_ext autoreload\n",
    "%autoreload 2"
   ]
  },
  {
   "cell_type": "code",
   "execution_count": null,
   "id": "58b81553-d2c5-491f-8d87-842ad46bdf6c",
   "metadata": {},
   "outputs": [],
   "source": [
    "from radiotherapyai.mask.convert import mask_to_contours, contours_to_mask"
   ]
  },
  {
   "cell_type": "code",
   "execution_count": null,
   "id": "95c397d1-123b-43be-8e5e-30fc5af6100b",
   "metadata": {},
   "outputs": [],
   "source": [
    "t = np.linspace(0, 2 * np.pi, endpoint=False)\n",
    "x = 1.5 * np.sin(t)\n",
    "y = np.cos(t) + 0.5"
   ]
  },
  {
   "cell_type": "code",
   "execution_count": null,
   "id": "4c6a9310-41b5-4f2d-aeed-6f33304c1eea",
   "metadata": {},
   "outputs": [],
   "source": [
    "plt.plot(x, y)\n",
    "plt.axis('equal')"
   ]
  },
  {
   "cell_type": "code",
   "execution_count": null,
   "id": "2c1dc195-12c7-4ebf-9057-c5a775aef82e",
   "metadata": {},
   "outputs": [],
   "source": [
    "yx_coords = np.concatenate([y[:, None], x[:, None]], axis=-1)\n",
    "contours = [yx_coords]"
   ]
  },
  {
   "cell_type": "code",
   "execution_count": null,
   "id": "22d9499c-b7a4-4944-926f-f0909559236c",
   "metadata": {},
   "outputs": [],
   "source": []
  },
  {
   "cell_type": "code",
   "execution_count": null,
   "id": "07cda5dd-8edf-4e0e-96c2-bb0aea32ba24",
   "metadata": {},
   "outputs": [],
   "source": [
    "x_grid = np.linspace(-2, 2, 21)\n",
    "y_grid = np.linspace(-2, 2, 31)"
   ]
  },
  {
   "cell_type": "code",
   "execution_count": null,
   "id": "d63844dc-fc64-40ff-a308-fc141bec9a3c",
   "metadata": {},
   "outputs": [],
   "source": [
    "mask = contours_to_mask(x_grid, y_grid, contours)"
   ]
  },
  {
   "cell_type": "code",
   "execution_count": null,
   "id": "9df2edd0-903a-4ec5-a185-d020008a5406",
   "metadata": {},
   "outputs": [],
   "source": [
    "round_trip_contours = mask_to_contours(x_grid, y_grid, mask)\n",
    "rount_trip_y = round_trip_contours[0][:, 0]\n",
    "rount_trip_x = round_trip_contours[0][:, 1]"
   ]
  },
  {
   "cell_type": "code",
   "execution_count": null,
   "id": "240cb44a-d2cb-4e52-a064-832c65dfb9bd",
   "metadata": {},
   "outputs": [],
   "source": [
    "plt.pcolormesh(x_grid, y_grid, mask, shading=\"nearest\")\n",
    "plt.plot(x, y)\n",
    "plt.plot(rount_trip_x, rount_trip_y)\n",
    "\n",
    "plt.axis('equal')"
   ]
  },
  {
   "cell_type": "code",
   "execution_count": null,
   "id": "7d35cad4-684c-470e-81e4-6a448ef8df3a",
   "metadata": {},
   "outputs": [],
   "source": [
    "shapely.geometry.Polygon(zip(yx_coords[:, 1], yx_coords[:, 0]))"
   ]
  },
  {
   "cell_type": "code",
   "execution_count": null,
   "id": "4800ba63-603e-4f9e-b88f-71ae3eef360f",
   "metadata": {},
   "outputs": [],
   "source": []
  },
  {
   "cell_type": "code",
   "execution_count": null,
   "id": "3a6a0aca-c073-4e80-9736-0d89bec49ff1",
   "metadata": {},
   "outputs": [],
   "source": [
    "xy_coords = np.flip(yx_coords, axis=1)\n",
    "shapely.geometry.Polygon(xy_coords)"
   ]
  },
  {
   "cell_type": "code",
   "execution_count": null,
   "id": "f4d1612c-f0ee-4c77-8bde-1700f13c3ce6",
   "metadata": {},
   "outputs": [],
   "source": [
    "mask = np.array(\n",
    "    [\n",
    "        [255, 255, 127, 0],\n",
    "        [255, 255, 127, 0],\n",
    "        [127, 127, 64, 0],\n",
    "        [0, 0, 0, 0],\n",
    "    ],\n",
    "    dtype=np.uint8,\n",
    ")\n",
    "\n",
    "y_grid = np.array([10, 12, 14, 16])\n",
    "x_grid = np.array([0, 1, 2, 3])\n",
    "\n",
    "approximate_expected_contour = np.array([(9, -0.5), (9, 2), (14, 2), (14, -0.5)])\n",
    "expected_contours = [approximate_expected_contour]\n",
    "\n",
    "contours = mask_to_contours(x_grid, y_grid, mask)"
   ]
  },
  {
   "cell_type": "code",
   "execution_count": null,
   "id": "5efc2540-e9ed-4bac-be21-319f3c61c5e6",
   "metadata": {},
   "outputs": [],
   "source": [
    "plt.pcolormesh(x_grid, y_grid, mask, shading=\"nearest\")\n",
    "plt.plot(expected_contours[0][:, 1], expected_contours[0][:, 0])\n",
    "plt.plot(contours[0][:, 1], contours[0][:, 0])\n",
    "\n",
    "plt.axis('equal')"
   ]
  },
  {
   "cell_type": "code",
   "execution_count": null,
   "id": "c6fab86b-efc9-4b47-9a66-fc33db2ab7a7",
   "metadata": {},
   "outputs": [],
   "source": [
    "dx = x_grid[1] - x_grid[0]\n",
    "dy = y_grid[1] - y_grid[0]\n",
    "\n",
    "x_grid_pad = np.concatenate([[x_grid[0] - dx], x_grid, [x_grid[-1] + dx]])\n",
    "y_grid_pad = np.concatenate([[y_grid[0] - dy], y_grid, [y_grid[-1] + dy]])\n",
    "\n",
    "mask_pad = np.pad(mask, 1)\n",
    "\n",
    "plt.pcolormesh(x_grid, y_grid, mask, shading=\"nearest\")\n",
    "plt.contour(x_grid_pad, y_grid_pad, mask_pad/255, levels=[0.5])\n",
    "plt.axis('equal')"
   ]
  },
  {
   "cell_type": "code",
   "execution_count": null,
   "id": "a51cf809-6e9e-4815-aa22-2c66b9bf4b10",
   "metadata": {},
   "outputs": [],
   "source": []
  }
 ],
 "metadata": {
  "kernelspec": {
   "display_name": "radiotherapyai",
   "language": "python",
   "name": "radiotherapyai"
  },
  "language_info": {
   "codemirror_mode": {
    "name": "ipython",
    "version": 3
   },
   "file_extension": ".py",
   "mimetype": "text/x-python",
   "name": "python",
   "nbconvert_exporter": "python",
   "pygments_lexer": "ipython3",
   "version": "3.10.6"
  }
 },
 "nbformat": 4,
 "nbformat_minor": 5
}
