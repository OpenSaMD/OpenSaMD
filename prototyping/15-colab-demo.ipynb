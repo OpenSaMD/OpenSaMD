{
 "cells": [
  {
   "cell_type": "markdown",
   "id": "84ede6e0-1662-48b8-a96e-145d8efd2a89",
   "metadata": {},
   "source": [
    "# RAi's Open Source Autocontouring Library\n",
    "\n",
    "https://github.com/RadiotherapyAI/rai"
   ]
  },
  {
   "cell_type": "code",
   "execution_count": null,
   "id": "3f9d54fe-a51e-4dd8-b794-f42c0cf801ad",
   "metadata": {},
   "outputs": [],
   "source": [
    "# RAi, machine learning solutions in radiotherapy\n",
    "# Copyright (C) 2021-2022 Radiotherapy AI Holdings Pty Ltd\n",
    "\n",
    "# This program is free software: you can redistribute it and/or modify\n",
    "# it under the terms of the GNU Affero General Public License as\n",
    "# published by the Free Software Foundation, either version 3 of the\n",
    "# License, or (at your option) any later version.\n",
    "\n",
    "# This program is distributed in the hope that it will be useful,\n",
    "# but WITHOUT ANY WARRANTY; without even the implied warranty of\n",
    "# MERCHANTABILITY or FITNESS FOR A PARTICULAR PURPOSE.  See the\n",
    "# GNU Affero General Public License for more details.\n",
    "\n",
    "# You should have received a copy of the GNU Affero General Public License\n",
    "# along with this program.  If not, see <https://www.gnu.org/licenses/>."
   ]
  },
  {
   "cell_type": "markdown",
   "id": "7b76833c-7285-48c2-b384-5743e5c3723a",
   "metadata": {},
   "source": [
    "## Installing and importing various packages"
   ]
  },
  {
   "cell_type": "code",
   "execution_count": null,
   "id": "55ca49a3-b26d-40d2-93be-3ec528820ad4",
   "metadata": {
    "colab": {
     "base_uri": "https://localhost:8080/",
     "height": 35
    },
    "id": "55ca49a3-b26d-40d2-93be-3ec528820ad4",
    "outputId": "33939694-8539-47b9-b856-7e5ab18bc7c8"
   },
   "outputs": [],
   "source": [
    "import sys\n",
    "sys.version"
   ]
  },
  {
   "cell_type": "code",
   "execution_count": null,
   "id": "c11dd6da-fb3b-4fb5-8889-3cd8099ce4cf",
   "metadata": {},
   "outputs": [],
   "source": [
    "try:\n",
    "    from google.colab import output\n",
    "    !pip install rai==0.2.0-dev8\n",
    "    \n",
    "except ModuleNotFoundError:\n",
    "    %load_ext autoreload\n",
    "    %autoreload 2"
   ]
  },
  {
   "cell_type": "code",
   "execution_count": null,
   "id": "2a428ad8-abd1-485b-85bf-54cd2296ec01",
   "metadata": {
    "id": "2a428ad8-abd1-485b-85bf-54cd2296ec01"
   },
   "outputs": [],
   "source": [
    "import pathlib\n",
    "from io import BytesIO\n",
    "import zipfile\n",
    "import tqdm\n",
    "import numpy as np\n",
    "import skimage.measure\n",
    "import matplotlib.pyplot as plt"
   ]
  },
  {
   "cell_type": "code",
   "execution_count": null,
   "id": "c3814c86-8748-471b-bb41-3a31bbd9b869",
   "metadata": {
    "colab": {
     "base_uri": "https://localhost:8080/",
     "height": 35
    },
    "id": "c3814c86-8748-471b-bb41-3a31bbd9b869",
    "outputId": "3b88e408-457a-4943-ef86-cec1458d41b9"
   },
   "outputs": [],
   "source": [
    "import pydicom\n",
    "pydicom.__version__"
   ]
  },
  {
   "cell_type": "code",
   "execution_count": null,
   "id": "7a9dd35b-cd6e-4fed-b8ed-e9adf3667013",
   "metadata": {
    "colab": {
     "base_uri": "https://localhost:8080/",
     "height": 35
    },
    "id": "7a9dd35b-cd6e-4fed-b8ed-e9adf3667013",
    "outputId": "967666c4-2c40-4ef4-d6f9-33d78f63b7b7"
   },
   "outputs": [],
   "source": [
    "import rai\n",
    "rai.__version__"
   ]
  },
  {
   "cell_type": "code",
   "execution_count": null,
   "id": "58e3bd81-508b-4273-ad19-9cb1cd3905a3",
   "metadata": {
    "colab": {
     "base_uri": "https://localhost:8080/",
     "height": 35
    },
    "id": "58e3bd81-508b-4273-ad19-9cb1cd3905a3",
    "outputId": "310add06-c3d6-45a7-a3f9-81c04a920d38"
   },
   "outputs": [],
   "source": [
    "import raicontours\n",
    "\n",
    "from raicontours import TG263\n",
    "\n",
    "raicontours.__version__"
   ]
  },
  {
   "cell_type": "markdown",
   "id": "22273985-b4a5-4d9a-8cfc-052c8c0611a6",
   "metadata": {},
   "source": [
    "## The contour model configuration"
   ]
  },
  {
   "cell_type": "code",
   "execution_count": null,
   "id": "4f6aa26e-e721-416d-96b6-27744c9cc981",
   "metadata": {
    "id": "4f6aa26e-e721-416d-96b6-27744c9cc981"
   },
   "outputs": [],
   "source": [
    "cfg = raicontours.get_config()"
   ]
  },
  {
   "cell_type": "code",
   "execution_count": null,
   "id": "094f0c62-a67e-4d75-9eab-683966f069a4",
   "metadata": {
    "colab": {
     "base_uri": "https://localhost:8080/"
    },
    "id": "094f0c62-a67e-4d75-9eab-683966f069a4",
    "outputId": "5faecb60-96ec-4f78-f2c3-f95ac620c833"
   },
   "outputs": [],
   "source": [
    "cfg"
   ]
  },
  {
   "cell_type": "markdown",
   "id": "89f12d29-00ef-4ea0-9e4d-179b8533693e",
   "metadata": {},
   "source": [
    "## Download some example HNSCC data"
   ]
  },
  {
   "cell_type": "code",
   "execution_count": null,
   "id": "e53da7c8-a538-4a74-ab2e-861ede4bb1d8",
   "metadata": {
    "colab": {
     "base_uri": "https://localhost:8080/"
    },
    "id": "e53da7c8-a538-4a74-ab2e-861ede4bb1d8",
    "outputId": "3667bf25-509d-4614-d68e-7fa5d012a14e"
   },
   "outputs": [],
   "source": [
    "image_paths, structure_path, data_license_path, data_readme_path, rai_license_path = rai.download_hnscc_example(\"data\")\n",
    "structure_path"
   ]
  },
  {
   "cell_type": "markdown",
   "id": "383970e2-7627-41fd-aa4c-7199985d2e46",
   "metadata": {},
   "source": [
    "Once the data above has downloaded, you should be able to see it within the Google colab data directory:\n",
    "\n",
    "![](./hnscc-data.png)"
   ]
  },
  {
   "cell_type": "code",
   "execution_count": null,
   "id": "45945323-72fe-4795-9e72-342209ac1179",
   "metadata": {},
   "outputs": [],
   "source": [
    "sorted_image_paths = rai.sort_dicom_image_paths(paths=image_paths)\n",
    "\n",
    "# Prune the images used just for this demo (makes final download size smaller)\n",
    "selected_sorted_image_paths = sorted_image_paths[14:78]\n",
    "\n",
    "# Use the following to instead use the entire image stack:\n",
    "# selected_sorted_image_paths = sorted_image_paths"
   ]
  },
  {
   "cell_type": "markdown",
   "id": "cd29e736-45e2-4b12-8d20-192cb8cf8942",
   "metadata": {},
   "source": [
    "## Use `pydicom` to load the DICOM images"
   ]
  },
  {
   "cell_type": "code",
   "execution_count": null,
   "id": "8174748a-d598-4c01-8971-925022e12bd3",
   "metadata": {},
   "outputs": [],
   "source": [
    "sorted_image_series = [pydicom.dcmread(path) for path in selected_sorted_image_paths]"
   ]
  },
  {
   "cell_type": "markdown",
   "id": "3a2940c8-e0fe-4532-bba0-d05d53554593",
   "metadata": {},
   "source": [
    "## Convert the DICOM files into an image stack for AI inference"
   ]
  },
  {
   "cell_type": "code",
   "execution_count": null,
   "id": "60f4de14-450c-4741-bcb9-097772d0a14f",
   "metadata": {
    "id": "60f4de14-450c-4741-bcb9-097772d0a14f"
   },
   "outputs": [],
   "source": [
    "grids, image_stack = rai.sorted_image_series_to_image_stack_hfs(\n",
    "    cfg=cfg, sorted_image_series=sorted_image_series)"
   ]
  },
  {
   "cell_type": "markdown",
   "id": "90d4dc9e-1972-4d9b-8870-2f66caa37523",
   "metadata": {},
   "source": [
    "## Load the RAi models"
   ]
  },
  {
   "cell_type": "code",
   "execution_count": null,
   "id": "c2d52c0e-d533-40ba-becf-a83a802d7205",
   "metadata": {
    "id": "c2d52c0e-d533-40ba-becf-a83a802d7205"
   },
   "outputs": [],
   "source": [
    "models = rai.load_models(cfg=cfg)"
   ]
  },
  {
   "cell_type": "markdown",
   "id": "3f255f8b-9ed6-4d06-a220-2d24b6948e25",
   "metadata": {},
   "source": [
    "## Run the inference"
   ]
  },
  {
   "cell_type": "code",
   "execution_count": null,
   "id": "9368efc8-f8b4-4cbb-bb8b-a14431722c92",
   "metadata": {
    "colab": {
     "base_uri": "https://localhost:8080/"
    },
    "id": "9368efc8-f8b4-4cbb-bb8b-a14431722c92",
    "outputId": "5e1614f5-e4c0-48fd-d76a-f602e431818d"
   },
   "outputs": [],
   "source": [
    "predicted_masks = rai.inference(\n",
    "    cfg=cfg,\n",
    "    models=models,\n",
    "    image_stack=image_stack,\n",
    "    max_batch_size=10,\n",
    ")"
   ]
  },
  {
   "cell_type": "markdown",
   "id": "619d8bb3-2a7e-45b4-aa78-7b71887c4a60",
   "metadata": {},
   "source": [
    "## Convert the AI model output into contour lines"
   ]
  },
  {
   "cell_type": "code",
   "execution_count": null,
   "id": "3bdef056-c0fc-4f27-96d1-168ec5d9a07e",
   "metadata": {},
   "outputs": [],
   "source": [
    "predicted_contours_by_structure = rai.masks_to_contours_by_structure(\n",
    "    cfg=cfg,\n",
    "    grids=grids, \n",
    "    masks=predicted_masks, \n",
    "    structure_names=cfg[\"structures\"],\n",
    ")"
   ]
  },
  {
   "cell_type": "markdown",
   "id": "00bddbfd-5445-4ed3-a380-912bb93ccb7a",
   "metadata": {},
   "source": [
    "## View the results within this notebook"
   ]
  },
  {
   "cell_type": "code",
   "execution_count": null,
   "id": "74b08a19-b1f2-40a3-88e3-08b38213ad9c",
   "metadata": {},
   "outputs": [],
   "source": [
    "vmin = 0.22\n",
    "vmax = 0.35\n",
    "figsize = (8, 8)"
   ]
  },
  {
   "cell_type": "code",
   "execution_count": null,
   "id": "d6d520ec-d8c8-42b0-8049-51988f4859ec",
   "metadata": {},
   "outputs": [],
   "source": [
    "slice_indices, axis_limits = rai.view_ranges_from_contours_by_structure(predicted_contours_by_structure, buffer=20)\n",
    "\n",
    "rai.plot_contours_by_structure(\n",
    "    grids=grids,\n",
    "    images=image_stack,\n",
    "    contours_by_structure=predicted_contours_by_structure,\n",
    "    orientation=\"transverse\",\n",
    "    slice_indices=slice_indices,\n",
    "    axis_limits=axis_limits,\n",
    "    structure_names=cfg[\"structures\"],\n",
    "    figsize=figsize,\n",
    "    vmin=vmin,\n",
    "    vmax=vmax,\n",
    ")"
   ]
  },
  {
   "cell_type": "markdown",
   "id": "f6772790-c99b-489d-a566-7d2e3f38640c",
   "metadata": {},
   "source": [
    "## Create a DICOM structure file from the results"
   ]
  },
  {
   "cell_type": "code",
   "execution_count": null,
   "id": "e374792a-8920-4935-93f3-f935ac7b44e8",
   "metadata": {},
   "outputs": [],
   "source": [
    "created_structure_ds = rai.create_dicom_structure_set(\n",
    "    cfg=cfg, \n",
    "    image_series_headers=sorted_image_series, \n",
    "    contours_by_structure=predicted_contours_by_structure\n",
    ")"
   ]
  },
  {
   "cell_type": "code",
   "execution_count": null,
   "id": "779dbf42-9118-445e-9688-564b5e00d13a",
   "metadata": {},
   "outputs": [],
   "source": [
    "created_structure_path = pathlib.Path(\"RS-RAi.dcm\")\n",
    "\n",
    "pydicom.dcmwrite(filename=created_structure_path, dataset=created_structure_ds, write_like_original=False)"
   ]
  },
  {
   "cell_type": "markdown",
   "id": "c7800c5b-6f0d-4357-895f-04e018fafb86",
   "metadata": {},
   "source": [
    "## Save the created structure file and the original DICOM images to a zip file"
   ]
  },
  {
   "cell_type": "code",
   "execution_count": null,
   "id": "99fc0e9e-1637-459c-9b1e-774168acbc35",
   "metadata": {},
   "outputs": [],
   "source": [
    "save_to_images_directory = selected_sorted_image_paths + [data_license_path, data_readme_path]\n",
    "save_to_structure_directory = [rai_license_path, created_structure_path]\n",
    "\n",
    "with zipfile.ZipFile('results.zip', 'w', compression=zipfile.ZIP_DEFLATED) as results_zip:\n",
    "    for path in save_to_images_directory:\n",
    "        results_zip.write(path, f\"HNSCC/{path.name}\")\n",
    "        \n",
    "    for path in save_to_structure_directory:\n",
    "        results_zip.write(path, f\"RAi/{path.name}\")"
   ]
  },
  {
   "cell_type": "markdown",
   "id": "f6ea5a64-d56a-4f8d-af31-7710a21d7e69",
   "metadata": {},
   "source": [
    "## Viewing the DICOM files\n",
    "\n",
    "Here is a DICOM viewer. For instructions on how to use this viewer see the details within the section [\"Instructions for viewing the DICOM files\"](#Instructions-for-viewing-the-DICOM-files) at the bottom of this notebook."
   ]
  },
  {
   "cell_type": "code",
   "execution_count": null,
   "id": "b01d6afd-4887-4082-ae5c-a02c1ae5b8ab",
   "metadata": {},
   "outputs": [],
   "source": [
    "from IPython.display import IFrame\n",
    "IFrame('https://dicom.radiotherapy.ai/local', width=1200, height=800)"
   ]
  },
  {
   "cell_type": "markdown",
   "id": "5d1e9210-2848-459f-a515-9c71627d167a",
   "metadata": {},
   "source": [
    "## Instructions for viewing the DICOM files\n",
    "\n",
    "We are now going to view these DICOM files. A DICOM viewer has been copied in above these instuctions within the section [\"Viewing the DICOM files\"](#Viewing-the-DICOM-files). To be able to view these DICOM files within that viewer the following steps are required:\n",
    "\n",
    "* Download the `results.zip`\n",
    "* Extract it to a local directory\n",
    "* Within the DICOM viewer at the bottom of this notebook click *load folders*\n",
    "* Scroll down to the **RTSTRUCT** series on the left-hand panel\n",
    "* Double-click on the **RTSTRUCT** series\n",
    "* Scroll the CT scan images to the middle slices for viewing\n",
    "\n",
    "Screen shots of the above steps are given below.\n",
    "\n",
    "### Download `results.zip`\n",
    "\n",
    "Once the results zip file has been created, right click on `results.zip` within the Google Colab file browser and then click download:\n",
    "\n",
    "![](./download-results.png)\n",
    "\n",
    "### Loading into the viewer\n",
    "\n",
    "Once downloaded, extract them to a local directory. Then, within the viewer under the section [\"Viewing the DICOM files\"](#Viewing-the-DICOM-files), click load folders:\n",
    "\n",
    "![](./load-folders.png)\n",
    "\n",
    "### RTSTRUCT\n",
    "\n",
    "Scroll down to the bottom and double click on the RTSTRUCT series:\n",
    "\n",
    "![](./rtstruct.png)\n",
    "\n",
    "### Viewer control\n",
    "\n",
    "Scroll the mouse wheel to go to approximately the middle slice to view the contours. Click the mouse wheel to pan. Right click and drag to zoom.\n",
    "\n",
    "![image.png](middle-slice.png)"
   ]
  }
 ],
 "metadata": {
  "accelerator": "GPU",
  "colab": {
   "provenance": []
  },
  "kernelspec": {
   "display_name": "Python 3 (ipykernel)",
   "language": "python",
   "name": "python3"
  },
  "language_info": {
   "codemirror_mode": {
    "name": "ipython",
    "version": 3
   },
   "file_extension": ".py",
   "mimetype": "text/x-python",
   "name": "python",
   "nbconvert_exporter": "python",
   "pygments_lexer": "ipython3",
   "version": "3.10.6"
  }
 },
 "nbformat": 4,
 "nbformat_minor": 5
}
