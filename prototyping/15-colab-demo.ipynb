{
 "cells": [
  {
   "cell_type": "markdown",
   "id": "84ede6e0-1662-48b8-a96e-145d8efd2a89",
   "metadata": {},
   "source": [
    "# RAi's Open Source Autocontouring Library"
   ]
  },
  {
   "cell_type": "markdown",
   "id": "7b76833c-7285-48c2-b384-5743e5c3723a",
   "metadata": {},
   "source": [
    "## Installing and importing various packages"
   ]
  },
  {
   "cell_type": "code",
   "execution_count": null,
   "id": "55ca49a3-b26d-40d2-93be-3ec528820ad4",
   "metadata": {
    "colab": {
     "base_uri": "https://localhost:8080/",
     "height": 35
    },
    "id": "55ca49a3-b26d-40d2-93be-3ec528820ad4",
    "outputId": "33939694-8539-47b9-b856-7e5ab18bc7c8"
   },
   "outputs": [],
   "source": [
    "import sys\n",
    "sys.version"
   ]
  },
  {
   "cell_type": "code",
   "execution_count": null,
   "id": "c11dd6da-fb3b-4fb5-8889-3cd8099ce4cf",
   "metadata": {},
   "outputs": [],
   "source": [
    "try:\n",
    "    from google.colab import output\n",
    "    !pip install rai==0.2.0-dev7\n",
    "    \n",
    "except ModuleNotFoundError:\n",
    "    %load_ext autoreload\n",
    "    %autoreload 2"
   ]
  },
  {
   "cell_type": "code",
   "execution_count": null,
   "id": "2a428ad8-abd1-485b-85bf-54cd2296ec01",
   "metadata": {
    "id": "2a428ad8-abd1-485b-85bf-54cd2296ec01"
   },
   "outputs": [],
   "source": [
    "import pathlib\n",
    "from io import BytesIO\n",
    "import zipfile\n",
    "import tqdm\n",
    "import numpy as np\n",
    "import skimage.measure\n",
    "import matplotlib.pyplot as plt"
   ]
  },
  {
   "cell_type": "code",
   "execution_count": null,
   "id": "c3814c86-8748-471b-bb41-3a31bbd9b869",
   "metadata": {
    "colab": {
     "base_uri": "https://localhost:8080/",
     "height": 35
    },
    "id": "c3814c86-8748-471b-bb41-3a31bbd9b869",
    "outputId": "3b88e408-457a-4943-ef86-cec1458d41b9"
   },
   "outputs": [],
   "source": [
    "import pydicom\n",
    "pydicom.__version__"
   ]
  },
  {
   "cell_type": "code",
   "execution_count": null,
   "id": "7a9dd35b-cd6e-4fed-b8ed-e9adf3667013",
   "metadata": {
    "colab": {
     "base_uri": "https://localhost:8080/",
     "height": 35
    },
    "id": "7a9dd35b-cd6e-4fed-b8ed-e9adf3667013",
    "outputId": "967666c4-2c40-4ef4-d6f9-33d78f63b7b7"
   },
   "outputs": [],
   "source": [
    "import rai\n",
    "rai.__version__"
   ]
  },
  {
   "cell_type": "code",
   "execution_count": null,
   "id": "58e3bd81-508b-4273-ad19-9cb1cd3905a3",
   "metadata": {
    "colab": {
     "base_uri": "https://localhost:8080/",
     "height": 35
    },
    "id": "58e3bd81-508b-4273-ad19-9cb1cd3905a3",
    "outputId": "310add06-c3d6-45a7-a3f9-81c04a920d38"
   },
   "outputs": [],
   "source": [
    "import raicontours\n",
    "\n",
    "from raicontours import TG263\n",
    "\n",
    "raicontours.__version__"
   ]
  },
  {
   "cell_type": "markdown",
   "id": "22273985-b4a5-4d9a-8cfc-052c8c0611a6",
   "metadata": {},
   "source": [
    "## The contour model configuration"
   ]
  },
  {
   "cell_type": "code",
   "execution_count": null,
   "id": "4f6aa26e-e721-416d-96b6-27744c9cc981",
   "metadata": {
    "id": "4f6aa26e-e721-416d-96b6-27744c9cc981"
   },
   "outputs": [],
   "source": [
    "cfg = raicontours.get_config()"
   ]
  },
  {
   "cell_type": "code",
   "execution_count": null,
   "id": "094f0c62-a67e-4d75-9eab-683966f069a4",
   "metadata": {
    "colab": {
     "base_uri": "https://localhost:8080/"
    },
    "id": "094f0c62-a67e-4d75-9eab-683966f069a4",
    "outputId": "5faecb60-96ec-4f78-f2c3-f95ac620c833"
   },
   "outputs": [],
   "source": [
    "cfg"
   ]
  },
  {
   "cell_type": "markdown",
   "id": "89f12d29-00ef-4ea0-9e4d-179b8533693e",
   "metadata": {},
   "source": [
    "## Download some example HNSCC data"
   ]
  },
  {
   "cell_type": "code",
   "execution_count": null,
   "id": "e53da7c8-a538-4a74-ab2e-861ede4bb1d8",
   "metadata": {
    "colab": {
     "base_uri": "https://localhost:8080/"
    },
    "id": "e53da7c8-a538-4a74-ab2e-861ede4bb1d8",
    "outputId": "3667bf25-509d-4614-d68e-7fa5d012a14e"
   },
   "outputs": [],
   "source": [
    "image_paths, structure_path, data_license_path, data_readme_path, rai_license_path = rai.download_hnscc_example()\n",
    "structure_path"
   ]
  },
  {
   "cell_type": "code",
   "execution_count": null,
   "id": "45945323-72fe-4795-9e72-342209ac1179",
   "metadata": {},
   "outputs": [],
   "source": [
    "sorted_image_paths = rai.sort_dicom_image_paths(paths=image_paths)\n",
    "\n",
    "# Prune the images used just for this demo (makes final download size smaller)\n",
    "selected_sorted_image_paths = sorted_image_paths[14:78]\n",
    "\n",
    "# Use the following to instead use the entire image stack:\n",
    "# selected_sorted_image_paths = sorted_image_paths"
   ]
  },
  {
   "cell_type": "markdown",
   "id": "cd29e736-45e2-4b12-8d20-192cb8cf8942",
   "metadata": {},
   "source": [
    "## Use `pydicom` to load the DICOM images"
   ]
  },
  {
   "cell_type": "code",
   "execution_count": null,
   "id": "8174748a-d598-4c01-8971-925022e12bd3",
   "metadata": {},
   "outputs": [],
   "source": [
    "sorted_image_series = [pydicom.dcmread(path) for path in selected_sorted_image_paths]"
   ]
  },
  {
   "cell_type": "markdown",
   "id": "3a2940c8-e0fe-4532-bba0-d05d53554593",
   "metadata": {},
   "source": [
    "## Convert the DICOM files into an image stack for AI inference"
   ]
  },
  {
   "cell_type": "code",
   "execution_count": null,
   "id": "60f4de14-450c-4741-bcb9-097772d0a14f",
   "metadata": {
    "id": "60f4de14-450c-4741-bcb9-097772d0a14f"
   },
   "outputs": [],
   "source": [
    "grids, image_stack = rai.sorted_image_series_to_image_stack_hfs(\n",
    "    cfg=cfg, sorted_image_series=sorted_image_series)"
   ]
  },
  {
   "cell_type": "markdown",
   "id": "90d4dc9e-1972-4d9b-8870-2f66caa37523",
   "metadata": {},
   "source": [
    "## Load the RAi models"
   ]
  },
  {
   "cell_type": "code",
   "execution_count": null,
   "id": "c2d52c0e-d533-40ba-becf-a83a802d7205",
   "metadata": {
    "id": "c2d52c0e-d533-40ba-becf-a83a802d7205"
   },
   "outputs": [],
   "source": [
    "models = rai.load_models(cfg=cfg)"
   ]
  },
  {
   "cell_type": "markdown",
   "id": "3f255f8b-9ed6-4d06-a220-2d24b6948e25",
   "metadata": {},
   "source": [
    "## Run the inference"
   ]
  },
  {
   "cell_type": "code",
   "execution_count": null,
   "id": "9368efc8-f8b4-4cbb-bb8b-a14431722c92",
   "metadata": {
    "colab": {
     "base_uri": "https://localhost:8080/"
    },
    "id": "9368efc8-f8b4-4cbb-bb8b-a14431722c92",
    "outputId": "5e1614f5-e4c0-48fd-d76a-f602e431818d"
   },
   "outputs": [],
   "source": [
    "predicted_masks = rai.inference(\n",
    "    cfg=cfg,\n",
    "    models=models,\n",
    "    image_stack=image_stack,\n",
    "    max_batch_size=10,\n",
    ")"
   ]
  },
  {
   "cell_type": "markdown",
   "id": "619d8bb3-2a7e-45b4-aa78-7b71887c4a60",
   "metadata": {},
   "source": [
    "## Convert the AI model output into contour lines"
   ]
  },
  {
   "cell_type": "code",
   "execution_count": null,
   "id": "3bdef056-c0fc-4f27-96d1-168ec5d9a07e",
   "metadata": {},
   "outputs": [],
   "source": [
    "predicted_contours_by_structure = rai.masks_to_contours_by_structure(\n",
    "    cfg=cfg,\n",
    "    grids=grids, \n",
    "    masks=predicted_masks, \n",
    "    structure_names=cfg[\"structures\"],\n",
    ")"
   ]
  },
  {
   "cell_type": "markdown",
   "id": "00bddbfd-5445-4ed3-a380-912bb93ccb7a",
   "metadata": {},
   "source": [
    "## View the results within this notebook"
   ]
  },
  {
   "cell_type": "code",
   "execution_count": null,
   "id": "74b08a19-b1f2-40a3-88e3-08b38213ad9c",
   "metadata": {},
   "outputs": [],
   "source": [
    "vmin = 0.22\n",
    "vmax = 0.35\n",
    "figsize = (8, 8)"
   ]
  },
  {
   "cell_type": "code",
   "execution_count": null,
   "id": "d6d520ec-d8c8-42b0-8049-51988f4859ec",
   "metadata": {},
   "outputs": [],
   "source": [
    "slice_indices, axis_limits = rai.view_ranges_from_contours_by_structure(predicted_contours_by_structure, buffer=20)\n",
    "\n",
    "rai.plot_contours_by_structure(\n",
    "    grids=grids,\n",
    "    images=image_stack,\n",
    "    contours_by_structure=predicted_contours_by_structure,\n",
    "    orientation=\"transverse\",\n",
    "    slice_indices=slice_indices,\n",
    "    axis_limits=axis_limits,\n",
    "    structure_names=cfg[\"structures\"],\n",
    "    figsize=figsize,\n",
    "    vmin=vmin,\n",
    "    vmax=vmax,\n",
    ")"
   ]
  },
  {
   "cell_type": "markdown",
   "id": "f6772790-c99b-489d-a566-7d2e3f38640c",
   "metadata": {},
   "source": [
    "## Create a DICOM structure file from the results"
   ]
  },
  {
   "cell_type": "code",
   "execution_count": null,
   "id": "e374792a-8920-4935-93f3-f935ac7b44e8",
   "metadata": {},
   "outputs": [],
   "source": [
    "created_structure_ds = rai.create_dicom_structure_set(\n",
    "    cfg=cfg, \n",
    "    image_series_headers=sorted_image_series, \n",
    "    contours_by_structure=predicted_contours_by_structure\n",
    ")"
   ]
  },
  {
   "cell_type": "code",
   "execution_count": null,
   "id": "779dbf42-9118-445e-9688-564b5e00d13a",
   "metadata": {},
   "outputs": [],
   "source": [
    "created_structure_path = pathlib.Path(\"RS-RAi.dcm\")\n",
    "\n",
    "pydicom.dcmwrite(filename=created_structure_path, dataset=created_structure_ds, write_like_original=False)"
   ]
  },
  {
   "cell_type": "markdown",
   "id": "c7800c5b-6f0d-4357-895f-04e018fafb86",
   "metadata": {},
   "source": [
    "## Save the created structure file and the original DICOM images to a zip file"
   ]
  },
  {
   "cell_type": "code",
   "execution_count": null,
   "id": "99fc0e9e-1637-459c-9b1e-774168acbc35",
   "metadata": {},
   "outputs": [],
   "source": [
    "save_to_images_directory = selected_sorted_image_paths + [data_license_path, data_readme_path]\n",
    "save_to_structure_directory = [rai_license_path, created_structure_path]\n",
    "\n",
    "with zipfile.ZipFile('results.zip', 'w', compression=zipfile.ZIP_DEFLATED) as results_zip:\n",
    "    for path in save_to_images_directory:\n",
    "        results_zip.write(path, f\"HNSCC/{path.name}\")\n",
    "        \n",
    "    for path in save_to_structure_directory:\n",
    "        results_zip.write(path, f\"RAi/{path.name}\")"
   ]
  },
  {
   "cell_type": "markdown",
   "id": "b4147042-932a-44d8-9c38-1441f9156fdf",
   "metadata": {},
   "source": []
  },
  {
   "cell_type": "markdown",
   "id": "97994506-26b6-458e-8921-7c878df8bbb5",
   "metadata": {},
   "source": []
  },
  {
   "cell_type": "code",
   "execution_count": null,
   "id": "fae51683-0cce-4c64-bb10-bc24ef1e36e6",
   "metadata": {},
   "outputs": [],
   "source": [
    "# Provide the following link to users to view the DICOM files\n",
    "\n",
    "# https://dicom.radiotherapy.ai/local"
   ]
  }
 ],
 "metadata": {
  "accelerator": "GPU",
  "colab": {
   "provenance": []
  },
  "kernelspec": {
   "display_name": "rai",
   "language": "python",
   "name": "rai"
  },
  "language_info": {
   "codemirror_mode": {
    "name": "ipython",
    "version": 3
   },
   "file_extension": ".py",
   "mimetype": "text/x-python",
   "name": "python",
   "nbconvert_exporter": "python",
   "pygments_lexer": "ipython3",
   "version": "3.7.9"
  }
 },
 "nbformat": 4,
 "nbformat_minor": 5
}
