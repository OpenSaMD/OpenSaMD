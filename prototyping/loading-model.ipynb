{
 "cells": [
  {
   "cell_type": "code",
   "execution_count": null,
   "id": "61b5a624-b16f-4397-b9b7-46b021b26dbd",
   "metadata": {},
   "outputs": [],
   "source": [
    "import urllib.request\n",
    "import pathlib\n",
    "import shutil\n",
    "\n",
    "import pydicom"
   ]
  },
  {
   "cell_type": "code",
   "execution_count": null,
   "id": "c0096609-2749-463f-bfe6-ccaf5cec01e4",
   "metadata": {},
   "outputs": [],
   "source": [
    "%load_ext autoreload\n",
    "%autoreload 2"
   ]
  },
  {
   "cell_type": "code",
   "execution_count": null,
   "id": "1790e3b3-7022-480c-b53e-86fee30ef52a",
   "metadata": {},
   "outputs": [],
   "source": [
    "from rai.model import load"
   ]
  },
  {
   "cell_type": "code",
   "execution_count": null,
   "id": "4c774774-8d68-4103-9557-bc8eb1d28441",
   "metadata": {},
   "outputs": [],
   "source": [
    "model = load.load_model()"
   ]
  },
  {
   "cell_type": "code",
   "execution_count": null,
   "id": "8dbb9140-f1b3-4ce8-a022-91b68ea427e4",
   "metadata": {},
   "outputs": [],
   "source": [
    "# # TODO: This can be downloaded in parallel.\n",
    "\n",
    "# data_path = pathlib.Path('data')\n",
    "# data_path.mkdir(exist_ok=True)\n",
    "\n",
    "# data_root = 'https://github.com/RadiotherapyAI/data-tcia-deepmind/tree/61fd2525f9880c8b201758f43c773e515572be92/0522c0659'\n",
    "\n",
    "# filenames = [f\"CT-{item:03d}.dcm\" for item in range(165)] + [\"RS.dcm\"]\n",
    "\n",
    "# for filename in filenames:\n",
    "#     urllib.request.urlretrieve(f\"{data_root}/{filename}\", data_path / filename)"
   ]
  },
  {
   "cell_type": "code",
   "execution_count": null,
   "id": "d71ba844-3b9b-4592-8bfc-4239843ed166",
   "metadata": {},
   "outputs": [],
   "source": [
    "image_paths = [data_path / f\"CT-{item:03d}.dcm\" for item in range(165)]"
   ]
  },
  {
   "cell_type": "code",
   "execution_count": null,
   "id": "b88fefb7-42e0-419d-b631-1568fab422c4",
   "metadata": {},
   "outputs": [],
   "source": []
  },
  {
   "cell_type": "code",
   "execution_count": null,
   "id": "4a171276-09f1-45b6-8dbc-2a39e32d1ee6",
   "metadata": {},
   "outputs": [],
   "source": []
  }
 ],
 "metadata": {
  "kernelspec": {
   "display_name": "rai",
   "language": "python",
   "name": "rai"
  },
  "language_info": {
   "codemirror_mode": {
    "name": "ipython",
    "version": 3
   },
   "file_extension": ".py",
   "mimetype": "text/x-python",
   "name": "python",
   "nbconvert_exporter": "python",
   "pygments_lexer": "ipython3",
   "version": "3.10.6"
  }
 },
 "nbformat": 4,
 "nbformat_minor": 5
}
