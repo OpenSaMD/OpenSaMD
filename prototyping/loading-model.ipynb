{
 "cells": [
  {
   "cell_type": "code",
   "execution_count": null,
   "id": "61b5a624-b16f-4397-b9b7-46b021b26dbd",
   "metadata": {},
   "outputs": [],
   "source": [
    "import urllib.request\n",
    "import pathlib\n",
    "import shutil\n",
    "import collections\n",
    "\n",
    "import numpy as np\n",
    "import pydicom\n",
    "import matplotlib.pyplot as plt\n",
    "import skimage.measure"
   ]
  },
  {
   "cell_type": "code",
   "execution_count": null,
   "id": "c0096609-2749-463f-bfe6-ccaf5cec01e4",
   "metadata": {},
   "outputs": [],
   "source": [
    "%load_ext autoreload\n",
    "%autoreload 2"
   ]
  },
  {
   "cell_type": "code",
   "execution_count": null,
   "id": "1790e3b3-7022-480c-b53e-86fee30ef52a",
   "metadata": {},
   "outputs": [],
   "source": [
    "from rai.model import load\n",
    "from rai.data.images import paths_to_reduced_image_stack\n",
    "from rai.mask.convert import mask_to_contours\n",
    "\n",
    "from raicontours import cfg"
   ]
  },
  {
   "cell_type": "code",
   "execution_count": null,
   "id": "4c774774-8d68-4103-9557-bc8eb1d28441",
   "metadata": {},
   "outputs": [],
   "source": [
    "model = load.load_model()"
   ]
  },
  {
   "cell_type": "code",
   "execution_count": null,
   "id": "11574912-a00c-42e4-8721-5065bc426446",
   "metadata": {},
   "outputs": [],
   "source": [
    "data_path = pathlib.Path('data')"
   ]
  },
  {
   "cell_type": "code",
   "execution_count": null,
   "id": "8dbb9140-f1b3-4ce8-a022-91b68ea427e4",
   "metadata": {},
   "outputs": [],
   "source": [
    "# # TODO: This can be downloaded in parallel.\n",
    "\n",
    "# data_path.mkdir(exist_ok=True)\n",
    "\n",
    "# data_root = 'https://github.com/RadiotherapyAI/data-tcia-deepmind/raw/61fd2525f9880c8b201758f43c773e515572be92/0522c0659'\n",
    "\n",
    "# filenames = [f\"CT-{item:03d}.dcm\" for item in range(165)] + [\"RS.dcm\"]\n",
    "\n",
    "# for filename in filenames:\n",
    "#     urllib.request.urlretrieve(f\"{data_root}/{filename}\", data_path / filename)"
   ]
  },
  {
   "cell_type": "code",
   "execution_count": null,
   "id": "d71ba844-3b9b-4592-8bfc-4239843ed166",
   "metadata": {},
   "outputs": [],
   "source": [
    "image_paths = [data_path / f\"CT-{item:03d}.dcm\" for item in range(165)]"
   ]
  },
  {
   "cell_type": "code",
   "execution_count": null,
   "id": "b88fefb7-42e0-419d-b631-1568fab422c4",
   "metadata": {},
   "outputs": [],
   "source": [
    "# image_stack = paths_to_image_stack(image_paths)"
   ]
  },
  {
   "cell_type": "code",
   "execution_count": null,
   "id": "b6dc007e-75d5-420b-884f-e554dd1d95f4",
   "metadata": {},
   "outputs": [],
   "source": [
    "# image_stack.shape"
   ]
  },
  {
   "cell_type": "code",
   "execution_count": null,
   "id": "b952829c-1c97-4aa5-8081-d53dee05bef5",
   "metadata": {},
   "outputs": [],
   "source": [
    "# np.max(image_stack)"
   ]
  },
  {
   "cell_type": "code",
   "execution_count": null,
   "id": "2cf7ac85-6aad-4530-b070-c3f9a9065ffe",
   "metadata": {},
   "outputs": [],
   "source": [
    "x_grid, y_grid, image_stack = paths_to_reduced_image_stack(image_paths)"
   ]
  },
  {
   "cell_type": "code",
   "execution_count": null,
   "id": "74ce1d25-de12-497f-a5d6-b41550691974",
   "metadata": {},
   "outputs": [],
   "source": [
    "image_stack.shape"
   ]
  },
  {
   "cell_type": "code",
   "execution_count": null,
   "id": "c3e2803e-084c-457e-a288-205d80883c09",
   "metadata": {},
   "outputs": [],
   "source": [
    "model_input = image_stack[None, 0:64, 32:96, 32:96]\n",
    "model_input.shape"
   ]
  },
  {
   "cell_type": "code",
   "execution_count": null,
   "id": "e7b30375-0bbf-4173-b1a2-2c9626141358",
   "metadata": {},
   "outputs": [],
   "source": [
    "model_output = model.predict(model_input)"
   ]
  },
  {
   "cell_type": "code",
   "execution_count": null,
   "id": "ae074448-5b28-40a3-be2b-c29c2fef55ce",
   "metadata": {},
   "outputs": [],
   "source": [
    "cfg[\"structures\"]"
   ]
  },
  {
   "cell_type": "code",
   "execution_count": null,
   "id": "ca26dab6-02ac-4e20-a986-e7062f467544",
   "metadata": {},
   "outputs": [],
   "source": [
    "contours = {}\n",
    "\n",
    "for structure_index, structure_name in enumerate(cfg[\"structures\"]):\n",
    "    this_structure_mask = model_output[0, ..., structure_index]\n",
    "    \n",
    "    contours_by_slice = []\n",
    "    for z_index in range(64):\n",
    "        this_slice_mask = this_structure_mask[z_index, ...]\n",
    "        contours = mask_to_contours(x_grid, y_grid, this_slice_mask)"
   ]
  },
  {
   "cell_type": "code",
   "execution_count": null,
   "id": "5738e2b5-fb7f-4e05-8e02-9560fccabfdf",
   "metadata": {},
   "outputs": [],
   "source": []
  },
  {
   "cell_type": "code",
   "execution_count": null,
   "id": "db4a822a-cd61-47d8-987b-67f17f9b1052",
   "metadata": {},
   "outputs": [],
   "source": []
  },
  {
   "cell_type": "code",
   "execution_count": null,
   "id": "aaec4080-1441-41ea-9ecb-adeaaf1869ec",
   "metadata": {},
   "outputs": [],
   "source": []
  },
  {
   "cell_type": "code",
   "execution_count": null,
   "id": "53fe318e-a966-4359-9297-0931dd835e95",
   "metadata": {},
   "outputs": [],
   "source": []
  },
  {
   "cell_type": "code",
   "execution_count": null,
   "id": "440d4534-2c67-4300-ae69-e368aa4e0fc0",
   "metadata": {},
   "outputs": [],
   "source": [
    "def _plot_model_result(\n",
    "    model_input, model_output\n",
    "):\n",
    "    contours_by_slice = _get_contours_by_slice(\n",
    "        images=model_input,\n",
    "        predictions=model_output,\n",
    "    )\n",
    "\n",
    "    x = list(range(model_input.shape[1]))\n",
    "    vmin = 0.2\n",
    "    vmax = 0.4\n",
    "\n",
    "    ylim = [-np.inf, np.inf]\n",
    "    xlim = [np.inf, -np.inf]\n",
    "\n",
    "    axs = []\n",
    "\n",
    "    for z_index, contours_by_name in contours_by_slice.items():\n",
    "        fig, ax = plt.subplots()\n",
    "        axs.append(ax)\n",
    "\n",
    "        ax.pcolormesh(\n",
    "            x,\n",
    "            x,\n",
    "            model_input[z_index, :, :],\n",
    "            vmin=vmin,\n",
    "            vmax=vmax,\n",
    "            shading=\"nearest\",\n",
    "            cmap=\"gray\",\n",
    "        )\n",
    "\n",
    "        for structure_name, contours in contours_by_name.items():\n",
    "            for contour in contours:\n",
    "                ax.plot(\n",
    "                    contour[:, 1],\n",
    "                    contour[:, 0],\n",
    "                    label=structure_name.value,\n",
    "                )\n",
    "\n",
    "                xlim[1] = np.max([np.max(contour[:, 1]), xlim[1]])\n",
    "                xlim[0] = np.min([np.min(contour[:, 1]), xlim[0]])\n",
    "                ylim[0] = np.max([np.max(contour[:, 0]), ylim[0]])\n",
    "                ylim[1] = np.min([np.min(contour[:, 0]), ylim[1]])\n",
    "\n",
    "        ax.set_aspect(\"equal\", \"box\")\n",
    "\n",
    "        plt.legend(bbox_to_anchor=(1.04, 1), loc=\"upper left\")\n",
    "\n",
    "    x_range = xlim[1] - xlim[0]\n",
    "    y_range = ylim[0] - ylim[1]\n",
    "\n",
    "    margin = 0.2\n",
    "\n",
    "    xlim[0] -= x_range * margin\n",
    "    xlim[1] += x_range * margin\n",
    "\n",
    "    ylim[1] -= y_range * margin\n",
    "    ylim[0] += y_range * margin\n",
    "\n",
    "    for ax in axs:\n",
    "        ax.set_ylim(ylim)\n",
    "        ax.set_xlim(xlim)\n",
    "\n",
    "    plt.show()"
   ]
  },
  {
   "cell_type": "code",
   "execution_count": null,
   "id": "b911ffad-58f9-4bba-9eb2-b483b34114fe",
   "metadata": {},
   "outputs": [],
   "source": [
    "def _get_contours_by_slice(\n",
    "    images, predictions\n",
    "):\n",
    "    num_slices = images.shape[0]\n",
    "    contours_by_slice = collections.defaultdict(dict)\n",
    "\n",
    "    for i in range(num_slices):\n",
    "        for structure_name in cfg[\"structures\"]:\n",
    "            k = cfg[\"structures\"].index(structure_name)\n",
    "\n",
    "            prediction_slice = predictions[i, :, :, k]\n",
    "\n",
    "            if np.max(prediction_slice) < 127.5:\n",
    "                continue\n",
    "\n",
    "            contours = skimage.measure.find_contours(prediction_slice, level=127.5)\n",
    "            contours_by_slice[i][structure_name] = contours\n",
    "\n",
    "    return contours_by_slice"
   ]
  },
  {
   "cell_type": "code",
   "execution_count": null,
   "id": "ae61abec-4e8d-4180-9608-23a61e843ed6",
   "metadata": {},
   "outputs": [],
   "source": [
    "_plot_model_result(inference_patch[0, ...], predicted_mask[0, ...])"
   ]
  },
  {
   "cell_type": "code",
   "execution_count": null,
   "id": "7adab009-30e5-48f2-bc6c-79aa83612370",
   "metadata": {},
   "outputs": [],
   "source": [
    "predicted_mask.shape"
   ]
  }
 ],
 "metadata": {
  "kernelspec": {
   "display_name": "rai",
   "language": "python",
   "name": "rai"
  },
  "language_info": {
   "codemirror_mode": {
    "name": "ipython",
    "version": 3
   },
   "file_extension": ".py",
   "mimetype": "text/x-python",
   "name": "python",
   "nbconvert_exporter": "python",
   "pygments_lexer": "ipython3",
   "version": "3.10.6"
  }
 },
 "nbformat": 4,
 "nbformat_minor": 5
}
